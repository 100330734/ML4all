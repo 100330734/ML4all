{
 "cells": [
  {
   "cell_type": "markdown",
   "metadata": {},
   "source": [
    "# Parametric ML and Bayesian regression\n",
    "\n",
    "    Notebook version: 1.2 (Sep 28, 2018)\n",
    "\n",
    "    Authors: Miguel Lázaro Gredilla\n",
    "             Jerónimo Arenas García (jarenas@tsc.uc3m.es)\n",
    "             Jesús Cid Sueiro (jesus.cid@uc3m.es)"
   ]
  },
  {
   "cell_type": "markdown",
   "metadata": {
    "slideshow": {
     "slide_type": "notes"
    }
   },
   "source": [
    "    Changes: v.1.0 - First version. Python version\n",
    "             v.1.1 - Python 3 compatibility. ML section.\n",
    "             v.1.2 - Revised content. 2D visualization removed.\n",
    "    \n",
    "    Pending changes: "
   ]
  },
  {
   "cell_type": "code",
   "execution_count": 1,
   "metadata": {
    "collapsed": true
   },
   "outputs": [],
   "source": [
    "# Import some libraries that will be necessary for working with data and displaying plots\n",
    "\n",
    "# To visualize plots in the notebook\n",
    "%matplotlib inline \n",
    "\n",
    "import matplotlib\n",
    "import matplotlib.pyplot as plt\n",
    "import matplotlib.cm as cm\n",
    "\n",
    "import numpy as np\n",
    "import scipy.io       # To read matlab files\n",
    "from scipy import spatial\n",
    "import pylab\n",
    "pylab.rcParams['figure.figsize'] = 8, 5"
   ]
  },
  {
   "cell_type": "markdown",
   "metadata": {},
   "source": [
    "## 1. Introduction\n",
    "\n",
    "In this exercise the student will review several key concepts of Maximum Likelihood and Bayesian regression. To do so, we will assume the regression model\n",
    "\n",
    "$$s = f({\\bf x}) + \\varepsilon$$\n",
    "\n",
    "where $s$ is the output corresponding to input ${\\bf x}$, $f({\\bf x})$ is an unobservable latent function, and $\\varepsilon$ is white zero-mean Gaussian noise, i.e., \n",
    "\n",
    "$$\\varepsilon \\sim {\\cal N}(0,\\sigma_\\varepsilon^2).$$\n",
    "\n",
    "In addition, we will assume that the latent function is *linear in the parameters*\n",
    "\n",
    "$$f({\\bf x}) = {\\bf w}^\\top {\\bf z}$$\n",
    "\n",
    "where ${\\bf z} = T({\\bf x})$ is a possibly non-linear transformation of the input. Along this notebook, we will explore different types of transformations.\n",
    "\n",
    "Also, we will assume an <i>a priori</i> distribution for ${\\bf w}$ given by\n",
    "\n",
    "$${\\bf w} \\sim {\\cal N}({\\bf 0}, \\sigma_p^2~{\\bf I})$$\n",
    "\n"
   ]
  },
  {
   "cell_type": "markdown",
   "metadata": {},
   "source": [
    "### Practical considerations\n",
    "\n",
    "   - Though sometimes unavoidable, it is recommended not to use explicit matrix inversion whenever possible. For instance, if an operation like ${\\mathbf A}^{-1} {\\mathbf b}$ must be performed, it is preferable to code it using python $\\mbox{numpy.linalg.lstsq}$ function (see http://docs.scipy.org/doc/numpy/reference/generated/numpy.linalg.lstsq.html), which provides the LS solution to the overdetermined system ${\\mathbf A} {\\mathbf w} = {\\mathbf b}$.\n",
    "   \n",
    "   - Sometimes, the computation of $\\log|{\\mathbf A}|$ (where ${\\mathbf A}$ is a positive definite matrix) can overflow available precision, producing incorrect results. A numerically more stable alternative, providing the same result is $2\\sum_i \\log([{\\mathbf L}]_{ii})$, where $\\mathbf L$ is the Cholesky decomposition of $\\mathbf A$ (i.e., ${\\mathbf A} = {\\mathbf L}^\\top {\\mathbf L}$), and $[{\\mathbf L}]_{ii}$ is the $i$th element of the diagonal of ${\\mathbf L}$.\n",
    "   \n",
    "   - Non-degenerate covariance matrices, such as the ones in this exercise, are always positive definite. It may happen, as a consequence of chained rounding errors, that a matrix which was mathematically expected to be positive definite, turns out not to be so. This implies its Cholesky decomposition will not be available. A quick way to palliate this problem is by adding a small number (such as $10^{-6}$) to the diagonal of such matrix."
   ]
  },
  {
   "cell_type": "markdown",
   "metadata": {},
   "source": [
    "### Reproducibility of computations\n",
    "\n",
    "To guarantee the exact reproducibility of the experiments, it may be useful to start your code initializing the seed of the random numbers generator, so that you can compare your results with the ones given in this notebook."
   ]
  },
  {
   "cell_type": "code",
   "execution_count": 2,
   "metadata": {
    "collapsed": true
   },
   "outputs": [],
   "source": [
    "np.random.seed(3)"
   ]
  },
  {
   "cell_type": "markdown",
   "metadata": {},
   "source": [
    "## 2. Data generation with a linear model\n",
    "\n",
    "During this section, we will assume affine transformation\n",
    "$${\\bf z} = T({\\bf x}) = (1, {\\bf x}^\\top)^\\top$$.\n",
    "\n",
    "The <i>a priori</i> distribution of ${\\bf w}$ is assumed to be\n",
    "\n",
    "$${\\bf w} \\sim {\\cal N}({\\bf 0}, \\sigma_p^2~{\\bf I})$$"
   ]
  },
  {
   "cell_type": "markdown",
   "metadata": {},
   "source": [
    "### 2.1. Synthetic data generation\n",
    "\n",
    "First, we are going to generate synthetic data (so that we have the ground-truth model) and use them to make sure everything works correctly and our estimations are sensible.\n",
    "\n",
    "* [1] Set parameters $\\sigma_p^2 = 2$ and $\\sigma_{\\varepsilon}^2 = 0.2$. To do so, define variables `sigma_p` and `sigma_eps` containing the respectiv standard deviations."
   ]
  },
  {
   "cell_type": "code",
   "execution_count": 3,
   "metadata": {
    "collapsed": true
   },
   "outputs": [],
   "source": [
    "# Parameter settings\n",
    "# sigma_p = <FILL IN>\n",
    "sigma_p = np.sqrt(2)\n",
    "# sigma_eps = <FILL IN>\n",
    "sigma_eps = np.sqrt(0.2)"
   ]
  },
  {
   "cell_type": "markdown",
   "metadata": {},
   "source": [
    "* [2] Generate a weight vector $\\mbox{true_w}$ with two elements from the <i>a priori</i> distribution of the weights. This vector determines the regression line that we want to find (i.e., the optimum unknown solution)."
   ]
  },
  {
   "cell_type": "code",
   "execution_count": 4,
   "metadata": {
    "collapsed": false
   },
   "outputs": [
    {
     "name": "stdout",
     "output_type": "stream",
     "text": [
      "The true parameter vector is:\n",
      "[[2.52950265]\n",
      " [0.61731815]]\n"
     ]
    }
   ],
   "source": [
    "# Data dimension:\n",
    "dim_x = 2\n",
    "\n",
    "# Generate a parameter vector taking a random sample from the prior distributions\n",
    "# (the np.random module may be usefull for this purpose)\n",
    "# true_w = <FILL IN>\n",
    "true_w = sigma_p * np.random.randn(dim_x, 1)\n",
    "\n",
    "print('The true parameter vector is:')\n",
    "print(true_w)"
   ]
  },
  {
   "cell_type": "markdown",
   "metadata": {},
   "source": [
    "* [3] Generate an input matrix ${\\bf X}$ (in this case, a single column) containing 20 samples with equally spaced values between 0 and 2 in the second column (method `linspace` from numpy can be useful for this)"
   ]
  },
  {
   "cell_type": "code",
   "execution_count": 5,
   "metadata": {
    "collapsed": false
   },
   "outputs": [],
   "source": [
    "# <SOL>\n",
    "# Parameter settings\n",
    "x_min = 0\n",
    "x_max = 2\n",
    "n_points = 21\n",
    "\n",
    "# Training datapoints\n",
    "X = np.linspace(x_min, x_max, n_points)[:,np.newaxis]\n",
    "# </SOL>"
   ]
  },
  {
   "cell_type": "markdown",
   "metadata": {},
   "source": [
    "* [4] Finally, generate the output vector ${\\mbox s}$ as the product $\\mbox{X} \\ast \\mbox{true_w}$ plus Gaussian noise of pdf ${\\cal N}(0,\\sigma_\\varepsilon^2)$ at each element."
   ]
  },
  {
   "cell_type": "code",
   "execution_count": 6,
   "metadata": {
    "collapsed": false
   },
   "outputs": [],
   "source": [
    "# Expand input matrix with an all-ones column\n",
    "col_1 = np.ones((n_points, 1))\n",
    "# Z = <FILL IN>\n",
    "Z = np.hstack((col_1,X))\n",
    "\n",
    "# Generate values of the target variable\n",
    "# s = <FILL IN>\n",
    "s = np.dot(Z, true_w) + sigma_eps * np.random.randn(n_points, 1)"
   ]
  },
  {
   "cell_type": "markdown",
   "metadata": {},
   "source": [
    "### 2.2. Data visualization"
   ]
  },
  {
   "cell_type": "markdown",
   "metadata": {},
   "source": [
    "* Plot the generated data. You will notice a linear behavior, but the presence of noise makes it hard to estimate precisely the original straight line that generated them (which is stored in $\\mbox{true_w}$)."
   ]
  },
  {
   "cell_type": "code",
   "execution_count": 7,
   "metadata": {
    "collapsed": false
   },
   "outputs": [
    {
     "data": {
      "image/png": "[encoded data removed]",
      "text/plain": [
       "<Figure size 432x288 with 1 Axes>"
      ]
     },
     "metadata": {},
     "output_type": "display_data"
    }
   ],
   "source": [
    "# <SOL> \n",
    "# Plot training points\n",
    "plt.scatter(X, s);\n",
    "plt.xlabel('$x$',fontsize=14);\n",
    "plt.ylabel('$s$',fontsize=14);\n",
    "# </SOL>"
   ]
  },
  {
   "cell_type": "markdown",
   "metadata": {},
   "source": [
    "## 3. Maximum Likelihood (ML) regression\n",
    "\n",
    "### 3.1. Likelihood function"
   ]
  },
  {
   "cell_type": "markdown",
   "metadata": {},
   "source": [
    "* [1] Define a function `predict(we, Z)` that computes the linear predictions for all inputs in data matrix `Z` (a 2-D numpy arry), for a given parameter vector `we` (a 1-D numpy array). The output should be a 1-D array. Test your function with the given dataset and `we = [0.4, 0.7]`"
   ]
  },
  {
   "cell_type": "code",
   "execution_count": 8,
   "metadata": {
    "collapsed": false
   },
   "outputs": [
    {
     "name": "stdout",
     "output_type": "stream",
     "text": [
      "[0.4  0.47 0.54 0.61 0.68 0.75 0.82 0.89 0.96 1.03 1.1  1.17 1.24 1.31\n",
      " 1.38 1.45 1.52 1.59 1.66 1.73 1.8 ]\n"
     ]
    }
   ],
   "source": [
    "# <SOL>\n",
    "# Prediction function\n",
    "def predict(Z, w):\n",
    "    return Z.dot(w)\n",
    "\n",
    "we = np.array([0.4, 0.7])\n",
    "p = predict(Z, we)\n",
    "# </SOL>\n",
    "\n",
    "# Print predictions\n",
    "print(p)"
   ]
  },
  {
   "cell_type": "markdown",
   "metadata": {},
   "source": [
    "* [2] Define a function `sse(we, Z, s)` that computes the sum of squared errors (SSE) for the linear prediction with parameters `we ` (1D numpy array), inputs `Z `  (2D numpy array) and targets `s ` (1D numpy array). Using this function, compute the SSE of the true parameter vector in `true_w`."
   ]
  },
  {
   "cell_type": "code",
   "execution_count": 9,
   "metadata": {
    "collapsed": false
   },
   "outputs": [
    {
     "name": "stdout",
     "output_type": "stream",
     "text": [
      " The SSE is: 3.8420886935286145\n"
     ]
    }
   ],
   "source": [
    "# <SOL>\n",
    "# Sum of Squared Errors\n",
    "def sse(Z, s, w):\n",
    "    return np.sum((s - predict(Z, w))**2)\n",
    "\n",
    "SSE = sse(Z, s, true_w)\n",
    "# </SOL>\n",
    "\n",
    "print(\" The SSE is: {0}\".format(SSE))"
   ]
  },
  {
   "cell_type": "markdown",
   "metadata": {},
   "source": [
    "* [3] Define a function `likelihood(we, Z, s, sigma_eps)` that computes the likelihood of parameter vector `we` for a given dataset in matrix `Z` and vector `s`, assuming Gaussian noise with varianze $\\sigma_\\epsilon^2$. Note that this function can use the `sse` function defined above. Using this function, compute the likelihood of the true parameter vector in `true_w`."
   ]
  },
  {
   "cell_type": "code",
   "execution_count": 10,
   "metadata": {
    "collapsed": false
   },
   "outputs": [
    {
     "name": "stdout",
     "output_type": "stream",
     "text": [
      "The likelihood of the true parameter vector is 6.120707579477163e-06\n"
     ]
    }
   ],
   "source": [
    "# <SOL>\n",
    "# The plot: LHS is the data, RHS will be the cost function.\n",
    "def likelihood(w, Z, s, sigma_eps):\n",
    "    K = len(s)\n",
    "    lw = 1.0 / (np.sqrt(2*np.pi)*sigma_eps)**K * np.exp(- sse(Z, s, w)/(2*sigma_eps**2))\n",
    "    return lw\n",
    "\n",
    "L_w_true = likelihood(true_w, Z, s, sigma_eps)\n",
    "# </SOL>\n",
    "\n",
    "print(\"The likelihood of the true parameter vector is {0}\".format(L_w_true))"
   ]
  },
  {
   "cell_type": "markdown",
   "metadata": {},
   "source": [
    "* [4] Define a function `LL(we, Xe, s)` that computes the log-likelihood of parameter vector `we` for a given dataset in matrix `Z` and vector `s`. Note that this function can use the `likelihood` function defined above. However, for a highe numerical precission, implemening a direct expression for the log-likelihood is recommended. \n",
    "\n",
    "   Using this function, compute the likelihood of the true parameter vector in `true_w`."
   ]
  },
  {
   "cell_type": "code",
   "execution_count": 11,
   "metadata": {
    "collapsed": false
   },
   "outputs": [
    {
     "name": "stdout",
     "output_type": "stream",
     "text": [
      "The log-likelihood of the true parameter vector is -12.003832850561606\n"
     ]
    }
   ],
   "source": [
    "# <SOL>\n",
    "# The plot: LHS is the data, RHS will be the cost function.\n",
    "def LL(w, Z, s, sigma_eps):\n",
    "    K = len(s)\n",
    "    Lw = - K * np.log(np.sqrt(2*np.pi)*sigma_eps) - sse(Z, s, w)/(2*sigma_eps**2)\n",
    "    return Lw\n",
    "\n",
    "LL_w_true = LL(true_w, Z, s, sigma_eps)\n",
    "# </SOL>\n",
    "\n",
    "print(\"The log-likelihood of the true parameter vector is {0}\".format(LL_w_true))"
   ]
  },
  {
   "cell_type": "markdown",
   "metadata": {},
   "source": [
    "### 3.2. ML estimate\n",
    "\n",
    "* [1] Compute the ML estimate of $w_e$ given the data."
   ]
  },
  {
   "cell_type": "code",
   "execution_count": 12,
   "metadata": {
    "collapsed": false
   },
   "outputs": [
    {
     "name": "stdout",
     "output_type": "stream",
     "text": [
      "[[2.33012392]\n",
      " [0.73283365]]\n"
     ]
    }
   ],
   "source": [
    "# <SOL>\n",
    "w_ML, _, _, _ = np.linalg.lstsq(Z, s, rcond=None)\n",
    "# </SOL>\n",
    "\n",
    "print(w_ML)"
   ]
  },
  {
   "cell_type": "markdown",
   "metadata": {},
   "source": [
    "* [2] Compute the maximum likelihood, and the maximum log-likelihood."
   ]
  },
  {
   "cell_type": "code",
   "execution_count": 13,
   "metadata": {
    "collapsed": false
   },
   "outputs": [
    {
     "name": "stdout",
     "output_type": "stream",
     "text": [
      "Maximum likelihood: 1.1447611278561181e-05\n",
      "Maximum log-likelihood: -11.377729471688335\n"
     ]
    }
   ],
   "source": [
    "# <SOL>\n",
    "L_w_ML = likelihood(w_ML, Z, s, sigma_eps)\n",
    "LL_w_ML = LL(w_ML, Z, s, sigma_eps)\n",
    "# </SOL>\n",
    "\n",
    "print('Maximum likelihood: {0}'.format(L_w_ML))\n",
    "print('Maximum log-likelihood: {0}'.format(LL_w_ML))"
   ]
  },
  {
   "cell_type": "markdown",
   "metadata": {},
   "source": [
    "Just as an illustration, the code below generates a set of points in a two dimensional grid going from $(-\\sigma_p, -\\sigma_p)$ to $(\\sigma_p, \\sigma_p)$, computes the log-likelihood for all these points and visualize them using a 2-dimensional plot. You can see the difference between the true value of the parameter ${\\bf w}$ (black) and the ML estimate (red)."
   ]
  },
  {
   "cell_type": "code",
   "execution_count": 14,
   "metadata": {
    "collapsed": false
   },
   "outputs": [
    {
     "data": {
      "image/png": "[encoded data removed]",
      "text/plain": [
       "<Figure size 432x288 with 1 Axes>"
      ]
     },
     "metadata": {},
     "output_type": "display_data"
    }
   ],
   "source": [
    "# First construct a grid of (theta0, theta1) parameter pairs and their\n",
    "# corresponding cost function values.\n",
    "N = 200    # Number of points along each dimension.\n",
    "w0_grid = np.linspace(-2.5*sigma_p, 2.5*sigma_p, N)\n",
    "w1_grid = np.linspace(-2.5*sigma_p, 2.5*sigma_p, N)\n",
    "\n",
    "Lw = np.zeros((N,N))\n",
    "# Fill Lw with the likelihood values\n",
    "for i, w0i in enumerate(w0_grid):\n",
    "    for j, w1j in enumerate(w1_grid):\n",
    "        we = np.array((w0i, w1j)) \n",
    "        Lw[i, j] = LL(we, Z, s, sigma_eps)\n",
    "\n",
    "WW0, WW1 = np.meshgrid(w0_grid, w1_grid, indexing='ij')\n",
    "contours = plt.contour(WW0, WW1, Lw, 20)\n",
    "\n",
    "plt.figure\n",
    "plt.clabel(contours)\n",
    "plt.scatter([true_w[0]]*2, [true_w[1]]*2, s=[50,10], color=['k','w'])\n",
    "plt.scatter([w_ML[0]]*2, [w_ML[1]]*2, s=[50,10], color=['r','w'])\n",
    "plt.xlabel('$w_0$')\n",
    "plt.ylabel('$w_1$')\n",
    "plt.show()"
   ]
  },
  {
   "cell_type": "markdown",
   "metadata": {},
   "source": [
    "### 3.3. Convergence of the ML estimate for the true model\n",
    "\n",
    "Note that the likelihood of the true parameter vector is, in general, smaller than that of the ML estimate. However, as the sample size increasis, both should converge to the same value.\n",
    "\n",
    "* [1] Generate a longer dataset, with $K_\\text{max}=2^{16}$ samples, uniformly spaces between 0 and 2. Store it in the 2D-array `X2` and the 1D-array `s2`"
   ]
  },
  {
   "cell_type": "code",
   "execution_count": null,
   "metadata": {
    "collapsed": true
   },
   "outputs": [],
   "source": [
    "# Parameter settings\n",
    "x_min = 0\n",
    "x_max = 2\n",
    "n_points = 2**16\n",
    "\n",
    "# <SOL>\n",
    "# Training datapoints\n",
    "X2 = np.linspace(x_min, x_max, n_points)\n",
    "\n",
    "# Expand input matrix with an all-ones column\n",
    "col_1 = np.ones((n_points,))\n",
    "Xe2 = np.vstack((col_1, X2)).T\n",
    "s2 = Xe2.dot(true_w) + sigma_eps * np.random.randn(n_points)\n",
    "# </SOL>"
   ]
  },
  {
   "cell_type": "markdown",
   "metadata": {},
   "source": [
    "* [2] Compute the ML estimate based on the first $2^k$ samples, for $k=2,3,\\ldots, 16$. For each value of $k$ compute the squared euclidean distance between the true parameter vector and the ML estimate. Represent it graphically (using a logarithmic scale in the y-axis)."
   ]
  },
  {
   "cell_type": "code",
   "execution_count": null,
   "metadata": {
    "collapsed": true
   },
   "outputs": [],
   "source": [
    "# <SOL>\n",
    "e2 = []\n",
    "for k in range(3, 16):\n",
    "    Xk = Xe2[0:2**k, :]\n",
    "    sk = s2[0:2**k]\n",
    "\n",
    "    w_MLk, _, _, _ = np.linalg.lstsq(Xk, sk)\n",
    "    e2.append(np.sum((true_w - w_MLk)**2))\n",
    "\n",
    "plt.semilogy(e2)\n",
    "plt.show()\n",
    "# </SOL>"
   ]
  },
  {
   "cell_type": "markdown",
   "metadata": {},
   "source": [
    "## 4. ML estimation with real data. The stocks dataset.\n",
    "\n",
    "Once our code has been tested on synthetic data, we will use it with real data. "
   ]
  },
  {
   "cell_type": "markdown",
   "metadata": {},
   "source": [
    "### 4.1. Dataset"
   ]
  },
  {
   "cell_type": "markdown",
   "metadata": {},
   "source": [
    "* [1] Load data corresponding to the evolution of the stocks of 10 airline companies. This data set is an adaptation of the Stock dataset from http://www.dcc.fc.up.pt/~ltorgo/Regression/DataSets.html, which in turn was taken from the StatLib Repository, http://lib.stat.cmu.edu/"
   ]
  },
  {
   "cell_type": "code",
   "execution_count": null,
   "metadata": {
    "collapsed": true
   },
   "outputs": [],
   "source": [
    "# <SOL>\n",
    "matvar = scipy.io.loadmat('DatosLabReg.mat')\n",
    "Xtrain = matvar['Xtrain']\n",
    "Xtest = matvar['Xtest']\n",
    "Ytrain = matvar['Ytrain']\n",
    "Ytest = matvar['Ytest']\n",
    "# </SOL>"
   ]
  },
  {
   "cell_type": "markdown",
   "metadata": {},
   "source": [
    "* [2] Normalize the data so all training sample components have zero mean and unit standard deviation. Store the normalized training and test samples in 2D numpy arrays `Xtrain` and `Xtest`, respectively."
   ]
  },
  {
   "cell_type": "code",
   "execution_count": null,
   "metadata": {
    "collapsed": true
   },
   "outputs": [],
   "source": [
    "# <SOL>\n",
    "# Data normalization\n",
    "mean_x = np.mean(Xtrain,axis=0)\n",
    "std_x = np.std(Xtrain,axis=0)\n",
    "Xtrain = (Xtrain - mean_x) / std_x\n",
    "Xtest = (Xtest - mean_x) / std_x\n",
    "# </SOL>"
   ]
  },
  {
   "cell_type": "markdown",
   "metadata": {},
   "source": [
    "### 4.2. Polynomial ML regression with a single variable\n",
    "\n",
    "In this first part, we will work with the first component of the input only."
   ]
  },
  {
   "cell_type": "markdown",
   "metadata": {},
   "source": [
    "* [1] Take the first column of `Xtrain` and `Xtest` into arrays `X0train` and `X0test`, respectively. "
   ]
  },
  {
   "cell_type": "code",
   "execution_count": null,
   "metadata": {
    "collapsed": true
   },
   "outputs": [],
   "source": []
  },
  {
   "cell_type": "markdown",
   "metadata": {},
   "source": [
    "* [2] Visualize, in a single scatter plot, the target variable (in the vertical axes) versus the input variable)"
   ]
  },
  {
   "cell_type": "code",
   "execution_count": null,
   "metadata": {
    "collapsed": true
   },
   "outputs": [],
   "source": []
  },
  {
   "cell_type": "markdown",
   "metadata": {},
   "source": [
    "* [3] Since the data have been taken from a real scenario, we do not have any *true* mathematical model of the process that generated the data. Thus, we will explore different models trying to take the one that fits better the training data.\n",
    "\n",
    "  Assume a polinomial model given by\n",
    "  $$\n",
    "  {\\bf z} = T({\\bf x}) = (1, x_0, x_0^2, \\ldots, x_0^{g-1})^\\top.\n",
    "  $$\n",
    "\n",
    "  Built a method\n",
    "  \n",
    "     `    Ztrain, Ztest = T_poly(Xtrain, Xtest, g)`\n",
    "\n",
    "  that, for a given value of $g$, computes normailzed data matrices `Ztrain` and `Ztest` that result from applying the polinomial transformation to the inputs in `X0train` and `X0test` for an arbitrary value of $g$.\n",
    "  \n",
    "  Note that, despite `X0train` and `X0test` where normalized, you will need to re-normalize the transformed variables."
   ]
  },
  {
   "cell_type": "code",
   "execution_count": null,
   "metadata": {
    "collapsed": true
   },
   "outputs": [],
   "source": [
    "# <SOL>\n",
    "# Extend input data matrices with a column of 1's\n",
    "col_1 = np.ones((Xtrain.shape[0],1))\n",
    "Ztrain = np.concatenate((col_1, Xtrain), axis = 1)\n",
    "\n",
    "col_1 = np.ones((Xtest.shape[0],1))\n",
    "Ztest = np.concatenate((col_1, Xtest), axis = 1)\n",
    "# </SOL>"
   ]
  },
  {
   "cell_type": "markdown",
   "metadata": {},
   "source": [
    "* [4] Fit a polynomial model with degree $g$ for $g$ ranging from 0 to 10. Store the weights of all models in a list of weight vectors, named `models`, such that `models[g]` returns the parameters estimated for the polynomial model with degree $g$. \n",
    "\n",
    "  We will use these models in the following sections."
   ]
  },
  {
   "cell_type": "code",
   "execution_count": null,
   "metadata": {
    "collapsed": true
   },
   "outputs": [],
   "source": []
  },
  {
   "cell_type": "markdown",
   "metadata": {},
   "source": [
    "* [5] Plot the polynomial models with degrees 1, 3 and 10, superimposed over a scatter plot of the training data (in blue) and the test data (in red)."
   ]
  },
  {
   "cell_type": "markdown",
   "metadata": {},
   "source": [
    "* [6] Show, in the same plot:\n",
    "\n",
    "  - The log-likelihood function corresponding to each model, as a function of $g$, computed over the training set.\n",
    "  - The log-likelihood function corresponding to each model, as a function of $g$, computed over the test set."
   ]
  },
  {
   "cell_type": "code",
   "execution_count": null,
   "metadata": {
    "collapsed": true
   },
   "outputs": [],
   "source": []
  },
  {
   "cell_type": "markdown",
   "metadata": {},
   "source": [
    "* [7] [OPTIONAL] You may have seen the the likelihood function grows with the degree of the polynomial. However, large values of $g$ produce a strong data overfitting. For this reasong, $g$ cannot be selected with the same data used to fit the model. \n",
    "\n",
    "  This kind of parameters, like $g$ are usually called *hyperparameters* and need to be selected by cross validation.\n",
    "  \n",
    "  Another hyperparameter is $\\sigma_\\epsilon^2$. Plot the log-likelihood function corresponding to the polynomial model with degree 3 for different values of $\\sigma_\\epsilon^2$, for the training set and the test set. What would be the optimal value of this hyperparameters according to the training set?\n",
    "  \n",
    "  In any case, not that  the model coefficients do not depend on $\\sigma_eps^2$. Therefore, we do not need to estimat its value for ML regression."
   ]
  },
  {
   "cell_type": "code",
   "execution_count": null,
   "metadata": {
    "collapsed": true
   },
   "outputs": [],
   "source": []
  },
  {
   "cell_type": "markdown",
   "metadata": {},
   "source": [
    "* [8] Select the optimal value of $g$ by cross-validation. To do so, the cross validation methods provided by sklearn will simplify this task."
   ]
  },
  {
   "cell_type": "code",
   "execution_count": null,
   "metadata": {
    "collapsed": true
   },
   "outputs": [],
   "source": []
  },
  {
   "cell_type": "markdown",
   "metadata": {},
   "source": [
    "* [9] For the selected model:\n",
    "\n",
    "    - Plot the regresion function over the scater plot of the data.\n",
    "    - Compute the log-likelihood and the SSE over the test set."
   ]
  },
  {
   "cell_type": "code",
   "execution_count": null,
   "metadata": {
    "collapsed": true
   },
   "outputs": [],
   "source": []
  },
  {
   "cell_type": "markdown",
   "metadata": {},
   "source": [
    "## 5. Bayesian regression. The stock dataset.\n",
    "\n",
    "In this section we will keep using the first component of the data from the stock dataset, assuming the same kind of plolynomial model. We will explore the potential advantages of using a Bayesian model. To do so, we will asume that the <i>a priori</i> distribution of ${\\bf w}$ is\n",
    "\n",
    "$${\\bf w} \\sim {\\cal N}({\\bf 0}, \\sigma_p^2~{\\bf I})$$\n"
   ]
  },
  {
   "cell_type": "markdown",
   "metadata": {},
   "source": [
    "### 5.1. Posterior pdf of the weight vector\n",
    "\n",
    "In this section we will visualize prior and the posterior distribution functions. First, we will restore the dataset at the begining of this notebook:"
   ]
  },
  {
   "cell_type": "markdown",
   "metadata": {},
   "source": [
    "* [1] Define a function `posterior_stats(Z, s, sigma_eps, sigma_p)` that computes the parameters of the posterior coefficient distribution given the dataset in matrix `Z` and vector `s`, for given values of the hyperparameters.\n",
    "This function should return the posterior mean, the covariance matrix and the precision matrix (the inverse of the covariance matrix). Test the function to the given dataset, for $g=3$."
   ]
  },
  {
   "cell_type": "code",
   "execution_count": null,
   "metadata": {
    "collapsed": true
   },
   "outputs": [],
   "source": [
    "# <SOL>\n",
    "def posterior_stats(Z, s, sigma_eps, sigma_p):\n",
    "    \n",
    "    dim_w = Z.shape[1]    \n",
    "    iCov_w = Z.T.dot(Z)/(sigma_eps**2) + np.eye(dim_w, dim_w)/(sigma_p**2)\n",
    "    Cov_w = np.linalg.inv(iCov_w)\n",
    "    mean_w = Cov_w.dot(Z.T).dot(s)/(sigma_eps**2) \n",
    "\n",
    "    return mean_w, Cov_w, iCov_w\n",
    "# </SOL>\n",
    "\n",
    "mean_w, Cov_w, iCov_w = posterior_stats(Z, s, sigma_eps, sigma_p)\n",
    "\n",
    "print('true_w = {0}'.format(true_w))\n",
    "print('mean_w = {0}'.format(mean_w))\n",
    "print('Cov_w = {0}'.format(Cov_w))\n",
    "print('iCov_w = {0}'.format(iCov_w))"
   ]
  },
  {
   "cell_type": "markdown",
   "metadata": {},
   "source": [
    "* [2] Define a function `gauss_pdf(we, mean_w, iCov_w)` that computes the Gaussian pdf with mean `mean_w` and precision matrix `iCov_w`. Use this function to compute and compare the posterior pdf value of the true coefficients, the ML estimate and the MSE estimate, given the dataset."
   ]
  },
  {
   "cell_type": "code",
   "execution_count": null,
   "metadata": {
    "collapsed": true
   },
   "outputs": [],
   "source": [
    "# <SOL>\n",
    "def gauss_pdf(w, mean_w, iCov_w):\n",
    "\n",
    "    d = w - mean_w\n",
    "    w_dim = len(mean_w)\n",
    "    pw = np.sqrt(np.linalg.det(iCov_w)) / (2*np.pi)**(w_dim/2) * np.exp(- d.T.dot(iCov_w.dot(d))/2)\n",
    "\n",
    "    return pw\n",
    "# </SOL>\n",
    "\n",
    "print('p(true_w | s)  = {0}'.format(gauss_pdf(true_w, mean_w, iCov_w)))\n",
    "print('p(w_ML | s)  = {0}'.format(gauss_pdf(w_ML, mean_w, iCov_w)))\n",
    "print('p(w_MSE | s)  = {0}'.format(gauss_pdf(mean_w, mean_w, iCov_w)))"
   ]
  },
  {
   "cell_type": "markdown",
   "metadata": {},
   "source": [
    "* [3] Define a function `log_gauss_pdf(we, mean_w, iCov_w)` that computes the log of the Gaussian pdf with mean `mean_w` and precision matrix `iCov_w`. Use this function to compute and compare the log of the posterior pdf value of the true coefficients, the ML estimate and the MSE estimate, given the dataset."
   ]
  },
  {
   "cell_type": "markdown",
   "metadata": {},
   "source": [
    "### 5.2. Hyperparameter selection\n",
    "\n",
    "Since the values $\\sigma_p$ and $\\sigma_\\varepsilon$ are no longer known, we have to select them in some way. To see their influence, assume $g=3$ and plot the regression function for different values of $\\sigma_p$\n",
    "\n",
    "To this end, we will adjust them using the LS solution to the regression problem:\n",
    "\n",
    "   - $\\sigma_p^2$ will be taken as the average of the square values of ${\\hat {\\bf w}}_{LS}$\n",
    "   - $\\sigma_\\varepsilon^2$ will be taken as two times the average of the square of the residuals when using ${\\hat {\\bf w}}_{LS}$"
   ]
  },
  {
   "cell_type": "code",
   "execution_count": null,
   "metadata": {
    "collapsed": true
   },
   "outputs": [],
   "source": []
  },
  {
   "cell_type": "markdown",
   "metadata": {},
   "source": [
    "### 5.1. Hyperparameter selection\n",
    "\n",
    "Since the values $\\sigma_p$ and $\\sigma_\\varepsilon$ are no longer known, a first rough estimation is needed (we will soon see how to estimate these values in a principled way).\n",
    "\n",
    "To this end, we will adjust them using the LS solution to the regression problem:\n",
    "\n",
    "   - $\\sigma_p^2$ will be taken as the average of the square values of ${\\hat {\\bf w}}_{LS}$\n",
    "   - $\\sigma_\\varepsilon^2$ will be taken as two times the average of the square of the residuals when using ${\\hat {\\bf w}}_{LS}$"
   ]
  },
  {
   "cell_type": "code",
   "execution_count": null,
   "metadata": {
    "collapsed": true
   },
   "outputs": [],
   "source": [
    "# w_LS, residuals, rank, s = <FILL IN>\n",
    "w_LS, residuals, rank, s = np.linalg.lstsq(Ztrain, Ytrain)\n",
    "# sigma_p = <FILL IN>\n",
    "sigma_p = np.sqrt(np.mean(w_LS**2))\n",
    "# sigma_eps = <FILL IN>\n",
    "sigma_eps = np.sqrt(2*np.mean((Ytrain - Ztrain.dot(w_LS))**2))\n",
    "\n",
    "print(sigma_eps)"
   ]
  },
  {
   "cell_type": "markdown",
   "metadata": {},
   "source": [
    "### 5.2. Sampling regression curves from the posterior\n",
    "\n",
    "In this section we will plot the functions corresponding to different samples drawn from the posterior distribution of the weight vector. \n",
    "\n",
    "To this end, we will first generate an input dataset of equally spaced samples. We will compute the functions at these points"
   ]
  },
  {
   "cell_type": "code",
   "execution_count": null,
   "metadata": {
    "collapsed": true
   },
   "outputs": [],
   "source": [
    "# Definition of the interval for representation purposes \n",
    "x2_min = -1\n",
    "x2_max = 3\n",
    "n_points = 100   # Only two points are needed to plot a straigh line\n",
    "\n",
    "# Build the input data matrix:\n",
    "# Input values for representation of the regression curves\n",
    "X2 = np.linspace(x2_min, x2_max, n_points)\n",
    "col_1 = np.ones((n_points,))\n",
    "X2e = np.vstack((col_1, X2)).T"
   ]
  },
  {
   "cell_type": "markdown",
   "metadata": {},
   "source": [
    "Generate random vectors ${\\bf w}_l$ with $l = 1,\\dots, 50$, from the posterior density of the weights, $p({\\bf w}\\mid{\\bf s})$, and use them to generate 50 polinomial regression functions, $f({\\bf x}^\\ast) = {{\\bf z}^\\ast}^\\top {\\bf w}_l$, with ${\\bf x}^\\ast$ between $-1.2$ and $1.2$, with step $0.1$.\n",
    "\n",
    "Plot the line corresponding to the model with the posterior mean parameters, along with the $50$ generated straight lines and the original samples, all in the same plot. As you can check, the Bayesian model is not providing a single answer, but instead a density over them, from which we have extracted 50 options."
   ]
  },
  {
   "cell_type": "code",
   "execution_count": null,
   "metadata": {
    "collapsed": true
   },
   "outputs": [],
   "source": [
    "# Drawing weights from the posterior\n",
    "# First, compute the cholesky decomposition of the covariance matrix\n",
    "# L = <FILL IN>\n",
    "L = np.linalg.cholesky(Cov_w)\n",
    "\n",
    "for l in range(50):\n",
    "    # Generate a random sample from the posterior distribution\n",
    "    # w_l = <FILL IN>\n",
    "    w_l = L.dot(np.random.randn(dim_x)) + mean_w\n",
    "\n",
    "    # Compute predictions for the inputs in the data matrix\n",
    "    # p_l = <FILL IN>\n",
    "    p_l = X2e.dot(w_l)\n",
    "\n",
    "    # Plot prediction function\n",
    "    # plt.plot(<FILL IN>, 'c:');\n",
    "    plt.plot(X2, p_l, 'c:');\n",
    "\n",
    "# Compute predictions for the inputs in the data matrix and using the true model\n",
    "# p_truew = <FILL IN>\n",
    "p_truew = X2e.dot(true_w)\n",
    "\n",
    "# Plot the true model\n",
    "plt.plot(X2, p_truew, 'b', label='True model', linewidth=2);\n",
    "\n",
    "# Plot the training points\n",
    "plt.plot(X,s,'r.',markersize=12);\n",
    "\n",
    "plt.xlim((x2_min,x2_max));\n",
    "plt.legend(loc='best')\n",
    "plt.xlabel('$x$',fontsize=14);\n",
    "plt.ylabel('$s$',fontsize=14);"
   ]
  },
  {
   "cell_type": "markdown",
   "metadata": {},
   "source": [
    "### 5.3. Plotting the confidence intervals\n",
    "\n",
    "On top of the previous figure (copy here your code from the previous section), plot functions\n",
    "\n",
    "$${\\mathbb E}\\left\\{f({\\bf x}^\\ast)\\mid{\\bf s}\\right\\}$$\n",
    "\n",
    "and\n",
    "\n",
    "$${\\mathbb E}\\left\\{f({\\bf x}^\\ast)\\mid{\\bf s}\\right\\} \\pm 2 \\sqrt{{\\mathbb V}\\left\\{f({\\bf x}^\\ast)\\mid{\\bf s}\\right\\}}$$\n",
    "\n",
    "(i.e., the posterior mean of $f({\\bf x}^\\ast)$, as well as two standard deviations above and below).\n",
    "\n",
    "It is possible to show analytically that this region comprises $95.45\\%$ probability of the posterior probability $p(f({\\bf x}^\\ast)\\mid {\\bf s})$ at each ${\\bf x}^\\ast$."
   ]
  },
  {
   "cell_type": "code",
   "execution_count": null,
   "metadata": {
    "collapsed": true
   },
   "outputs": [],
   "source": [
    "# Note that you can re-use code from sect. 4.2 to solve this exercise\n",
    "\n",
    "# Plot sample functions from the posterior, and the training points\n",
    "# <SOL>\n",
    "# Drawing weights from the posterior\n",
    "for l in range(50):\n",
    "    # Generate a random sample from the posterior distribution\n",
    "    # w_l = <FILL IN>\n",
    "    w_l = L.dot(np.random.randn(dim_x)) + mean_w\n",
    "\n",
    "    # Compute predictions for the inputs in the data matrix\n",
    "    # p_l = <FILL IN>\n",
    "    p_l = X2e.dot(w_l)\n",
    "\n",
    "    # Plot prediction function\n",
    "    # plt.plot(<FILL IN>, 'c:');\n",
    "    plt.plot(X2, X2e.dot(w_l), 'c:');\n",
    "\n",
    "# Plot as well the training points and the true model\n",
    "plt.plot(X2, X2e.dot(true_w), 'b', label='True model', linewidth=2);\n",
    "plt.plot(X,s,'r.',markersize=12);\n",
    "plt.xlim((x2_min,x2_max));\n",
    "# </SOL>    \n",
    "\n",
    "# Plot the posterior mean.\n",
    "# mean_ast = <FILL IN>\n",
    "mean_ast = X2e.dot(mean_w)\n",
    "plt.plot(X2, mean_ast, 'm', label='Predictive mean', linewidth=2);\n",
    "\n",
    "# Plot the posterior mean \\pm 2 std\n",
    "# std_ast = <FILL IN>\n",
    "std_ast = np.sqrt(np.diagonal(X2e.dot(Cov_w).dot(X2e.T)))\n",
    "# plt.plot(<FILL IN>, 'm--', label='Predictive mean $\\pm$ 2std', linewidth=2);\n",
    "plt.plot(X2, mean_ast+2*std_ast, 'm--', label='Predictive mean $\\pm$ 2std', linewidth=2);\n",
    "# plt.plot(<FILL IN>, 'm--', linewidth=3);\n",
    "plt.plot(X2, mean_ast-2*std_ast, 'm--', linewidth=3);\n",
    "\n",
    "\n",
    "plt.legend(loc='best')\n",
    "plt.xlabel('$x$',fontsize=14);\n",
    "plt.ylabel('$s$',fontsize=14);\n"
   ]
  },
  {
   "cell_type": "markdown",
   "metadata": {},
   "source": [
    "Plot now ${\\mathbb E}\\left\\{s({\\bf x}^\\ast)\\mid{\\bf s}\\right\\} \\pm 2 \\sqrt{{\\mathbb V}\\left\\{s({\\bf x}^\\ast)\\mid{\\bf s}\\right\\}}$ (note that the posterior means of $f({\\bf x}^\\ast)$ and $s({\\bf x}^\\ast)$ are the same, so there is no need to plot it again). Notice that $95.45\\%$ of observed data lie now within the newly designated region. These new limits establish a confidence range for our predictions. See how the uncertainty grows as we move away from the interpolation region to the extrapolation areas."
   ]
  },
  {
   "cell_type": "code",
   "execution_count": null,
   "metadata": {
    "collapsed": true,
    "scrolled": true
   },
   "outputs": [],
   "source": [
    "# Plot sample functions confidence intervals and sampling points\n",
    "# Note that you can simply copy and paste most of the code used in the cell above.\n",
    "\n",
    "# <SOL>\n",
    "# Plot sample functions from the posterior, and the training points\n",
    "# Drawing weights from the posterior\n",
    "for l in range(50):\n",
    "    # Generate a random sample from the posterior distribution\n",
    "    w_l = L.dot(np.random.randn(dim_x)) + mean_w\n",
    "\n",
    "    # Compute predictions for the inputs in the data matrix\n",
    "    p_l = X2e.dot(w_l)\n",
    "\n",
    "    # Plot prediction function\n",
    "    plt.plot(X2, X2e.dot(w_l), 'c:');\n",
    "\n",
    "# Plot as well the training points and the true model\n",
    "plt.plot(X2, X2e.dot(true_w), 'b', label='True model', linewidth=2);\n",
    "plt.plot(X,s,'r.',markersize=12);\n",
    "plt.xlim((x2_min,x2_max));\n",
    "\n",
    "# Plot the posterior mean.\n",
    "mean_ast = X2e.dot(mean_w)\n",
    "plt.plot(X2, mean_ast, 'm', label='Predictive mean', linewidth=2);\n",
    "\n",
    "# Plot the posterior mean \\pm 2 std\n",
    "std_ast = np.sqrt(np.diagonal(X2e.dot(Cov_w).dot(X2e.T)))\n",
    "plt.plot(X2, mean_ast + 2*std_ast, 'm--', label='Predictive mean $\\pm$ 2std', linewidth=2);\n",
    "plt.plot(X2, mean_ast - 2*std_ast, 'm--', linewidth=3);\n",
    "# </SOL>    \n",
    "\n",
    "# Compute the standad deviations for s and plot the confidence intervals\n",
    "# <SOL>\n",
    "std_ast_eps = np.sqrt(np.diagonal(X2e.dot(Cov_w).dot(X2e.T)) + sigma_eps**2)\n",
    "#Plot now the posterior mean and posterior mean \\pm 2 std for s (i.e., adding the noise variance)\n",
    "plt.plot(X2, mean_ast + 2*std_ast_eps, 'm:', label='Predictive mean of s $\\pm$ 2std', linewidth=2);\n",
    "plt.plot(X2, mean_ast - 2*std_ast_eps, 'm:', linewidth=2);\n",
    "# </SOL>\n",
    "\n",
    "plt.legend(loc='best')\n",
    "plt.xlabel('$x$',fontsize=14);\n",
    "plt.ylabel('$s$',fontsize=14);\n"
   ]
  },
  {
   "cell_type": "markdown",
   "metadata": {},
   "source": [
    "### 5.3. Model assessment\n",
    "\n",
    "[OPTIONAL. You can skip this section]\n",
    "\n",
    "In order to verify the performance of the resulting model, compute the posterior mean and variance of each of the test outputs from the posterior over ${\\bf w}$. I.e, compute ${\\mathbb E}\\left\\{s({\\bf x}^\\ast)\\mid{\\bf s}\\right\\}$ and $\\sqrt{{\\mathbb V}\\left\\{s({\\bf x}^\\ast)\\mid{\\bf s}\\right\\}}$ for each test sample ${\\bf x}^\\ast$ contained in each row of `Xtest`. Be sure not to use the outputs `Ytest` at any point during this process.\n",
    "\n",
    "Store the predictive mean and variance of all test samples in two column vectors called `m_y` and `v_y`, respectively."
   ]
  },
  {
   "cell_type": "code",
   "execution_count": null,
   "metadata": {
    "collapsed": true,
    "scrolled": false
   },
   "outputs": [],
   "source": [
    "# <SOL>\n",
    "m_y = Ztest.dot(mean_w)\n",
    "v_y = np.diagonal(Ztest.dot(Cov_w).dot(Ztest.T)) + sigma_eps**2\n",
    "v_y = np.matrix(v_y).T\n",
    "# </SOL>"
   ]
  },
  {
   "cell_type": "markdown",
   "metadata": {},
   "source": [
    "Compute now the mean square error (MSE) and the negative log-predictive density (NLPD) with the following code:"
   ]
  },
  {
   "cell_type": "code",
   "execution_count": null,
   "metadata": {
    "collapsed": true
   },
   "outputs": [],
   "source": [
    "# <SOL>\n",
    "MSE = np.mean((m_y - Ytest)**2)\n",
    "NLPD = 0.5 * np.mean(((Ytest - m_y)**2)/v_y) + 0.5*np.log(2*np.pi*v_y)\n",
    "# </SOL>"
   ]
  },
  {
   "cell_type": "markdown",
   "metadata": {},
   "source": [
    "Results should be:"
   ]
  },
  {
   "cell_type": "code",
   "execution_count": null,
   "metadata": {
    "collapsed": true
   },
   "outputs": [],
   "source": [
    "print('MSE = {0}'.format(MSE))\n",
    "print('NLPD = {0}'.format(NLPD))"
   ]
  },
  {
   "cell_type": "markdown",
   "metadata": {},
   "source": [
    "These two measures reveal the quality of our predictor (with lower values revealing higher quality). The first measure (MSE) only compares the predictive mean with the actual value and always has a positive value (if zero was reached, it would mean a perfect prediction). It does not take into account predictive variance. The second measure (NLPD) takes into account both the deviation and the predictive variance (uncertainty) to measure the quality of the probabilistic prediction (a high error in a prediction that was already known to have high variance has a smaller penalty, but also, announcing a high variance when the prediction error is small won’t award such a good score)."
   ]
  },
  {
   "cell_type": "markdown",
   "metadata": {},
   "source": [
    "## 6. Regression with all variables from the stocks dataset.\n",
    "\n",
    "Try to improve the performance of the best model used so far. To do so:\n",
    "\n",
    "* Explore the use of all the input variables from the dataset.\n",
    "* Explore other regression algorithms from the `sklearn` library."
   ]
  }
 ],
 "metadata": {
  "anaconda-cloud": {},
  "kernelspec": {
   "display_name": "Python [conda env:mypy36]",
   "language": "python",
   "name": "conda-env-mypy36-py"
  },
  "language_info": {
   "codemirror_mode": {
    "name": "ipython",
    "version": 3
   },
   "file_extension": ".py",
   "mimetype": "text/x-python",
   "name": "python",
   "nbconvert_exporter": "python",
   "pygments_lexer": "ipython3",
   "version": "3.6.5"
  }
 },
 "nbformat": 4,
 "nbformat_minor": 1
}
