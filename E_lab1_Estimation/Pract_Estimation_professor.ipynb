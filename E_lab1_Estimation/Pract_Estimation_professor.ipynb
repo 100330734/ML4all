{
 "cells": [
  {
   "cell_type": "markdown",
   "metadata": {},
   "source": [
    "# Laboratory Exercise. Estimation."
   ]
  },
  {
   "cell_type": "code",
   "execution_count": 1,
   "metadata": {
    "collapsed": true
   },
   "outputs": [],
   "source": [
    "import numpy as np\n",
    "import matplotlib.pyplot as plt\n",
    "from IPython.display import display, Math"
   ]
  },
  {
   "cell_type": "markdown",
   "metadata": {},
   "source": [
    "Company *Like2Call* offers hosting services for call centers. In order to better dimension the staff of operator, the company has collected a lot of data about the activity of the service during 5 consecutive labour days.\n",
    "\n",
    "This data is stored in the following variables:\n",
    "\n",
    "  * ${\\bf t}$: An array containing the ordered timestamps of all calls received during 5 consecutive days, in minutes.\n",
    "  * ${\\bf d}$: An array containing the respective duration of each call in ${\\bf t}$.\n",
    " \n",
    "These variables can be found in file `dataset.npz`"
   ]
  },
  {
   "cell_type": "code",
   "execution_count": 13,
   "metadata": {
    "collapsed": true
   },
   "outputs": [],
   "source": [
    "# <SOL>\n",
    "# ###############\n",
    "# Data generation\n",
    "# ###############\n",
    "\n",
    "# #######################\n",
    "# Generate starting times\n",
    "\n",
    "# Generate s using the known prior\n",
    "np.random.seed(0)\n",
    "n_calls = 4000     # Total no. of calls in the whole period\n",
    "minday = 24*60    # Total no. of minutes in a day\n",
    "n_days = 5\n",
    "\n",
    "# Day of each call, uniformly at randomm between 0 and n_days-1\n",
    "day = np.random.randint(0, high=n_days, size=n_calls)\n",
    "\n",
    "# Minutes unyformly at random\n",
    "t_d_0 = np.random.uniform(minday, size=n_calls)\n",
    "# Minutes from a beta distribution\n",
    "t_d_1 = minday * np.random.beta(7, 3, size=n_calls)\n",
    "# Minutes from a mixture of uniform and beta distributions\n",
    "b = np.random.binomial(1, 0.2, size=n_calls)\n",
    "\n",
    "t = day * minday + b * t_d_0 + (1-b) * t_d_1\n",
    "t = np.sort(t)\n",
    "\n",
    "# #######################\n",
    "# Generate call durations\n",
    "d = np.random.exponential(8, size=len(t))\n",
    "\n",
    "data = {'t': t, 'd': d}\n",
    "np.savez('dataset.npz', **data)\n",
    "# </SOL>\n",
    "\n",
    "datanew = np.load('dataset.npz')\n",
    "t = datanew['t']\n",
    "d = datanew['d']"
   ]
  },
  {
   "cell_type": "markdown",
   "metadata": {},
   "source": [
    "### 1. Time between calls\n",
    "\n",
    " * [1.1] Plot the histogram of the timestamps"
   ]
  },
  {
   "cell_type": "code",
   "execution_count": 14,
   "metadata": {},
   "outputs": [
    {
     "data": {
      "image/png": "[encoded data removed]",
      "text/plain": [
       "<matplotlib.figure.Figure at 0x116124630>"
      ]
     },
     "metadata": {},
     "output_type": "display_data"
    }
   ],
   "source": [
    "# Histograms of call times\n",
    "# <SOL>\n",
    "plt.hist(t, bins=100)\n",
    "plt.xlabel('Time (minutes)')\n",
    "plt.ylabel('No. of incoming calls')\n",
    "plt.xlim([0, n_days*minday])\n",
    "plt.show()\n",
    "# </SOL>\n"
   ]
  },
  {
   "cell_type": "markdown",
   "metadata": {},
   "source": [
    " * [1.2] Generate an array `x_all` containing the succesive time beween calls, and plot the corresponding histogram."
   ]
  },
  {
   "cell_type": "code",
   "execution_count": 15,
   "metadata": {},
   "outputs": [
    {
     "data": {
      "image/png": "[encoded data removed]",
      "text/plain": [
       "<matplotlib.figure.Figure at 0x116415588>"
      ]
     },
     "metadata": {},
     "output_type": "display_data"
    }
   ],
   "source": [
    "# <SOL>\n",
    "x_all = np.diff(t)\n",
    "plt.figure(figsize=(13,3))\n",
    "plt.hist(x_all, bins=800)\n",
    "plt.xlim([0, max(x_all)/10])\n",
    "plt.show()\n",
    "# </SOL>"
   ]
  },
  {
   "cell_type": "markdown",
   "metadata": {},
   "source": [
    "### 2. Parameter estimation.\n",
    "\n",
    "The company has decided to build a statistical model to characterize the activity in the hosted call centers. By looking at the histogram, it seems that the time between incoming calls may follow an exponential distribution\n",
    "\n",
    "$$\n",
    "p_{X|S}(x|s) = s \\exp(−s x), \\qquad x > 0\n",
    "$$\n",
    "\n",
    "where random variable $X$ represents the time before a new call arrives, and $S$ is the parameter of such distribution. Thus, we will use the dataset to estimate parameter $s$.\n",
    "\n",
    "#### 2.1. Maximum likelihood"
   ]
  },
  {
   "cell_type": "markdown",
   "metadata": {},
   "source": [
    " * [2.1]. Obtain the maximum likelihood estimator or $S$ based on the observations in `x_all`."
   ]
  },
  {
   "cell_type": "code",
   "execution_count": 16,
   "metadata": {},
   "outputs": [
    {
     "data": {
      "text/latex": [
       "$$\\hat{s}_\\text{ML} = 0.556473181548$$"
      ],
      "text/plain": [
       "<IPython.core.display.Math object>"
      ]
     },
     "metadata": {},
     "output_type": "display_data"
    }
   ],
   "source": [
    "# <SOL>\n",
    "z = np.sum(x_all)\n",
    "K = len(x_all)\n",
    "sML = K / z\n",
    "# </SOL>\n",
    "\n",
    "display(Math(r'\\hat{s}_\\text{ML} = ' + str(sML)))"
   ]
  },
  {
   "cell_type": "markdown",
   "metadata": {},
   "source": [
    " * [2.2]. Plot the log of the likelihood as a function of $s$ (in the appropriate range of $s$) and verify that the ML estimate reaches the maximum."
   ]
  },
  {
   "cell_type": "code",
   "execution_count": 23,
   "metadata": {},
   "outputs": [
    {
     "data": {
      "image/png": "[encoded data removed]",
      "text/plain": [
       "<matplotlib.figure.Figure at 0x10c7aaa90>"
      ]
     },
     "metadata": {},
     "output_type": "display_data"
    }
   ],
   "source": [
    "# <SOL>\n",
    "s = np.linspace(0.001, 6, 101)\n",
    "\n",
    "def Lp(s):\n",
    "    return K*np.log(s) - s*z\n",
    "\n",
    "plt.plot(s, Lp(s))\n",
    "plt.stem([sML], [Lp(sML)])\n",
    "plt.xlim((s[0], s[-1]))\n",
    "plt.ylim([np.min(Lp(s)), 0])\n",
    "plt.xlabel('$s$')\n",
    "plt.ylabel('Log-likelihood')\n",
    "plt.show()\n",
    "# </SOL>"
   ]
  },
  {
   "cell_type": "markdown",
   "metadata": {},
   "source": [
    "#### 2.2. Bayesian estimation\n",
    "\n",
    "In order to apply Bayesian estimation methods, parameter $S$ is taken as a random variable with the following a priori model:\n",
    "\n",
    "$$\n",
    "p_S(s) = \\exp(−s), \\qquad s > 0.\n",
    "$$\n",
    "\n",
    "* [2.3.] Obtain the maximum a posteriori estimator of $S$ given $X$, $\\hat{s}_\\text{MAP}$."
   ]
  },
  {
   "cell_type": "code",
   "execution_count": 24,
   "metadata": {},
   "outputs": [
    {
     "data": {
      "text/latex": [
       "$$\\hat{s}_\\text{MAP} = 0.556395757362$$"
      ],
      "text/plain": [
       "<IPython.core.display.Math object>"
      ]
     },
     "metadata": {},
     "output_type": "display_data"
    }
   ],
   "source": [
    "# </SOL>\n",
    "sMAP = K / (z + 1)\n",
    "# </SOL>\n",
    "\n",
    "display(Math(r'\\hat{s}_\\text{MAP} = ' + str(sMAP)))"
   ]
  },
  {
   "cell_type": "markdown",
   "metadata": {},
   "source": [
    " * [2.4]. Plot the posterior probability of parameter $S$ as a function of $s$ (in the appropriate range of $s$) and verify that the MAP estimate reaches the maximum."
   ]
  },
  {
   "cell_type": "code",
   "execution_count": 43,
   "metadata": {},
   "outputs": [
    {
     "data": {
      "image/png": "[encoded data removed]",
      "text/plain": [
       "<matplotlib.figure.Figure at 0x10c7a3400>"
      ]
     },
     "metadata": {},
     "output_type": "display_data"
    }
   ],
   "source": [
    "# <SOL>\n",
    "def PP(s, z, K):\n",
    "    logPP = K*np.log(s) + (K+1)*np.log(z+1) - s*(z+1) - np.sum(np.log(range(1, K+1)))\n",
    "    return np.exp(logPP)\n",
    "\n",
    "s = np.linspace(0.0001, 0.7, 1000)\n",
    "plt.plot(s, PP(s, z, K))\n",
    "plt.stem([sMAP], [PP(sMAP, z, K)])\n",
    "plt.xlim((s[0], s[-1]))\n",
    "plt.ylim((0, 1.1*PP(sMAP, z, K)))\n",
    "plt.show()\n",
    "# </SOL>"
   ]
  },
  {
   "cell_type": "markdown",
   "metadata": {},
   "source": [
    " * [2.5.] Obtain the minimum mean square error estimator of $S$ given $X$, $\\hat{s}_\\text{MSE}$."
   ]
  },
  {
   "cell_type": "code",
   "execution_count": 31,
   "metadata": {},
   "outputs": [
    {
     "data": {
      "text/latex": [
       "$$\\hat{s}_\\text{MSE} = 0.556534891085$$"
      ],
      "text/plain": [
       "<IPython.core.display.Math object>"
      ]
     },
     "metadata": {},
     "output_type": "display_data"
    }
   ],
   "source": [
    "# <SOL>\n",
    "sMSE = (K + 1) / (z + 1)\n",
    "# </SOL>\n",
    "\n",
    "display(Math(r'\\hat{s}_\\text{MSE} = ' + str(sMSE)))"
   ]
  },
  {
   "cell_type": "markdown",
   "metadata": {},
   "source": [
    " * [2.6.] Note the MAP and the MSE estimates are very similar because the posterior distribution is approximately (although not exactly) symmetric. Also, the MSE estimate is only slightly different from the ML estimate, because we have a large dataset and the influence of the prior distribution decreases when we have much empirical evidence.\n",
    " \n",
    "   However, the Bayesian approach provides not only an estimate but a posterior distribution, that describes how much we know about the true value of parameter $S$ after the data observation. The variance of this distribution describes how far the true value of $S$ could be from the posterior mean.\n",
    "   \n",
    "   (Incidentally, note that, since $\\hat{s}_\\text{MSE}$ is the posterior mean, the conditional MSE, which is given by,\n",
    "\n",
    "   $$\n",
    "   \\mathbb{E}\\left\\{S-\\hat{s}_\\text{MSE}| {\\bf z}\\right\\}\n",
    "   $$\n",
    "\n",
    "   is equal to the variance of the posterior distribution).\n",
    "   \n",
    "   Compute the Minimum MSE for the given data."
   ]
  },
  {
   "cell_type": "code",
   "execution_count": 139,
   "metadata": {},
   "outputs": [
    {
     "name": "stdout",
     "output_type": "stream",
     "text": [
      "The minimum MSE is given by \n"
     ]
    },
    {
     "data": {
      "text/latex": [
       "$$\\text{MSE} = \\frac{K+1}{(z +1)^2} = 8.682047514404306e-05$$"
      ],
      "text/plain": [
       "<IPython.core.display.Math object>"
      ]
     },
     "metadata": {},
     "output_type": "display_data"
    }
   ],
   "source": [
    "print(\"The minimum MSE is given by \")\n",
    "# mmse = <FILL IN>\n",
    "mmse = (K+1)/(z+1)**2\n",
    "\n",
    "display(Math(r'\\text{MSE} = \\frac{K+1}{(z +1)^2} = ' + str(mmse) ))"
   ]
  },
  {
   "cell_type": "markdown",
   "metadata": {},
   "source": [
    " * [2.7.] [OPTIONAL] Compute the probability that the true parameter value is further than 2 standard deviations from the posterior mean."
   ]
  },
  {
   "cell_type": "code",
   "execution_count": 140,
   "metadata": {
    "collapsed": true
   },
   "outputs": [],
   "source": [
    "# <SOL>\n",
    "\n",
    "# </SOL>"
   ]
  },
  {
   "cell_type": "markdown",
   "metadata": {},
   "source": [
    "### 3. An improved data model.\n",
    "\n",
    "#### 3.1. Temporal dynamics\n",
    "\n",
    "The analysis in Section 2 is grounded on the assumption that the time between incoming calls follows an exponential distribution. The histogram obtained in exercise [1.2] provides some experimental evidence in support of this assumption. \n",
    "\n",
    "However, the histogram computed in exercise [1.1.] also shows that the activity of the call center varies with the time of the day. Therefore, we can expect that the time between calls also depends in the time of the day."
   ]
  },
  {
   "cell_type": "markdown",
   "metadata": {},
   "source": [
    "* [3.1] Plot the time between calls, as a function of time."
   ]
  },
  {
   "cell_type": "code",
   "execution_count": 41,
   "metadata": {},
   "outputs": [
    {
     "data": {
      "image/png": "[encoded data removed]",
      "text/plain": [
       "<matplotlib.figure.Figure at 0x115cd8ba8>"
      ]
     },
     "metadata": {},
     "output_type": "display_data"
    }
   ],
   "source": [
    "# <SOL>\n",
    "plt.figure(figsize=(13,3))\n",
    "plt.plot(t[:-1], x_all)  \n",
    "plt.xlim([0, np.max(t)])\n",
    "plt.ylim([0, 1.05*np.max(x_all)])\n",
    "plt.xlabel('Time of the incoming call (minutes)')\n",
    "plt.ylabel('Time between calls (minutes)')\n",
    "plt.show()\n",
    "# </SOL>\n"
   ]
  },
  {
   "cell_type": "markdown",
   "metadata": {},
   "source": [
    "According to this, we can make a different model for each time of the day. To do so, we will keep the asumption that the time between incoming calls may follows an exponential distribution\n",
    "$$\n",
    "p_{X|S,}(x|s, h) = s \\exp(−s x), \\qquad x > 0\n",
    "$$\n",
    "but parameter $s$ takes a different value from hour to hour.\n",
    "\n",
    "In order to compute the parameter estimates, we will need to split the data in 24 groups, one per hour.\n",
    "\n",
    " * [3.2] Split the dataset in 24 groups, assigning the data to each group depending on the hour of the starting time. Then, compute the ML and the MSE estimates for each group. Store them in vectors `sML` and `sMSE`"
   ]
  },
  {
   "cell_type": "code",
   "execution_count": 60,
   "metadata": {},
   "outputs": [
    {
     "data": {
      "image/png": "[encoded data removed]",
      "text/plain": [
       "<matplotlib.figure.Figure at 0x11586f390>"
      ]
     },
     "metadata": {},
     "output_type": "display_data"
    }
   ],
   "source": [
    "# <SOL>\n",
    "sML = np.zeros(24)\n",
    "sMSE = np.zeros(24)\n",
    "\n",
    "h = np.fix(t/60) // n_days\n",
    "\n",
    "uuu = list(zip(h, x_all))\n",
    "for h in range(24):\n",
    "    x_h = np.array([u[1] for u in uuu if u[0] == h])\n",
    "    z_h = np.sum(x_h)\n",
    "    K_h = x_h.shape[0]\n",
    "    sML[h] = K_h / z_h\n",
    "    sMSE[h] = (K_h+1) / (z_h+1)\n",
    "    \n",
    "\n",
    "plt.stem(sML)\n",
    "plt.stem(sMSE)\n",
    "plt.show()\n",
    "# </SOL>\n"
   ]
  },
  {
   "cell_type": "markdown",
   "metadata": {},
   "source": [
    " * [3.5] Compute the ML parameters $s_l$ and $s_h$ for each period. "
   ]
  },
  {
   "cell_type": "code",
   "execution_count": 164,
   "metadata": {
    "collapsed": true
   },
   "outputs": [],
   "source": [
    "# <SOL>\n",
    "# </SOL>\n"
   ]
  },
  {
   "cell_type": "markdown",
   "metadata": {},
   "source": [
    " * [3.6] Compute maximum likelihood for the new model, and compare it with the original one."
   ]
  },
  {
   "cell_type": "code",
   "execution_count": 163,
   "metadata": {
    "collapsed": true
   },
   "outputs": [],
   "source": [
    "# <SOL>\n",
    "# </SOL>\n"
   ]
  },
  {
   "cell_type": "markdown",
   "metadata": {},
   "source": [
    "### 3. An improved data model.\n",
    "\n",
    "#### 3.1. Resource assignment\n",
    "\n",
    "*Like2Call* has a staff of operators in charge of attending all incoming calls. Operators are expensive, so the company aims at optimizing the human resources assigned to this service. At the same time, the company wants to avoid loosing calls because of the lack of available operators at some time.\n",
    "\n",
    "One experienced engineer from the company has reasoned as follows: since we have recorded the time of each call, we can compute the total time required to attend all calls in the dataset:"
   ]
  },
  {
   "cell_type": "code",
   "execution_count": 141,
   "metadata": {},
   "outputs": [
    {
     "name": "stdout",
     "output_type": "stream",
     "text": [
      "Total service time = 35810.53077063097 minutes\n",
      "4501\n"
     ]
    }
   ],
   "source": [
    "st = np.sum(d)\n",
    "print(\"Total service time = {} minutes\".format(st))\n",
    "print(len(d))"
   ]
  },
  {
   "cell_type": "markdown",
   "metadata": {},
   "source": [
    "since the dataset registers a period of 5 days (24 hours per day), which are"
   ]
  },
  {
   "cell_type": "code",
   "execution_count": 142,
   "metadata": {},
   "outputs": [
    {
     "name": "stdout",
     "output_type": "stream",
     "text": [
      "Total service period = 7200 minutes\n"
     ]
    }
   ],
   "source": [
    "sp = n_days*24*60\n",
    "print(\"Total service period = {} minutes\".format(sp))"
   ]
  },
  {
   "cell_type": "markdown",
   "metadata": {},
   "source": [
    "we can estimate that, on average, the number of busy operators is about"
   ]
  },
  {
   "cell_type": "code",
   "execution_count": 143,
   "metadata": {},
   "outputs": [
    {
     "name": "stdout",
     "output_type": "stream",
     "text": [
      "Average number of busy operators: 4.973684829254301\n"
     ]
    }
   ],
   "source": [
    "print(\"Average number of busy operators: {}\".format(st/sp))"
   ]
  },
  {
   "cell_type": "markdown",
   "metadata": {},
   "source": [
    "Thus, we can conservatively assign a number of active operators equal to twice the average number of busy operators, to make sure that there will be no lost calls."
   ]
  },
  {
   "cell_type": "code",
   "execution_count": 144,
   "metadata": {},
   "outputs": [
    {
     "name": "stdout",
     "output_type": "stream",
     "text": [
      "Tentative number of active operators at each time: 9.947369658508602\n"
     ]
    }
   ],
   "source": [
    "print(\"Tentative number of active operators at each time: {}\".format(2*st/sp))"
   ]
  },
  {
   "cell_type": "markdown",
   "metadata": {},
   "source": [
    "A young engineering arising from Universidad Carlos III noted that there was something wrong in the reasoning of the experienced engineer. He made some calculations to come up with a better way to assign the human resourcers."
   ]
  },
  {
   "cell_type": "markdown",
   "metadata": {},
   "source": [
    " * [3.1] Plot the exact number of active calls as a function of time. (Think how to do it using `t` and `d`)."
   ]
  },
  {
   "cell_type": "code",
   "execution_count": 159,
   "metadata": {},
   "outputs": [
    {
     "data": {
      "image/png": "[encoded data removed]",
      "text/plain": [
       "<Figure size 432x288 with 1 Axes>"
      ]
     },
     "metadata": {},
     "output_type": "display_data"
    }
   ],
   "source": [
    "# <SOL>\n",
    "\n",
    "# Lists of start and end events\n",
    "e_start = [(x, 1) for x in t]\n",
    "e_end = [(x, -1) for x in t + d]\n",
    "e_all = e_start + e_end\n",
    "e_allsorted = sorted(e_all, key=lambda x: x[0])\n",
    "t_all = np.array([x[0] for x in e_allsorted])\n",
    "y = np.array([x[1] for x in e_allsorted])\n",
    "\n",
    "plt.plot(t_all, np.cumsum(y))\n",
    "plt.plot([0, t_all[-1]], [10, 10], ':')\n",
    "plt.show()\n",
    "# </SOL>\n"
   ]
  },
  {
   "cell_type": "markdown",
   "metadata": {},
   "source": [
    "* [3.2] Estimate the total number of calls that would be lost if only 10 operators were active at each time\n"
   ]
  },
  {
   "cell_type": "code",
   "execution_count": null,
   "metadata": {
    "collapsed": true
   },
   "outputs": [],
   "source": []
  },
  {
   "cell_type": "markdown",
   "metadata": {},
   "source": [
    "#### 3.3. Resource allocation.\n",
    "\n",
    " * [3.7] Assign a different number of operators to each period, ensuring that the total man-power required to maintain the service (and thus the cost) does not increase, but trying to minimize the number of lost calls."
   ]
  },
  {
   "cell_type": "code",
   "execution_count": null,
   "metadata": {
    "collapsed": true
   },
   "outputs": [],
   "source": [
    "# <SOL>\n",
    "# </SOL>\n"
   ]
  }
 ],
 "metadata": {
  "kernelspec": {
   "display_name": "Python [conda env:mypy36]",
   "language": "python",
   "name": "conda-env-mypy36-py"
  },
  "language_info": {
   "codemirror_mode": {
    "name": "ipython",
    "version": 3
   },
   "file_extension": ".py",
   "mimetype": "text/x-python",
   "name": "python",
   "nbconvert_exporter": "python",
   "pygments_lexer": "ipython3",
   "version": "3.6.5"
  }
 },
 "nbformat": 4,
 "nbformat_minor": 2
}
