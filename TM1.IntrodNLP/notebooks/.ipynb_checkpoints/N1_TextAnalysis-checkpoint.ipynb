{
 "cells": [
  {
   "cell_type": "markdown",
   "metadata": {},
   "source": [
    "# Text Analysis and Topic Modelling\n",
    "\n",
    "Author: Jesús Cid Sueiro\n",
    "\n",
    "Date: 2016/04/03\n"
   ]
  },
  {
   "cell_type": "markdown",
   "metadata": {},
   "source": [
    "In this notebook we will explore some tools for text analysis in python. To do so, first we will import the requested python libraries."
   ]
  },
  {
   "cell_type": "code",
   "execution_count": 1,
   "metadata": {
    "collapsed": false
   },
   "outputs": [],
   "source": [
    "%matplotlib inline\n",
    "\n",
    "# Required imports\n",
    "from wikitools import wiki\n",
    "from wikitools import category\n",
    "\n",
    "import nltk\n",
    "from nltk.tokenize import word_tokenize\n",
    "from nltk.corpus import stopwords\n",
    "from nltk.stem import WordNetLemmatizer\n",
    "\n",
    "import gensim\n",
    "\n",
    "import numpy as np\n",
    "import lda\n",
    "import lda.datasets\n",
    "\n",
    "import matplotlib.pyplot as plt\n",
    "\n",
    "from test_helper import Test"
   ]
  },
  {
   "cell_type": "markdown",
   "metadata": {},
   "source": [
    "## 1. Corpus acquisition.\n",
    "\n",
    "In this notebook we will explore some tools for text processing and analysis and two topic modeling algorithms available from Python toolboxes.\n",
    "\n",
    "To do so, we will explore and analyze collections of Wikipedia articles from a given category, using `wikitools`, that makes easy the capture of content from wikimedia sites.\n",
    "\n",
    "(*As a side note, there are many other available text collections to test topic modelling algorithm. In particular, the NLTK library has many examples, that can explore them using the `nltk.download()` tool*.\n",
    "\n",
    "    import nltk\n",
    "    nltk.download()\n",
    "\n",
    "*for instance, you can take the gutemberg dataset*\n",
    "\n",
    "    Mycorpus = nltk.corpus.gutenberg\n",
    "    text_name = Mycorpus.fileids()[0]\n",
    "    raw = Mycorpus.raw(text_name)\n",
    "    Words = Mycorpus.words(text_name)\n",
    "\n",
    "*Also, tools like Gensim or Sci-kit learn include text databases to work with*).\n",
    "\n",
    "In order to use Wikipedia data, we will select a single category of articles:"
   ]
  },
  {
   "cell_type": "code",
   "execution_count": 2,
   "metadata": {
    "collapsed": false
   },
   "outputs": [
    {
     "name": "stdout",
     "output_type": "stream",
     "text": [
      "Economics\n"
     ]
    }
   ],
   "source": [
    "site = wiki.Wiki(\"https://en.wikipedia.org/w/api.php\")\n",
    "# Select a category with a reasonable number of articles (>100)\n",
    "cat = \"Economics\"\n",
    "# cat = \"Pseudoscience\"\n",
    "print cat"
   ]
  },
  {
   "cell_type": "markdown",
   "metadata": {},
   "source": [
    "You can try with any other categories. Take into account that the behavior of topic modelling algorithms may depend on the amount of documents available for the analysis. Select a category with at least 100 articles. You can browse the wikipedia category tree here, https://en.wikipedia.org/wiki/Category:Contents, for instance.\n",
    "\n",
    "We start downloading the text collection."
   ]
  },
  {
   "cell_type": "code",
   "execution_count": 43,
   "metadata": {
    "collapsed": false
   },
   "outputs": [
    {
     "name": "stdout",
     "output_type": "stream",
     "text": [
      "Loading category data. This may take a while...\n",
      " Loading article 314 \n",
      "Loaded 314 articles from category Economics\n"
     ]
    }
   ],
   "source": [
    "# Loading category data. This may take a while\n",
    "print \"Loading category data. This may take a while...\"\n",
    "cat_data = category.Category(site, cat)\n",
    "\n",
    "corpus_titles = []\n",
    "corpus_text = []\n",
    "\n",
    "for n, page in enumerate(cat_data.getAllMembersGen()):\n",
    "    print \"\\r Loading article {0}\".format(n + 1),\n",
    "    corpus_titles.append(page.title)\n",
    "    corpus_text.append(page.getWikiText())\n",
    "\n",
    "n_art = len(corpus_titles)\n",
    "print \"\\nLoaded \" + str(n_art) + \" articles from category \" + cat"
   ]
  },
  {
   "cell_type": "markdown",
   "metadata": {},
   "source": [
    "Now, we have stored the whole text collection in two lists:\n",
    "\n",
    "* `corpus_titles`, which contains the titles of the selected articles\n",
    "* `corpus_text`, with the text content of the selected wikipedia articles\n",
    "\n",
    "You can browse the content of the wikipedia articles to get some intuition about the kind of documents that will be processed."
   ]
  },
  {
   "cell_type": "code",
   "execution_count": 58,
   "metadata": {
    "collapsed": false
   },
   "outputs": [],
   "source": [
    "# n = 5\n",
    "# print corpus_titles[n]\n",
    "# print corpus_text[n]"
   ]
  },
  {
   "cell_type": "markdown",
   "metadata": {},
   "source": [
    "## 2. Corpus Processing\n",
    "\n",
    "Topic modelling algorithms process vectorized data. In order to apply them, we need to transform the raw text input data into a vector representation. To do so, we will remove irrelevant information from the text data and preserve as much relevant information as possible to capture the semantic content in the document collection.\n",
    "\n",
    "Thus, we will proceed with the following steps:\n",
    "\n",
    "1. Tokenization\n",
    "2. Homogeneization\n",
    "3. Cleaning\n",
    "4. Vectorization"
   ]
  },
  {
   "cell_type": "markdown",
   "metadata": {},
   "source": [
    "### 2.1. Tokenization\n",
    "\n",
    "For the first steps, we will use some of the powerfull methods available from the [Natural Language Toolkit](http://www.nltk.org). In order to use the `word_tokenize` method from nltk, you might need to get the appropriate libraries using `nltk.download()`. You must select option \"d) Download\", and identifier \"punkt\""
   ]
  },
  {
   "cell_type": "code",
   "execution_count": 5,
   "metadata": {
    "collapsed": false
   },
   "outputs": [],
   "source": [
    "# You can comment this if the package is already available.\n",
    "# Select option \"d) Download\", and identifier \"punkt\"\n",
    "# nltk.download()"
   ]
  },
  {
   "cell_type": "markdown",
   "metadata": {},
   "source": [
    "**Task**: Insert the appropriate call to `word_tokenize` in the code below, in order to get the tokens list corresponding to each Wikipedia article:"
   ]
  },
  {
   "cell_type": "code",
   "execution_count": 6,
   "metadata": {
    "collapsed": false
   },
   "outputs": [
    {
     "name": "stdout",
     "output_type": "stream",
     "text": [
      "Tokenizing article 314 out of 314 \n",
      " The corpus has been tokenized. Let's check some portion of the first article:\n",
      "[u'{', u'{', u'about|the', u'social', u'science|other', u'uses|Economics', u'(', u'disambiguation', u')', u'|and|Economic', u'Theory', u'(', u'journal', u')', u'}', u'}', u'{', u'{', u'Outline|Outline', u'of', u'economics', u'}', u'}', u'{', u'{', u'pp-semi-indef', u'}', u'}', u'{', u'{']\n"
     ]
    }
   ],
   "source": [
    "corpus_tokens = []\n",
    "\n",
    "for n, art in enumerate(corpus_text): \n",
    "    print \"\\rTokenizing article {0} out of {1}\".format(n + 1, n_art),\n",
    "    # This is to make sure that all characters have the appropriate encoding.\n",
    "    art = art.decode('utf-8')  \n",
    "    \n",
    "    # Tokenize each text entry. \n",
    "    # scode: tokens = <FILL IN>\n",
    "    tokens = word_tokenize(art)\n",
    "    \n",
    "    # Add the new token list as a new element to corpus_tokens (that will be a list of lists)\n",
    "    # scode: <FILL IN>\n",
    "    corpus_tokens.append(tokens)\n",
    "\n",
    "print \"\\n The corpus has been tokenized. Let's check some portion of the first article:\"\n",
    "print corpus_tokens[0][0:30]"
   ]
  },
  {
   "cell_type": "code",
   "execution_count": 7,
   "metadata": {
    "collapsed": false
   },
   "outputs": [
    {
     "name": "stdout",
     "output_type": "stream",
     "text": [
      "1 test passed.\n",
      "1 test passed.\n"
     ]
    }
   ],
   "source": [
    "Test.assertEquals(len(corpus_tokens), n_art, \"The number of articles has changed unexpectedly\")\n",
    "Test.assertTrue(len(corpus_tokens) >= 100, \n",
    "                \"Your corpus_tokens has less than 100 articles. Consider using a larger dataset\")"
   ]
  },
  {
   "cell_type": "markdown",
   "metadata": {},
   "source": [
    "### 2.2. Homogeneization\n",
    "\n",
    "By looking at the tokenized corpus you may verify that there are many tokens that correspond to punktuation signs and other symbols that are not relevant to analyze the semantic content. They can be removed using the stemming tool from `nltk`.\n",
    "\n",
    "The homogeneization process will consist of:\n",
    "\n",
    "1. Removing capitalization: capital alphabetic characters will be transformed to their corresponding lowercase characters.\n",
    "2. Removing non alphanumeric tokens (e.g. punktuation signs)\n",
    "3. Stemming/Lemmatization: removing word terminations to preserve the root of the words and ignore grammatical information."
   ]
  },
  {
   "cell_type": "markdown",
   "metadata": {},
   "source": [
    "#### 2.2.1. Filtering\n",
    "\n",
    "Let us proceed with the filtering steps 1 and 2 (removing capitalization and non-alphanumeric tokens)."
   ]
  },
  {
   "cell_type": "markdown",
   "metadata": {},
   "source": [
    "**Task**: Convert all tokens in `corpus_tokens` to lowercase (using `.lower()` method) and remove non alphanumeric tokens (that you can detect with `.isalnum()` method). You can do it in a single line of code..."
   ]
  },
  {
   "cell_type": "code",
   "execution_count": 8,
   "metadata": {
    "collapsed": false
   },
   "outputs": [
    {
     "name": "stdout",
     "output_type": "stream",
     "text": [
      "Filtering article 314 out of 314 \n",
      "Let's check the first tokens from document 0 after stemming:\n",
      "[u'social', u'disambiguation', u'theory', u'journal', u'of', u'economics', u'economics', u'sidebar', u'economics', u'is', u'the', u'social', u'science', u'that', u'describes', u'the', u'factors', u'that', u'determine', u'the', u'production', u'economics', u'distribution', u'economics', u'and', u'consumption', u'economics', u'of', u'goods', u'and']\n"
     ]
    }
   ],
   "source": [
    "# Select stemmer.\n",
    "stemmer = nltk.stem.SnowballStemmer('english')\n",
    "corpus_filtered = []\n",
    "\n",
    "for n, token_list in enumerate(corpus_tokens):\n",
    "    print \"\\rFiltering article {0} out of {1}\".format(n + 1, n_art),\n",
    "    \n",
    "    # Convert all tokens in token_list to lowercase, remove non alfanumeric tokens and stem.\n",
    "    # Store the result in a new token list, clean_tokens.\n",
    "    # scode: filtered_tokens = <FILL IN>\n",
    "    filtered_tokens = [token.lower() for token in token_list if token.isalnum()]\n",
    "    \n",
    "    # Add art to corpus_filtered\n",
    "    # scode: <FILL IN>\n",
    "    corpus_filtered.append(filtered_tokens)\n",
    "\n",
    "print \"\\nLet's check the first tokens from document 0 after stemming:\"\n",
    "print corpus_filtered[0][0:30]"
   ]
  },
  {
   "cell_type": "code",
   "execution_count": 9,
   "metadata": {
    "collapsed": false,
    "scrolled": false
   },
   "outputs": [
    {
     "name": "stdout",
     "output_type": "stream",
     "text": [
      "1 test passed.\n",
      "1 test passed.\n"
     ]
    }
   ],
   "source": [
    "Test.assertTrue(all([c==c.lower() for c in corpus_filtered[23]]), 'Capital letters have not been removed')\n",
    "Test.assertTrue(all([c.isalnum() for c in corpus_filtered[13]]), 'Non alphanumeric characters have not been removed')"
   ]
  },
  {
   "cell_type": "markdown",
   "metadata": {},
   "source": [
    "#### 2.2.2. Stemming vs Lemmatization\n",
    "\n",
    "At this point, we can choose between applying a simple stemming or ussing lemmatization. We will try both to test their differences."
   ]
  },
  {
   "cell_type": "markdown",
   "metadata": {},
   "source": [
    "**Task**: Apply the `.stem()` method, from the stemmer object created in the first line, to `corpus_filtered`."
   ]
  },
  {
   "cell_type": "code",
   "execution_count": 10,
   "metadata": {
    "collapsed": false
   },
   "outputs": [
    {
     "name": "stdout",
     "output_type": "stream",
     "text": [
      "Stemming article 314 out of 314 \n",
      "Let's check the first tokens from document 0 after stemming:\n",
      "[u'social', u'disambigu', u'theori', u'journal', u'of', u'econom', u'econom', u'sidebar', u'econom', u'is', u'the', u'social', u'scienc', u'that', u'describ', u'the', u'factor', u'that', u'determin', u'the', u'product', u'econom', u'distribut', u'econom', u'and', u'consumpt', u'econom', u'of', u'good', u'and']\n"
     ]
    }
   ],
   "source": [
    "# Select stemmer.\n",
    "stemmer = nltk.stem.SnowballStemmer('english')\n",
    "corpus_stemmed = []\n",
    "\n",
    "for n, token_list in enumerate(corpus_filtered):\n",
    "    print \"\\rStemming article {0} out of {1}\".format(n + 1, n_art),\n",
    "    \n",
    "    # Convert all tokens in token_list to lowercase, remove non alfanumeric tokens and stem.\n",
    "    # Store the result in a new token list, clean_tokens.\n",
    "    # scode: stemmed_tokens = <FILL IN>\n",
    "    stemmed_tokens = [stemmer.stem(token) for token in token_list]\n",
    "    \n",
    "    # Add art to the stemmed corpus\n",
    "    # scode: <FILL IN>\n",
    "    corpus_stemmed.append(stemmed_tokens)\n",
    "\n",
    "print \"\\nLet's check the first tokens from document 0 after stemming:\"\n",
    "print corpus_stemmed[0][0:30]"
   ]
  },
  {
   "cell_type": "code",
   "execution_count": 11,
   "metadata": {
    "collapsed": false,
    "scrolled": true
   },
   "outputs": [
    {
     "name": "stdout",
     "output_type": "stream",
     "text": [
      "1 test passed.\n"
     ]
    }
   ],
   "source": [
    "Test.assertTrue((len([c for c in corpus_stemmed[0] if c!=stemmer.stem(c)]) < 0.1*len(corpus_stemmed[0])), \n",
    "                'It seems that stemming has not been applied properly')"
   ]
  },
  {
   "cell_type": "markdown",
   "metadata": {},
   "source": [
    "Alternatively, we can apply lemmatization. For english texts, we can use the lemmatizer from NLTK, which is based on [WordNet](http://wordnet.princeton.edu). If you have not used wordnet before, you will likely need to download it from nltk"
   ]
  },
  {
   "cell_type": "code",
   "execution_count": 12,
   "metadata": {
    "collapsed": false
   },
   "outputs": [],
   "source": [
    "# You can comment this if the package is already available.\n",
    "# Select option \"d) Download\", and identifier \"wordnet\"\n",
    "# nltk.download()"
   ]
  },
  {
   "cell_type": "markdown",
   "metadata": {},
   "source": [
    "**Task**: Apply the `.lemmatize()` method, from the WordNetLemmatizer object created in the first line, to `corpus_filtered`."
   ]
  },
  {
   "cell_type": "code",
   "execution_count": 13,
   "metadata": {
    "collapsed": false,
    "scrolled": true
   },
   "outputs": [
    {
     "name": "stdout",
     "output_type": "stream",
     "text": [
      "Lemmatizing article 314 out of 314 \n",
      "Let's check the first tokens from document 0 after stemming:\n",
      "[u'social', u'disambiguation', u'theory', u'journal', u'of', u'economics', u'economics', u'sidebar', u'economics', u'is', u'the', u'social', u'science', u'that', u'describes', u'the', u'factor', u'that', u'determine', u'the', u'production', u'economics', u'distribution', u'economics', u'and', u'consumption', u'economics', u'of', u'good', u'and']\n"
     ]
    }
   ],
   "source": [
    "wnl = WordNetLemmatizer()\n",
    "\n",
    "# Select stemmer.\n",
    "corpus_lemmat = []\n",
    "\n",
    "for n, token_list in enumerate(corpus_filtered):\n",
    "    print \"\\rLemmatizing article {0} out of {1}\".format(n + 1, n_art),\n",
    "    \n",
    "    # Convert all tokens in token_list to lowercase, remove non alfanumeric tokens and stem.\n",
    "    # Store the result in a new token list, clean_tokens.\n",
    "    # scode: lemmat_tokens = <FILL IN>\n",
    "    lemmat_tokens = [wnl.lemmatize(token) for token in token_list]\n",
    "\n",
    "    # Add art to the stemmed corpus\n",
    "    # scode: <FILL IN>\n",
    "    corpus_lemmat.append(lemmat_tokens)\n",
    "\n",
    "print \"\\nLet's check the first tokens from document 0 after stemming:\"\n",
    "print corpus_lemmat[0][0:30]"
   ]
  },
  {
   "cell_type": "markdown",
   "metadata": {},
   "source": [
    "One of the advantages of the lemmatizer method is that the result of lemmmatization is still a true word, which is more advisable for the presentation of text processing results and lemmatization.\n",
    "\n",
    "However, without using contextual information, lemmatize() does not remove grammatical differences. This is the reason why \"is\" or \"are\" are preserved and not replaced by infinitive \"be\".\n",
    "\n",
    "As an alternative, we can apply .lemmatize(word, pos), where 'pos' is a string code specifying the part-of-speech (pos), i.e. the grammatical role of the words in its sentence. For instance, you can check the difference between `wnl.lemmatize('is')` and `wnl.lemmatize('is, pos='v')`."
   ]
  },
  {
   "cell_type": "markdown",
   "metadata": {},
   "source": [
    "### 2.3. Cleaning\n",
    "\n",
    "The third step consists of removing those words that are very common in language and do not carry out usefull semantic content (articles, pronouns, etc).\n",
    "\n",
    "Once again, we might need to load the stopword files using the download tools from `nltk`"
   ]
  },
  {
   "cell_type": "code",
   "execution_count": 14,
   "metadata": {
    "collapsed": false
   },
   "outputs": [],
   "source": [
    "# You can comment this if the package is already available.\n",
    "# Select option \"d) Download\", and identifier \"stopwords\"\n",
    "# nltk.download()"
   ]
  },
  {
   "cell_type": "markdown",
   "metadata": {},
   "source": [
    "** Task**: In the second line below we read a list of common english stopwords. Clean `corpus_stemmed` by removing all tokens in the stopword list."
   ]
  },
  {
   "cell_type": "code",
   "execution_count": 15,
   "metadata": {
    "collapsed": false
   },
   "outputs": [
    {
     "name": "stdout",
     "output_type": "stream",
     "text": [
      "Removing stopwords from article 314 out of 314 \n",
      " Let's check tokens after cleaning:\n",
      "[u'social', u'disambigu', u'theori', u'journal', u'econom', u'econom', u'sidebar', u'econom', u'social', u'scienc', u'describ', u'factor', u'determin', u'product', u'econom', u'distribut', u'econom', u'consumpt', u'econom', u'good', u'servic', u'term', u'come', u'ancient', u'greek', u'wikt', u'wikt', u'hous', u'wikt', u'custom']\n"
     ]
    }
   ],
   "source": [
    "corpus_clean = []\n",
    "stopwords_en = stopwords.words('english')\n",
    "n = 0\n",
    "for token_list in corpus_stemmed:\n",
    "    n += 1\n",
    "    print \"\\rRemoving stopwords from article {0} out of {1}\".format(n, n_art),\n",
    "\n",
    "    # Remove all tokens in the stopwords list and append the result to corpus_clean\n",
    "    # scode: clean_tokens = <FILL IN>\n",
    "    clean_tokens = [token for token in token_list if token not in stopwords_en]    \n",
    "\n",
    "    # scode: <FILL IN>\n",
    "    corpus_clean.append(clean_tokens)\n",
    "    \n",
    "print \"\\n Let's check tokens after cleaning:\"\n",
    "print corpus_clean[0][0:30]"
   ]
  },
  {
   "cell_type": "code",
   "execution_count": 16,
   "metadata": {
    "collapsed": false
   },
   "outputs": [
    {
     "name": "stdout",
     "output_type": "stream",
     "text": [
      "1 test passed.\n",
      "1 test passed.\n"
     ]
    }
   ],
   "source": [
    "Test.assertTrue(len(corpus_clean) == n_art, 'List corpus_clean does not contain the expected number of articles')\n",
    "Test.assertTrue(len([c for c in corpus_clean[0] if c in stopwords_en])==0, 'Stopwords have not been removed')"
   ]
  },
  {
   "cell_type": "markdown",
   "metadata": {},
   "source": [
    "### 2.4. Vectorization\n",
    "\n",
    "Up to this point, we have transformed the raw text collection of articles in a list of articles, where each article is a collection of the word roots that are most relevant for semantic analysis. Now, we need to convert these data (a list of token lists) into a numerical representation (a list of vectors, or a matrix). To do so, we will start using the tools provided by the `gensim` library. \n",
    "\n",
    "As a first step, we create a dictionary containing all tokens in our text corpus, and assigning an integer identifier to each one of them."
   ]
  },
  {
   "cell_type": "code",
   "execution_count": 17,
   "metadata": {
    "collapsed": false
   },
   "outputs": [
    {
     "name": "stdout",
     "output_type": "stream",
     "text": [
      "The dictionary contains 14873 tokens\n",
      "First tokens in the dictionary: \n",
      "0: freshwat\n",
      "1: four\n",
      "2: protest\n",
      "3: asian\n",
      "4: entropi\n",
      "5: payoff\n",
      "6: whose\n",
      "7: accus\n",
      "8: voter\n",
      "9: swan\n"
     ]
    }
   ],
   "source": [
    "# Create dictionary of tokens\n",
    "D = gensim.corpora.Dictionary(corpus_clean)\n",
    "n_tokens = len(D)\n",
    "\n",
    "print \"The dictionary contains {0} tokens\".format(n_tokens)\n",
    "print \"First tokens in the dictionary: \"\n",
    "for n in range(10):\n",
    "    print str(n) + \": \" + D[n]"
   ]
  },
  {
   "cell_type": "markdown",
   "metadata": {},
   "source": [
    "In the second step, let us create a numerical version of our corpus using the `doc2bow` method. In general, `D.doc2bow(token_list)` transform any list of tokens into a list of tuples `(token_id, n)`, one per each token in `token_list`, where `token_id` is the token identifier (according to dictionary `D`) and `n` is the number of occurrences of such token in `token_list`. "
   ]
  },
  {
   "cell_type": "markdown",
   "metadata": {},
   "source": [
    "** Task**: Apply the `doc2bow` method from gensim dictionary `D`, to all tokens in every article in `corpus_clean`. The result must be a new list named `corpus_bow` where each element is a list of tuples `(token_id, number_of_occurrences)`."
   ]
  },
  {
   "cell_type": "code",
   "execution_count": 18,
   "metadata": {
    "collapsed": false
   },
   "outputs": [],
   "source": [
    "# Transform token lists into sparse vectors on the D-space\n",
    "# scode: corpus_bow = <FILL IN>\n",
    "corpus_bow = [D.doc2bow(doc) for doc in corpus_clean]"
   ]
  },
  {
   "cell_type": "code",
   "execution_count": 19,
   "metadata": {
    "collapsed": false
   },
   "outputs": [
    {
     "name": "stdout",
     "output_type": "stream",
     "text": [
      "1 test passed.\n"
     ]
    }
   ],
   "source": [
    "Test.assertTrue(len(corpus_bow)==n_art, 'corpus_bow has not the appropriate size') "
   ]
  },
  {
   "cell_type": "markdown",
   "metadata": {},
   "source": [
    "At this point, it is good to make sure to understand what has happened. In `corpus_clean` we had a list of token lists. With it, we have constructed a Dictionary, `D`, which assign an integer identifier to each token in the corpus.\n",
    "After that, we have transformed each article (in `corpus_clean`) in a list tuples `(id, n)`. "
   ]
  },
  {
   "cell_type": "code",
   "execution_count": 20,
   "metadata": {
    "collapsed": false
   },
   "outputs": [
    {
     "name": "stdout",
     "output_type": "stream",
     "text": [
      "Original article (after cleaning): \n",
      "[u'social', u'disambigu', u'theori', u'journal', u'econom', u'econom', u'sidebar', u'econom', u'social', u'scienc', u'describ', u'factor', u'determin', u'product', u'econom', u'distribut', u'econom', u'consumpt', u'econom', u'good', u'servic', u'term', u'come', u'ancient', u'greek', u'wikt', u'wikt', u'hous', u'wikt', u'custom']\n",
      "Sparse vector representation (first 30 components):\n",
      "[(0, 1), (1, 1), (2, 1), (3, 1), (4, 1), (5, 1), (6, 1), (7, 2), (8, 1), (9, 1), (10, 1), (11, 2), (12, 1), (13, 1), (14, 3), (15, 4), (16, 8), (17, 4), (18, 1), (19, 2), (20, 31), (21, 2), (22, 1), (23, 5), (24, 1), (25, 1), (26, 6), (27, 3), (28, 1), (29, 3)]\n",
      "The first component, (0, 1) from document 0, states that token 0 (freshwat) appears 1 times\n"
     ]
    }
   ],
   "source": [
    "print \"Original article (after cleaning): \"\n",
    "print corpus_clean[0][0:30]\n",
    "print \"Sparse vector representation (first 30 components):\"\n",
    "print corpus_bow[0][0:30]\n",
    "print \"The first component, {0} from document 0, states that token 0 ({1}) appears {2} times\".format(\n",
    "    corpus_bow[0][0], D[0], corpus_bow[0][0][1])"
   ]
  },
  {
   "cell_type": "markdown",
   "metadata": {},
   "source": [
    "Note that we can interpret each element of corpus_bow as a `sparse_vector`. For example, a list of tuples \n",
    "\n",
    "    [(0, 1), (3, 3), (5,2)] \n",
    "\n",
    "for a dictionary of 10 elements can be represented as a vector, where any tuple `(id, n)` states that position `id` must take value `n`. The rest of positions must be zero.\n",
    "\n",
    "    [1, 0, 0, 3, 0, 2, 0, 0, 0, 0]\n",
    "\n",
    "These sparse vectors will be the inputs to the topic modeling algorithms.\n",
    "\n",
    "Note that, at this point, we have built a Dictionary containing"
   ]
  },
  {
   "cell_type": "code",
   "execution_count": 21,
   "metadata": {
    "collapsed": false
   },
   "outputs": [
    {
     "name": "stdout",
     "output_type": "stream",
     "text": [
      "14873 tokens\n"
     ]
    }
   ],
   "source": [
    "print \"{0} tokens\".format(len(D))"
   ]
  },
  {
   "cell_type": "markdown",
   "metadata": {},
   "source": [
    "and a bow representation of a corpus with"
   ]
  },
  {
   "cell_type": "code",
   "execution_count": 22,
   "metadata": {
    "collapsed": false
   },
   "outputs": [
    {
     "name": "stdout",
     "output_type": "stream",
     "text": [
      "314 Wikipedia articles\n"
     ]
    }
   ],
   "source": [
    "print \"{0} Wikipedia articles\".format(len(corpus_bow))"
   ]
  },
  {
   "cell_type": "markdown",
   "metadata": {},
   "source": [
    "Before starting with the semantic analyisis, it is interesting to observe the token distribution for the given corpus."
   ]
  },
  {
   "cell_type": "code",
   "execution_count": 23,
   "metadata": {
    "collapsed": false
   },
   "outputs": [],
   "source": [
    "# SORTED TOKEN FREQUENCIES (I):\n",
    "# Create a \"flat\" corpus with all tuples in a single list\n",
    "corpus_bow_flat = [item for sublist in corpus_bow for item in sublist]\n",
    "\n",
    "# Count the number of occurrences of each token.\n",
    "token_count = np.zeros(n_tokens)\n",
    "for x in corpus_bow_flat:\n",
    "    # Update the proper element in token_count\n",
    "    # scode: <FILL IN>\n",
    "    token_count[x[0]] += x[1]\n",
    "\n",
    "# Sort by decreasing number of occurences\n",
    "ids_sorted = np.argsort(- token_count)\n",
    "tf_sorted = token_count[ids_sorted]"
   ]
  },
  {
   "cell_type": "markdown",
   "metadata": {},
   "source": [
    "`ids_sorted` is a list of all token ids, sorted by decreasing number of occurrences in the whole corpus. For instance, the most frequent term is "
   ]
  },
  {
   "cell_type": "code",
   "execution_count": 24,
   "metadata": {
    "collapsed": false
   },
   "outputs": [
    {
     "name": "stdout",
     "output_type": "stream",
     "text": [
      "econom\n"
     ]
    }
   ],
   "source": [
    "print D[ids_sorted[0]]"
   ]
  },
  {
   "cell_type": "markdown",
   "metadata": {},
   "source": [
    "which appears"
   ]
  },
  {
   "cell_type": "code",
   "execution_count": 25,
   "metadata": {
    "collapsed": false
   },
   "outputs": [
    {
     "name": "stdout",
     "output_type": "stream",
     "text": [
      "4611.0 times in the whole corpus\n"
     ]
    }
   ],
   "source": [
    "print \"{0} times in the whole corpus\".format(tf_sorted[0])"
   ]
  },
  {
   "cell_type": "markdown",
   "metadata": {},
   "source": [
    "In the following we plot the most frequent terms in the corpus."
   ]
  },
  {
   "cell_type": "code",
   "execution_count": 26,
   "metadata": {
    "collapsed": false
   },
   "outputs": [
    {
     "data": {
      "image/png": "[encoded data removed]",
      "text/plain": [
       "<matplotlib.figure.Figure at 0xa939bcac>"
      ]
     },
     "metadata": {},
     "output_type": "display_data"
    }
   ],
   "source": [
    "# SORTED TOKEN FREQUENCIES (II):\n",
    "plt.rcdefaults()\n",
    "\n",
    "# Example data\n",
    "n_bins = 25\n",
    "hot_tokens = [D[i] for i in ids_sorted[n_bins-1::-1]]\n",
    "y_pos = np.arange(len(hot_tokens))\n",
    "z = tf_sorted[n_bins-1::-1]/n_art\n",
    "\n",
    "plt.barh(y_pos, z, align='center', alpha=0.4)\n",
    "plt.yticks(y_pos, hot_tokens)\n",
    "plt.xlabel('Average number of occurrences per article')\n",
    "plt.title('Token distribution')\n",
    "plt.show()"
   ]
  },
  {
   "cell_type": "code",
   "execution_count": 27,
   "metadata": {
    "collapsed": false
   },
   "outputs": [
    {
     "data": {
      "image/png": "[encoded data removed]",
      "text/plain": [
       "<matplotlib.figure.Figure at 0xa939b22c>"
      ]
     },
     "metadata": {},
     "output_type": "display_data"
    }
   ],
   "source": [
    "# SORTED TOKEN FREQUENCIES:\n",
    "\n",
    "# Example data\n",
    "plt.semilogy(tf_sorted)\n",
    "plt.xlabel('Average number of occurrences per article')\n",
    "plt.title('Token distribution')\n",
    "plt.show()\n"
   ]
  },
  {
   "cell_type": "markdown",
   "metadata": {},
   "source": [
    "** Exercise**: There are usually many tokens that appear with very low frequency in the corpus. Count the number of tokens appearing only once, and what is the proportion of them in the token list."
   ]
  },
  {
   "cell_type": "code",
   "execution_count": 28,
   "metadata": {
    "collapsed": false
   },
   "outputs": [
    {
     "name": "stdout",
     "output_type": "stream",
     "text": [
      "There are 6441 cold tokens, which represent 43.3066630808% of the total number of tokens in the dictionary\n"
     ]
    }
   ],
   "source": [
    "# scode: <WRITE YOUR CODE HERE>\n",
    "# Example data\n",
    "cold_tokens = [D[i] for i in ids_sorted if tf_sorted[i]==1]\n",
    "\n",
    "print \"There are {0} cold tokens, which represent {1}% of the total number of tokens in the dictionary\".format(\n",
    "    len(cold_tokens), float(len(cold_tokens))/n_tokens*100)"
   ]
  },
  {
   "cell_type": "markdown",
   "metadata": {},
   "source": [
    "** Exercise**: Represent graphically those 20 tokens that appear in the highest number of articles. Note that you can use the code above (headed by `# SORTED TOKEN FREQUENCIES`) with a very minor modification."
   ]
  },
  {
   "cell_type": "code",
   "execution_count": 29,
   "metadata": {
    "collapsed": false
   },
   "outputs": [
    {
     "data": {
      "image/png": "[encoded data removed]",
      "text/plain": [
       "<matplotlib.figure.Figure at 0xa9363b2c>"
      ]
     },
     "metadata": {},
     "output_type": "display_data"
    }
   ],
   "source": [
    "# scode: <WRITE YOUR CODE HERE>\n",
    "\n",
    "# SORTED TOKEN FREQUENCIES (I):\n",
    "# Count the number of occurrences of each token.\n",
    "token_count2 = np.zeros(n_tokens)\n",
    "for x in corpus_bow_flat:\n",
    "    token_count2[x[0]] += (x[1]>0)\n",
    "\n",
    "# Sort by decreasing number of occurences\n",
    "ids_sorted2 = np.argsort(- token_count2)\n",
    "tf_sorted2 = token_count2[ids_sorted2]\n",
    "\n",
    "# SORTED TOKEN FREQUENCIES (II):\n",
    "# Example data\n",
    "n_bins = 25\n",
    "hot_tokens2 = [D[i] for i in ids_sorted2[n_bins-1::-1]]\n",
    "y_pos2 = np.arange(len(hot_tokens2))\n",
    "z2 = tf_sorted2[n_bins-1::-1]/n_art\n",
    "\n",
    "plt.barh(y_pos2, z2, align='center', alpha=0.4)\n",
    "plt.yticks(y_pos2, hot_tokens2)\n",
    "plt.xlabel('Average number of occurrences per article')\n",
    "plt.title('Token distribution')\n",
    "plt.show()"
   ]
  },
  {
   "cell_type": "markdown",
   "metadata": {},
   "source": [
    "** Exercise**: Count the number of tokens appearing only in a single article.\n"
   ]
  },
  {
   "cell_type": "code",
   "execution_count": null,
   "metadata": {
    "collapsed": true
   },
   "outputs": [],
   "source": [
    "# scode: <WRITE YOUR CODE HERE>"
   ]
  },
  {
   "cell_type": "markdown",
   "metadata": {},
   "source": [
    "** Exercise** (*All in one*): Note that, for pedagogical reasons, we have used a different `for` loop for each text processing step creating a new `corpus_xxx` variable after each step. For very large corpus, this could cause memory problems. \n",
    "\n",
    "As a summary exercise, repeat the whole text processing, starting from corpus_text up to computing the bow, with the following modifications:\n",
    "\n",
    "1. Use a single `for` loop, avoiding the creation of any intermediate corpus variables.\n",
    "2. Use lemmatization instead of stemming.\n",
    "3. Remove all tokens appearing in only one document and less than 2 times.\n",
    "4. Save the result in a new variable `corpus_bow1`."
   ]
  },
  {
   "cell_type": "code",
   "execution_count": null,
   "metadata": {
    "collapsed": true
   },
   "outputs": [],
   "source": [
    "# scode: <WRITE YOUR CODE HERE>"
   ]
  },
  {
   "cell_type": "markdown",
   "metadata": {},
   "source": [
    "** Exercise** (*Visualizing categories*): Repeat the previous exercise with a second wikipedia category. For instance, you can take \"communication\". \n",
    "\n",
    "1. Save the result in variable `corpus_bow2`.\n",
    "2. Determine the most frequent terms in `corpus_bow1` (`term1`) and `corpus_bow2` (`term2`).\n",
    "3. Transform each article in `corpus_bow1` and `corpus_bow2` into a 2 dimensional vector, where the first component is the frecuency of `term1` and the second component is the frequency of `term2`\n",
    "4. Draw a dispersion plot of all 2 dimensional points, using a different marker for each corpus. Could you differentiate both corpora using the selected terms only? What if the 2nd most frequent term is used?\n",
    "    "
   ]
  },
  {
   "cell_type": "code",
   "execution_count": null,
   "metadata": {
    "collapsed": true
   },
   "outputs": [],
   "source": [
    "# scode: <WRITE YOUR CODE HERE>"
   ]
  },
  {
   "cell_type": "markdown",
   "metadata": {},
   "source": [
    "** Exercise ** (bigrams): `nltk` provides an utility to compute n-grams from a list of tokens, in `nltk.util.ngrams`. Join all tokens in `corpus_clean` in a single list and compute the bigrams. Plot the 20 most frequent bigrams in the corpus."
   ]
  },
  {
   "cell_type": "code",
   "execution_count": 69,
   "metadata": {
    "collapsed": true
   },
   "outputs": [],
   "source": [
    "# scode: <WRITE YOUR CODE HERE>\n",
    "# Check the code below to see how ngrams works, and adapt it to solve the exercise.\n",
    "# from nltk.util import ngrams\n",
    "# sentence = 'this is a foo bar sentences and i want to ngramize it'\n",
    "# sixgrams = ngrams(sentence.split(), 2)\n",
    "# for grams in sixgrams:\n",
    "#     print grams"
   ]
  },
  {
   "cell_type": "markdown",
   "metadata": {},
   "source": [
    "## 3. Semantic Analysis\n",
    "\n",
    "The dictionary `D` and the Bag of Words in `corpus_bow` are the key inputs to the topic model algorithms. "
   ]
  },
  {
   "cell_type": "code",
   "execution_count": 30,
   "metadata": {
    "collapsed": false
   },
   "outputs": [],
   "source": [
    "tfidf = gensim.models.TfidfModel(corpus_bow)"
   ]
  },
  {
   "cell_type": "markdown",
   "metadata": {},
   "source": [
    "From now on, tfidf can be used to convert any vector from the old representation (bow integer counts) to the new one (TfIdf real-valued weights):"
   ]
  },
  {
   "cell_type": "code",
   "execution_count": 31,
   "metadata": {
    "collapsed": false
   },
   "outputs": [
    {
     "data": {
      "text/plain": [
       "[(0, 0.9293714052743454), (1, 0.36914602944957786)]"
      ]
     },
     "execution_count": 31,
     "metadata": {},
     "output_type": "execute_result"
    }
   ],
   "source": [
    "doc_bow = [(0, 1), (1, 1)]\n",
    "tfidf[doc_bow]"
   ]
  },
  {
   "cell_type": "markdown",
   "metadata": {},
   "source": [
    "Or to apply a transformation to a whole corpus"
   ]
  },
  {
   "cell_type": "code",
   "execution_count": 32,
   "metadata": {
    "collapsed": false
   },
   "outputs": [],
   "source": [
    "corpus_tfidf = tfidf[corpus_bow]"
   ]
  },
  {
   "cell_type": "markdown",
   "metadata": {},
   "source": [
    "### 3.1. Latent Semantic Indexing (LSI)"
   ]
  },
  {
   "cell_type": "markdown",
   "metadata": {},
   "source": [
    "Now we are ready to apply a topic modeling algorithm. Latent Semantic Indexing is provided by `LsiModel`:"
   ]
  },
  {
   "cell_type": "code",
   "execution_count": 66,
   "metadata": {
    "collapsed": false
   },
   "outputs": [],
   "source": [
    "# Initialize an LSI transformation\n",
    "lsi = gensim.models.LsiModel(corpus_tfidf, id2word=D, num_topics=5) \n",
    "\n",
    "# On real corpora, target dimensionality of\n",
    "# 200–500 is recommended as a “golden standard”\n",
    "# Create a double wrapper over the original \n",
    "# corpus bow  tfidf  fold-in-lsi\n",
    "corpus_lsi = lsi[corpus_tfidf]"
   ]
  },
  {
   "cell_type": "markdown",
   "metadata": {},
   "source": [
    "Now we can check the topics generated by LSI"
   ]
  },
  {
   "cell_type": "code",
   "execution_count": 34,
   "metadata": {
    "collapsed": false
   },
   "outputs": [
    {
     "data": {
      "text/plain": [
       "[(0,\n",
       "  u'0.197*\"capit\" + 0.191*\"product\" + 0.155*\"price\" + 0.131*\"market\" + 0.129*\"marx\" + 0.126*\"valu\" + 0.111*\"economi\" + 0.107*\"jel\" + 0.103*\"labor\" + 0.098*\"rate\"'),\n",
       " (1,\n",
       "  u'0.807*\"jel\" + 0.473*\"cat\" + 0.141*\"common\" + 0.121*\"histori\" + 0.072*\"manag\" + 0.071*\"busi\" + 0.067*\"parent\" + 0.062*\"mathemat\" + 0.059*\"quantit\" + -0.048*\"capit\"'),\n",
       " (2,\n",
       "  u'0.338*\"capit\" + 0.314*\"marx\" + 0.268*\"product\" + 0.181*\"marxian\" + 0.144*\"labor\" + 0.142*\"capitalist\" + 0.141*\"labour\" + 0.137*\"valu\" + 0.136*\"surplus\" + -0.132*\"cite\"'),\n",
       " (3,\n",
       "  u'-0.446*\"math\" + -0.253*\"price\" + -0.196*\"rate\" + -0.167*\"inflat\" + -0.138*\"curv\" + 0.133*\"marx\" + -0.132*\"demand\" + -0.125*\"jel\" + -0.109*\"c\" + -0.107*\"labor\"'),\n",
       " (4,\n",
       "  u'-0.553*\"cat\" + 0.411*\"jel\" + -0.229*\"common\" + -0.175*\"system\" + -0.173*\"price\" + 0.143*\"parent\" + 0.134*\"geographi\" + 0.134*\"labor\" + -0.119*\"socialist\" + -0.114*\"societi\"')]"
      ]
     },
     "execution_count": 34,
     "metadata": {},
     "output_type": "execute_result"
    }
   ],
   "source": [
    "lsi.print_topics()"
   ]
  },
  {
   "cell_type": "markdown",
   "metadata": {},
   "source": [
    "### 3.2. Latent Dirichlet Allocation (LDA)"
   ]
  },
  {
   "cell_type": "markdown",
   "metadata": {},
   "source": [
    "#### 3.2.1. LDA using Gensim"
   ]
  },
  {
   "cell_type": "code",
   "execution_count": 35,
   "metadata": {
    "collapsed": false
   },
   "outputs": [],
   "source": [
    "ldag = gensim.models.ldamodel.LdaModel(\n",
    "    corpus=corpus_tfidf, id2word=D, num_topics=10, update_every=1, passes=10)"
   ]
  },
  {
   "cell_type": "code",
   "execution_count": 36,
   "metadata": {
    "collapsed": false
   },
   "outputs": [
    {
     "data": {
      "text/plain": [
       "[(0,\n",
       "  u'0.001*inform + 0.001*librari + 0.001*neoliber + 0.001*heterodox + 0.001*barzani + 0.001*subcategori + 0.000*recurs + 0.000*intellectu + 0.000*cat + 0.000*drama'),\n",
       " (1,\n",
       "  u'0.003*capit + 0.003*product + 0.002*price + 0.002*market + 0.002*valu + 0.002*rate + 0.002*economi + 0.002*incom + 0.002*cost + 0.002*labor'),\n",
       " (2,\n",
       "  u'0.001*redirect + 0.001*repurpos + 0.001*exter + 0.000*dump + 0.000*dialogu + 0.000*rosser + 0.000*alfr + 0.000*bernstein + 0.000*varianc + 0.000*weber'),\n",
       " (3,\n",
       "  u'0.001*spaceflight + 0.001*corridor + 0.001*toc + 0.001*stub + 0.001*lang + 0.000*foreclosur + 0.000*terminolog + 0.000*currenc + 0.000*inflat + 0.000*la'),\n",
       " (4,\n",
       "  u'0.001*comparison + 0.001*farmland + 0.001*hyperstagfl + 0.001*shubik + 0.001*timelin + 0.001*peac + 0.001*inflat + 0.001*uncertainti + 0.001*underemploy + 0.000*dtc'),\n",
       " (5,\n",
       "  u'0.001*apprais + 0.001*lindahl + 0.001*region + 0.000*ecolog + 0.000*myrdal + 0.000*cat + 0.000*rural + 0.000*ediz + 0.000*account + 0.000*ee'),\n",
       " (6,\n",
       "  u'0.001*parent + 0.001*cointegr + 0.001*reindustri + 0.001*smuggl + 0.001*jew + 0.001*geographi + 0.001*intang + 0.001*thatcher + 0.000*humanist + 0.000*jel'),\n",
       " (7,\n",
       "  u'0.002*public + 0.001*cite + 0.001*develop + 0.001*journal + 0.001*industri + 0.001*research + 0.001*manag + 0.001*intern + 0.001*main + 0.001*inform'),\n",
       " (8,\n",
       "  u'0.006*jel + 0.003*cat + 0.001*histori + 0.001*mathemat + 0.001*common + 0.001*game + 0.001*quantit + 0.001*citizenship + 0.001*grey + 0.001*contain'),\n",
       " (9,\n",
       "  u'0.001*right + 0.001*environ + 0.001*nantucket + 0.001*persecut + 0.001*diffus + 0.000*dilut + 0.000*collater + 0.000*ecri + 0.000*conflict + 0.000*cat')]"
      ]
     },
     "execution_count": 36,
     "metadata": {},
     "output_type": "execute_result"
    }
   ],
   "source": [
    "ldag.print_topics()"
   ]
  },
  {
   "cell_type": "markdown",
   "metadata": {},
   "source": [
    "#### 3.2.2. LDA using python lda library"
   ]
  },
  {
   "cell_type": "markdown",
   "metadata": {},
   "source": [
    "An alternative to gensim for LDA is the lda library from python. It requires a doc-frequency matrix as input"
   ]
  },
  {
   "cell_type": "code",
   "execution_count": 37,
   "metadata": {
    "collapsed": false
   },
   "outputs": [
    {
     "name": "stdout",
     "output_type": "stream",
     "text": [
      "(314, 14873)\n",
      "240868\n"
     ]
    }
   ],
   "source": [
    "# For testing LDA, you can use the reuters dataset\n",
    "# X = lda.datasets.load_reuters()\n",
    "# vocab = lda.datasets.load_reuters_vocab()\n",
    "# titles = lda.datasets.load_reuters_titles()\n",
    "X = np.int32(np.zeros((n_art, n_tokens)))\n",
    "for n, art in enumerate(corpus_bow):\n",
    "    for t in art:\n",
    "        X[n, t[0]] = t[1]\n",
    "print X.shape\n",
    "print X.sum()\n",
    "\n",
    "vocab = D.values()\n",
    "titles = corpus_titles\n"
   ]
  },
  {
   "cell_type": "code",
   "execution_count": 38,
   "metadata": {
    "collapsed": false,
    "scrolled": true
   },
   "outputs": [
    {
     "name": "stdout",
     "output_type": "stream",
     "text": [
      "Topic 0: biodivers birth 3000 verdict bazi boiler portug bureau\n",
      "Topic 1: biodivers b2 pass plato djd vii devot outlaw\n",
      "Topic 2: biodivers b2 dodger hudson s7 178 bust observatoir\n",
      "Topic 3: katzenstein webster bobbi receipt televis toolkit vanish wang\n"
     ]
    },
    {
     "ename": "UnicodeEncodeError",
     "evalue": "'ascii' codec can't encode character u'\\xe4' in position 63: ordinal not in range(128)",
     "output_type": "error",
     "traceback": [
      "\u001b[1;31m---------------------------------------------------------------------------\u001b[0m",
      "\u001b[1;31mUnicodeEncodeError\u001b[0m                        Traceback (most recent call last)",
      "\u001b[1;32m<ipython-input-38-f7b842c2d7c1>\u001b[0m in \u001b[0;36m<module>\u001b[1;34m()\u001b[0m\n\u001b[0;32m      9\u001b[0m \u001b[1;32mfor\u001b[0m \u001b[0mi\u001b[0m\u001b[1;33m,\u001b[0m \u001b[0mtopic_dist\u001b[0m \u001b[1;32min\u001b[0m \u001b[0menumerate\u001b[0m\u001b[1;33m(\u001b[0m\u001b[0mtopic_word\u001b[0m\u001b[1;33m)\u001b[0m\u001b[1;33m:\u001b[0m\u001b[1;33m\u001b[0m\u001b[0m\n\u001b[0;32m     10\u001b[0m     \u001b[0mtopic_words\u001b[0m \u001b[1;33m=\u001b[0m \u001b[0mnp\u001b[0m\u001b[1;33m.\u001b[0m\u001b[0marray\u001b[0m\u001b[1;33m(\u001b[0m\u001b[0mvocab\u001b[0m\u001b[1;33m)\u001b[0m\u001b[1;33m[\u001b[0m\u001b[0mnp\u001b[0m\u001b[1;33m.\u001b[0m\u001b[0margsort\u001b[0m\u001b[1;33m(\u001b[0m\u001b[0mtopic_dist\u001b[0m\u001b[1;33m)\u001b[0m\u001b[1;33m]\u001b[0m\u001b[1;33m[\u001b[0m\u001b[1;33m:\u001b[0m\u001b[1;33m-\u001b[0m\u001b[1;33m(\u001b[0m\u001b[0mn_top_words\u001b[0m\u001b[1;33m+\u001b[0m\u001b[1;36m1\u001b[0m\u001b[1;33m)\u001b[0m\u001b[1;33m:\u001b[0m\u001b[1;33m-\u001b[0m\u001b[1;36m1\u001b[0m\u001b[1;33m]\u001b[0m\u001b[1;33m\u001b[0m\u001b[0m\n\u001b[1;32m---> 11\u001b[1;33m     \u001b[1;32mprint\u001b[0m\u001b[1;33m(\u001b[0m\u001b[1;34m'Topic {}: {}'\u001b[0m\u001b[1;33m.\u001b[0m\u001b[0mformat\u001b[0m\u001b[1;33m(\u001b[0m\u001b[0mi\u001b[0m\u001b[1;33m,\u001b[0m \u001b[1;34m' '\u001b[0m\u001b[1;33m.\u001b[0m\u001b[0mjoin\u001b[0m\u001b[1;33m(\u001b[0m\u001b[0mtopic_words\u001b[0m\u001b[1;33m)\u001b[0m\u001b[1;33m)\u001b[0m\u001b[1;33m)\u001b[0m\u001b[1;33m\u001b[0m\u001b[0m\n\u001b[0m",
      "\u001b[1;31mUnicodeEncodeError\u001b[0m: 'ascii' codec can't encode character u'\\xe4' in position 63: ordinal not in range(128)"
     ]
    }
   ],
   "source": [
    "# Default parameters:\n",
    "# model = lda.LDA(n_topics, n_iter=2000, alpha=0.1, eta=0.01, random_state=None, refresh=10)\n",
    "model = lda.LDA(n_topics=10, n_iter=1500, random_state=1)\n",
    "model.fit(X)  # model.fit_transform(X) is also available\n",
    "topic_word = model.topic_word_  # model.components_ also works\n",
    "\n",
    "# Show topics...\n",
    "n_top_words = 8\n",
    "for i, topic_dist in enumerate(topic_word):\n",
    "    topic_words = np.array(vocab)[np.argsort(topic_dist)][:-(n_top_words+1):-1]\n",
    "    print('Topic {}: {}'.format(i, ' '.join(topic_words)))"
   ]
  },
  {
   "cell_type": "markdown",
   "metadata": {},
   "source": [
    "Document-topic distribution"
   ]
  },
  {
   "cell_type": "code",
   "execution_count": null,
   "metadata": {
    "collapsed": false
   },
   "outputs": [],
   "source": [
    "doc_topic = model.doc_topic_\n",
    "for i in range(10):\n",
    "    print(\"{} (top topic: {})\".format(titles[i], doc_topic[i].argmax()))"
   ]
  },
  {
   "cell_type": "code",
   "execution_count": null,
   "metadata": {
    "collapsed": false
   },
   "outputs": [],
   "source": [
    "# This is to apply the model to a new doc(s)\n",
    "# doc_topic_test = model.transform(X_test)\n",
    "# for title, topics in zip(titles_test, doc_topic_test):\n",
    "#    print(\"{} (top topic: {})\".format(title, topics.argmax()))"
   ]
  },
  {
   "cell_type": "markdown",
   "metadata": {},
   "source": [
    "It allows incremental updates"
   ]
  },
  {
   "cell_type": "markdown",
   "metadata": {},
   "source": [
    "#### 3.2.2. LDA using Sci-kit Learn"
   ]
  },
  {
   "cell_type": "markdown",
   "metadata": {},
   "source": [
    "`sklearn` contains a powerfull `CountVectorizer` method that can be used to construct the input matrix from the `corpus_bow`. It "
   ]
  },
  {
   "cell_type": "code",
   "execution_count": null,
   "metadata": {
    "collapsed": false
   },
   "outputs": [],
   "source": [
    "# Adapted from an example in sklearn site \n",
    "# http://scikit-learn.org/dev/auto_examples/applications/topics_extraction_with_nmf_lda.html\n",
    "\n",
    "# You can try also with the dataset provided by sklearn in \n",
    "# from sklearn.datasets import fetch_20newsgroups\n",
    "# dataset = fetch_20newsgroups(shuffle=True, random_state=1,\n",
    "#                              remove=('headers', 'footers', 'quotes'))\n",
    "\n",
    "from time import time\n",
    "from sklearn.feature_extraction.text import TfidfVectorizer, CountVectorizer\n",
    "from sklearn.decomposition import LatentDirichletAllocation\n",
    "\n",
    "n_samples = 2000\n",
    "n_features = 1000\n",
    "n_topics = 10\n",
    "n_top_words = 20\n",
    "\n",
    "def print_top_words(model, feature_names, n_top_words):\n",
    "    for topic_idx, topic in enumerate(model.components_):\n",
    "        print(\"Topic #%d:\" % topic_idx)\n",
    "        print(\" \".join([feature_names[i]\n",
    "                        for i in topic.argsort()[:-n_top_words - 1:-1]]))\n",
    "    print()\n",
    "\n",
    "# Load the 20 newsgroups dataset and vectorize it. We use a few heuristics\n",
    "# to filter out useless terms early on: the posts are stripped of headers,\n",
    "# footers and quoted replies, and common English words, words occurring in\n",
    "# only one document or in at least 95% of the documents are removed.\n",
    "print(\"Loading dataset...\")\n",
    "t0 = time()\n",
    "data_samples = [\" \".join(c) for c in corpus_clean]\n",
    "print(\"done in %0.3fs.\" % (time() - t0))\n",
    "\n"
   ]
  },
  {
   "cell_type": "code",
   "execution_count": null,
   "metadata": {
    "collapsed": false,
    "scrolled": true
   },
   "outputs": [],
   "source": [
    "# Use tf (raw term count) features for LDA.\n",
    "print(\"Extracting tf features for LDA...\")\n",
    "tf_vectorizer = CountVectorizer(max_df=0.95, min_df=2,\n",
    "                                max_features=n_features,\n",
    "                                stop_words='english')\n",
    "t0 = time()\n",
    "tf = tf_vectorizer.fit_transform(data_samples)\n",
    "print(\"done in %0.3fs.\" % (time() - t0))"
   ]
  },
  {
   "cell_type": "code",
   "execution_count": null,
   "metadata": {
    "collapsed": false
   },
   "outputs": [],
   "source": [
    "print(\"Fitting LDA models with tf features, \"\n",
    "      \"n_samples=%d and n_features=%d...\"\n",
    "      % (n_samples, n_features))\n",
    "lda = LatentDirichletAllocation(n_topics=n_topics, max_iter=5,\n",
    "                                learning_method='online',\n",
    "                                learning_offset=50.,\n",
    "                                random_state=0)\n",
    "t0 = time()\n",
    "lda.fit(tf)\n",
    "print(\"done in %0.3fs.\" % (time() - t0))\n",
    "\n",
    "print(\"\\nTopics in LDA model:\")\n",
    "tf_feature_names = tf_vectorizer.get_feature_names()\n",
    "print_top_words(lda, tf_feature_names, n_top_words)"
   ]
  },
  {
   "cell_type": "markdown",
   "metadata": {},
   "source": [
    "** Exercise**: The token dictionary and the token distribution have shown that:\n",
    "\n",
    "1. Some tokens, despite being very frequent in the corpus, have no semantic relevance for topic modeling. Unfortunately, they were not present in the stopword list, and have not been elliminated before the analysis.\n",
    "\n",
    "2. A large portion of tokens appear only once and, thus, they are not statistically relevant for the inference engine of the topic models.\n",
    "\n",
    "Revise the entire corpus be removing from the corpus all these sets of terms.\n"
   ]
  },
  {
   "cell_type": "markdown",
   "metadata": {},
   "source": [
    "** Exercise**: Note that we have not used the terms in the article titles, though the can be expected to containg relevant words for the topic modeling. Include the title words in the analyisis. In order to give them a special relevante, insert them in the corpus several time, so as to make their words more significant.\n",
    "\n",
    "\n"
   ]
  },
  {
   "cell_type": "markdown",
   "metadata": {},
   "source": [
    "** Exercise**: The topic modelling algorithms we have tested in this notebook are non-supervised. This makes them difficult to evaluate objectivelly. In order to test if LDA captures real topics, construct a dataset as the mixture of wikipedia articles from 4 different categories, and test if LDA with 4 topics identifies topics closely related to the original categories."
   ]
  }
 ],
 "metadata": {
  "kernelspec": {
   "display_name": "Python 2",
   "language": "python",
   "name": "python2"
  },
  "language_info": {
   "codemirror_mode": {
    "name": "ipython",
    "version": 2
   },
   "file_extension": ".py",
   "mimetype": "text/x-python",
   "name": "python",
   "nbconvert_exporter": "python",
   "pygments_lexer": "ipython2",
   "version": "2.7.6"
  }
 },
 "nbformat": 4,
 "nbformat_minor": 0
}
