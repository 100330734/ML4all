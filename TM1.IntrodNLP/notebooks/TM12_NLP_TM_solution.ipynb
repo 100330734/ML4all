{
 "cells": [
  {
   "cell_type": "markdown",
   "metadata": {
    "slideshow": {
     "slide_type": "slide"
    }
   },
   "source": [
    "# Text Analysis and Topic Modelling"
   ]
  },
  {
   "cell_type": "markdown",
   "metadata": {
    "slideshow": {
     "slide_type": "notes"
    }
   },
   "source": [
    "Author: Jesús Cid-Sueiro\n",
    "\n",
    "Date: 2016/04/03\n",
    "\n",
    "Last review: 2016/11/16"
   ]
  },
  {
   "cell_type": "code",
   "execution_count": 5,
   "metadata": {
    "collapsed": false
   },
   "outputs": [],
   "source": [
    "%matplotlib inline\n",
    "\n",
    "# Required imports\n",
    "from wikitools import wiki\n",
    "from wikitools import category\n",
    "\n",
    "import nltk\n",
    "from nltk.tokenize import word_tokenize\n",
    "from nltk.corpus import stopwords\n",
    "from nltk.stem import WordNetLemmatizer\n",
    "\n",
    "import numpy as np\n",
    "\n",
    "from time import time\n",
    "from sklearn.feature_extraction.text import TfidfVectorizer, CountVectorizer\n",
    "from sklearn.decomposition import LatentDirichletAllocation\n",
    "\n",
    "import matplotlib.pyplot as plt\n",
    "import pylab\n",
    "\n",
    "from test_helper import Test\n",
    "\n",
    "import gensim\n",
    "import lda\n",
    "import lda.datasets"
   ]
  },
  {
   "cell_type": "markdown",
   "metadata": {},
   "source": [
    "## 1. Corpus acquisition.\n",
    "In this notebook we will explore some tools for text analysis available from Python toolboxes.\n",
    "\n",
    "To do so, we will explore and analyze collections of Wikipedia articles from a given category, using `wikitools`, that makes the capture of content from wikimedia sites very easy.\n",
    "\n",
    "(*As a side note, there are many other available text collections to work with. In particular, the NLTK library has many examples, that you can explore using the `nltk.download()` tool*.\n",
    "\n",
    "    import nltk\n",
    "    nltk.download()\n",
    "\n",
    "*for instance, you can take the gutemberg dataset*\n",
    "\n",
    "    Mycorpus = nltk.corpus.gutenberg\n",
    "    text_name = Mycorpus.fileids()[0]\n",
    "    raw = Mycorpus.raw(text_name)\n",
    "    Words = Mycorpus.words(text_name)\n",
    "\n",
    "*Also, tools like Gensim or Sci-kit learn include text databases to work with*).\n",
    "\n",
    "In order to use Wikipedia data, we will select a single category of articles:"
   ]
  },
  {
   "cell_type": "code",
   "execution_count": 8,
   "metadata": {
    "collapsed": false
   },
   "outputs": [
    {
     "name": "stdout",
     "output_type": "stream",
     "text": [
      "Pseudoscience\n"
     ]
    }
   ],
   "source": [
    "site = wiki.Wiki(\"https://en.wikipedia.org/w/api.php\")\n",
    "# Select a category with a reasonable number of articles (>100)\n",
    "cat = \"Economics\"\n",
    "cat = \"Pseudoscience\"\n",
    "print cat"
   ]
  },
  {
   "cell_type": "markdown",
   "metadata": {},
   "source": [
    "You can try with any other categories, but take into account that some categories may contain very few articles. Select a category with at least 100 articles. You can browse the wikipedia category tree here, https://en.wikipedia.org/wiki/Category:Contents, for instance, and select the appropriate one.\n",
    "\n",
    "We start downloading the text collection."
   ]
  },
  {
   "cell_type": "code",
   "execution_count": 9,
   "metadata": {
    "collapsed": false
   },
   "outputs": [
    {
     "name": "stdout",
     "output_type": "stream",
     "text": [
      "Loading category data. This may take a while...\n",
      " Loading article 363 \n",
      "Loaded 363 articles from category Pseudoscience\n"
     ]
    }
   ],
   "source": [
    "# Loading category data. This may take a while\n",
    "print \"Loading category data. This may take a while...\"\n",
    "cat_data = category.Category(site, cat)\n",
    "\n",
    "corpus_titles = []\n",
    "corpus_text = []\n",
    "\n",
    "for n, page in enumerate(cat_data.getAllMembersGen()):\n",
    "    print \"\\r Loading article {0}\".format(n + 1),\n",
    "    corpus_titles.append(page.title)\n",
    "    corpus_text.append(page.getWikiText())\n",
    "\n",
    "n_art = len(corpus_titles)\n",
    "print \"\\nLoaded \" + str(n_art) + \" articles from category \" + cat"
   ]
  },
  {
   "cell_type": "markdown",
   "metadata": {},
   "source": [
    "Now, we have stored the whole text collection in two lists:\n",
    "\n",
    "* `corpus_titles`, which contains the titles of the selected articles\n",
    "* `corpus_text`, with the text content of the selected wikipedia articles\n",
    "\n",
    "You can browse the content of the wikipedia articles to get some intuition about the kind of documents that will be processed."
   ]
  },
  {
   "cell_type": "code",
   "execution_count": 10,
   "metadata": {
    "collapsed": false
   },
   "outputs": [
    {
     "name": "stdout",
     "output_type": "stream",
     "text": [
      "All About Radiation\n",
      "[[File:AllAboutRadiation.jpg|thumb|First edition]]\n",
      "'''''All About Radiation''''' is one of the [[L. Ron Hubbard bibliography|books]] by [[L. Ron Hubbard]] that form the canonical texts of [[Scientology]],<ref>{{cite book|last=Rothstein|first=Mikael|authorlink=Mikael Rothstein|title=The invention of sacred tradition|editor=James R. Lewis|editor2=Olav Hammer|publisher=Cambridge University Press|year=2007|pages=21|chapter=Scientology, scripture and sacred tradition|isbn=978-0-521-86479-4|oclc=154706390}}</ref> although it is no longer promoted by the Church of Scientology nor included in their \"Basics\" book canon. Its first printing was from HASI ([[Hubbard Association of Scientologists International]]) by way of the Speedwell Printing Company, [[Kent, England]], 1957. Later editions were published by the [[Church of Scientology]]'s in-house publisher [[Bridge Publications (Scientology)|Bridge Publications]]. It is controversial for its claims, amongst other things, that radiation poisoning and even cancer can be cured by courses of vitamins. There is no known cure for radiation poisoning and current medical practice is to provide [[palliative care]] until the symptoms subside or the patient dies.<ref>{{cite journal |vauthors =Berger ME, Christensen DM, Lowry PC, Jones OW, Wiley AL |title=Medical management of radiation injuries: current approaches |journal=Occup Med (Lond) |volume=56 |issue=3 |pages=162–72 |date=May 2006 |pmid=16641501 |doi=10.1093/occmed/kql011}}</ref>\n",
      "\n",
      "==Authorship==\n",
      "Early printings of the book were credited on the cover as simply \"By a nuclear physicist and a medical doctor\", while subsequent ones credited [[L. Ron Hubbard]] as being the nuclear physicist and \"Medicus\" as being the doctor.\n",
      "\n",
      "By the 1979 edition, the \"medical doctor\" was credited as being Richard Farley.\n",
      "\n",
      "In the book's most recent edition, the book's authorship is attributed to Hubbard and Dr. Gene Denk and Dr. Farley R. Spink.\n",
      "\n",
      "==Variant text==\n",
      "The book has gone through a number of printings since its initial run, and has undergone a few modifications over the years, mostly to remove controversial assertions made in the original lectures. As it is a fundamental Scientology tenet that Hubbard's works are considered immutable [[Scientology beliefs and practices|Standard Tech]], not to be altered in any way, except by Hubbard himself, these changes are considered evidence to [[Free Zone (Scientology)|Freezone]] practitioners that the current Church alters the text. It is to be noted that the first part of the book is not by Hubbard and that the second part was not written by Hubbard but edited from four of his lectures given in April 1957 in London. These lectures are available since March 2005 with a transcription which makes it possible to see how the book text was edited from the lectures. The book was not reissued in June 2007 as part of the [[Golden Age of Knowledge]] program. Among the text removed from the book in later editions:\n",
      "\n",
      "*\"Alleviation of the remote effects and increased tolerance to radiation have been claimed as a result.\" (pg.49)\n",
      "*\"How is it that gamma rays go through walls but don't go through bodies?....I can fortunately tell you what is happening when a body gets hurt by atomic radiation. It RESISTS the rays! The wall doesn't resist the rays and [[Gamma ray#Health effects|the body does]].\" (pg.79)\n",
      "*\"Scientology is the principle {{sic}} agency that is preventing and treating people for radiation at this time.\" (pg.110)\n",
      "*\"[[Dianazene]] runs out radiation – or what appears to be radiation.  It also proofs a person against radiation to some degree.  It also turns on and runs out incipient cancer.  I have seen it run out skin cancer.  A man who didn't have much liability to skin cancer (only had a few moles) took Dianazene.  His whole jaw turned into a raw mass of cancer.  He kept on taking Dianazene and it disappeared after a while.  I was looking at a case of cancer that might have happened.\" (pg. 123–124)\n",
      "\n",
      "[[Image:Allaboutradiation2.jpg|thumb|200px|''All About Radiation'' by L. Ron Hubbard, Gene Denk, and Farley R. Spink.]]\n",
      "\n",
      "==Hubbard's qualifications==\n",
      "\n",
      "Despite calling himself a nuclear physicist (some editions of the book even call him \"one of America's first nuclear physicists\" on the dustjacket), Hubbard was not a qualified physicist. His degree was from the unaccredited [[Sequoia University]], a [[diploma mill]]. The one course in nuclear physics Hubbard took was in 1931 at [[The George Washington University|George Washington University]], whose records indicate that he scored an F in the course.<ref>{{cite journal | title = Official Transcript of the Record of Lafayette Ronald Hubbard | publisher = George Washington University | date = April 24, 1941 | url = http://www.lermanet.com/L_Ron_Hubbard/mr142.htm | accessdate = 2006-07-30 }}</ref> Hubbard dropped out of school shortly thereafter, with a 2.28 grade point average.<ref name=shannon>Shannon, Michael Lynn; ''[http://www.lermanet.com/shannon/ A Biography of L. Ron Hubbard]''.</ref>\n",
      "\n",
      "Hubbard referred to himself as a nuclear physicist on many occasions in the 1950s, such as in the tape-recorded 1956 lecture ''A Postulate Out of a Golden Age'', where he not only claimed to be a nuclear physicist, but that he was offered (and turned down) a U.S. Government post as one. This comment has been edited out of the CD version of the lecture currently offered by the L. Ron Hubbard Classic Lectures series.\n",
      "\n",
      "In February 1966, Hubbard defended his mail-order degree: \"I was a Ph.D., Sequoia's [sic] University and therefore a perfectly valid doctor under the laws of the State of California\".  But only a month later, he announced: \"having reviewed the damage being done in our society with nuclear physics and psychiatry by persons calling themselves \"Doctor\" [I] do hereby resign in protest my university degree as a Doctor of philosophy (Ph. D.)\" <ref>[http://www.cs.cmu.edu/~dst/Cowen/essays/radiation.html Hysterical Radiation and Bogus Science]</ref>\n",
      "\n",
      "==The Anderson Report==\n",
      "The final results of the [[Anderson Report]] in 1965 declared:\n",
      "<blockquote>\n",
      "\"The Board heard evidence from a highly qualified radiologist who has made a special study of radiation and its effects. He said that Hubbard's knowledge of radiation, as displayed by his writings in ''All About Radiation'', was the 'sort of knowledge that perhaps a boy who has read Intermediate Physics might, with a lot of misapprehensions and lack of understanding, demonstrate'.... From this witness's evidence it is apparent that Hubbard is completely incompetent to deal with the subject of radiation and that his knowledge of nuclear physics is distorted, inaccurate, mistaken and negligible. No evidence was called which disputed in any way these conclusions.\"  <ref name=anderson>''[http://www.cs.cmu.edu/~dst/Cowen/audit/ar07.html  Report of the Board of Enquiry into Scientology]'', by Kevin Victor Anderson, Q.C., Published 1965 by the State of Victoria, Australia.</ref>\n",
      " </blockquote>\n",
      "\n",
      "==See also==\n",
      "* [[Purification Rundown]]\n",
      "* [[Clear Body, Clear Mind]]\n",
      "* [[Scientology bibliography]]\n",
      "\n",
      "== References ==\n",
      "{{Reflist|2}}\n",
      "\n",
      "==External links==\n",
      "* [http://www.lronhubbard.org/p_jpg/book/html/SL8M.HTM Lronhubbard.org: All About Radiation ]\n",
      "* [http://www.carolineletkeman.org/refund/docs/aar-claims.html Caroline Letkeman on the book]\n",
      "* [http://www.chernobyl.info/index.php?userhash=&navID=167&lID=2&projectID=91 www.chernobyl.info] Tschernobyl – Information Detoxification Program. \n",
      "* [http://www.lermanet.com/shannon/48.htm Early advertisement for the book]\n",
      "\n",
      "{{Scientology}}\n",
      "{{italic title}}\n",
      "\n",
      "[[Category:Books published by the Church of Scientology]]\n",
      "[[Category:1957 books]]\n",
      "[[Category:Non-fiction works by L. Ron Hubbard]]\n",
      "[[Category:Pseudoscience]]\n",
      "[[Category:Books about science]]\n"
     ]
    }
   ],
   "source": [
    "n = 5\n",
    "print corpus_titles[n]\n",
    "print corpus_text[n]"
   ]
  },
  {
   "cell_type": "markdown",
   "metadata": {},
   "source": [
    "## 2. Corpus Processing\n",
    "\n",
    "Topic modelling algorithms process vectorized data. In order to apply them, we need to transform the raw text input data into a vector representation. To do so, we will remove irrelevant information from the text data and preserve as much relevant information as possible to capture the semantic content in the document collection.\n",
    "\n",
    "Thus, we will proceed with the following steps:\n",
    "\n",
    "1. Tokenization\n",
    "2. Homogeneization\n",
    "3. Cleaning\n",
    "4. Vectorization"
   ]
  },
  {
   "cell_type": "markdown",
   "metadata": {},
   "source": [
    "### 2.1. Tokenization\n",
    "\n",
    "For the first steps, we will use some of the powerfull methods available from the [Natural Language Toolkit](http://www.nltk.org). In order to use the `word_tokenize` method from nltk, you might need to get the appropriate libraries using `nltk.download()`. You must select option \"d) Download\", and identifier \"punkt\""
   ]
  },
  {
   "cell_type": "code",
   "execution_count": 11,
   "metadata": {
    "collapsed": false
   },
   "outputs": [],
   "source": [
    "# You can comment this if the package is already available.\n",
    "# Select option \"d) Download\", and identifier \"punkt\"\n",
    "# nltk.download()"
   ]
  },
  {
   "cell_type": "markdown",
   "metadata": {},
   "source": [
    "**Task**: Insert the appropriate call to `word_tokenize` in the code below, in order to get the tokens list corresponding to each Wikipedia article:"
   ]
  },
  {
   "cell_type": "code",
   "execution_count": 12,
   "metadata": {
    "collapsed": false
   },
   "outputs": [
    {
     "name": "stdout",
     "output_type": "stream",
     "text": [
      "Tokenizing article 363 out of 363 \n",
      " The corpus has been tokenized. Let's check some portion of the first article:\n",
      "[u'{', u'{', u'see', u'also|List', u'of', u'topics', u'characterized', u'as', u'pseudoscience', u'}', u'}', u'{', u'{', u'broader|Pseudo-scholarship', u'}', u'}', u'{', u'{', u'Science|phil/hist', u'}', u'}', u\"'\", u\"''\", u'Pseudoscience', u\"''\", u\"'\", u'is', u'a', u'term', u'used']\n"
     ]
    }
   ],
   "source": [
    "corpus_tokens = []\n",
    "\n",
    "for n, art in enumerate(corpus_text): \n",
    "    print \"\\rTokenizing article {0} out of {1}\".format(n + 1, n_art),\n",
    "    # This is to make sure that all characters have the appropriate encoding.\n",
    "    art = art.decode('utf-8')  \n",
    "    \n",
    "    # Tokenize each text entry. \n",
    "    # scode: tokens = <FILL IN>\n",
    "    tokens = word_tokenize(art)\n",
    "    \n",
    "    # Add the new token list as a new element to corpus_tokens (that will be a list of lists)\n",
    "    # scode: <FILL IN>\n",
    "    corpus_tokens.append(tokens)\n",
    "\n",
    "print \"\\n The corpus has been tokenized. Let's check some portion of the first article:\"\n",
    "print corpus_tokens[0][0:30]"
   ]
  },
  {
   "cell_type": "code",
   "execution_count": 13,
   "metadata": {
    "collapsed": false
   },
   "outputs": [
    {
     "name": "stdout",
     "output_type": "stream",
     "text": [
      "1 test passed.\n",
      "1 test passed.\n"
     ]
    }
   ],
   "source": [
    "Test.assertEquals(len(corpus_tokens), n_art, \"The number of articles has changed unexpectedly\")\n",
    "Test.assertTrue(len(corpus_tokens) >= 100, \n",
    "                \"Your corpus_tokens has less than 100 articles. Consider using a larger dataset\")"
   ]
  },
  {
   "cell_type": "markdown",
   "metadata": {},
   "source": [
    "### 2.2. Homogeneization\n",
    "\n",
    "By looking at the tokenized corpus you may verify that there are many tokens that correspond to punktuation signs and other symbols that are not relevant to analyze the semantic content. They can be removed using the stemming tool from `nltk`.\n",
    "\n",
    "The homogeneization process will consist of:\n",
    "\n",
    "1. Removing capitalization: capital alphabetic characters will be transformed to their corresponding lowercase characters.\n",
    "2. Removing non alphanumeric tokens (e.g. punktuation signs)\n",
    "3. Stemming/Lemmatization: removing word terminations to preserve the root of the words and ignore grammatical information."
   ]
  },
  {
   "cell_type": "markdown",
   "metadata": {},
   "source": [
    "#### 2.2.1. Filtering\n",
    "\n",
    "Let us proceed with the filtering steps 1 and 2 (removing capitalization and non-alphanumeric tokens)."
   ]
  },
  {
   "cell_type": "markdown",
   "metadata": {},
   "source": [
    "**Task**: Convert all tokens in `corpus_tokens` to lowercase (using `.lower()` method) and remove non alphanumeric tokens (that you can detect with `.isalnum()` method). You can do it in a single line of code..."
   ]
  },
  {
   "cell_type": "code",
   "execution_count": 14,
   "metadata": {
    "collapsed": false
   },
   "outputs": [
    {
     "name": "stdout",
     "output_type": "stream",
     "text": [
      "Filtering article 363 out of 363 \n",
      "Let's check the first tokens from document 0 after stemming:\n",
      "[u'see', u'of', u'topics', u'characterized', u'as', u'pseudoscience', u'pseudoscience', u'is', u'a', u'term', u'used', u'to', u'describe', u'a', u'claim', u'belief', u'or', u'practice', u'presented', u'as', u'but', u'which', u'does', u'not', u'adhere', u'to', u'the', u'scientific', u'method', u'tag']\n"
     ]
    }
   ],
   "source": [
    "# Select stemmer.\n",
    "stemmer = nltk.stem.SnowballStemmer('english')\n",
    "corpus_filtered = []\n",
    "\n",
    "for n, token_list in enumerate(corpus_tokens):\n",
    "    print \"\\rFiltering article {0} out of {1}\".format(n + 1, n_art),\n",
    "    \n",
    "    # Convert all tokens in token_list to lowercase, remove non alfanumeric tokens and stem.\n",
    "    # Store the result in a new token list, clean_tokens.\n",
    "    # scode: filtered_tokens = <FILL IN>\n",
    "    filtered_tokens = [token.lower() for token in token_list if token.isalnum()]\n",
    "    \n",
    "    # Add art to corpus_filtered\n",
    "    # scode: <FILL IN>\n",
    "    corpus_filtered.append(filtered_tokens)\n",
    "\n",
    "print \"\\nLet's check the first tokens from document 0 after stemming:\"\n",
    "print corpus_filtered[0][0:30]"
   ]
  },
  {
   "cell_type": "code",
   "execution_count": 15,
   "metadata": {
    "collapsed": false,
    "scrolled": false
   },
   "outputs": [
    {
     "name": "stdout",
     "output_type": "stream",
     "text": [
      "1 test passed.\n",
      "1 test passed.\n"
     ]
    }
   ],
   "source": [
    "Test.assertTrue(all([c==c.lower() for c in corpus_filtered[23]]), 'Capital letters have not been removed')\n",
    "Test.assertTrue(all([c.isalnum() for c in corpus_filtered[13]]), 'Non alphanumeric characters have not been removed')"
   ]
  },
  {
   "cell_type": "markdown",
   "metadata": {},
   "source": [
    "#### 2.2.2. Stemming vs Lemmatization\n",
    "\n",
    "At this point, we can choose between applying a simple stemming or ussing lemmatization. We will try both to test their differences."
   ]
  },
  {
   "cell_type": "markdown",
   "metadata": {},
   "source": [
    "**Task**: Apply the `.stem()` method, from the stemmer object created in the first line, to `corpus_filtered`."
   ]
  },
  {
   "cell_type": "code",
   "execution_count": 16,
   "metadata": {
    "collapsed": false
   },
   "outputs": [
    {
     "name": "stdout",
     "output_type": "stream",
     "text": [
      "Stemming article 363 out of 363 \n",
      "Let's check the first tokens from document 0 after stemming:\n",
      "[u'see', u'of', u'topic', u'character', u'as', u'pseudosci', u'pseudosci', u'is', u'a', u'term', u'use', u'to', u'describ', u'a', u'claim', u'belief', u'or', u'practic', u'present', u'as', u'but', u'which', u'doe', u'not', u'adher', u'to', u'the', u'scientif', u'method', u'tag']\n"
     ]
    }
   ],
   "source": [
    "# Select stemmer.\n",
    "stemmer = nltk.stem.SnowballStemmer('english')\n",
    "corpus_stemmed = []\n",
    "\n",
    "for n, token_list in enumerate(corpus_filtered):\n",
    "    print \"\\rStemming article {0} out of {1}\".format(n + 1, n_art),\n",
    "    \n",
    "    # Convert all tokens in token_list to lowercase, remove non alfanumeric tokens and stem.\n",
    "    # Store the result in a new token list, clean_tokens.\n",
    "    # scode: stemmed_tokens = <FILL IN>\n",
    "    stemmed_tokens = [stemmer.stem(token) for token in token_list]\n",
    "    \n",
    "    # Add art to the stemmed corpus\n",
    "    # scode: <FILL IN>\n",
    "    corpus_stemmed.append(stemmed_tokens)\n",
    "\n",
    "print \"\\nLet's check the first tokens from document 0 after stemming:\"\n",
    "print corpus_stemmed[0][0:30]"
   ]
  },
  {
   "cell_type": "code",
   "execution_count": 17,
   "metadata": {
    "collapsed": false,
    "scrolled": true
   },
   "outputs": [
    {
     "name": "stdout",
     "output_type": "stream",
     "text": [
      "1 test passed.\n"
     ]
    }
   ],
   "source": [
    "Test.assertTrue((len([c for c in corpus_stemmed[0] if c!=stemmer.stem(c)]) < 0.1*len(corpus_stemmed[0])), \n",
    "                'It seems that stemming has not been applied properly')"
   ]
  },
  {
   "cell_type": "markdown",
   "metadata": {},
   "source": [
    "Alternatively, we can apply lemmatization. For english texts, we can use the lemmatizer from NLTK, which is based on [WordNet](http://wordnet.princeton.edu). If you have not used wordnet before, you will likely need to download it from nltk"
   ]
  },
  {
   "cell_type": "code",
   "execution_count": 22,
   "metadata": {
    "collapsed": false
   },
   "outputs": [
    {
     "name": "stdout",
     "output_type": "stream",
     "text": [
      "showing info https://raw.githubusercontent.com/nltk/nltk_data/gh-pages/index.xml\n"
     ]
    },
    {
     "data": {
      "text/plain": [
       "True"
      ]
     },
     "execution_count": 22,
     "metadata": {},
     "output_type": "execute_result"
    },
    {
     "name": "stdout",
     "output_type": "stream",
     "text": [
      "\n"
     ]
    }
   ],
   "source": [
    "# You can comment this if the package is already available.\n",
    "# Select option \"d) Download\", and identifier \"wordnet\"\n",
    "nltk.download()"
   ]
  },
  {
   "cell_type": "markdown",
   "metadata": {},
   "source": [
    "**Task**: Apply the `.lemmatize()` method, from the WordNetLemmatizer object created in the first line, to `corpus_filtered`."
   ]
  },
  {
   "cell_type": "code",
   "execution_count": 23,
   "metadata": {
    "collapsed": false,
    "scrolled": true
   },
   "outputs": [
    {
     "name": "stdout",
     "output_type": "stream",
     "text": [
      "Lemmatizing article 363 out of 363 \n",
      "Let's check the first tokens from document 0 after stemming:\n",
      "[u'see', u'of', u'topic', u'characterized', u'a', u'pseudoscience', u'pseudoscience', u'is', u'a', u'term', u'used', u'to', u'describe', u'a', u'claim', u'belief', u'or', u'practice', u'presented', u'a', u'but', u'which', u'doe', u'not', u'adhere', u'to', u'the', u'scientific', u'method', u'tag']\n"
     ]
    }
   ],
   "source": [
    "wnl = WordNetLemmatizer()\n",
    "\n",
    "# Select stemmer.\n",
    "corpus_lemmat = []\n",
    "\n",
    "for n, token_list in enumerate(corpus_filtered):\n",
    "    print \"\\rLemmatizing article {0} out of {1}\".format(n + 1, n_art),\n",
    "    \n",
    "    # scode: lemmat_tokens = <FILL IN>\n",
    "    lemmat_tokens = [wnl.lemmatize(token) for token in token_list]\n",
    "\n",
    "    # Add art to the stemmed corpus\n",
    "    # scode: <FILL IN>\n",
    "    corpus_lemmat.append(lemmat_tokens)\n",
    "\n",
    "print \"\\nLet's check the first tokens from document 0 after stemming:\"\n",
    "print corpus_lemmat[0][0:30]"
   ]
  },
  {
   "cell_type": "markdown",
   "metadata": {},
   "source": [
    "One of the advantages of the lemmatizer method is that the result of lemmmatization is still a true word, which is more advisable for the presentation of text processing results and lemmatization.\n",
    "\n",
    "However, without using contextual information, lemmatize() does not remove grammatical differences. This is the reason why \"is\" or \"are\" are preserved and not replaced by infinitive \"be\".\n",
    "\n",
    "As an alternative, we can apply .lemmatize(word, pos), where 'pos' is a string code specifying the part-of-speech (pos), i.e. the grammatical role of the words in its sentence. For instance, you can check the difference between `wnl.lemmatize('is')` and `wnl.lemmatize('is, pos='v')`."
   ]
  },
  {
   "cell_type": "markdown",
   "metadata": {},
   "source": [
    "### 2.3. Cleaning\n",
    "\n",
    "The third step consists of removing those words that are very common in language and do not carry out usefull semantic content (articles, pronouns, etc).\n",
    "\n",
    "Once again, we might need to load the stopword files using the download tools from `nltk`"
   ]
  },
  {
   "cell_type": "code",
   "execution_count": 24,
   "metadata": {
    "collapsed": false
   },
   "outputs": [],
   "source": [
    "# You can comment this if the package is already available.\n",
    "# Select option \"d) Download\", and identifier \"stopwords\"\n",
    "# nltk.download()"
   ]
  },
  {
   "cell_type": "markdown",
   "metadata": {},
   "source": [
    "** Task**: In the second line below we read a list of common english stopwords. Clean `corpus_stemmed` by removing all tokens in the stopword list."
   ]
  },
  {
   "cell_type": "code",
   "execution_count": 25,
   "metadata": {
    "collapsed": false
   },
   "outputs": [
    {
     "name": "stdout",
     "output_type": "stream",
     "text": [
      "Removing stopwords from article 363 out of 363 \n",
      " Let's check tokens after cleaning:\n",
      "[u'see', u'topic', u'character', u'pseudosci', u'pseudosci', u'term', u'use', u'describ', u'claim', u'belief', u'practic', u'present', u'doe', u'adher', u'scientif', u'method', u'tag', u'pretend', u'spurious', u'scienc', u'collect', u'relat', u'belief', u'world', u'mistaken', u'regard', u'base', u'scientif', u'method', u'status']\n"
     ]
    }
   ],
   "source": [
    "corpus_clean = []\n",
    "stopwords_en = stopwords.words('english')\n",
    "n = 0\n",
    "for token_list in corpus_stemmed:\n",
    "    n += 1\n",
    "    print \"\\rRemoving stopwords from article {0} out of {1}\".format(n, n_art),\n",
    "\n",
    "    # Remove all tokens in the stopwords list and append the result to corpus_clean\n",
    "    # scode: clean_tokens = <FILL IN>\n",
    "    clean_tokens = [token for token in token_list if token not in stopwords_en]    \n",
    "\n",
    "    # scode: <FILL IN>\n",
    "    corpus_clean.append(clean_tokens)\n",
    "    \n",
    "print \"\\n Let's check tokens after cleaning:\"\n",
    "print corpus_clean[0][0:30]"
   ]
  },
  {
   "cell_type": "code",
   "execution_count": 26,
   "metadata": {
    "collapsed": false
   },
   "outputs": [
    {
     "name": "stdout",
     "output_type": "stream",
     "text": [
      "1 test passed.\n",
      "1 test passed.\n"
     ]
    }
   ],
   "source": [
    "Test.assertTrue(len(corpus_clean) == n_art, 'List corpus_clean does not contain the expected number of articles')\n",
    "Test.assertTrue(len([c for c in corpus_clean[0] if c in stopwords_en])==0, 'Stopwords have not been removed')"
   ]
  },
  {
   "cell_type": "markdown",
   "metadata": {},
   "source": [
    "### 2.4. Vectorization\n",
    "\n",
    "Up to this point, we have transformed the raw text collection of articles in a list of articles, where each article is a collection of the word roots that are most relevant for semantic analysis. Now, we need to convert these data (a list of token lists) into a numerical representation (a list of vectors, or a matrix). To do so, we will start using the tools provided by the `gensim` library. \n",
    "\n",
    "As a first step, we create a dictionary containing all tokens in our text corpus, and assigning an integer identifier to each one of them."
   ]
  },
  {
   "cell_type": "code",
   "execution_count": 27,
   "metadata": {
    "collapsed": false
   },
   "outputs": [
    {
     "name": "stdout",
     "output_type": "stream",
     "text": [
      "The dictionary contains 32867 tokens\n",
      "First tokens in the dictionary: \n",
      "0: demand\n",
      "1: four\n",
      "2: edward\n",
      "3: testabl\n",
      "4: 20good\n",
      "5: everi\n",
      "6: risk\n",
      "7: voic\n",
      "8: distort\n",
      "9: quantif\n"
     ]
    }
   ],
   "source": [
    "# Create dictionary of tokens\n",
    "D = gensim.corpora.Dictionary(corpus_clean)\n",
    "n_tokens = len(D)\n",
    "\n",
    "print \"The dictionary contains {0} tokens\".format(n_tokens)\n",
    "print \"First tokens in the dictionary: \"\n",
    "for n in range(10):\n",
    "    print str(n) + \": \" + D[n]"
   ]
  },
  {
   "cell_type": "markdown",
   "metadata": {},
   "source": [
    "In the second step, let us create a numerical version of our corpus using the `doc2bow` method. In general, `D.doc2bow(token_list)` transform any list of tokens into a list of tuples `(token_id, n)`, one per each token in `token_list`, where `token_id` is the token identifier (according to dictionary `D`) and `n` is the number of occurrences of such token in `token_list`. "
   ]
  },
  {
   "cell_type": "markdown",
   "metadata": {},
   "source": [
    "** Task**: Apply the `doc2bow` method from gensim dictionary `D`, to all tokens in every article in `corpus_clean`. The result must be a new list named `corpus_bow` where each element is a list of tuples `(token_id, number_of_occurrences)`."
   ]
  },
  {
   "cell_type": "code",
   "execution_count": 29,
   "metadata": {
    "collapsed": false
   },
   "outputs": [],
   "source": [
    "# Transform token lists into sparse vectors on the D-space\n",
    "# scode: corpus_bow = <FILL IN>\n",
    "corpus_bow = [D.doc2bow(doc) for doc in corpus_clean]"
   ]
  },
  {
   "cell_type": "code",
   "execution_count": 30,
   "metadata": {
    "collapsed": false
   },
   "outputs": [
    {
     "name": "stdout",
     "output_type": "stream",
     "text": [
      "1 test passed.\n"
     ]
    }
   ],
   "source": [
    "Test.assertTrue(len(corpus_bow)==n_art, 'corpus_bow has not the appropriate size') "
   ]
  },
  {
   "cell_type": "markdown",
   "metadata": {},
   "source": [
    "At this point, it is good to make sure to understand what has happened. In `corpus_clean` we had a list of token lists. With it, we have constructed a Dictionary, `D`, which assign an integer identifier to each token in the corpus.\n",
    "After that, we have transformed each article (in `corpus_clean`) in a list tuples `(id, n)`. "
   ]
  },
  {
   "cell_type": "code",
   "execution_count": 31,
   "metadata": {
    "collapsed": false
   },
   "outputs": [
    {
     "name": "stdout",
     "output_type": "stream",
     "text": [
      "Original article (after cleaning): \n",
      "[u'see', u'topic', u'character', u'pseudosci', u'pseudosci', u'term', u'use', u'describ', u'claim', u'belief', u'practic', u'present', u'doe', u'adher', u'scientif', u'method', u'tag', u'pretend', u'spurious', u'scienc', u'collect', u'relat', u'belief', u'world', u'mistaken', u'regard', u'base', u'scientif', u'method', u'status']\n",
      "Sparse vector representation (first 30 components):\n",
      "[(0, 1), (1, 1), (2, 1), (3, 2), (4, 1), (5, 1), (6, 1), (7, 1), (8, 3), (9, 1), (10, 1), (11, 1), (12, 1), (13, 1), (14, 4), (15, 1), (16, 155), (17, 1), (18, 1), (19, 2), (20, 1), (21, 1), (22, 1), (23, 2), (24, 5), (25, 21), (26, 5), (27, 1), (28, 1), (29, 1)]\n",
      "The first component, (0, 1) from document 0, states that token 0 (demand) appears 1 times\n"
     ]
    }
   ],
   "source": [
    "print \"Original article (after cleaning): \"\n",
    "print corpus_clean[0][0:30]\n",
    "print \"Sparse vector representation (first 30 components):\"\n",
    "print corpus_bow[0][0:30]\n",
    "print \"The first component, {0} from document 0, states that token 0 ({1}) appears {2} times\".format(\n",
    "    corpus_bow[0][0], D[0], corpus_bow[0][0][1])"
   ]
  },
  {
   "cell_type": "markdown",
   "metadata": {},
   "source": [
    "Note that we can interpret each element of corpus_bow as a `sparse_vector`. For example, a list of tuples \n",
    "\n",
    "    [(0, 1), (3, 3), (5,2)] \n",
    "\n",
    "for a dictionary of 10 elements can be represented as a vector, where any tuple `(id, n)` states that position `id` must take value `n`. The rest of positions must be zero.\n",
    "\n",
    "    [1, 0, 0, 3, 0, 2, 0, 0, 0, 0]\n",
    "\n",
    "These sparse vectors will be the inputs to the topic modeling algorithms.\n",
    "\n",
    "Note that, at this point, we have built a Dictionary containing"
   ]
  },
  {
   "cell_type": "code",
   "execution_count": 32,
   "metadata": {
    "collapsed": false
   },
   "outputs": [
    {
     "name": "stdout",
     "output_type": "stream",
     "text": [
      "32867 tokens\n"
     ]
    }
   ],
   "source": [
    "print \"{0} tokens\".format(len(D))"
   ]
  },
  {
   "cell_type": "markdown",
   "metadata": {},
   "source": [
    "and a bow representation of a corpus with"
   ]
  },
  {
   "cell_type": "code",
   "execution_count": 33,
   "metadata": {
    "collapsed": false
   },
   "outputs": [
    {
     "name": "stdout",
     "output_type": "stream",
     "text": [
      "363 Wikipedia articles\n"
     ]
    }
   ],
   "source": [
    "print \"{0} Wikipedia articles\".format(len(corpus_bow))"
   ]
  },
  {
   "cell_type": "markdown",
   "metadata": {},
   "source": [
    "Before starting with the semantic analyisis, it is interesting to observe the token distribution for the given corpus."
   ]
  },
  {
   "cell_type": "code",
   "execution_count": 34,
   "metadata": {
    "collapsed": false
   },
   "outputs": [],
   "source": [
    "# SORTED TOKEN FREQUENCIES (I):\n",
    "# Create a \"flat\" corpus with all tuples in a single list\n",
    "corpus_bow_flat = [item for sublist in corpus_bow for item in sublist]\n",
    "\n",
    "# Initialize a numpy array that we will use to count tokens.\n",
    "# token_count[n] should store the number of ocurrences of the n-th token, D[n]\n",
    "token_count = np.zeros(n_tokens)\n",
    "\n",
    "# Count the number of occurrences of each token.\n",
    "for x in corpus_bow_flat:\n",
    "    # Update the proper element in token_count\n",
    "    # scode: <FILL IN>\n",
    "    token_count[x[0]] += x[1]\n",
    "\n",
    "# Sort by decreasing number of occurences\n",
    "ids_sorted = np.argsort(- token_count)\n",
    "tf_sorted = token_count[ids_sorted]"
   ]
  },
  {
   "cell_type": "markdown",
   "metadata": {},
   "source": [
    "`ids_sorted` is a list of all token ids, sorted by decreasing number of occurrences in the whole corpus. For instance, the most frequent term is "
   ]
  },
  {
   "cell_type": "code",
   "execution_count": 35,
   "metadata": {
    "collapsed": false
   },
   "outputs": [
    {
     "name": "stdout",
     "output_type": "stream",
     "text": [
      "ref\n"
     ]
    }
   ],
   "source": [
    "print D[ids_sorted[0]]"
   ]
  },
  {
   "cell_type": "markdown",
   "metadata": {},
   "source": [
    "which appears"
   ]
  },
  {
   "cell_type": "code",
   "execution_count": 36,
   "metadata": {
    "collapsed": false
   },
   "outputs": [
    {
     "name": "stdout",
     "output_type": "stream",
     "text": [
      "16390.0 times in the whole corpus\n"
     ]
    }
   ],
   "source": [
    "print \"{0} times in the whole corpus\".format(tf_sorted[0])"
   ]
  },
  {
   "cell_type": "markdown",
   "metadata": {},
   "source": [
    "In the following we plot the most frequent terms in the corpus."
   ]
  },
  {
   "cell_type": "code",
   "execution_count": 37,
   "metadata": {
    "collapsed": false
   },
   "outputs": [
    {
     "data": {
      "image/png": "[encoded data removed]",
      "text/plain": [
       "<matplotlib.figure.Figure at 0x12a00ca90>"
      ]
     },
     "metadata": {},
     "output_type": "display_data"
    }
   ],
   "source": [
    "# SORTED TOKEN FREQUENCIES (II):\n",
    "plt.rcdefaults()\n",
    "\n",
    "# Example data\n",
    "n_bins = 25\n",
    "hot_tokens = [D[i] for i in ids_sorted[n_bins-1::-1]]\n",
    "y_pos = np.arange(len(hot_tokens))\n",
    "z = tf_sorted[n_bins-1::-1]/n_art\n",
    "\n",
    "plt.barh(y_pos, z, align='center', alpha=0.4)\n",
    "plt.yticks(y_pos, hot_tokens)\n",
    "plt.xlabel('Average number of occurrences per article')\n",
    "plt.title('Token distribution')\n",
    "plt.show()"
   ]
  },
  {
   "cell_type": "code",
   "execution_count": 38,
   "metadata": {
    "collapsed": false,
    "scrolled": true
   },
   "outputs": [
    {
     "data": {
      "image/png": "[encoded data removed]",
      "text/plain": [
       "<matplotlib.figure.Figure at 0x110fa2710>"
      ]
     },
     "metadata": {},
     "output_type": "display_data"
    }
   ],
   "source": [
    "# SORTED TOKEN FREQUENCIES:\n",
    "\n",
    "# Example data\n",
    "plt.semilogy(tf_sorted)\n",
    "plt.xlabel('Average number of occurrences per article')\n",
    "plt.title('Token distribution')\n",
    "plt.show()"
   ]
  },
  {
   "cell_type": "markdown",
   "metadata": {},
   "source": [
    "** Exercise**: There are usually many tokens that appear with very low frequency in the corpus. Count the number of tokens appearing only once, and what is the proportion of them in the token list."
   ]
  },
  {
   "cell_type": "code",
   "execution_count": 39,
   "metadata": {
    "collapsed": false
   },
   "outputs": [
    {
     "name": "stdout",
     "output_type": "stream",
     "text": [
      "There are 15092 cold tokens, which represent 45.9183983935% of the total number of tokens in the dictionary\n"
     ]
    }
   ],
   "source": [
    "# scode: <WRITE YOUR CODE HERE>\n",
    "# Example data\n",
    "cold_tokens = [D[i] for i in ids_sorted if tf_sorted[i]==1]\n",
    "\n",
    "print \"There are {0} cold tokens, which represent {1}% of the total number of tokens in the dictionary\".format(\n",
    "    len(cold_tokens), float(len(cold_tokens))/n_tokens*100)"
   ]
  },
  {
   "cell_type": "markdown",
   "metadata": {},
   "source": [
    "** Exercise**: Represent graphically those 20 tokens that appear in the highest number of articles. Note that you can use the code above (headed by `# SORTED TOKEN FREQUENCIES`) with a very minor modification."
   ]
  },
  {
   "cell_type": "code",
   "execution_count": 40,
   "metadata": {
    "collapsed": false
   },
   "outputs": [
    {
     "data": {
      "image/png": "[encoded data removed]",
      "text/plain": [
       "<matplotlib.figure.Figure at 0x11b5cda50>"
      ]
     },
     "metadata": {},
     "output_type": "display_data"
    }
   ],
   "source": [
    "# scode: <WRITE YOUR CODE HERE>\n",
    "\n",
    "# SORTED TOKEN FREQUENCIES (I):\n",
    "# Count the number of occurrences of each token.\n",
    "token_count2 = np.zeros(n_tokens)\n",
    "for x in corpus_bow_flat:\n",
    "    token_count2[x[0]] += (x[1]>0)\n",
    "\n",
    "# Sort by decreasing number of occurences\n",
    "ids_sorted2 = np.argsort(- token_count2)\n",
    "tf_sorted2 = token_count2[ids_sorted2]\n",
    "\n",
    "# SORTED TOKEN FREQUENCIES (II):\n",
    "# Example data\n",
    "n_bins = 25\n",
    "hot_tokens2 = [D[i] for i in ids_sorted2[n_bins-1::-1]]\n",
    "y_pos2 = np.arange(len(hot_tokens2))\n",
    "z2 = tf_sorted2[n_bins-1::-1]/n_art\n",
    "\n",
    "plt.barh(y_pos2, z2, align='center', alpha=0.4)\n",
    "plt.yticks(y_pos2, hot_tokens2)\n",
    "plt.xlabel('Average number of occurrences per article')\n",
    "plt.title('Token distribution')\n",
    "plt.show()"
   ]
  },
  {
   "cell_type": "markdown",
   "metadata": {},
   "source": [
    "** Exercise**: Count the number of tokens appearing only in a single article.\n"
   ]
  },
  {
   "cell_type": "code",
   "execution_count": 41,
   "metadata": {
    "collapsed": true
   },
   "outputs": [],
   "source": [
    "# scode: <WRITE YOUR CODE HERE>"
   ]
  },
  {
   "cell_type": "markdown",
   "metadata": {},
   "source": [
    "** Exercise** (*All in one*): Note that, for pedagogical reasons, we have used a different `for` loop for each text processing step creating a new `corpus_xxx` variable after each step. For very large corpus, this could cause memory problems. \n",
    "\n",
    "As a summary exercise, repeat the whole text processing, starting from corpus_text up to computing the bow, with the following modifications:\n",
    "\n",
    "1. Use a single `for` loop, avoiding the creation of any intermediate corpus variables.\n",
    "2. Use lemmatization instead of stemming.\n",
    "3. Remove all tokens appearing in only one document and less than 2 times.\n",
    "4. Save the result in a new variable `corpus_bow1`."
   ]
  },
  {
   "cell_type": "code",
   "execution_count": 42,
   "metadata": {
    "collapsed": true
   },
   "outputs": [],
   "source": [
    "# scode: <WRITE YOUR CODE HERE>"
   ]
  },
  {
   "cell_type": "markdown",
   "metadata": {},
   "source": [
    "** Exercise** (*Visualizing categories*): Repeat the previous exercise with a second wikipedia category. For instance, you can take \"communication\". \n",
    "\n",
    "1. Save the result in variable `corpus_bow2`.\n",
    "2. Determine the most frequent terms in `corpus_bow1` (`term1`) and `corpus_bow2` (`term2`).\n",
    "3. Transform each article in `corpus_bow1` and `corpus_bow2` into a 2 dimensional vector, where the first component is the frecuency of `term1` and the second component is the frequency of `term2`\n",
    "4. Draw a dispersion plot of all 2 dimensional points, using a different marker for each corpus. Could you differentiate both corpora using the selected terms only? What if the 2nd most frequent term is used?\n",
    "    "
   ]
  },
  {
   "cell_type": "code",
   "execution_count": 43,
   "metadata": {
    "collapsed": true
   },
   "outputs": [],
   "source": [
    "# scode: <WRITE YOUR CODE HERE>"
   ]
  },
  {
   "cell_type": "markdown",
   "metadata": {},
   "source": [
    "** Exercise ** (bigrams): `nltk` provides an utility to compute n-grams from a list of tokens, in `nltk.util.ngrams`. Join all tokens in `corpus_clean` in a single list and compute the bigrams. Plot the 20 most frequent bigrams in the corpus."
   ]
  },
  {
   "cell_type": "code",
   "execution_count": 44,
   "metadata": {
    "collapsed": true
   },
   "outputs": [],
   "source": [
    "# scode: <WRITE YOUR CODE HERE>\n",
    "# Check the code below to see how ngrams works, and adapt it to solve the exercise.\n",
    "# from nltk.util import ngrams\n",
    "# sentence = 'this is a foo bar sentences and i want to ngramize it'\n",
    "# sixgrams = ngrams(sentence.split(), 2)\n",
    "# for grams in sixgrams:\n",
    "#     print grams"
   ]
  },
  {
   "cell_type": "markdown",
   "metadata": {},
   "source": [
    "## 3. Semantic Analysis\n",
    "\n",
    "The dictionary `D` and the Bag of Words in `corpus_bow` are the key inputs to the topic model algorithms. In this section we will explore two algorithms:\n",
    "\n",
    "1. Latent Semantic Indexing (LSI)\n",
    "2. Latent Dirichlet Allocation (LDA)\n",
    "\n",
    "The topic model algorithms in `gensim` assume that input documents are parameterized using the tf-idf model. This can be done using"
   ]
  },
  {
   "cell_type": "code",
   "execution_count": 34,
   "metadata": {
    "collapsed": false
   },
   "outputs": [],
   "source": [
    "tfidf = gensim.models.TfidfModel(corpus_bow)"
   ]
  },
  {
   "cell_type": "markdown",
   "metadata": {},
   "source": [
    "From now on, tfidf can be used to convert any vector from the old representation (bow integer counts) to the new one (TfIdf real-valued weights):"
   ]
  },
  {
   "cell_type": "code",
   "execution_count": 35,
   "metadata": {
    "collapsed": false
   },
   "outputs": [
    {
     "data": {
      "text/plain": [
       "[(0, 0.9291592838567855), (1, 0.36967962511172514)]"
      ]
     },
     "execution_count": 35,
     "metadata": {},
     "output_type": "execute_result"
    }
   ],
   "source": [
    "doc_bow = [(0, 1), (1, 1)]\n",
    "tfidf[doc_bow]"
   ]
  },
  {
   "cell_type": "markdown",
   "metadata": {},
   "source": [
    "Or to apply a transformation to a whole corpus"
   ]
  },
  {
   "cell_type": "code",
   "execution_count": 36,
   "metadata": {
    "collapsed": false
   },
   "outputs": [],
   "source": [
    "corpus_tfidf = tfidf[corpus_bow]\n",
    "print corpus_tfidf[0][0:5]"
   ]
  },
  {
   "cell_type": "markdown",
   "metadata": {},
   "source": [
    "### 3.1. Latent Semantic Indexing (LSI)"
   ]
  },
  {
   "cell_type": "markdown",
   "metadata": {},
   "source": [
    "Now we are ready to apply a topic modeling algorithm. Latent Semantic Indexing is provided by `LsiModel`."
   ]
  },
  {
   "cell_type": "markdown",
   "metadata": {},
   "source": [
    "**Task**: Generate a LSI model with 5 topics for `corpus_tfidf` and dictionary `D`. You can check de sintaxis for [gensim.models.LsiModel](https://radimrehurek.com/gensim/models/lsimodel.html)."
   ]
  },
  {
   "cell_type": "code",
   "execution_count": 37,
   "metadata": {
    "collapsed": false
   },
   "outputs": [],
   "source": [
    "# Initialize an LSI transformation\n",
    "n_topics = 5\n",
    "# scode: lsi = <FILL IN>\n",
    "lsi = gensim.models.LsiModel(corpus_tfidf, id2word=D, num_topics=n_topics) "
   ]
  },
  {
   "cell_type": "markdown",
   "metadata": {},
   "source": [
    "From LSI, we can check both the topic-tokens matrix and the document-topics matrix."
   ]
  },
  {
   "cell_type": "markdown",
   "metadata": {},
   "source": [
    "Now we can check the topics generated by LSI. An intuitive visualization is provided by the `show_topics` method."
   ]
  },
  {
   "cell_type": "code",
   "execution_count": 38,
   "metadata": {
    "collapsed": false
   },
   "outputs": [
    {
     "data": {
      "text/plain": [
       "[(0,\n",
       "  u'0.198*\"capit\" + 0.192*\"product\" + 0.154*\"price\" + 0.130*\"market\" + 0.128*\"marx\" + 0.124*\"valu\" + 0.112*\"economi\" + 0.107*\"jel\" + 0.103*\"labor\" + 0.098*\"rate\"'),\n",
       " (1,\n",
       "  u'-0.807*\"jel\" + -0.472*\"cat\" + -0.140*\"common\" + -0.126*\"histori\" + -0.071*\"busi\" + -0.070*\"manag\" + -0.068*\"parent\" + -0.062*\"mathemat\" + -0.058*\"quantit\" + 0.048*\"capit\"'),\n",
       " (2,\n",
       "  u'-0.337*\"capit\" + -0.312*\"marx\" + -0.273*\"product\" + -0.180*\"marxian\" + -0.144*\"labor\" + -0.143*\"capitalist\" + -0.142*\"labour\" + -0.138*\"surplus\" + -0.138*\"valu\" + 0.131*\"cite\"'),\n",
       " (3,\n",
       "  u'-0.445*\"math\" + -0.251*\"price\" + -0.195*\"rate\" + -0.160*\"inflat\" + -0.134*\"demand\" + -0.132*\"curv\" + 0.127*\"marx\" + -0.125*\"jel\" + -0.111*\"labor\" + -0.110*\"c\"'),\n",
       " (4,\n",
       "  u'-0.546*\"cat\" + 0.402*\"jel\" + -0.232*\"common\" + -0.186*\"system\" + -0.161*\"price\" + 0.142*\"parent\" + 0.139*\"geographi\" + 0.138*\"labor\" + -0.127*\"socialist\" + -0.123*\"societi\"')]"
      ]
     },
     "execution_count": 38,
     "metadata": {},
     "output_type": "execute_result"
    }
   ],
   "source": [
    "lsi.show_topics(num_topics=-1, num_words=10, log=False, formatted=True)"
   ]
  },
  {
   "cell_type": "markdown",
   "metadata": {},
   "source": [
    "However, a more useful representation of topics is as a list of tuples `(token, value)`. This is provided by the `show_topic` method."
   ]
  },
  {
   "cell_type": "markdown",
   "metadata": {},
   "source": [
    "**Task**: Represent the columns of the topic-token matrix as a series of bar diagrams (one per topic) with the top 25 tokens of each topic."
   ]
  },
  {
   "cell_type": "code",
   "execution_count": 39,
   "metadata": {
    "collapsed": false
   },
   "outputs": [
    {
     "data": {
      "image/png": "[encoded data removed]",
      "text/plain": [
       "<matplotlib.figure.Figure at 0xa999692c>"
      ]
     },
     "metadata": {},
     "output_type": "display_data"
    }
   ],
   "source": [
    "# SORTED TOKEN FREQUENCIES (II):\n",
    "plt.rcdefaults()\n",
    "\n",
    "n_bins = 25\n",
    "    \n",
    "# Example data\n",
    "y_pos = range(n_bins-1, -1, -1)\n",
    "\n",
    "pylab.rcParams['figure.figsize'] = 16, 8  # Set figure size\n",
    "for i in range(n_topics):\n",
    "    \n",
    "    ### Plot top 25 tokens for topic i\n",
    "    # Read i-thtopic\n",
    "    # scode: <FILL IN>\n",
    "    topic_i = lsi.show_topic(i, topn=n_bins)\n",
    "    tokens = [t[0] for t in topic_i]\n",
    "    weights = [t[1] for t in topic_i]\n",
    "\n",
    "    # Plot\n",
    "    # scode: <FILL IN>\n",
    "    plt.subplot(1, n_topics, i+1)\n",
    "    plt.barh(y_pos, weights, align='center', alpha=0.4)\n",
    "    plt.yticks(y_pos, tokens)\n",
    "    plt.xlabel('Top {0} topic weights'.format(n_bins))\n",
    "    plt.title('Topic {0}'.format(i))\n",
    "    \n",
    "plt.show()"
   ]
  },
  {
   "cell_type": "markdown",
   "metadata": {},
   "source": [
    "LSI approximates any document as a linear combination of the topic vectors. We can compute the topic weights for any input corpus entered as input to the `lsi` model."
   ]
  },
  {
   "cell_type": "code",
   "execution_count": 40,
   "metadata": {
    "collapsed": false
   },
   "outputs": [
    {
     "name": "stdout",
     "output_type": "stream",
     "text": [
      "[(0, 0.61957367808948083), (1, 0.052110556258995619), (2, 0.10967256197584296), (3, 0.015785752984584071), (4, -0.0048237764373713138)]\n"
     ]
    }
   ],
   "source": [
    "# On real corpora, target dimensionality of\n",
    "# 200–500 is recommended as a “golden standard”\n",
    "# Create a double wrapper over the original \n",
    "# corpus bow  tfidf  fold-in-lsi\n",
    "corpus_lsi = lsi[corpus_tfidf]\n",
    "print corpus_lsi[0]"
   ]
  },
  {
   "cell_type": "markdown",
   "metadata": {},
   "source": [
    "**Task**: Find the document with the largest positive weight for topic 0. Compare the document and the topic."
   ]
  },
  {
   "cell_type": "code",
   "execution_count": 41,
   "metadata": {
    "collapsed": false
   },
   "outputs": [
    {
     "name": "stdout",
     "output_type": "stream",
     "text": [
      "137\n",
      "0.642432389945\n",
      "[(0, 0.64243238994543528), (1, 0.11473481546581735), (2, -0.37098450317589599), (3, 0.14093567037864485), (4, -0.013152864961690259)]\n",
      "Topic 0 is:\n",
      "[(u'capit', 0.19751042551105993), (u'product', 0.19175238444371881), (u'price', 0.15430589663369032), (u'market', 0.13015591237065585), (u'marx', 0.12847859177358756), (u'valu', 0.12440740418710113), (u'economi', 0.11182154394580036), (u'jel', 0.10653293598031646), (u'labor', 0.1033050091455697), (u'rate', 0.098467290042995606), (u'ref', 0.098242433232117621), (u'theori', 0.095467906235009087), (u'incom', 0.09331707720933094), (u'social', 0.090896278369578046), (u'cite', 0.089381116654996623), (u'system', 0.087190537567418694), (u'profit', 0.083837994157245452), (u'cost', 0.08178289896196432), (u'labour', 0.080391327273451191), (u'develop', 0.079658758551096387), (u'tax', 0.079319321908529569), (u'http', 0.078741281204599556), (u'surplus', 0.078447967466796137), (u'wage', 0.075149699487569777), (u'money', 0.075018625615251799)]\n",
      "Token counts:\n",
      "[(u'capit', 108), (u'product', 240), (u'price', 160), (u'market', 100), (u'marx', 186), (u'valu', 280), (u'economi', 95), (u'jel', 0), (u'labor', 13), (u'rate', 32), (u'ref', 167), (u'theori', 94), (u'incom', 8), (u'social', 50), (u'cite', 5), (u'system', 22), (u'profit', 60), (u'cost', 40), (u'labour', 85), (u'develop', 39), (u'tax', 4), (u'http', 76), (u'surplus', 12), (u'wage', 1), (u'money', 31)]\n"
     ]
    }
   ],
   "source": [
    "# Extract weights from corpus_lsi\n",
    "# scode weight0 = <FILL IN>\n",
    "weight0 = [doc[0][1] for doc in corpus_lsi]\n",
    "\n",
    "# Locate the maximum positive weight\n",
    "nmax = np.argmax(weight0)\n",
    "print nmax\n",
    "print weight0[nmax]\n",
    "print corpus_lsi[nmax]\n",
    "\n",
    "# Get topic 0\n",
    "# scode: topic_0 = <FILL IN>\n",
    "topic_0 = lsi.show_topic(0, topn=n_bins)\n",
    "\n",
    "# Compute a list of tuples (token, wordcount) for all tokens in topic_0, where wordcount is the number of \n",
    "# occurences of the token in the article.\n",
    "# scode: token_counts = <FILL IN>\n",
    "token_counts = [(t[0], corpus_clean[nmax].count(t[0])) for t in topic_0]\n",
    "\n",
    "print \"Topic 0 is:\"\n",
    "print topic_0\n",
    "print \"Token counts:\"\n",
    "print token_counts"
   ]
  },
  {
   "cell_type": "markdown",
   "metadata": {},
   "source": [
    "### 3.2. Latent Dirichlet Allocation (LDA)"
   ]
  },
  {
   "cell_type": "markdown",
   "metadata": {},
   "source": [
    "There are several implementations of the LDA topic model in python:\n",
    "\n",
    "* Python library `lda`.\n",
    "* Gensim module: `gensim.models.ldamodel.LdaModel`\n",
    "* Sci-kit Learn module: `sklearn.decomposition`"
   ]
  },
  {
   "cell_type": "markdown",
   "metadata": {},
   "source": [
    "#### 3.2.1. LDA using Gensim"
   ]
  },
  {
   "cell_type": "markdown",
   "metadata": {},
   "source": [
    "The use of the LDA module in `gensim` is similar to LSI. Furthermore, it assumes that a `tf-idf` parametrization is used as an input, which is not in complete agreement with the theoretical model, which assumes documents represented as vectors of token-counts.\n",
    "\n",
    "To use LDA in gensim, we must first create a lda model object."
   ]
  },
  {
   "cell_type": "code",
   "execution_count": 42,
   "metadata": {
    "collapsed": false
   },
   "outputs": [],
   "source": [
    "ldag = gensim.models.ldamodel.LdaModel(\n",
    "    corpus=corpus_tfidf, id2word=D, num_topics=10, update_every=1, passes=10)"
   ]
  },
  {
   "cell_type": "code",
   "execution_count": 43,
   "metadata": {
    "collapsed": false
   },
   "outputs": [
    {
     "data": {
      "text/plain": [
       "[(0,\n",
       "  u'0.001*redirect + 0.001*main + 0.001*trap + 0.001*smuggl + 0.001*reus + 0.001*exter + 0.000*bull + 0.000*event + 0.000*topic + 0.000*oecd'),\n",
       " (1,\n",
       "  u'0.001*expenditur + 0.001*uncertainti + 0.001*histori + 0.001*myrdal + 0.001*corridor + 0.001*jew + 0.001*heterodox + 0.001*centuri + 0.001*g + 0.000*dtc'),\n",
       " (2,\n",
       "  u'0.001*neoliber + 0.001*citizenship + 0.001*farmland + 0.001*hyperstagfl + 0.001*timelin + 0.001*parent + 0.001*restor + 0.000*flag + 0.000*collater + 0.000*hazard'),\n",
       " (3,\n",
       "  u'0.001*librari + 0.001*decad + 0.001*arrow + 0.001*lean + 0.001*wicksel + 0.001*apprais + 0.001*lindahl + 0.001*lang + 0.000*foreclosur + 0.000*mathi'),\n",
       " (4,\n",
       "  u'0.001*peac + 0.001*repurpos + 0.001*hour + 0.000*illicit + 0.000*network + 0.000*varianc + 0.000*exponenti + 0.000*stretch + 0.000*uluslararas\\u0131 + 0.000*kategori'),\n",
       " (5,\n",
       "  u'0.001*cointegr + 0.001*diffus + 0.001*grey + 0.001*drift + 0.000*dialogu + 0.000*macneil + 0.000*ndash + 0.000*biolog + 0.000*odious + 0.000*secular'),\n",
       " (6,\n",
       "  u'0.005*jel + 0.003*cat + 0.001*common + 0.001*educ + 0.001*histori + 0.001*comparison + 0.001*hayek + 0.001*shubik + 0.001*intang + 0.001*gnh'),\n",
       " (7,\n",
       "  u'0.002*capit + 0.002*product + 0.002*price + 0.002*market + 0.002*ref + 0.002*cite + 0.002*theori + 0.002*economi + 0.002*valu + 0.001*social'),\n",
       " (8,\n",
       "  u'0.001*spaceflight + 0.001*sullivan + 0.001*contain + 0.001*easterlin + 0.000*portfolio + 0.000*ecri + 0.000*arthur + 0.000*ee + 0.000*geographi + 0.000*07458'),\n",
       " (9,\n",
       "  u'0.001*professorship + 0.001*sup + 0.001*region + 0.001*fiction + 0.001*invoic + 0.001*reindustri + 0.001*unearn + 0.001*annuiti + 0.001*geographi + 0.001*barzani')]"
      ]
     },
     "execution_count": 43,
     "metadata": {},
     "output_type": "execute_result"
    }
   ],
   "source": [
    "ldag.print_topics()"
   ]
  },
  {
   "cell_type": "markdown",
   "metadata": {},
   "source": [
    "#### 3.2.2. LDA using python lda library"
   ]
  },
  {
   "cell_type": "markdown",
   "metadata": {},
   "source": [
    "An alternative to gensim for LDA is the lda library from python. It requires a doc-frequency matrix as input"
   ]
  },
  {
   "cell_type": "code",
   "execution_count": 44,
   "metadata": {
    "collapsed": false
   },
   "outputs": [
    {
     "name": "stdout",
     "output_type": "stream",
     "text": [
      "(316, 14898)\n",
      "241349\n"
     ]
    }
   ],
   "source": [
    "# For testing LDA, you can use the reuters dataset\n",
    "# X = lda.datasets.load_reuters()\n",
    "# vocab = lda.datasets.load_reuters_vocab()\n",
    "# titles = lda.datasets.load_reuters_titles()\n",
    "X = np.int32(np.zeros((n_art, n_tokens)))\n",
    "for n, art in enumerate(corpus_bow):\n",
    "    for t in art:\n",
    "        X[n, t[0]] = t[1]\n",
    "print X.shape\n",
    "print X.sum()\n",
    "\n",
    "vocab = D.values()\n",
    "titles = corpus_titles\n"
   ]
  },
  {
   "cell_type": "code",
   "execution_count": 45,
   "metadata": {
    "collapsed": false,
    "scrolled": true
   },
   "outputs": [
    {
     "name": "stdout",
     "output_type": "stream",
     "text": [
      "Topic 0: destroy patriarch hussein 253d 177 piric mangano 159\n"
     ]
    },
    {
     "ename": "UnicodeEncodeError",
     "evalue": "'ascii' codec can't encode character u'\\xf3' in position 63: ordinal not in range(128)",
     "output_type": "error",
     "traceback": [
      "\u001b[1;31m---------------------------------------------------------------------------\u001b[0m",
      "\u001b[1;31mUnicodeEncodeError\u001b[0m                        Traceback (most recent call last)",
      "\u001b[1;32m<ipython-input-45-f7b842c2d7c1>\u001b[0m in \u001b[0;36m<module>\u001b[1;34m()\u001b[0m\n\u001b[0;32m      9\u001b[0m \u001b[1;32mfor\u001b[0m \u001b[0mi\u001b[0m\u001b[1;33m,\u001b[0m \u001b[0mtopic_dist\u001b[0m \u001b[1;32min\u001b[0m \u001b[0menumerate\u001b[0m\u001b[1;33m(\u001b[0m\u001b[0mtopic_word\u001b[0m\u001b[1;33m)\u001b[0m\u001b[1;33m:\u001b[0m\u001b[1;33m\u001b[0m\u001b[0m\n\u001b[0;32m     10\u001b[0m     \u001b[0mtopic_words\u001b[0m \u001b[1;33m=\u001b[0m \u001b[0mnp\u001b[0m\u001b[1;33m.\u001b[0m\u001b[0marray\u001b[0m\u001b[1;33m(\u001b[0m\u001b[0mvocab\u001b[0m\u001b[1;33m)\u001b[0m\u001b[1;33m[\u001b[0m\u001b[0mnp\u001b[0m\u001b[1;33m.\u001b[0m\u001b[0margsort\u001b[0m\u001b[1;33m(\u001b[0m\u001b[0mtopic_dist\u001b[0m\u001b[1;33m)\u001b[0m\u001b[1;33m]\u001b[0m\u001b[1;33m[\u001b[0m\u001b[1;33m:\u001b[0m\u001b[1;33m-\u001b[0m\u001b[1;33m(\u001b[0m\u001b[0mn_top_words\u001b[0m\u001b[1;33m+\u001b[0m\u001b[1;36m1\u001b[0m\u001b[1;33m)\u001b[0m\u001b[1;33m:\u001b[0m\u001b[1;33m-\u001b[0m\u001b[1;36m1\u001b[0m\u001b[1;33m]\u001b[0m\u001b[1;33m\u001b[0m\u001b[0m\n\u001b[1;32m---> 11\u001b[1;33m     \u001b[1;32mprint\u001b[0m\u001b[1;33m(\u001b[0m\u001b[1;34m'Topic {}: {}'\u001b[0m\u001b[1;33m.\u001b[0m\u001b[0mformat\u001b[0m\u001b[1;33m(\u001b[0m\u001b[0mi\u001b[0m\u001b[1;33m,\u001b[0m \u001b[1;34m' '\u001b[0m\u001b[1;33m.\u001b[0m\u001b[0mjoin\u001b[0m\u001b[1;33m(\u001b[0m\u001b[0mtopic_words\u001b[0m\u001b[1;33m)\u001b[0m\u001b[1;33m)\u001b[0m\u001b[1;33m)\u001b[0m\u001b[1;33m\u001b[0m\u001b[0m\n\u001b[0m",
      "\u001b[1;31mUnicodeEncodeError\u001b[0m: 'ascii' codec can't encode character u'\\xf3' in position 63: ordinal not in range(128)"
     ]
    }
   ],
   "source": [
    "# Default parameters:\n",
    "# model = lda.LDA(n_topics, n_iter=2000, alpha=0.1, eta=0.01, random_state=None, refresh=10)\n",
    "model = lda.LDA(n_topics=10, n_iter=1500, random_state=1)\n",
    "model.fit(X)  # model.fit_transform(X) is also available\n",
    "topic_word = model.topic_word_  # model.components_ also works\n",
    "\n",
    "# Show topics...\n",
    "n_top_words = 8\n",
    "for i, topic_dist in enumerate(topic_word):\n",
    "    topic_words = np.array(vocab)[np.argsort(topic_dist)][:-(n_top_words+1):-1]\n",
    "    print('Topic {}: {}'.format(i, ' '.join(topic_words)))"
   ]
  },
  {
   "cell_type": "markdown",
   "metadata": {},
   "source": [
    "Document-topic distribution"
   ]
  },
  {
   "cell_type": "code",
   "execution_count": 46,
   "metadata": {
    "collapsed": false
   },
   "outputs": [
    {
     "name": "stdout",
     "output_type": "stream",
     "text": [
      "Economics (top topic: 2)\n",
      "Index of economics articles (top topic: 2)\n",
      "Outline of economics (top topic: 2)\n",
      "Accounting (top topic: 0)\n",
      "Additionality (top topic: 6)\n",
      "Administered prices (top topic: 6)\n",
      "Affective forecasting (top topic: 1)\n",
      "Ambrosetti Forum (top topic: 0)\n",
      "Arrow security (top topic: 6)\n",
      "Associative economics (top topic: 6)\n"
     ]
    }
   ],
   "source": [
    "doc_topic = model.doc_topic_\n",
    "for i in range(10):\n",
    "    print(\"{} (top topic: {})\".format(titles[i], doc_topic[i].argmax()))"
   ]
  },
  {
   "cell_type": "code",
   "execution_count": 47,
   "metadata": {
    "collapsed": false
   },
   "outputs": [],
   "source": [
    "# This is to apply the model to a new doc(s)\n",
    "# doc_topic_test = model.transform(X_test)\n",
    "# for title, topics in zip(titles_test, doc_topic_test):\n",
    "#    print(\"{} (top topic: {})\".format(title, topics.argmax()))"
   ]
  },
  {
   "cell_type": "markdown",
   "metadata": {},
   "source": [
    "It allows incremental updates"
   ]
  },
  {
   "cell_type": "markdown",
   "metadata": {},
   "source": [
    "#### 3.2.2. LDA using Sci-kit Learn"
   ]
  },
  {
   "cell_type": "markdown",
   "metadata": {},
   "source": [
    "The input matrix to the `sklearn` implementation of LDA contains the token-counts for all documents in the corpus.\n",
    "`sklearn` contains a powerfull `CountVectorizer` method that can be used to construct the input matrix from the `corpus_bow`. \n",
    "\n",
    "First, we will define an auxiliary function to print the top tokens in the model, that has been taken from the `sklearn` documentation."
   ]
  },
  {
   "cell_type": "code",
   "execution_count": 48,
   "metadata": {
    "collapsed": false
   },
   "outputs": [],
   "source": [
    "# Adapted from an example in sklearn site \n",
    "# http://scikit-learn.org/dev/auto_examples/applications/topics_extraction_with_nmf_lda.html\n",
    "\n",
    "# You can try also with the dataset provided by sklearn in \n",
    "# from sklearn.datasets import fetch_20newsgroups\n",
    "# dataset = fetch_20newsgroups(shuffle=True, random_state=1,\n",
    "#                              remove=('headers', 'footers', 'quotes'))\n",
    "\n",
    "def print_top_words(model, feature_names, n_top_words):\n",
    "    for topic_idx, topic in enumerate(model.components_):\n",
    "        print(\"Topic #%d:\" % topic_idx)\n",
    "        print(\" \".join([feature_names[i]\n",
    "                        for i in topic.argsort()[:-n_top_words - 1:-1]]))\n",
    "    print()"
   ]
  },
  {
   "cell_type": "markdown",
   "metadata": {},
   "source": [
    "Now, we need a dataset to feed the Count_Vectorizer object, by joining all tokens in `corpus_clean` in a single string, using a space ' ' as separator."
   ]
  },
  {
   "cell_type": "code",
   "execution_count": 49,
   "metadata": {
    "collapsed": false
   },
   "outputs": [
    {
     "name": "stdout",
     "output_type": "stream",
     "text": [
      "Loading dataset...\n",
      "Document 0:\n",
      "social disambigu theori journal econom econom sidebar econom social scienc describ factor determin product econom distribut econom consumpt econom good servic term come ancient greek wikt wikt hous wi ...\n"
     ]
    }
   ],
   "source": [
    "print(\"Loading dataset...\")\n",
    "# scode: data_samples = <FILL IN>\n",
    "data_samples = [\" \".join(c) for c in corpus_clean]\n",
    "print 'Document 0:'\n",
    "print data_samples[0][0:200], '...'"
   ]
  },
  {
   "cell_type": "markdown",
   "metadata": {},
   "source": [
    "Now we are ready to compute the token counts."
   ]
  },
  {
   "cell_type": "code",
   "execution_count": 50,
   "metadata": {
    "collapsed": false,
    "scrolled": true
   },
   "outputs": [
    {
     "name": "stdout",
     "output_type": "stream",
     "text": [
      "Extracting tf features for LDA...\n",
      "done in 0.264s.\n",
      "  (0, 858)\t47\n",
      "  (0, 920)\t86\n",
      "  (0, 526)\t43\n",
      "  (0, 825)\t66\n",
      "  (0, 278)\t24\n",
      "  (0, 376)\t23\n",
      "  (0, 282)\t13\n",
      "  (0, 735)\t74\n",
      "  (0, 294)\t22\n",
      "  (0, 225)\t20\n",
      "  (0, 436)\t72\n",
      "  (0, 839)\t11\n",
      "  (0, 915)\t16\n",
      "  (0, 196)\t5\n",
      "  (0, 464)\t3\n",
      "  (0, 254)\t2\n",
      "  (0, 550)\t18\n",
      "  (0, 455)\t2\n",
      "  (0, 816)\t5\n",
      "  (0, 461)\t5\n",
      "  (0, 587)\t6\n",
      "  (0, 775)\t201\n",
      "  (0, 182)\t43\n",
      "  (0, 982)\t3\n",
      "  (0, 928)\t12\n",
      "  :\t:\n",
      "  (0, 749)\t1\n",
      "  (0, 106)\t1\n",
      "  (0, 407)\t3\n",
      "  (0, 885)\t1\n",
      "  (0, 386)\t1\n",
      "  (0, 84)\t1\n",
      "  (0, 607)\t1\n",
      "  (0, 482)\t1\n",
      "  (0, 956)\t4\n",
      "  (0, 423)\t1\n",
      "  (0, 989)\t5\n",
      "  (0, 352)\t1\n",
      "  (0, 875)\t1\n",
      "  (0, 567)\t1\n",
      "  (0, 837)\t1\n",
      "  (0, 370)\t2\n",
      "  (0, 873)\t1\n",
      "  (0, 823)\t2\n",
      "  (0, 91)\t1\n",
      "  (0, 339)\t1\n",
      "  (0, 474)\t1\n",
      "  (0, 201)\t1\n",
      "  (0, 947)\t2\n",
      "  (0, 226)\t1\n",
      "  (0, 552)\t3\n"
     ]
    }
   ],
   "source": [
    "# Use tf (raw term count) features for LDA.\n",
    "print(\"Extracting tf features for LDA...\")\n",
    "n_features = 1000\n",
    "n_samples = 2000\n",
    "tf_vectorizer = CountVectorizer(max_df=0.95, min_df=2,\n",
    "                                max_features=n_features,\n",
    "                                stop_words='english')\n",
    "\n",
    "t0 = time()\n",
    "tf = tf_vectorizer.fit_transform(data_samples)\n",
    "print(\"done in %0.3fs.\" % (time() - t0))\n",
    "print tf[0][0][0]"
   ]
  },
  {
   "cell_type": "markdown",
   "metadata": {},
   "source": [
    "Now we can apply the LDA algorithm. \n",
    "\n",
    "**Task**: Create an LDA object with the following parameters: \n",
    "    n_topics=n_topics, max_iter=5,\n",
    "    learning_method='online',\n",
    "    learning_offset=50.,\n",
    "    random_state=0"
   ]
  },
  {
   "cell_type": "code",
   "execution_count": 105,
   "metadata": {
    "collapsed": false
   },
   "outputs": [
    {
     "name": "stdout",
     "output_type": "stream",
     "text": [
      "Fitting LDA models with tf features, n_samples=2000 and n_features=1000...\n"
     ]
    }
   ],
   "source": [
    "print(\"Fitting LDA models with tf features, \"\n",
    "      \"n_samples=%d and n_features=%d...\"\n",
    "      % (n_samples, n_features))\n",
    "# scode: lda = <FILL IN>\n",
    "lda = LatentDirichletAllocation(n_topics=n_topics, max_iter=5,\n",
    "                                learning_method='online',\n",
    "                                learning_offset=50.,\n",
    "                                random_state=0, \n",
    "                                doc_topic_prior=1, topic_word_prior=1000)"
   ]
  },
  {
   "cell_type": "markdown",
   "metadata": {},
   "source": [
    "**Task**: Fit model `lda` with the token frequencies computed by `tf_vectorizer`."
   ]
  },
  {
   "cell_type": "code",
   "execution_count": 106,
   "metadata": {
    "collapsed": false
   },
   "outputs": [
    {
     "name": "stdout",
     "output_type": "stream",
     "text": [
      "[  7.53160921e-04   9.96978101e-01   7.56669005e-04   7.33425906e-04\n",
      "   7.78642792e-04]\n",
      "done in 2.134s.\n"
     ]
    }
   ],
   "source": [
    "t0 = time()\n",
    "corpus_lda = lda.fit_transform(tf)\n",
    "print corpus_lda[0]/np.sum(corpus_lda[0])\n",
    "print(\"done in %0.3fs.\" % (time() - t0))"
   ]
  },
  {
   "cell_type": "code",
   "execution_count": 107,
   "metadata": {
    "collapsed": false
   },
   "outputs": [
    {
     "name": "stdout",
     "output_type": "stream",
     "text": [
      "\n",
      "Topics in LDA model:\n",
      "Topic #0:\n",
      "ref price cite http account market use good\n",
      "Topic #1:\n",
      "ref http cite product price valu market economi\n",
      "Topic #2:\n",
      "ref game theori http cite use social nbsp\n",
      "Topic #3:\n",
      "ref market product rate http use cite economi\n",
      "Topic #4:\n",
      "ref http product cite market develop economi theori\n",
      "()\n"
     ]
    }
   ],
   "source": [
    "print(\"\\nTopics in LDA model:\")\n",
    "tf_feature_names = tf_vectorizer.get_feature_names()\n",
    "print_top_words(lda, tf_feature_names, n_top_words)"
   ]
  },
  {
   "cell_type": "code",
   "execution_count": 108,
   "metadata": {
    "collapsed": false
   },
   "outputs": [
    {
     "name": "stdout",
     "output_type": "stream",
     "text": [
      "[ 0.00110725  0.00105329  0.0010354   0.00103424  0.00102998  0.00102956\n",
      "  0.00102743  0.001022    0.00102141  0.00102045  0.00101997  0.00101984\n",
      "  0.00101748  0.00101737  0.00101684  0.00101677  0.0010164   0.00101604\n",
      "  0.00101603  0.00101598  0.00101584  0.00101489  0.00101484  0.00101478\n",
      "  0.00101467  0.00101449  0.00101376  0.00101368  0.00101329  0.00101326\n",
      "  0.00101313  0.00101233  0.0010121   0.00101202  0.00101177  0.00101165\n",
      "  0.0010114   0.00101135  0.00101121  0.00101105  0.00101099  0.00101092\n",
      "  0.00101045  0.00101032  0.00101025  0.00101007  0.00101001  0.00100987\n",
      "  0.00100979  0.00100931  0.0010093   0.0010092   0.00100912  0.001009\n",
      "  0.00100852  0.00100832  0.00100824  0.00100809  0.00100808  0.00100798\n",
      "  0.00100794  0.00100791  0.00100789  0.00100783  0.0010077   0.00100766\n",
      "  0.00100762  0.00100745  0.00100741  0.00100732  0.00100727  0.00100688\n",
      "  0.00100676  0.00100672  0.00100663  0.0010064   0.00100623  0.00100621\n",
      "  0.00100598  0.00100597  0.00100562  0.00100562  0.00100554  0.00100552\n",
      "  0.00100545  0.00100545  0.00100538  0.00100538  0.00100536  0.00100535\n",
      "  0.00100525  0.00100513  0.00100509  0.00100502  0.00100501  0.00100488\n",
      "  0.00100485  0.00100474  0.0010047   0.00100463  0.00100453  0.00100445\n",
      "  0.00100443  0.00100435  0.00100431  0.0010043   0.00100422  0.00100418\n",
      "  0.00100401  0.00100399  0.00100399  0.00100398  0.00100394  0.00100393\n",
      "  0.00100393  0.00100384  0.00100384  0.00100379  0.00100377  0.00100375\n",
      "  0.00100374  0.00100364  0.00100362  0.00100355  0.00100355  0.00100346\n",
      "  0.00100345  0.00100342  0.00100331  0.0010033   0.00100323  0.00100317\n",
      "  0.00100313  0.00100302  0.00100294  0.00100292  0.00100286  0.00100286\n",
      "  0.00100285  0.00100281  0.0010028   0.00100277  0.00100275  0.00100273\n",
      "  0.00100261  0.00100251  0.00100248  0.00100245  0.00100243  0.00100241\n",
      "  0.00100237  0.00100236  0.00100233  0.00100232  0.00100227  0.00100225\n",
      "  0.00100225  0.00100224  0.00100221  0.00100218  0.00100213  0.00100213\n",
      "  0.00100211  0.00100208  0.00100206  0.00100201  0.00100196  0.00100193\n",
      "  0.00100193  0.00100193  0.00100192  0.00100186  0.00100176  0.00100173\n",
      "  0.00100171  0.00100168  0.00100165  0.00100164  0.00100164  0.00100163\n",
      "  0.00100162  0.00100162  0.00100158  0.00100158  0.00100156  0.00100156\n",
      "  0.00100155  0.00100154  0.0010015   0.0010015   0.00100143  0.0010014\n",
      "  0.0010014   0.00100137  0.00100137  0.00100135  0.00100133  0.00100131\n",
      "  0.00100129  0.00100127  0.00100126  0.00100121  0.00100121  0.00100121\n",
      "  0.0010012   0.0010012   0.00100118  0.00100114  0.00100113  0.00100111\n",
      "  0.0010011   0.0010011   0.00100106  0.00100104  0.00100103  0.00100101\n",
      "  0.00100101  0.00100099  0.00100094  0.00100093  0.00100093  0.00100091\n",
      "  0.00100087  0.00100084  0.00100084  0.00100084  0.00100084  0.00100082\n",
      "  0.00100082  0.00100077  0.00100076  0.00100076  0.00100073  0.00100072\n",
      "  0.00100072  0.0010007   0.00100069  0.00100069  0.00100068  0.00100068\n",
      "  0.00100068  0.00100066  0.00100066  0.00100064  0.00100064  0.00100063\n",
      "  0.00100063  0.00100062  0.00100062  0.00100062  0.00100061  0.00100061\n",
      "  0.00100056  0.00100053  0.00100052  0.00100051  0.00100051  0.00100051\n",
      "  0.0010005   0.00100047  0.00100046  0.00100043  0.00100043  0.00100042\n",
      "  0.00100042  0.00100041  0.00100041  0.0010004   0.00100039  0.00100039\n",
      "  0.00100038  0.00100033  0.00100032  0.00100031  0.00100029  0.00100029\n",
      "  0.00100027  0.00100027  0.00100026  0.00100025  0.00100023  0.00100023\n",
      "  0.00100021  0.00100017  0.00100015  0.00100014  0.00100011  0.00100011\n",
      "  0.00100011  0.00100009  0.00100009  0.00100008  0.00100008  0.00100008\n",
      "  0.00100007  0.00100005  0.00100004  0.00100004  0.00100004  0.001       0.001\n",
      "  0.00099998  0.00099998  0.00099997  0.00099997  0.00099996  0.00099995\n",
      "  0.00099994  0.00099994  0.00099993  0.00099993  0.00099993  0.00099993\n",
      "  0.00099992  0.00099991  0.0009999   0.0009999   0.00099987  0.00099986\n",
      "  0.00099981  0.00099978  0.00099977  0.00099977  0.00099977  0.00099977\n",
      "  0.00099973  0.00099973  0.00099973  0.00099972  0.00099971  0.00099969\n",
      "  0.00099969  0.00099966  0.00099966  0.00099964  0.00099963  0.00099962\n",
      "  0.0009996   0.00099958  0.00099952  0.00099952  0.00099951  0.0009995\n",
      "  0.0009995   0.00099946  0.00099946  0.00099943  0.00099943  0.00099941\n",
      "  0.00099941  0.00099939  0.00099938  0.00099937  0.00099937  0.00099934\n",
      "  0.00099934  0.00099933  0.00099931  0.00099929  0.00099926  0.00099926\n",
      "  0.00099925  0.00099924  0.00099923  0.00099923  0.00099923  0.00099922\n",
      "  0.00099918  0.00099918  0.00099917  0.00099916  0.00099915  0.00099915\n",
      "  0.00099915  0.00099914  0.00099911  0.00099911  0.00099911  0.00099911\n",
      "  0.00099911  0.00099911  0.00099909  0.00099909  0.00099908  0.00099908\n",
      "  0.00099908  0.00099906  0.00099906  0.00099906  0.00099903  0.00099903\n",
      "  0.00099903  0.00099903  0.00099899  0.00099899  0.00099899  0.00099899\n",
      "  0.00099896  0.00099895  0.00099895  0.00099894  0.00099894  0.00099894\n",
      "  0.00099893  0.00099892  0.00099892  0.00099891  0.00099891  0.00099891\n",
      "  0.00099891  0.00099891  0.0009989   0.00099889  0.00099889  0.00099887\n",
      "  0.00099887  0.00099885  0.00099884  0.00099883  0.00099881  0.00099881\n",
      "  0.00099881  0.00099881  0.0009988   0.0009988   0.00099879  0.00099877\n",
      "  0.00099877  0.00099877  0.00099876  0.00099874  0.00099874  0.00099874\n",
      "  0.00099873  0.00099873  0.00099872  0.0009987   0.0009987   0.00099869\n",
      "  0.00099868  0.00099867  0.00099866  0.00099864  0.00099863  0.00099862\n",
      "  0.00099862  0.00099861  0.00099861  0.0009986   0.0009986   0.0009986\n",
      "  0.0009986   0.00099858  0.00099858  0.00099857  0.00099856  0.00099855\n",
      "  0.00099855  0.00099855  0.00099855  0.00099854  0.00099853  0.00099853\n",
      "  0.00099852  0.00099851  0.0009985   0.0009985   0.0009985   0.00099849\n",
      "  0.00099848  0.00099848  0.00099848  0.00099848  0.00099847  0.00099847\n",
      "  0.00099846  0.00099846  0.00099846  0.00099844  0.00099843  0.00099842\n",
      "  0.00099842  0.00099842  0.00099841  0.00099841  0.0009984   0.0009984\n",
      "  0.00099839  0.00099838  0.00099838  0.00099837  0.00099835  0.00099835\n",
      "  0.00099834  0.00099833  0.00099833  0.00099833  0.00099832  0.00099832\n",
      "  0.00099832  0.0009983   0.00099829  0.00099828  0.00099828  0.00099828\n",
      "  0.00099827  0.00099827  0.00099826  0.00099826  0.00099826  0.00099825\n",
      "  0.00099825  0.00099825  0.00099824  0.00099824  0.00099824  0.00099823\n",
      "  0.00099823  0.00099823  0.00099822  0.00099821  0.00099821  0.00099821\n",
      "  0.0009982   0.0009982   0.0009982   0.0009982   0.00099819  0.00099819\n",
      "  0.00099819  0.00099819  0.00099817  0.00099816  0.00099815  0.00099815\n",
      "  0.00099814  0.00099814  0.00099813  0.00099812  0.00099812  0.00099811\n",
      "  0.00099811  0.00099811  0.00099811  0.00099811  0.0009981   0.00099809\n",
      "  0.00099809  0.00099809  0.00099809  0.00099808  0.00099808  0.00099808\n",
      "  0.00099807  0.00099807  0.00099805  0.00099805  0.00099805  0.00099805\n",
      "  0.00099804  0.00099804  0.00099802  0.00099802  0.00099801  0.00099801\n",
      "  0.00099801  0.000998    0.000998    0.000998    0.00099799  0.00099797\n",
      "  0.00099797  0.00099796  0.00099796  0.00099796  0.00099795  0.00099795\n",
      "  0.00099794  0.00099793  0.00099793  0.00099793  0.00099792  0.00099792\n",
      "  0.00099791  0.0009979   0.0009979   0.00099789  0.00099788  0.00099787\n",
      "  0.00099786  0.00099786  0.00099785  0.00099785  0.00099785  0.00099784\n",
      "  0.00099784  0.00099784  0.00099783  0.00099783  0.00099782  0.00099782\n",
      "  0.00099781  0.0009978   0.0009978   0.00099779  0.00099779  0.00099777\n",
      "  0.00099777  0.00099777  0.00099776  0.00099776  0.00099776  0.00099776\n",
      "  0.00099776  0.00099775  0.00099774  0.00099774  0.00099774  0.00099774\n",
      "  0.00099773  0.00099773  0.00099773  0.00099773  0.00099772  0.00099771\n",
      "  0.00099771  0.0009977   0.00099769  0.00099769  0.00099769  0.00099767\n",
      "  0.00099767  0.00099767  0.00099765  0.00099765  0.00099765  0.00099765\n",
      "  0.00099764  0.00099764  0.00099763  0.00099763  0.00099763  0.00099762\n",
      "  0.00099761  0.00099761  0.00099759  0.00099759  0.00099758  0.00099758\n",
      "  0.00099758  0.00099758  0.00099758  0.00099757  0.00099757  0.00099756\n",
      "  0.00099756  0.00099756  0.00099756  0.00099755  0.00099755  0.00099754\n",
      "  0.00099754  0.00099753  0.00099753  0.00099752  0.00099752  0.00099752\n",
      "  0.00099751  0.00099751  0.00099751  0.00099751  0.00099751  0.0009975\n",
      "  0.0009975   0.0009975   0.0009975   0.00099749  0.00099749  0.00099749\n",
      "  0.00099749  0.00099748  0.00099748  0.00099748  0.00099748  0.00099747\n",
      "  0.00099745  0.00099745  0.00099745  0.00099744  0.00099744  0.00099744\n",
      "  0.00099743  0.00099743  0.00099743  0.00099743  0.00099742  0.00099742\n",
      "  0.00099742  0.00099742  0.00099742  0.00099742  0.00099741  0.00099741\n",
      "  0.00099741  0.00099741  0.00099741  0.0009974   0.0009974   0.00099739\n",
      "  0.00099739  0.00099739  0.00099738  0.00099737  0.00099737  0.00099737\n",
      "  0.00099737  0.00099737  0.00099737  0.00099736  0.00099735  0.00099735\n",
      "  0.00099735  0.00099734  0.00099733  0.00099733  0.00099732  0.00099732\n",
      "  0.00099732  0.00099732  0.00099732  0.00099732  0.00099732  0.00099732\n",
      "  0.00099731  0.00099731  0.00099731  0.0009973   0.0009973   0.0009973\n",
      "  0.00099729  0.00099729  0.00099728  0.00099728  0.00099727  0.00099727\n",
      "  0.00099726  0.00099726  0.00099725  0.00099725  0.00099725  0.00099724\n",
      "  0.00099724  0.00099724  0.00099724  0.00099724  0.00099723  0.00099723\n",
      "  0.00099723  0.00099722  0.00099722  0.00099722  0.00099722  0.00099722\n",
      "  0.00099722  0.00099721  0.00099721  0.00099721  0.0009972   0.0009972\n",
      "  0.0009972   0.0009972   0.0009972   0.0009972   0.0009972   0.00099719\n",
      "  0.00099719  0.00099718  0.00099718  0.00099718  0.00099718  0.00099718\n",
      "  0.00099717  0.00099717  0.00099717  0.00099716  0.00099716  0.00099716\n",
      "  0.00099714  0.00099714  0.00099714  0.00099714  0.00099713  0.00099711\n",
      "  0.00099711  0.0009971   0.00099709  0.00099709  0.00099709  0.00099708\n",
      "  0.00099708  0.00099707  0.00099707  0.00099707  0.00099706  0.00099706\n",
      "  0.00099705  0.00099705  0.00099705  0.00099705  0.00099704  0.00099704\n",
      "  0.00099703  0.00099703  0.00099703  0.00099703  0.00099702  0.00099702\n",
      "  0.00099702  0.00099701  0.00099701  0.000997    0.000997    0.00099699\n",
      "  0.00099698  0.00099698  0.00099697  0.00099697  0.00099697  0.00099696\n",
      "  0.00099696  0.00099696  0.00099696  0.00099696  0.00099696  0.00099695\n",
      "  0.00099694  0.00099694  0.00099693  0.00099693  0.00099693  0.00099693\n",
      "  0.00099692  0.00099692  0.00099691  0.00099691  0.00099691  0.00099691\n",
      "  0.00099691  0.00099691  0.0009969   0.0009969   0.0009969   0.0009969\n",
      "  0.00099689  0.00099688  0.00099688  0.00099688  0.00099687  0.00099687\n",
      "  0.00099687  0.00099686  0.00099686  0.00099686  0.00099686  0.00099686\n",
      "  0.00099685  0.00099685  0.00099684  0.00099683  0.00099682  0.00099682\n",
      "  0.00099681  0.0009968   0.0009968   0.00099679  0.00099678  0.00099678\n",
      "  0.00099678  0.00099677  0.00099677  0.00099677  0.00099677  0.00099677\n",
      "  0.00099677  0.00099677  0.00099677  0.00099676  0.00099676  0.00099676\n",
      "  0.00099675  0.00099675  0.00099674  0.00099674  0.00099673  0.00099673\n",
      "  0.00099673  0.00099673  0.00099673  0.00099672  0.00099672  0.00099671\n",
      "  0.0009967   0.0009967   0.00099669  0.00099669  0.00099668  0.00099668\n",
      "  0.00099668  0.00099668  0.00099668  0.00099667  0.00099667  0.00099666\n",
      "  0.00099665  0.00099665  0.00099665  0.00099664  0.00099664  0.00099664\n",
      "  0.00099663  0.00099663  0.00099662  0.00099661  0.0009966   0.0009966\n",
      "  0.0009966   0.0009966   0.0009966   0.0009966   0.00099659  0.00099659\n",
      "  0.00099658  0.00099658  0.00099658  0.00099657  0.00099657  0.00099657\n",
      "  0.00099657  0.00099656  0.00099656  0.00099656  0.00099656  0.00099656\n",
      "  0.00099654  0.00099654  0.00099654  0.00099653  0.00099651  0.0009965\n",
      "  0.0009965   0.0009965   0.00099649  0.00099649  0.00099649  0.00099648\n",
      "  0.00099647  0.00099646  0.00099646  0.00099645  0.00099642  0.0009964\n",
      "  0.0009964   0.0009964   0.00099639  0.00099638  0.00099637  0.00099637\n",
      "  0.00099637  0.00099636  0.00099635  0.00099634  0.00099634  0.00099633\n",
      "  0.00099632  0.00099631  0.00099631  0.00099627  0.00099626  0.00099626\n",
      "  0.00099626  0.00099623  0.0009962   0.00099619  0.00099615  0.00099615\n",
      "  0.00099613  0.00099611  0.00099609  0.00099607  0.00099605  0.00099602\n",
      "  0.00099601  0.00099597  0.00099595  0.00099594  0.0009959   0.00099588\n",
      "  0.0009958   0.00099574  0.00099565]\n"
     ]
    }
   ],
   "source": [
    "topics = lda.components_\n",
    "topic_probs = [t/np.sum(t) for t in topics]\n",
    "#print topic_probs[0]\n",
    "print -np.sort(-topic_probs[0])\n"
   ]
  },
  {
   "cell_type": "markdown",
   "metadata": {},
   "source": [
    "**Exercise**: Represent graphically the topic distributions"
   ]
  },
  {
   "cell_type": "markdown",
   "metadata": {},
   "source": [
    "**Exercise**: Explore the influence of the concentration parameters, $alpha$ (`doc_topic_prior` in `sklearn`) and $eta$(`topic_word_prior`). In particular observe how do topic and document distributions change as these parameters increase."
   ]
  },
  {
   "cell_type": "markdown",
   "metadata": {},
   "source": [
    "** Exercise**: The token dictionary and the token distribution have shown that:\n",
    "\n",
    "1. Some tokens, despite being very frequent in the corpus, have no semantic relevance for topic modeling. Unfortunately, they were not present in the stopword list, and have not been elliminated before the analysis.\n",
    "\n",
    "2. A large portion of tokens appear only once and, thus, they are not statistically relevant for the inference engine of the topic models.\n",
    "\n",
    "Revise the entire corpus be removing from the corpus all these sets of terms.\n"
   ]
  },
  {
   "cell_type": "markdown",
   "metadata": {},
   "source": [
    "** Exercise**: Note that we have not used the terms in the article titles, though the can be expected to containg relevant words for the topic modeling. Include the title words in the analyisis. In order to give them a special relevante, insert them in the corpus several time, so as to make their words more significant.\n",
    "\n",
    "\n"
   ]
  },
  {
   "cell_type": "markdown",
   "metadata": {},
   "source": [
    "** Exercise**: The topic modelling algorithms we have tested in this notebook are non-supervised. This makes them difficult to evaluate objectivelly. In order to test if LDA captures real topics, construct a dataset as the mixture of wikipedia articles from 4 different categories, and test if LDA with 4 topics identifies topics closely related to the original categories."
   ]
  }
 ],
 "metadata": {
  "anaconda-cloud": {},
  "celltoolbar": "Slideshow",
  "kernelspec": {
   "display_name": "Python [default]",
   "language": "python",
   "name": "python2"
  },
  "language_info": {
   "codemirror_mode": {
    "name": "ipython",
    "version": 2
   },
   "file_extension": ".py",
   "mimetype": "text/x-python",
   "name": "python",
   "nbconvert_exporter": "python",
   "pygments_lexer": "ipython2",
   "version": "2.7.12"
  }
 },
 "nbformat": 4,
 "nbformat_minor": 0
}
