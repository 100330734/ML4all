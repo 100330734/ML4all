{
 "cells": [
  {
   "cell_type": "markdown",
   "metadata": {},
   "source": [
    "# **Classification**\n",
    "\n",
    "    Notebook version: 1.0 (Nov 11, 2015)\n",
    "\n",
    "    Authors: Jesús Cid Sueiro (jcid@tsc.uc3m.es)\n",
    "\n",
    "    Changes: v.1.0 - First version. Python version"
   ]
  },
  {
   "cell_type": "code",
   "execution_count": 90,
   "metadata": {
    "collapsed": false
   },
   "outputs": [],
   "source": [
    "# Import some libraries that will be necessary for working with data and displaying plots\n",
    "\n",
    "# To visualize plots in the notebook\n",
    "%matplotlib inline \n",
    "\n",
    "#import matplotlib\n",
    "import matplotlib.pyplot as plt\n",
    "import numpy as np\n",
    "import scipy.io       # To read matlab files\n",
    "from sklearn.preprocessing import PolynomialFeatures\n",
    "from sklearn import svm, cross_validation\n",
    "\n",
    "import pylab\n",
    "pylab.rcParams['figure.figsize'] = 9, 7"
   ]
  },
  {
   "cell_type": "markdown",
   "metadata": {},
   "source": [
    "## 1. Introduction\n",
    "\n",
    "In this notebook we will analyze the behavior of logistic regression and support vector machines on the `cancer` dataset, taken from the <a href = https://archive.ics.uci.edu/ml/index.html>UCI repository </a>. You can load it from from file `CancerDataset.mat`. "
   ]
  },
  {
   "cell_type": "markdown",
   "metadata": {},
   "source": [
    "### 1.1 Data Preparation.\n",
    "\n",
    "Load and normalize the dataset. Remind that the same transformation must be applied to training, validation and test data."
   ]
  },
  {
   "cell_type": "code",
   "execution_count": null,
   "metadata": {
    "collapsed": false
   },
   "outputs": [],
   "source": []
  },
  {
   "cell_type": "markdown",
   "metadata": {},
   "source": [
    "## 2. Linear Classification with Logistic Regression.\n",
    "\n",
    "First we will analyze the behavior of logistic regression for this dataset. \n",
    "\n",
    "### 2.1. MAP estimator.\n",
    "\n",
    "Implement a function to compute the MAP estimate of the parameters of a linear logistic regression model with gaussian prior and a given values of the inverse regularization parameter $C$. The method should return the estimated parameter and the negative log-likelihood, $L({\\bf w})$. The sintaxis must be\n",
    "    **`w, L = logregFitR(Z_tr, Y_tr, rho, C, n_it)`**\n",
    "where\n",
    "\n",
    "  - `Z_tr` is the input training data matrix (one instance per row)\n",
    "  - `Y_tr` contains the labels of corresponding to each row in the data matrix\n",
    "  - `rho` is the learning step\n",
    "  - `C` is the inverse regularizer\n",
    "  - `n_it` is the number of iterations\n"
   ]
  },
  {
   "cell_type": "code",
   "execution_count": null,
   "metadata": {
    "collapsed": true
   },
   "outputs": [],
   "source": []
  },
  {
   "cell_type": "markdown",
   "metadata": {},
   "source": [
    "### 2..2 Log-likelihood\n",
    "\n",
    "Compute the MAP estimate for a polynomial regression with degree 5, for $C$ ranging from -0.05 to 10. Sample $C$ uniformly in a log scale, an plot using `plt.semilogx`. \n",
    "\n",
    "Plot the final value of $L$ as a function of $C$. Can you explain the qualitative behavior of $L$ as $C$ grows?\n",
    "\n",
    "The plot may show some oscillation because of the random noice introduced by random initializations of the learning algoritm. In order to smooth the results, you can initialize the random seed right before calling the `logregFitR` method, using\n",
    "\n",
    "    np.random.seed(3)\n"
   ]
  },
  {
   "cell_type": "code",
   "execution_count": null,
   "metadata": {
    "collapsed": false
   },
   "outputs": [],
   "source": []
  },
  {
   "cell_type": "markdown",
   "metadata": {},
   "source": [
    "###  2.3. Training and test errors.\n",
    "\n",
    "Plot the training and validation error rates as a function of $C$. Compute the value of $C$ minimizing the validation error rate.\n"
   ]
  },
  {
   "cell_type": "code",
   "execution_count": null,
   "metadata": {
    "collapsed": false
   },
   "outputs": [],
   "source": []
  },
  {
   "cell_type": "markdown",
   "metadata": {},
   "source": [
    "## 3. Non-linear classification with Support Vector Machines\n",
    "\n",
    "In this section we will train a SVM with Gaussian kernels. In this case, we will select parameter $C$ of the SVM by cross-validation.\n",
    "\n",
    "### 3.1. Dataset preparation.\n",
    "\n",
    "Join the training and validation datasets in a single input matrix `X_tr2` and a single label vector `Y_tr2`"
   ]
  },
  {
   "cell_type": "code",
   "execution_count": null,
   "metadata": {
    "collapsed": false
   },
   "outputs": [],
   "source": []
  },
  {
   "cell_type": "markdown",
   "metadata": {},
   "source": [
    "### 3.2. Cross validated error estimate\n",
    "\n",
    "Apply a 10-fold cross validation procedure to estimate the average error rate of the SVM for $C=1$ and $\\gamma$ (which is the kernel width) equal to 5."
   ]
  },
  {
   "cell_type": "code",
   "execution_count": null,
   "metadata": {
    "collapsed": false
   },
   "outputs": [],
   "source": []
  },
  {
   "cell_type": "markdown",
   "metadata": {},
   "source": [
    "### 3.3. Influence of $C$.\n",
    "\n",
    "Repeate exercise 3.2 for $\\gamma=5$ and different values of $C$, ranging from $10^{-3}$ to $10^{4}$, obtained by uniform sampling in a logarithmic scale. Plot the average number of errors as function of $C$.\n",
    "\n",
    "Note that fitting the SVM may take some time, specially for the largest values of $C$."
   ]
  },
  {
   "cell_type": "code",
   "execution_count": null,
   "metadata": {
    "collapsed": false
   },
   "outputs": [],
   "source": []
  },
  {
   "cell_type": "markdown",
   "metadata": {},
   "source": [
    "### 3.3. Hyperparameter optimization.\n",
    "\n",
    "Compute the value of $C$ minimizing the validation error rate."
   ]
  },
  {
   "cell_type": "code",
   "execution_count": null,
   "metadata": {
    "collapsed": false
   },
   "outputs": [],
   "source": []
  },
  {
   "cell_type": "markdown",
   "metadata": {},
   "source": [
    "### 3.4. Test error\n",
    "\n",
    "Evaluate the classifier performance using the test data, for the selected hyperparameter values.\n"
   ]
  },
  {
   "cell_type": "code",
   "execution_count": null,
   "metadata": {
    "collapsed": false
   },
   "outputs": [],
   "source": []
  }
 ],
 "metadata": {
  "kernelspec": {
   "display_name": "Python 2",
   "language": "python",
   "name": "python2"
  },
  "language_info": {
   "codemirror_mode": {
    "name": "ipython",
    "version": 2
   },
   "file_extension": ".py",
   "mimetype": "text/x-python",
   "name": "python",
   "nbconvert_exporter": "python",
   "pygments_lexer": "ipython2",
   "version": "2.7.10"
  }
 },
 "nbformat": 4,
 "nbformat_minor": 0
}
