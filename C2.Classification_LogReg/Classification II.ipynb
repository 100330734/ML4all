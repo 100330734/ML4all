{
 "cells": [
  {
   "cell_type": "markdown",
   "metadata": {},
   "source": [
    "# **Classification II Lab: Working with classifiers**\n",
    "\n",
    "In this lab session we are going to deep in our knowledge about classifiers by managing most well-known classification algorithms and reviewing some useful techniques, such as the cross validation process, which will allow us to adjust the free parameters of the classifier. For this lab session, we will work with a real multiclass data set: Iris. \n",
    "\n",
    "#### ** During this lab we will cover: **\n",
    "#### * Part 1: K-Nearest Neighbours (K-NN)*\n",
    "#### * Part 2: Support Vector Machines (SVMs) with different kernel funcions*\n",
    "#### * Part 3: Trees and random forests*\n",
    "#### * Part 4: Ensembles of classifiers: bagging and boosting*\n",
    "\n",
    "\n",
    "\n",
    "As in previous lab session, to implement the different approaches we will base in [Scikit-Learn](http://scikit-learn.org/stable/) python toolbox."
   ]
  },
  {
   "cell_type": "markdown",
   "metadata": {
    "collapsed": true
   },
   "source": [
    "### ** Part 0: Load and prepare the data **\n",
    "\n",
    "The [Iris data set](https://en.wikipedia.org/wiki/Iris_flower_data_set) consists of 150 patterns corresponding to 3 different types of irises: Setosa, Versicolour, and Virginica. Each pattern contains the sepal and petal lengths and widths. Despite having four input features, for display purposes, we are going to start working with the first two features: sepal length and sepal width. \n",
    "\n",
    "The below code let you:\n",
    "* create training and testing partitions with the 60% and 40% of the original data\n",
    "* normalize the data to zero mean and unitary standard deviation \n"
   ]
  },
  {
   "cell_type": "code",
   "execution_count": 1,
   "metadata": {
    "collapsed": true
   },
   "outputs": [],
   "source": [
    "%matplotlib inline"
   ]
  },
  {
   "cell_type": "code",
   "execution_count": 2,
   "metadata": {
    "collapsed": false
   },
   "outputs": [],
   "source": [
    "import numpy as np\n",
    "from sklearn import datasets\n",
    "from sklearn.cross_validation import train_test_split\n",
    "from sklearn.preprocessing import StandardScaler\n",
    "\n",
    "# Initialize the random generator seed to compare results\n",
    "np.random.seed(0)\n",
    "\n",
    "# Load Iris data set\n",
    "iris = datasets.load_iris()\n",
    "X = iris.data[:,[ 1, 3]]  # we only take the first two features.\n",
    "Y = iris.target\n",
    "\n",
    "# Create data partitions\n",
    "X_train, X_test, Y_train, Y_test = train_test_split(X, Y, test_size=.6)\n",
    "\n",
    "# Normalize the data\n",
    "scaler = StandardScaler()\n",
    "X_train = scaler.fit_transform(X_train)\n",
    "X_test = scaler.transform(X_test)"
   ]
  },
  {
   "cell_type": "markdown",
   "metadata": {},
   "source": [
    "### ** Part 1: K-NN**\n",
    "\n",
    "A K-NN approach classifies each new data searching its K nearest neighbors (among the training data) and assigning the majority class among these neighbors. As expected, its performance depends on the number of neighbors (K) used.\n",
    "\n",
    "#### ** 1.1: Training a K-NN classifier**\n",
    "To start to work, let's analyze for different values of K the K-NN performance, both over training and test sets. Use the [KNeighborsClassifier()](http://scikit-learn.org/stable/modules/generated/sklearn.neighbors.KNeighborsClassifier.html) method to complete the below code."
   ]
  },
  {
   "cell_type": "code",
   "execution_count": null,
   "metadata": {
    "collapsed": false
   },
   "outputs": [],
   "source": [
    "###########################################################\n",
    "# TODO: Replace <FILL IN> with appropriate code\n",
    "###########################################################\n",
    "\n",
    "from sklearn import neighbors\n",
    "\n",
    "K_max=20\n",
    "rang_K = np.arange(1, K_max+1)\n",
    "vect_tr=[]\n",
    "vect_test=[]\n",
    "\n",
    "for n_neighbors in rang_K:\n",
    "    # Create a KNN classifier, train it and compute training and error accuracies.\n",
    "    clf = #<FILL IN>\n",
    "    acc_tr = #<FILL IN>\n",
    "    acc_test = #<FILL IN>\n",
    "    \n",
    "    # Saving accuracies in a list \n",
    "    vect_tr.append(acc_tr)\n",
    "    vect_test.append(acc_test)\n",
    "\n",
    "    print(\"For K = %d, train accuracy is %2.2f%% and test accuracy is %2.2f%%\"\n",
    "          % (n_neighbors, 100*acc_tr, 100*acc_test))\n",
    "    "
   ]
  },
  {
   "cell_type": "code",
   "execution_count": 3,
   "metadata": {
    "collapsed": false
   },
   "outputs": [
    {
     "name": "stdout",
     "output_type": "stream",
     "text": [
      "For K = 1, train accuracy is 100.00% and test accuracy is 88.89%\n",
      "For K = 2, train accuracy is 96.67% and test accuracy is 86.67%\n",
      "For K = 3, train accuracy is 95.00% and test accuracy is 94.44%\n",
      "For K = 4, train accuracy is 93.33% and test accuracy is 94.44%\n",
      "For K = 5, train accuracy is 95.00% and test accuracy is 94.44%\n",
      "For K = 6, train accuracy is 95.00% and test accuracy is 94.44%\n",
      "For K = 7, train accuracy is 95.00% and test accuracy is 94.44%\n",
      "For K = 8, train accuracy is 95.00% and test accuracy is 94.44%\n",
      "For K = 9, train accuracy is 95.00% and test accuracy is 95.56%\n",
      "For K = 10, train accuracy is 95.00% and test accuracy is 93.33%\n",
      "For K = 11, train accuracy is 95.00% and test accuracy is 92.22%\n",
      "For K = 12, train accuracy is 93.33% and test accuracy is 91.11%\n",
      "For K = 13, train accuracy is 95.00% and test accuracy is 91.11%\n",
      "For K = 14, train accuracy is 95.00% and test accuracy is 91.11%\n",
      "For K = 15, train accuracy is 95.00% and test accuracy is 91.11%\n",
      "For K = 16, train accuracy is 95.00% and test accuracy is 91.11%\n",
      "For K = 17, train accuracy is 95.00% and test accuracy is 91.11%\n",
      "For K = 18, train accuracy is 91.67% and test accuracy is 90.00%\n",
      "For K = 19, train accuracy is 90.00% and test accuracy is 88.89%\n",
      "For K = 20, train accuracy is 90.00% and test accuracy is 86.67%\n"
     ]
    }
   ],
   "source": [
    "###########################################################\n",
    "# SOLUTION\n",
    "###########################################################\n",
    "\n",
    "from sklearn import neighbors\n",
    "\n",
    "K_max=20\n",
    "rang_K = np.arange(1, K_max+1)\n",
    "vect_tr=[]\n",
    "vect_test=[]\n",
    "\n",
    "for n_neighbors in rang_K:\n",
    "    # Create a KNN classifier, train it and compute training and error accuracies.\n",
    "    clf = neighbors.KNeighborsClassifier(n_neighbors)\n",
    "    clf.fit(X_train, Y_train)\n",
    "    acc_tr = clf.score(X_train, Y_train)\n",
    "    acc_test=clf.score(X_test,Y_test)\n",
    "    \n",
    "    # Saving accuracies in a list\n",
    "    vect_tr.append(acc_tr)\n",
    "    vect_test.append(acc_test)\n",
    "\n",
    "    print(\"For K = %d, train accuracy is %2.2f%% and test accuracy is %2.2f%%\"\n",
    "          % (n_neighbors, 100*acc_tr, 100*acc_test))\n",
    "    "
   ]
  },
  {
   "cell_type": "code",
   "execution_count": 6,
   "metadata": {
    "collapsed": false
   },
   "outputs": [
    {
     "name": "stdout",
     "output_type": "stream",
     "text": [
      "1 test passed.\n",
      "1 test passed.\n"
     ]
    }
   ],
   "source": [
    "###########################################################\n",
    "# TEST CELL\n",
    "###########################################################\n",
    "from test_helper import Test\n",
    "\n",
    "# TEST accuracy values\n",
    "Test.assertEquals(np.round(np.sum(np.array(vect_tr)),2), 18.90, 'incorrect result: Training error of K-NN is uncorrect')\n",
    "Test.assertEquals(np.round(np.sum(np.array(vect_test)),2), 18.36, 'incorrect result: Test error of K-NN is uncorrect')\n"
   ]
  },
  {
   "cell_type": "markdown",
   "metadata": {},
   "source": [
    "Next code, let you plot the evolution of above computed train and test accuracies."
   ]
  },
  {
   "cell_type": "code",
   "execution_count": 7,
   "metadata": {
    "collapsed": false
   },
   "outputs": [
    {
     "data": {
      "image/png": "[encoded data removed]",
      "text/plain": [
       "<matplotlib.figure.Figure at 0x10e1ad350>"
      ]
     },
     "metadata": {},
     "output_type": "display_data"
    }
   ],
   "source": [
    "#Plot acc vs K\n",
    "import matplotlib.pyplot as plt\n",
    "\n",
    "plt.figure()\n",
    "plt.plot(rang_K,vect_tr,'b', label='Training accuracy')\n",
    "plt.plot(rang_K,vect_test,'r', label='Test accuracy')\n",
    "plt.legend()\n",
    "plt.xlabel('K value')\n",
    "plt.ylabel('Accuracy')\n",
    "plt.title('Evolution of K-NN accuracy')\n",
    "plt.show()"
   ]
  },
  {
   "cell_type": "markdown",
   "metadata": {},
   "source": [
    "Above figure points out the necessity of selecting the adequate value of K, and using the training error for such selection would provide a poor generalization.\n",
    "\n",
    "#### ** 1.2: Selecting the number of neighbors of a K-NN classifier**\n",
    "\n",
    "Therefore, next step will consist of applying a cross validation (CV) process to select the optimum value of K. You can use the [GridSearchCV( )](http://scikit-learn.org/stable/modules/generated/sklearn.grid_search.GridSearchCV.html) function to implement it. "
   ]
  },
  {
   "cell_type": "code",
   "execution_count": null,
   "metadata": {
    "collapsed": false
   },
   "outputs": [],
   "source": [
    "###########################################################\n",
    "# TODO: Replace <FILL IN> with appropriate code\n",
    "###########################################################\n",
    "\n",
    "from sklearn import neighbors\n",
    "from sklearn.grid_search import GridSearchCV\n",
    "\n",
    "# Parameters\n",
    "K_max = 20\n",
    "rang_K = np.arange(1, K_max+1)\n",
    "tuned_parameters = [{'n_neighbors': rang_K}]\n",
    "nfold = 10\n",
    "score = 'precision'\n",
    "\n",
    "# Cross validation proccess <FILL IN>\n",
    "clf = #<FILL IN>"
   ]
  },
  {
   "cell_type": "code",
   "execution_count": 8,
   "metadata": {
    "collapsed": false
   },
   "outputs": [
    {
     "name": "stdout",
     "output_type": "stream",
     "text": [
      "CV process sucessfully finished\n"
     ]
    },
    {
     "name": "stderr",
     "output_type": "stream",
     "text": [
      "/Users/vanessa/anaconda/lib/python2.7/site-packages/sklearn/metrics/metrics.py:1771: UndefinedMetricWarning: Precision is ill-defined and being set to 0.0 in labels with no predicted samples.\n",
      "  'precision', 'predicted', average, warn_for)\n"
     ]
    }
   ],
   "source": [
    "###########################################################\n",
    "# SOLUTION\n",
    "###########################################################\n",
    "\n",
    "from sklearn import neighbors\n",
    "from sklearn.grid_search import GridSearchCV\n",
    "\n",
    "# Parameters\n",
    "K_max = 20\n",
    "rang_K = np.arange(1, K_max+1)\n",
    "tuned_parameters = [{'n_neighbors': rang_K}]\n",
    "nfold = 10\n",
    "score = 'precision'\n",
    "\n",
    "# Cross validation proccess <FILL IN>\n",
    "clf = GridSearchCV(neighbors.KNeighborsClassifier( ),\n",
    "                   tuned_parameters, cv=nfold, scoring=score)\n",
    "clf.fit(X_train, Y_train)\n",
    "\n",
    "print 'CV process sucessfully finished'"
   ]
  },
  {
   "cell_type": "markdown",
   "metadata": {},
   "source": [
    "After running the CV process, the classifier object  contains the information of the CV process (next cell explore the .grid\\_scores\\_ parameter to obtain this information)."
   ]
  },
  {
   "cell_type": "code",
   "execution_count": 9,
   "metadata": {
    "collapsed": false
   },
   "outputs": [
    {
     "name": "stdout",
     "output_type": "stream",
     "text": [
      "Cross validation results:\n",
      "For K = 1, validation accuracy is 92.78 (+/-4.957)%\n",
      "For K = 2, validation accuracy is 92.78 (+/-4.957)%\n",
      "For K = 3, validation accuracy is 93.89 (+/-5.032)%\n",
      "For K = 4, validation accuracy is 93.89 (+/-5.032)%\n",
      "For K = 5, validation accuracy is 93.89 (+/-5.032)%\n",
      "For K = 6, validation accuracy is 95.00 (+/-5.045)%\n",
      "For K = 7, validation accuracy is 95.00 (+/-5.045)%\n",
      "For K = 8, validation accuracy is 95.00 (+/-5.045)%\n",
      "For K = 9, validation accuracy is 95.00 (+/-5.045)%\n",
      "For K = 10, validation accuracy is 93.89 (+/-5.000)%\n",
      "For K = 11, validation accuracy is 93.89 (+/-5.000)%\n",
      "For K = 12, validation accuracy is 93.89 (+/-5.000)%\n",
      "For K = 13, validation accuracy is 95.00 (+/-5.045)%\n",
      "For K = 14, validation accuracy is 93.06 (+/-4.939)%\n",
      "For K = 15, validation accuracy is 94.17 (+/-5.008)%\n",
      "For K = 16, validation accuracy is 89.44 (+/-8.514)%\n",
      "For K = 17, validation accuracy is 91.94 (+/-4.789)%\n",
      "For K = 18, validation accuracy is 86.11 (+/-8.848)%\n",
      "For K = 19, validation accuracy is 89.44 (+/-8.508)%\n",
      "For K = 20, validation accuracy is 87.22 (+/-9.103)%\n"
     ]
    },
    {
     "data": {
      "image/png": "[encoded data removed]",
      "text/plain": [
       "<matplotlib.figure.Figure at 0x110302450>"
      ]
     },
     "metadata": {},
     "output_type": "display_data"
    }
   ],
   "source": [
    "# Printing results\n",
    "print(\"Cross validation results:\")\n",
    "for params, mean_score, scores in clf.grid_scores_:\n",
    "    print(\"For K = %d, validation accuracy is %2.2f (+/-%1.3f)%%\" \n",
    "          % (params['n_neighbors'], 100*mean_score, 100*scores.std() / 2))\n",
    "\n",
    "# Selecting validation error (mean values)\n",
    "vect_val=[CV_result[1] for CV_result in clf.grid_scores_]\n",
    "\n",
    "# Ploting results\n",
    "plt.figure()\n",
    "plt.plot(rang_K,vect_tr,'b', label='Training accuracy')\n",
    "plt.plot(rang_K,vect_test,'r', label='Test accuracy')\n",
    "plt.plot(rang_K,vect_val,'g', label='Validation accuracy')\n",
    "plt.legend()\n",
    "plt.xlabel('K value')\n",
    "plt.ylabel('Accuracy')\n",
    "plt.title('Evolution of K-NN accuracy (including validation result)')\n",
    "plt.show()"
   ]
  },
  {
   "cell_type": "markdown",
   "metadata": {},
   "source": [
    "Examine the fields .best\\_estimator\\_ and .best\\_params\\_ of the classifier generated by the CV process to check the selected value of K and to access to the final classifier trained with this select value. Save the selected value of K in variable denoted K_opt and compute the test error of the final classifier."
   ]
  },
  {
   "cell_type": "code",
   "execution_count": null,
   "metadata": {
    "collapsed": false
   },
   "outputs": [],
   "source": [
    "###########################################################\n",
    "# TODO: Replace <FILL IN> with appropriate code\n",
    "###########################################################\n",
    "\n",
    "# Assign to K_opt the value of K selected by CV\n",
    "K_opt = # <FILL IN>\n",
    "print(\"The value optimum of K is %d\" %(K_opt))\n",
    "\n",
    "# Select the final classifier  and compute its test error\n",
    "KNN_acc_test = # <FILL IN>\n",
    "print(\"The test accuracy is %2.2f\" %(100*KNN_acc_test))"
   ]
  },
  {
   "cell_type": "code",
   "execution_count": 10,
   "metadata": {
    "collapsed": false
   },
   "outputs": [
    {
     "name": "stdout",
     "output_type": "stream",
     "text": [
      "The value optimum of K is 6\n",
      "The test accuracy is 94.44\n"
     ]
    }
   ],
   "source": [
    "###########################################################\n",
    "# SOLUTION\n",
    "###########################################################\n",
    "\n",
    "# Assign to K_opt the value of K selected by CV\n",
    "K_opt = clf.best_params_['n_neighbors']\n",
    "print(\"The value optimum of K is %d\" %(K_opt))\n",
    "\n",
    "# Select the final classifier  and compute its test error\n",
    "KNN_acc_test = clf.best_estimator_.score(X_test, Y_test)\n",
    "print(\"The test accuracy is %2.2f\" %(100*KNN_acc_test))"
   ]
  },
  {
   "cell_type": "markdown",
   "metadata": {},
   "source": [
    "Note that you can also compute the test error directly over the classifier object return by the CV process"
   ]
  },
  {
   "cell_type": "code",
   "execution_count": 11,
   "metadata": {
    "collapsed": false
   },
   "outputs": [
    {
     "name": "stdout",
     "output_type": "stream",
     "text": [
      "The test accuracy is 94.44\n"
     ]
    }
   ],
   "source": [
    "KNN_acc_test2 = clf.score(X_test, Y_test)\n",
    "print(\"The test accuracy is %2.2f\" %(100*KNN_acc_test2))"
   ]
  },
  {
   "cell_type": "code",
   "execution_count": 12,
   "metadata": {
    "collapsed": false
   },
   "outputs": [
    {
     "name": "stdout",
     "output_type": "stream",
     "text": [
      "1 test passed.\n",
      "1 test passed.\n"
     ]
    }
   ],
   "source": [
    "###########################################################\n",
    "# TEST CELL\n",
    "###########################################################\n",
    "from test_helper import Test\n",
    "\n",
    "# TEST accuracy values\n",
    "Test.assertEquals(K_opt, 6, 'incorrect result: The value of K_opt is uncorrect')\n",
    "Test.assertEquals(np.round(KNN_acc_test,4), 0.9444, 'incorrect result: Test error of K-NN after CV process is uncorrect')\n"
   ]
  },
  {
   "cell_type": "markdown",
   "metadata": {},
   "source": [
    "#### ** 1.3: Plotting K-NN classification boundary**\n",
    "\n",
    "To finish this section, we are going to plot classification boundary of the K-NN classifier. For this purpose, next cell contains the plot_boundary function used in the first lab session. Use this function to plot the classification boundary of the cross validated K-NN classifier over training and test data."
   ]
  },
  {
   "cell_type": "code",
   "execution_count": 13,
   "metadata": {
    "collapsed": true
   },
   "outputs": [],
   "source": [
    "# Plot the decision boundary\n",
    "import matplotlib.pyplot as plt\n",
    "\n",
    "def plot_boundary(clf, X, Y, plt):\n",
    "    \"\"\"Plot the classification regions for a given classifier.\n",
    "\n",
    "    Args:\n",
    "        clf: scikit-learn classifier object.\n",
    "        X (numpy dnarray): training or test data to be plotted (number data x number dimensions). Only frist two \n",
    "                            dimensions are ploted\n",
    "        Y (numpy dnarray): labels of the training or test data to be plotted (number data x 1).\n",
    "        plt: graphic object where you wish to plot                                             \n",
    "   \n",
    "    \"\"\"\n",
    "\n",
    "    plot_colors = \"brymc\"\n",
    "    plot_step = 0.02\n",
    "    n_classes = np.unique(Y).shape[0]\n",
    "    # Plot the decision regions\n",
    "    x_min, x_max = X[:, 0].min() - 1, X[:, 0].max() + 1\n",
    "    y_min, y_max = X[:, 1].min() - 1, X[:, 1].max() + 1\n",
    "    xx, yy = np.meshgrid(np.arange(x_min, x_max, plot_step),\n",
    "                        np.arange(y_min, y_max, plot_step))\n",
    "\n",
    "    Z = clf.predict(np.c_[xx.ravel(), yy.ravel()])\n",
    "    Z = Z.reshape(xx.shape)\n",
    "    cs = plt.contourf(xx, yy, Z, cmap=plt.cm.Paired)\n",
    "\n",
    "    plt.xlabel('Feature 1')\n",
    "    plt.ylabel('Feature 2')\n",
    "    plt.axis(\"tight\")\n",
    "\n",
    "    # Plot the training points\n",
    "    for i, color in zip(range(n_classes), plot_colors):\n",
    "        idx = np.where(Y == i)\n",
    "        plt.scatter(X[idx, 0], X[idx, 1], c=color, cmap=plt.cm.Paired)\n",
    "\n",
    "    plt.axis(\"tight\")"
   ]
  },
  {
   "cell_type": "code",
   "execution_count": null,
   "metadata": {
    "collapsed": false
   },
   "outputs": [],
   "source": [
    "###########################################################\n",
    "# TODO: Replace <FILL IN> with appropriate code\n",
    "###########################################################\n",
    "\n",
    "# Plot classification boundary over training data\n",
    "plt.figure(1,figsize=(8, 6))\n",
    "# <FILL IN> \n",
    "\n",
    "# Plot classification boundary over test data\n",
    "plt.figure(2,figsize=(8, 6))\n",
    "# <FILL IN> \n",
    "\n",
    "plt.show()"
   ]
  },
  {
   "cell_type": "code",
   "execution_count": 14,
   "metadata": {
    "collapsed": false
   },
   "outputs": [
    {
     "data": {
      "image/png": "[encoded data removed]",
      "text/plain": [
       "<matplotlib.figure.Figure at 0x11032f850>"
      ]
     },
     "metadata": {},
     "output_type": "display_data"
    },
    {
     "data": {
      "image/png": "[encoded data removed]",
      "text/plain": [
       "<matplotlib.figure.Figure at 0x110327e10>"
      ]
     },
     "metadata": {},
     "output_type": "display_data"
    }
   ],
   "source": [
    "###########################################################\n",
    "# SOLUTION\n",
    "###########################################################\n",
    "\n",
    "# Plot classification boundary over training data\n",
    "plt.figure(1,figsize=(4, 4))\n",
    "plot_boundary(clf, X_train, Y_train, plt)\n",
    "\n",
    "# Plot classification boundary over test data\n",
    "plt.figure(2,figsize=(4, 4))\n",
    "plot_boundary(clf, X_test, Y_test, plt)\n",
    "\n",
    "plt.show()"
   ]
  },
  {
   "cell_type": "markdown",
   "metadata": {},
   "source": [
    "### ** Part 2: SVM**\n",
    "\n",
    "SVM is one of the most well-known classifiers due to its good generalization properties in many different applications. Besides, by means of the kernel trick, its linear formulation can easily extended to a non linear fashion. \n",
    "\n",
    "Here, we will test its performance when different kernel functions are used. For this purpose, we can use the [SCV( )](http://scikit-learn.org/stable/modules/generated/sklearn.svm.SVC.html#sklearn.svm.SVC) method, which let you select the kernel function to be used, and the method GridSearchCV( ) to adjust the different parameters. \n",
    "\n",
    "Complete the following cells, when it is required, to train in each case a linear SVM (defining kernel='linear' in the method SCV( )), an SVM with gaussian kernel (kernel='rbf') and an SVM with polynomial kernel (kernel='poly'). For each method, adjust the corresponding free parameters with a 10 fold CV process exploring their values in the ranges defined at the beginning of each cell. Return the values of selected parameters and the accuracy of the final SVM."
   ]
  },
  {
   "cell_type": "markdown",
   "metadata": {},
   "source": [
    "#### ** 2.1: Linear SVM**"
   ]
  },
  {
   "cell_type": "code",
   "execution_count": 27,
   "metadata": {
    "collapsed": false
   },
   "outputs": [
    {
     "ename": "SyntaxError",
     "evalue": "invalid syntax (<ipython-input-27-5bb2492657fd>, line 13)",
     "output_type": "error",
     "traceback": [
      "\u001b[0;36m  File \u001b[0;32m\"<ipython-input-27-5bb2492657fd>\"\u001b[0;36m, line \u001b[0;32m13\u001b[0m\n\u001b[0;31m    lin_svc  = # <FILL IN>\u001b[0m\n\u001b[0m                           ^\u001b[0m\n\u001b[0;31mSyntaxError\u001b[0m\u001b[0;31m:\u001b[0m invalid syntax\n"
     ]
    }
   ],
   "source": [
    "###########################################################\n",
    "# TODO: Replace <FILL IN> with appropriate code\n",
    "###########################################################\n",
    "\n",
    "from sklearn import svm\n",
    "rang_C = np.logspace(-3, 3, 10)\n",
    "tuned_parameters = [{'C': rang_C}]\n",
    "\n",
    "nfold = 10\n",
    "score = 'precision'\n",
    "\n",
    "# Train a liner SVM and adjust by CV the parameter C\n",
    "lin_svc  = # <FILL IN> \n",
    "\n",
    "# Save the value of C selected and compute the final accuracy\n",
    "C_opt = # <FILL IN> \n",
    "acc_lin_svc = # <FILL IN> \n",
    "\n",
    "print \"The C value selected is \" + str(C_opt)\n",
    "print(\"The test accuracy of the linear SVM is %2.2f\" %(100*acc_lin_svc))"
   ]
  },
  {
   "cell_type": "code",
   "execution_count": 28,
   "metadata": {
    "collapsed": false
   },
   "outputs": [
    {
     "name": "stdout",
     "output_type": "stream",
     "text": [
      "The C value selected is 0.464158883361\n",
      "The test accuracy of the linear SVM is 95.00\n"
     ]
    }
   ],
   "source": [
    "###########################################################\n",
    "# SOLUTION\n",
    "###########################################################\n",
    "\n",
    "from sklearn import svm\n",
    "rang_C = np.logspace(-3, 3, 10)\n",
    "tuned_parameters = [{'C': rang_C}]\n",
    "\n",
    "nfold = 10\n",
    "score = 'precision'\n",
    "\n",
    "# Train a liner SVM and adjust by CV the parameter C\n",
    "lin_svc  = GridSearchCV(svm.SVC(kernel='linear'),\n",
    "                   tuned_parameters, cv=nfold, scoring=score)\n",
    "lin_svc .fit(X_train, Y_train)\n",
    "\n",
    "# Save the value of C selected and compute the final accuracy\n",
    "C_opt = lin_svc.best_estimator_.C\n",
    "acc_lin_svc = lin_svc.score(X_test, Y_test)\n",
    "\n",
    "\n",
    "print \"The C value selected is \" + str(C_opt)\n",
    "print(\"The test accuracy of the linear SVM is %2.2f\" %(100*acc_lin_svc))\n"
   ]
  },
  {
   "cell_type": "code",
   "execution_count": 19,
   "metadata": {
    "collapsed": false
   },
   "outputs": [
    {
     "name": "stdout",
     "output_type": "stream",
     "text": [
      "1 test passed.\n",
      "1 test passed.\n"
     ]
    }
   ],
   "source": [
    "###########################################################\n",
    "# TEST CELL\n",
    "###########################################################\n",
    "from test_helper import Test\n",
    "\n",
    "# TEST accuracy values\n",
    "Test.assertEquals(np.round(C_opt,2), 0.46, 'incorrect result: The value of C_opt is uncorrect')\n",
    "Test.assertEquals(np.round(acc_lin_svc,4), 0.9556, 'incorrect result: Test accuracy of the linear SVM after CV process is uncorrect')\n"
   ]
  },
  {
   "cell_type": "markdown",
   "metadata": {},
   "source": [
    "#### ** 2.2: SVM with gaussian kernel**"
   ]
  },
  {
   "cell_type": "code",
   "execution_count": null,
   "metadata": {
    "collapsed": false
   },
   "outputs": [],
   "source": [
    "###########################################################\n",
    "# TODO: Replace <FILL IN> with appropriate code\n",
    "###########################################################\n",
    "\n",
    "rang_g=np.array([1/8, 1/4, 1/2, 1, 2, 4, 8])\n",
    "tuned_parameters = [{'C': rang_C, 'gamma': rang_g}]\n",
    "\n",
    "# Train an SVM with gaussian kernel and adjust by CV the parameter C\n",
    "rbf_svc  = # <FILL IN> \n",
    "\n",
    "# Save the values of C and gamma selected and compute the final accuracy\n",
    "C_opt = # <FILL IN> \n",
    "g_opt = # <FILL IN> \n",
    "\n",
    "\n",
    "print \"The C value selected is \" + str(C_opt)\n",
    "print \"The gamma value selected is \" + str(g_opt)\n",
    "acc_rbf_svc = rbf_svc.score(X_test, Y_test)\n",
    "print(\"The test accuracy of the RBF SVM is %2.2f\" %(100*acc_rbf_svc))"
   ]
  },
  {
   "cell_type": "code",
   "execution_count": 20,
   "metadata": {
    "collapsed": false
   },
   "outputs": [
    {
     "name": "stdout",
     "output_type": "stream",
     "text": [
      "The C value selected is 2.15443469003\n",
      "The gamma value selected is 0.0883883476483\n",
      "Test error RBF SVM is 0.944444444444\n"
     ]
    }
   ],
   "source": [
    "###########################################################\n",
    "# SOLUTION\n",
    "###########################################################\n",
    "n_dim=X_train.shape[1]\n",
    "rang_g=np.array([0.125, 0.25, 0.5, 1, 2, 4, 8])/(np.sqrt(n_dim))\n",
    "tuned_parameters = [{'C': rang_C, 'gamma': rang_g}]\n",
    "\n",
    "# Train an SVM with gaussian kernel and adjust by CV the parameter C\n",
    "rbf_svc  = GridSearchCV(svm.SVC(kernel='rbf'),\n",
    "                   tuned_parameters, cv=nfold, scoring=score)\n",
    "rbf_svc.fit(X_train, Y_train)\n",
    "\n",
    "# Save the values of C and gamma selected and compute the final accuracy\n",
    "C_opt = rbf_svc.best_estimator_.C\n",
    "g_opt = rbf_svc.best_estimator_.gamma\n",
    "\n",
    "\n",
    "print \"The C value selected is \" + str(C_opt)\n",
    "print \"The gamma value selected is \" + str(g_opt)\n",
    "acc_rbf_svc = rbf_svc.score(X_test, Y_test)\n",
    "print(\"The test accuracy of the RBF SVM is %2.2f\" %(100*acc_rbf_svc))"
   ]
  },
  {
   "cell_type": "code",
   "execution_count": 21,
   "metadata": {
    "collapsed": false
   },
   "outputs": [
    {
     "name": "stdout",
     "output_type": "stream",
     "text": [
      "1 test passed.\n",
      "1 test passed.\n",
      "1 test passed.\n"
     ]
    }
   ],
   "source": [
    "###########################################################\n",
    "# TEST CELL\n",
    "###########################################################\n",
    "from test_helper import Test\n",
    "\n",
    "# TEST accuracy values\n",
    "Test.assertEquals(np.round(C_opt, 2), 2.15, 'incorrect result: The value of C_opt is uncorrect')\n",
    "Test.assertEquals(np.round(g_opt, 2), 0.09, 'incorrect result: The value of g_opt is uncorrect')\n",
    "Test.assertEquals(np.round(acc_rbf_svc, 4), 0.9444, 'incorrect result: Test accuracy of the rbf SVM after CV process is uncorrect')\n"
   ]
  },
  {
   "cell_type": "markdown",
   "metadata": {},
   "source": [
    "#### ** 2.3. SVM with polynomial kernel**"
   ]
  },
  {
   "cell_type": "code",
   "execution_count": null,
   "metadata": {
    "collapsed": false
   },
   "outputs": [],
   "source": [
    "###########################################################\n",
    "# TODO: Replace <FILL IN> with appropriate code\n",
    "###########################################################\n",
    "\n",
    "rang_d=np.arange(1,5)\n",
    "tuned_parameters = [{'C': rang_C, 'degree': rang_d}]\n",
    "\n",
    "# Train an SVM with polynomial kernel and adjust by CV the parameter C\n",
    "poly_svc  = # <FILL IN> \n",
    "\n",
    "# Save the values of C and degree selected and compute the final accuracy\n",
    "C_opt = # <FILL IN> \n",
    "d_opt = # <FILL IN> \n",
    "\n",
    "\n",
    "print \"The C value selected is \" + str(C_opt)\n",
    "print \"The degree value selected is \" + str(d_opt)\n",
    "acc_poly_svc = poly_svc.score(X_test, Y_test)\n",
    "print(\"The test accuracy of the polynomial SVM is %2.2f\" %(100*acc_poly_svc))"
   ]
  },
  {
   "cell_type": "code",
   "execution_count": 22,
   "metadata": {
    "collapsed": false
   },
   "outputs": [
    {
     "name": "stdout",
     "output_type": "stream",
     "text": [
      "The C value selected is 10.0\n",
      "The degree value selected is 3\n",
      "Test error polynomical SVM is 0.911111111111\n"
     ]
    }
   ],
   "source": [
    "###########################################################\n",
    "# SOLUTION\n",
    "###########################################################\n",
    "\n",
    "rang_d=np.arange(1,5)\n",
    "tuned_parameters = [{'C': rang_C, 'degree': rang_d}]\n",
    "\n",
    "# Train an SVM with polynomial kernel and adjust by CV the parameter C\n",
    "poly_svc  = GridSearchCV(svm.SVC(kernel='poly'),\n",
    "                   tuned_parameters, cv=nfold, scoring=score)\n",
    "poly_svc.fit(X_train, Y_train)\n",
    "\n",
    "# Save the values of C and degree selected and compute the final accuracy\n",
    "C_opt = poly_svc.best_estimator_.C\n",
    "d_opt = poly_svc.best_estimator_.degree\n",
    "\n",
    "\n",
    "print \"The C value selected is \" + str(C_opt)\n",
    "print \"The degree value selected is \" + str(d_opt)\n",
    "acc_poly_svc = poly_svc.score(X_test, Y_test)\n",
    "print(\"The test accuracy of the polynomial SVM is %2.2f\" %(100*acc_poly_svc))"
   ]
  },
  {
   "cell_type": "code",
   "execution_count": 23,
   "metadata": {
    "collapsed": false
   },
   "outputs": [
    {
     "name": "stdout",
     "output_type": "stream",
     "text": [
      "1 test passed.\n",
      "1 test passed.\n",
      "1 test passed.\n"
     ]
    }
   ],
   "source": [
    "###########################################################\n",
    "# TEST CELL\n",
    "###########################################################\n",
    "from test_helper import Test\n",
    "\n",
    "# TEST accuracy values\n",
    "Test.assertEquals(np.round(C_opt, 2), 10 , 'incorrect result: The value of C_opt is uncorrect')\n",
    "Test.assertEquals(np.round(d_opt, 2), 3, 'incorrect result: The value of d_opt is uncorrect')\n",
    "Test.assertEquals(np.round(acc_poly_svc, 4), 0.9111, 'incorrect result: Test accuracy of the polynomial SVM after CV process is uncorrect')\n"
   ]
  },
  {
   "cell_type": "markdown",
   "metadata": {},
   "source": [
    "#### ** 2.4. Plot the classification boundaries and support vectors**\n",
    "\n",
    "The SVM decision function depends on some subset of the training data, called the support vectors. In this section we are going to compare the boundaries provided by the different kernel functions and study which training points are support vectors.\n",
    "\n",
    "As in previous sections, you can use the plot_boundary( ) function to display the decision regions. To obtain the support vectors, you can access to the parameters support\\_vectors\\_ of the svm classifier object. Add the necessary code to include them in the figure.\n"
   ]
  },
  {
   "cell_type": "code",
   "execution_count": null,
   "metadata": {
    "collapsed": false
   },
   "outputs": [],
   "source": [
    "###########################################################\n",
    "# TODO: Replace <FILL IN> with appropriate code\n",
    "###########################################################\n",
    "\n",
    "plt.figure(1,figsize=(10, 10))\n",
    "\n",
    "# Linear SVM \n",
    "plt.subplot(3,2,1)\n",
    "plot_boundary(lin_svc , X_train, Y_train, plt)\n",
    "SVs = #<FILL IN>\n",
    "plt.scatter(SVs[:, 0], SVs[:, 1], c='k')\n",
    "plt.subplot(3,2,2)\n",
    "plot_boundary(lin_svc , X_train, Y_train, plt)\n",
    "\n",
    "# RBF SVM \n",
    "plt.subplot(3,2,3)\n",
    "plot_boundary(rbf_svc , X_train, Y_train, plt)\n",
    "SVs = #<FILL IN>\n",
    "plt.scatter(SVs[:, 0], SVs[:, 1], c='k')\n",
    "plt.subplot(3,2,4)\n",
    "plot_boundary(rbf_svc , X_train, Y_train, plt)\n",
    "\n",
    "# Polynomial SVM \n",
    "plt.subplot(3,2,5)\n",
    "plot_boundary(poly_svc , X_train, Y_train, plt)\n",
    "SVs = #<FILL IN>\n",
    "plt.scatter(SVs[:, 0], SVs[:, 1], c='k')\n",
    "plt.subplot(3,2,6)\n",
    "plot_boundary(poly_svc , X_train, Y_train, plt)\n",
    "\n",
    "plt.show()\n"
   ]
  },
  {
   "cell_type": "code",
   "execution_count": 24,
   "metadata": {
    "collapsed": false
   },
   "outputs": [
    {
     "data": {
      "image/png": "[encoded data removed]",
      "text/plain": [
       "<matplotlib.figure.Figure at 0x110c9f3d0>"
      ]
     },
     "metadata": {},
     "output_type": "display_data"
    }
   ],
   "source": [
    "###########################################################\n",
    "# TODO: Replace <FILL IN> with appropriate code\n",
    "###########################################################\n",
    "\n",
    "plt.figure(1,figsize=(10, 10))\n",
    "\n",
    "# Linear SVM \n",
    "plt.subplot(3,2,1)\n",
    "plot_boundary(lin_svc , X_train, Y_train, plt)\n",
    "SVs=lin_svc.best_estimator_.support_vectors_\n",
    "plt.scatter(SVs[:, 0], SVs[:, 1], c='k')\n",
    "plt.subplot(3,2,2)\n",
    "plot_boundary(lin_svc , X_train, Y_train, plt)\n",
    "\n",
    "# RBF SVM \n",
    "plt.subplot(3,2,3)\n",
    "plot_boundary(rbf_svc , X_train, Y_train, plt)\n",
    "SVs=rbf_svc.best_estimator_.support_vectors_\n",
    "plt.scatter(SVs[:, 0], SVs[:, 1], c='k')\n",
    "plt.subplot(3,2,4)\n",
    "plot_boundary(rbf_svc , X_train, Y_train, plt)\n",
    "\n",
    "# Polynomial SVM \n",
    "plt.subplot(3,2,5)\n",
    "plot_boundary(poly_svc , X_train, Y_train, plt)\n",
    "SVs=poly_svc.best_estimator_.support_vectors_\n",
    "plt.scatter(SVs[:, 0], SVs[:, 1], c='k')\n",
    "plt.subplot(3,2,6)\n",
    "plot_boundary(poly_svc , X_train, Y_train, plt)\n",
    "\n",
    "plt.show()\n"
   ]
  },
  {
   "cell_type": "markdown",
   "metadata": {},
   "source": [
    "Note that the boundaries of linear and RBF SVMs and,  even, their SVs are quite similar. Examine the value selected for the parameter gamma of the gaussian kernel and try to explain because RBF SVM boundary tends to be linear."
   ]
  },
  {
   "cell_type": "markdown",
   "metadata": {},
   "source": [
    "### ** Part 3: Trees and Random Forest**\n",
    "\n",
    "Trees and Random Forest classifiers directly work over the input features selecting the most discriminative ones and fixing a threshold over them. To be able to analyze their capabilities, in the following sections, we are going to use all input features of the Iris dataset. So, let's start running the following cell to load the complete Iris data."
   ]
  },
  {
   "cell_type": "code",
   "execution_count": 25,
   "metadata": {
    "collapsed": true
   },
   "outputs": [],
   "source": [
    "import numpy as np\n",
    "from sklearn import datasets\n",
    "from sklearn.cross_validation import train_test_split\n",
    "from sklearn.preprocessing import StandardScaler\n",
    "\n",
    "# Initialize the random generator seed to compare results\n",
    "np.random.seed(0)\n",
    "\n",
    "iris = datasets.load_iris()\n",
    "X = iris.data # All input features are used\n",
    "Y = iris.target\n",
    "\n",
    "X_train, X_test, Y_train, Y_test = train_test_split(X, Y, test_size=.4)\n",
    "\n",
    "scaler = StandardScaler()\n",
    "X_train = scaler.fit_transform(X_train)\n",
    "X_test = scaler.transform(X_test)"
   ]
  },
  {
   "cell_type": "markdown",
   "metadata": {},
   "source": [
    "#### ** 3.1: Decision Trees**\n",
    "\n",
    "Decision Trees learn simple decision rules selecting iteratively a input feature and setting a threshold over it, so the are simple tool to understand and to interpret.\n",
    "\n",
    "Use the [DecisionTreeClassifier( )](http://scikit-learn.org/stable/modules/generated/sklearn.tree.DecisionTreeClassifier.html#sklearn.tree.DecisionTreeClassifier) function to train a decision tree. Although the tree depth is usually a parameter to select, here we are working with only for input features, so you can use all default parameter and obtain a good performance. Complete the following code to return in the variable acc\\_tree the tree accuracy."
   ]
  },
  {
   "cell_type": "code",
   "execution_count": null,
   "metadata": {
    "collapsed": false
   },
   "outputs": [],
   "source": [
    "###########################################################\n",
    "# TODO: Replace <FILL IN> with appropriate code\n",
    "###########################################################\n",
    "\n",
    "from sklearn import tree\n",
    "clf_tree = # <FILL IN>\n",
    "\n",
    "acc_tree= # <FILL IN>\n",
    "\n",
    "print(\"The test accuracy of the decision tree is %2.2f\" %(100*acc_tree))"
   ]
  },
  {
   "cell_type": "code",
   "execution_count": 30,
   "metadata": {
    "collapsed": false
   },
   "outputs": [
    {
     "name": "stdout",
     "output_type": "stream",
     "text": [
      "The test accuracy of the decision tree is 95.00\n"
     ]
    }
   ],
   "source": [
    "###########################################################\n",
    "# SOLUTION\n",
    "###########################################################\n",
    "\n",
    "from sklearn import tree\n",
    "clf_tree = tree.DecisionTreeClassifier()\n",
    "clf_tree.fit(X_train, Y_train)\n",
    "acc_tree=clf_tree.score(X_test,Y_test)\n",
    "print(\"The test accuracy of the decision tree is %2.2f\" %(100*acc_tree))"
   ]
  },
  {
   "cell_type": "code",
   "execution_count": 31,
   "metadata": {
    "collapsed": false
   },
   "outputs": [
    {
     "name": "stdout",
     "output_type": "stream",
     "text": [
      "1 test passed.\n"
     ]
    }
   ],
   "source": [
    "###########################################################\n",
    "# TEST CELL\n",
    "###########################################################\n",
    "from test_helper import Test\n",
    "\n",
    "# TEST accuracy values\n",
    "Test.assertEquals(np.round(acc_tree, 2), 0.95 , 'incorrect result: The value of C_opt is uncorrect')"
   ]
  },
  {
   "cell_type": "markdown",
   "metadata": {},
   "source": [
    "#### ** 3.2: Random Forest**\n",
    "\n",
    "A Random Forest (RF) trains several decision tree classifiers, where each one is trained with different sub-samples of the training data, and averages their outputs to improve the final accuracy.\n",
    "\n",
    "Use the [RandomForestClassifier( )](http://scikit-learn.org/stable/modules/generated/sklearn.ensemble.RandomForestClassifier.html) function to train a RF classifier and select by cross validation the number of trees to use. The remaining parameters, such as the number of subsampled data or features, can be used with their default values. Return the optimal number of trees to be used and the final accuracy of the RF classifier."
   ]
  },
  {
   "cell_type": "code",
   "execution_count": null,
   "metadata": {
    "collapsed": false
   },
   "outputs": [],
   "source": [
    "###########################################################\n",
    "# TODO: Replace <FILL IN> with appropriate code\n",
    "###########################################################\n",
    "\n",
    "from sklearn.ensemble import RandomForestClassifier\n",
    "\n",
    "rang_n_trees=np.arange(1,10)\n",
    "tuned_parameters = [{'n_estimators': rang_n_trees}]\n",
    "nfold = 10\n",
    "score = 'precision'\n",
    "\n",
    "clf_RF  = #<FILL IN>\n",
    "n_trees_opt = #<FILL IN>\n",
    "acc_RF = #<FILL IN>\n",
    "\n",
    "print \"The number of selected trees is \" + str(n_trees_opt)\n",
    "print(\"The test accuracy of the RF is %2.2f\" %(100*acc_RF))"
   ]
  },
  {
   "cell_type": "code",
   "execution_count": 36,
   "metadata": {
    "collapsed": false
   },
   "outputs": [
    {
     "name": "stdout",
     "output_type": "stream",
     "text": [
      "The number of selected trees is 1\n",
      "The test accuracy of the RF is 90.00\n"
     ]
    }
   ],
   "source": [
    "###########################################################\n",
    "# SOLUTION\n",
    "###########################################################\n",
    "\n",
    "from sklearn.ensemble import RandomForestClassifier\n",
    "\n",
    "rang_n_trees=np.arange(1,10)\n",
    "tuned_parameters = [{'n_estimators': rang_n_trees}]\n",
    "nfold = 10\n",
    "score = 'precision'\n",
    "\n",
    "clf_RF  = GridSearchCV(RandomForestClassifier(), tuned_parameters, cv=nfold, scoring=score)\n",
    "clf_RF.fit(X_train, Y_train)\n",
    "n_trees_opt = clf_RF.best_estimator_.n_estimators\n",
    "acc_RF = clf_RF.score(X_test, Y_test)\n",
    "\n",
    "print \"The number of selected trees is \" + str(n_trees_opt)\n",
    "print(\"The test accuracy of the RF is %2.2f\" %(100*acc_RF))"
   ]
  },
  {
   "cell_type": "markdown",
   "metadata": {},
   "source": [
    "Run the above code again, do you obtain the same accuracy? "
   ]
  },
  {
   "cell_type": "markdown",
   "metadata": {},
   "source": [
    "#### ** 3.3: Obtaining results statistically significant**\n",
    "\n",
    "Random forest have a random component when the training data are subsampled, so you can obtain a different result for different runnings of the algorithm. In this case, to be able to provide a statistically significant measurement of the performance of the classifier, we need to average the result over enough large number of runs.\n",
    "\n",
    "Complete the following code, to train again the RF classifier, but averaging its test accuracies over 50 runs. Provide its averaged accuracy and the averaged number of selected trees (include their standard deviations). "
   ]
  },
  {
   "cell_type": "code",
   "execution_count": 42,
   "metadata": {
    "collapsed": false
   },
   "outputs": [
    {
     "name": "stdout",
     "output_type": "stream",
     "text": [
      "Averaged accuracy for RF classifier is 92.10 +/- 2.72 \n",
      "Averaged number of selected trees is 4.66 +/- 2.54 \n"
     ]
    }
   ],
   "source": [
    "###########################################################\n",
    "# TODO: Replace <FILL IN> with appropriate code\n",
    "###########################################################\n",
    "# Initialize the random generator seed to compare results\n",
    "np.random.seed(0)\n",
    "\n",
    "# Create RF classifier object with CV\n",
    "clf_RF  = # <FILL IN> \n",
    "\n",
    "acc_RF_vector=[]\n",
    "n_trees_vector=[]\n",
    "for run in np.arange(50):\n",
    "    # For each run, train it, compute its accuracy and examine the number of optimal trees\n",
    "    clf_RF.# <FILL IN> \n",
    "    acc = # <FILL IN> \n",
    "    acc_RF_vector.append(acc)\n",
    "    n_trees = # <FILL IN> \n",
    "    n_trees_vector.append(n_trees)\n",
    "\n",
    "# Compute averaged accuracies and number of used trees\n",
    "mean_acc_RF = # <FILL IN> \n",
    "std_acc_RF = # <FILL IN> \n",
    "\n",
    "mean_n_trees = # <FILL IN> \n",
    "std_n_trees = # <FILL IN> \n",
    "\n",
    "# Print the results\n",
    "print('Averaged accuracy for RF classifier is %2.2f +/- %2.2f '%(100*mean_acc_RF, 100*std_acc_RF))\n",
    "print('Averaged number of selected trees is %2.2f +/- %2.2f '%(mean_n_trees, std_n_trees))"
   ]
  },
  {
   "cell_type": "code",
   "execution_count": 44,
   "metadata": {
    "collapsed": false
   },
   "outputs": [
    {
     "name": "stdout",
     "output_type": "stream",
     "text": [
      "Averaged accuracy for RF classifier is 92.10 +/- 2.72 \n",
      "Averaged number of selected trees is 4.66 +/- 2.54 \n"
     ]
    }
   ],
   "source": [
    "###########################################################\n",
    "# SOLUTION\n",
    "###########################################################\n",
    "# Initialize the random generator seed to test results\n",
    "np.random.seed(0)\n",
    "\n",
    "# Create RF classifier object with CV\n",
    "clf_RF  = GridSearchCV(RandomForestClassifier(), tuned_parameters, cv=nfold, scoring=score)\n",
    "\n",
    "acc_RF_vector=[]\n",
    "n_trees_vector=[]\n",
    "for run in np.arange(50):\n",
    "    # For each run, train it, compute its accuracy and examine the number of optimal trees\n",
    "    clf_RF.fit(X_train, Y_train)\n",
    "    acc = clf_RF.score(X_test, Y_test)\n",
    "    acc_RF_vector.append(acc)\n",
    "    n_trees = clf_RF.best_estimator_.n_estimators\n",
    "    n_trees_vector.append(n_trees)\n",
    "\n",
    "# Compute averaged accuracies and number of used trees\n",
    "mean_acc_RF = np.mean(np.array(acc_RF_vector))\n",
    "std_acc_RF = np.std(np.array(acc_RF_vector))\n",
    "\n",
    "mean_n_trees = np.mean(np.array(n_trees_vector))\n",
    "std_n_trees = np.std(np.array(n_trees_vector))\n",
    "\n",
    "# Print the results\n",
    "print('Averaged accuracy for RF classifier is %2.2f +/- %2.2f '%(100*mean_acc_RF, 100*std_acc_RF))\n",
    "print('Averaged number of selected trees is %2.2f +/- %2.2f '%(mean_n_trees, std_n_trees))"
   ]
  },
  {
   "cell_type": "code",
   "execution_count": 48,
   "metadata": {
    "collapsed": false
   },
   "outputs": [
    {
     "name": "stdout",
     "output_type": "stream",
     "text": [
      "1 test passed.\n",
      "1 test passed.\n",
      "1 test passed.\n",
      "1 test passed.\n"
     ]
    }
   ],
   "source": [
    "###########################################################\n",
    "# TEST CELL\n",
    "###########################################################\n",
    "from test_helper import Test\n",
    "\n",
    "# TEST accuracy values\n",
    "Test.assertEquals(np.round(mean_acc_RF, 2), 0.92 , 'incorrect result: The value of mean_acc_RF is uncorrect')\n",
    "Test.assertEquals(np.round(std_acc_RF, 4), 0.0272 , 'incorrect result: The value of std_acc_RF is uncorrect')\n",
    "Test.assertEquals(np.round(mean_n_trees, 2), 4.66 , 'incorrect result: The value of mean_n_trees is uncorrect')\n",
    "Test.assertEquals(np.round(std_n_trees, 2), 2.54 , 'incorrect result: The value of std_n_trees is uncorrect')"
   ]
  },
  {
   "cell_type": "markdown",
   "metadata": {},
   "source": [
    "### ** Part 4: Ensembles**\n",
    "The goal of ensemble methods is to combine the predictions of several base estimators or learners to obtain a classifier of improved performance. We are going to work with two ensemble methods:\n",
    "\n",
    "* Bagging methods: their driving principle is to build several estimators with diversity among them and then to average their predictions. \n",
    "* Boosting methods: in this case, base estimators are built sequentially forcing new learners to pay more attention to samples missclassified by previous learners. \n"
   ]
  },
  {
   "cell_type": "markdown",
   "metadata": {},
   "source": [
    "#### ** 4.1. Bagging methods**\n",
    "\n",
    "Here, to implement bagged classifiers, we are going to use [BaggingClassifier( )](http://scikit-learn.org/stable/modules/generated/sklearn.ensemble.BaggingClassifier.html#sklearn.ensemble.BaggingClassifier) object which includes different degrees of freedom in the learners design: with or without samples replacement, selecting random subsets of features instead of samples or selecting subsets of both samples and features. \n",
    "\n",
    "For the sake of simplicity, we are going to use as base learner a decision stump (i.e., a decision tree with one depth level). Note that in the case of using decision trees as learners, the resulting ensemble results in a random forest. \n",
    "\n",
    "Complete the following code to train a ensemble of bagged decision stumps. Set max\\_samples (percentage of training data used to train each learner) and max\\_features parameters (percentage of input features used to train each learner) to 0.5, and fix to 10 the number of learners used."
   ]
  },
  {
   "cell_type": "code",
   "execution_count": 50,
   "metadata": {
    "collapsed": false
   },
   "outputs": [
    {
     "name": "stdout",
     "output_type": "stream",
     "text": [
      "Accuracy for bagged ensemble is 93.33 \n"
     ]
    }
   ],
   "source": [
    "from sklearn.ensemble import BaggingClassifier\n",
    "from sklearn import tree\n",
    "base_learner = tree.DecisionTreeClassifier(max_depth=1)\n",
    "bagging = BaggingClassifier(base_learner, n_estimators = 10, max_samples=0.5, max_features = 0.5)\n",
    "bagging.fit(X_train, Y_train)\n",
    "acc_test = bagging.score(X_test, Y_test)\n",
    "\n",
    "print('Accuracy of bagged ensemble is %2.2f '%(100*acc_test))"
   ]
  },
  {
   "cell_type": "markdown",
   "metadata": {},
   "source": [
    "Analyze the final ensemble performance according to the number of learners. Average the result over 20 or more different runs to obtain statically significant results (note that the above accuracy change if you run the code again)."
   ]
  },
  {
   "cell_type": "code",
   "execution_count": 52,
   "metadata": {
    "collapsed": false
   },
   "outputs": [
    {
     "data": {
      "image/png": "[encoded data removed]",
      "text/plain": [
       "<matplotlib.figure.Figure at 0x1115d9750>"
      ]
     },
     "metadata": {},
     "output_type": "display_data"
    }
   ],
   "source": [
    "###########################################################\n",
    "# TODO: Replace <FILL IN> with appropriate code\n",
    "###########################################################\n",
    "# Initialize the random generator seed to test results\n",
    "np.random.seed(0)\n",
    "\n",
    "acc_test_evol = []\n",
    "rang_n_learners = range(1,50,2)\n",
    "for n_learners in rang_n_learners:\n",
    "    acc_test_run=[]\n",
    "    for run in range(50):\n",
    "        bagging = # <FILL IN>\n",
    "        acc = # <FILL IN>\n",
    "        acc_test_run.append(acc)\n",
    "    acc_test_evol.append(np.mean(acc_test_run))\n",
    "\n",
    "# Ploting results\n",
    "plt.figure()\n",
    "plt.plot(rang_n_learners,acc_test_evol)\n",
    "plt.xlabel('Number of learners')\n",
    "plt.ylabel('Accuracy')\n",
    "plt.title('Evolution of the a bagged ensemble accuracy with the number of learners ')\n",
    "plt.show()"
   ]
  },
  {
   "cell_type": "code",
   "execution_count": null,
   "metadata": {
    "collapsed": false
   },
   "outputs": [],
   "source": [
    "###########################################################\n",
    "# SOLUTION\n",
    "###########################################################\n",
    "# Initialize the random generator seed to test results\n",
    "np.random.seed(0)\n",
    "\n",
    "acc_test_evol = []\n",
    "rang_n_learners = range(1,50,2)\n",
    "for n_learners in rang_n_learners:\n",
    "    acc_test_run=[]\n",
    "    for run in range(50):\n",
    "        bagging = BaggingClassifier(base_learner, n_learners, max_samples=0.5, max_features = 0.5).fit(X_train, Y_train)\n",
    "        acc = bagging.score(X_test, Y_test)\n",
    "        acc_test_run.append(acc)\n",
    "    acc_test_evol.append(np.mean(acc_test_run))\n",
    "\n",
    "# Ploting results\n",
    "plt.figure()\n",
    "plt.plot(rang_n_learners,acc_test_evol)\n",
    "plt.xlabel('Number of learners')\n",
    "plt.ylabel('Accuracy')\n",
    "plt.title('Evolution of the a bagged ensemble accuracy with the number of learners ')\n",
    "plt.show()"
   ]
  },
  {
   "cell_type": "code",
   "execution_count": 55,
   "metadata": {
    "collapsed": false
   },
   "outputs": [
    {
     "name": "stdout",
     "output_type": "stream",
     "text": [
      "1 test passed.\n"
     ]
    }
   ],
   "source": [
    "###########################################################\n",
    "# TEST CELL\n",
    "###########################################################\n",
    "from test_helper import Test\n",
    "\n",
    "# TEST accuracy values\n",
    "Test.assertEquals(np.round(acc_test_evol[-1], 2), 0.93 , 'incorrect result: The value final of acc_test_evol is uncorrect')"
   ]
  },
  {
   "cell_type": "markdown",
   "metadata": {},
   "source": [
    "#### ** 4.2. Adaboost**\n",
    "\n",
    "To train an AdaBoost classifier, scikit-learn provides [AdaBoostClassifier()](http://scikit-learn.org/stable/modules/generated/sklearn.ensemble.AdaBoostClassifier.html#sklearn.ensemble.AdaBoostClassifier) method which includes two versions of the Adaboost algorithm:\n",
    "* Discrete Adaboost: the learners' outputs are discretized (they provide an estimation of the labels).\n",
    "* Real Adaboost: the learners' outputs are real values (they are the soft-outputs or the class probabilities).\n",
    "\n",
    "As in previous subsection, use a decision stump as base learner. Fix to 50 the number of learners and compare the results of both approaches: Discrete Adaboost (set algorithm parameter to 'SAMME') and Real Adaboost (algorithm='SAMME.R')."
   ]
  },
  {
   "cell_type": "code",
   "execution_count": 56,
   "metadata": {
    "collapsed": false
   },
   "outputs": [
    {
     "name": "stdout",
     "output_type": "stream",
     "text": [
      "Accuracy of discrete adaboost ensemble is 95.00 \n",
      "Accuracy of real adaboost ensemble is 90.00 \n"
     ]
    }
   ],
   "source": [
    "###########################################################\n",
    "# TODO: Replace <FILL IN> with appropriate code\n",
    "###########################################################\n",
    "# Initialize the random generator seed to test results\n",
    "np.random.seed(0)\n",
    "\n",
    "from sklearn.ensemble import AdaBoostClassifier\n",
    "\n",
    "base_learner = tree.DecisionTreeClassifier(max_depth=1)\n",
    "\n",
    "# Train a discrete Adaboost classifier and obtain its accuracy\n",
    "AB_D = #<FILL IN>\n",
    "acc_AB_D = # <FILL IN>\n",
    "\n",
    "# Train a real Adaboost classifier and obtain its accuracy\n",
    "AB_R = # <FILL IN>\n",
    "acc_AB_R = # <FILL IN>\n",
    "\n",
    "print('Accuracy of discrete adaboost ensemble is %2.2f '%(100*acc_AB_D))\n",
    "print('Accuracy of real adaboost ensemble is %2.2f '%(100*acc_AB_R))"
   ]
  },
  {
   "cell_type": "code",
   "execution_count": 56,
   "metadata": {
    "collapsed": false
   },
   "outputs": [
    {
     "name": "stdout",
     "output_type": "stream",
     "text": [
      "Accuracy of discrete adaboost ensemble is 95.00 \n",
      "Accuracy of real adaboost ensemble is 90.00 \n"
     ]
    }
   ],
   "source": [
    "###########################################################\n",
    "# SOLUTION\n",
    "###########################################################\n",
    "# Initialize the random generator seed to test results\n",
    "np.random.seed(0)\n",
    "\n",
    "from sklearn.ensemble import AdaBoostClassifier\n",
    "\n",
    "base_learner = tree.DecisionTreeClassifier(max_depth=1)\n",
    "\n",
    "# Train a discrete Adaboost classifier and obtain its accuracy\n",
    "AB_D = AdaBoostClassifier(base_learner, algorithm='SAMME',n_estimators=50)\n",
    "AB_D.fit(X_train, Y_train)\n",
    "acc_AB_D = AB_D.score(X_test, Y_test)\n",
    "\n",
    "# Train a real Adaboost classifier and obtain its accuracy\n",
    "AB_R = AdaBoostClassifier(base_learner, algorithm='SAMME.R',n_estimators=50)\n",
    "AB_R.fit(X_train, Y_train)\n",
    "acc_AB_R = AB_R.score(X_test, Y_test)\n",
    "\n",
    "print('Accuracy of discrete adaboost ensemble is %2.2f '%(100*acc_AB_D))\n",
    "print('Accuracy of real adaboost ensemble is %2.2f '%(100*acc_AB_R))"
   ]
  },
  {
   "cell_type": "code",
   "execution_count": 59,
   "metadata": {
    "collapsed": false
   },
   "outputs": [
    {
     "name": "stdout",
     "output_type": "stream",
     "text": [
      "1 test passed.\n",
      "1 test passed.\n"
     ]
    }
   ],
   "source": [
    "###########################################################\n",
    "# TEST CELL\n",
    "###########################################################\n",
    "from test_helper import Test\n",
    "\n",
    "# TEST accuracy values\n",
    "Test.assertEquals(np.round(acc_AB_D, 2), 0.95 , 'incorrect result: The value of acc_AB_D is uncorrect')\n",
    "Test.assertEquals(np.round(acc_AB_R, 2), 0.90 , 'incorrect result: The value of acc_AB_R is uncorrect')"
   ]
  },
  {
   "cell_type": "markdown",
   "metadata": {},
   "source": [
    "Unlike BaggingClassifier() method, AdaBoostClassifier() let you analyze the evolution of error without having to train the ensemble for different number of learners. For this task, you can use the classifier method .staged_score() which returns the evolution of the ensemble accuracy. Note that it returns this information with a generator object, so you have to iterate over it to access to each element.\n",
    "\n",
    "The following code lines let you plot the evolution of the ensemble accuracy (over the test data) for both discrete and real Adaboost approaches. "
   ]
  },
  {
   "cell_type": "code",
   "execution_count": 60,
   "metadata": {
    "collapsed": false
   },
   "outputs": [
    {
     "data": {
      "image/png": "[encoded data removed]",
      "text/plain": [
       "<matplotlib.figure.Figure at 0x111435590>"
      ]
     },
     "metadata": {},
     "output_type": "display_data"
    }
   ],
   "source": [
    "acc_AB_D_evol=[acc for acc in AB_D.staged_score(X_test, Y_test)]\n",
    "acc_AB_R_evol=[acc for acc in AB_R.staged_score(X_test, Y_test)]\n",
    "\n",
    "\n",
    "# Ploting results\n",
    "rang_n_learners=np.arange(50)+1\n",
    "plt.figure()\n",
    "plt.subplot(211)\n",
    "plt.plot(rang_n_learners,acc_AB_D_evol)\n",
    "plt.xlabel('Number of learners')\n",
    "plt.ylabel('Accuracy')\n",
    "plt.title('Discrete AB accuracy')\n",
    "plt.subplot(212)\n",
    "plt.plot(rang_n_learners,acc_AB_R_evol)\n",
    "plt.xlabel('Number of learners')\n",
    "plt.ylabel('Accuracy')\n",
    "plt.title('Real AB accuracy')\n",
    "plt.show()\n"
   ]
  }
 ],
 "metadata": {
  "kernelspec": {
   "display_name": "Python [default]",
   "language": "python",
   "name": "python2"
  },
  "language_info": {
   "codemirror_mode": {
    "name": "ipython",
    "version": 2
   },
   "file_extension": ".py",
   "mimetype": "text/x-python",
   "name": "python",
   "nbconvert_exporter": "python",
   "pygments_lexer": "ipython2",
   "version": "2.7.12"
  }
 },
 "nbformat": 4,
 "nbformat_minor": 0
}
