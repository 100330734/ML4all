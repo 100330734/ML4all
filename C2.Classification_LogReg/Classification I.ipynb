{
 "cells": [
  {
   "cell_type": "markdown",
   "metadata": {},
   "source": [
    "# **Classification I Lab: Introduction to the classification problem**\n",
    "\n",
    "The goal of this lab relies in starting to work with classification tools. \n",
    "\n",
    "For this purpose, we will start working over a binary synthetic problem to manage different classification loss functions and analyze the influence of regularization terms.  Then, we will use a linear SVM as standard classifier to explore different strategies to solve multiclass problems and we evaluate its performance by means of different criteria (accuracy, confusion matrix, ROC curve, ... ). \n",
    "\n",
    "Along this session, we will always work with bidimensional problems, so that we are able to plot the classification boundaries and, therefore, analyze the advantages and/or disadvantages of each approach by sight. \n",
    "\n",
    "To implement the different approaches we will base in [Scikit-Learn](http://scikit-learn.org/stable/) python toolbox.\n",
    "\n",
    "#### ** During this lab we will cover: **\n",
    "#### *Part 1: Loss functions* \n",
    "#### *Part 2: Regularizations* \n",
    "#### *Part 3: From binary classifiers to multiclass formulations*\n",
    "#### *Part 4: Performance evaluation* \n",
    "\n",
    "\n",
    "As you progress in this notebook, you will have to complete some exercises. Each exercise includes an explanation of what is expected, followed by code cells where one or several lines will have written down `<FILL IN>`.  The cell that needs to be modified will have `# TODO: Replace <FILL IN> with appropriate code` on its first line.  Once the `<FILL IN>` sections are updated and the code can be run; below this cell, you will find the test cell (beginning with the line `# TEST CELL`) and you can run it to verify the correctness of your solution.  "
   ]
  },
  {
   "cell_type": "markdown",
   "metadata": {},
   "source": [
    "### ** Part 1: Analyzing loss functions **"
   ]
  },
  {
   "cell_type": "markdown",
   "metadata": {},
   "source": [
    "The goal of this section relies in studying the influence of the loss function over the classifier performance in a noisy scenario (with outliers). For this purpose, let's work with the method SGDClassifier( ), which allows us training linear classifiers with different loss functions. "
   ]
  },
  {
   "cell_type": "markdown",
   "metadata": {},
   "source": [
    "#### ** 1.1: Creating a data set **\n",
    "\n",
    "Before training any classifier, we need to create a training and test data sets. Please, complete the below code to be able to:\n",
    "* Built a bidimensional binary problem with 100 training samples (without considering outliers) and 400 testing ones\n",
    "* Normalize the data to zero mean and unitary standard deviation \n",
    "* Add the provided outlier data (X_outlier, Y_outlier) to the training samples\n",
    "\n",
    "Useful functions: [make_classification( )](http://scikit-learn.org/stable/modules/generated/sklearn.datasets.make_classification.html), [train_test_split( )](http://scikit-learn.org/stable/modules/generated/sklearn.cross_validation.train_test_split.html) and [StandardScaler( )](http://scikit-learn.org/stable/modules/generated/sklearn.preprocessing.StandardScaler.html)."
   ]
  },
  {
   "cell_type": "code",
   "execution_count": 49,
   "metadata": {
    "collapsed": true
   },
   "outputs": [],
   "source": [
    "%matplotlib inline"
   ]
  },
  {
   "cell_type": "code",
   "execution_count": 2,
   "metadata": {
    "collapsed": false
   },
   "outputs": [
    {
     "ename": "SyntaxError",
     "evalue": "invalid syntax (<ipython-input-2-cf870585fe99>, line 19)",
     "output_type": "error",
     "traceback": [
      "\u001b[0;36m  File \u001b[0;32m\"<ipython-input-2-cf870585fe99>\"\u001b[0;36m, line \u001b[0;32m19\u001b[0m\n\u001b[0;31m    X_train, X_test, Y_train, Y_test = #<FILL IN>\u001b[0m\n\u001b[0m                                                 ^\u001b[0m\n\u001b[0;31mSyntaxError\u001b[0m\u001b[0;31m:\u001b[0m invalid syntax\n"
     ]
    }
   ],
   "source": [
    "###########################################################\n",
    "# TODO: Replace <FILL IN> with appropriate code\n",
    "###########################################################\n",
    "\n",
    "from sklearn import datasets\n",
    "from sklearn.cross_validation import train_test_split\n",
    "import numpy as np\n",
    "from sklearn.preprocessing import StandardScaler\n",
    "\n",
    "\n",
    "# Initialize the random generator seed to compare results\n",
    "np.random.seed(1)\n",
    "\n",
    "# Generating artifial data \n",
    "X, Y = datasets.make_classification(n_samples=500, n_features=2, n_clusters_per_class=2, \n",
    "                                    class_sep=2, n_redundant=0, flip_y =0.01)\n",
    "\n",
    "# Creating training and test sets  \n",
    "# (note that the parameters have to be fixed to obtain 100 training data and 400 test samples)\n",
    "X_train, X_test, Y_train, Y_test = #<FILL IN>\n",
    "\n",
    "# Normalizing the data\n",
    "scaler = StandardScaler()\n",
    "X_train = #<FILL IN>\n",
    "X_test = #<FILL IN>\n",
    "\n",
    "# Adding some outliers\n",
    "X_outlier = np.array([ [-2.5,-3.5], [-3,-4], [-2.5,-4.5]])\n",
    "Y_outlier = np.array([1, 1, 1])\n",
    "# Use np.hstack() and np.vstack() functions to concatenate the outliers with the training data \n",
    "X_train = #<FILL IN>\n",
    "Y_train = #<FILL IN>"
   ]
  },
  {
   "cell_type": "code",
   "execution_count": 2,
   "metadata": {
    "collapsed": false
   },
   "outputs": [],
   "source": [
    "###########################################################\n",
    "# SOLUTION\n",
    "###########################################################\n",
    "\n",
    "from sklearn import datasets\n",
    "from sklearn.cross_validation import train_test_split\n",
    "import numpy as np\n",
    "from sklearn.preprocessing import StandardScaler\n",
    "\n",
    "\n",
    "# Initialize the random generator seed to compare results\n",
    "np.random.seed(1)\n",
    "\n",
    "# Generating artifial data \n",
    "X, Y = datasets.make_classification(n_samples=500, n_features=2, n_clusters_per_class=2, \n",
    "                                    class_sep=2, n_redundant=0, flip_y =0.01)\n",
    "\n",
    "# Creating training and test sets \n",
    "# (note that the parameters have to be fixed to obtain 100 training data and 400 test samples)\n",
    "X_train, X_test, Y_train, Y_test = train_test_split(X, Y, test_size=.8)\n",
    "\n",
    "# Normalizing the data\n",
    "scaler = StandardScaler()\n",
    "X_train = scaler.fit_transform(X_train)\n",
    "X_test = scaler.transform(X_test)\n",
    "\n",
    "# Adding some outliers\n",
    "X_outlier = np.array([ [-2.5,-3.5], [-3,-4], [-2.5,-4.5]])\n",
    "Y_outlier = np.array([1, 1, 1])\n",
    "# Use np.hstack() and np.vstack() functions to concatenate the outliers with the training data \n",
    "X_train=np.vstack([X_train, X_outlier])\n",
    "Y_train=np.hstack([Y_train, Y_outlier])"
   ]
  },
  {
   "cell_type": "code",
   "execution_count": 1,
   "metadata": {
    "collapsed": false
   },
   "outputs": [
    {
     "ename": "NameError",
     "evalue": "name 'X_train' is not defined",
     "output_type": "error",
     "traceback": [
      "\u001b[0;31m---------------------------------------------------------------------------\u001b[0m",
      "\u001b[0;31mNameError\u001b[0m                                 Traceback (most recent call last)",
      "\u001b[0;32m<ipython-input-1-a4d3f9023401>\u001b[0m in \u001b[0;36m<module>\u001b[0;34m()\u001b[0m\n\u001b[1;32m      6\u001b[0m \u001b[0;34m\u001b[0m\u001b[0m\n\u001b[1;32m      7\u001b[0m \u001b[0;31m# TEST Training and test data generation\u001b[0m\u001b[0;34m\u001b[0m\u001b[0;34m\u001b[0m\u001b[0m\n\u001b[0;32m----> 8\u001b[0;31m \u001b[0mTest\u001b[0m\u001b[0;34m.\u001b[0m\u001b[0massertEquals\u001b[0m\u001b[0;34m(\u001b[0m\u001b[0mX_train\u001b[0m\u001b[0;34m.\u001b[0m\u001b[0mshape\u001b[0m\u001b[0;34m,\u001b[0m \u001b[0;34m(\u001b[0m\u001b[0;36m103\u001b[0m\u001b[0;34m,\u001b[0m \u001b[0;36m2\u001b[0m\u001b[0;34m)\u001b[0m\u001b[0;34m,\u001b[0m \u001b[0;34m'incorrect result: training data dimensions are uncorrect'\u001b[0m\u001b[0;34m)\u001b[0m\u001b[0;34m\u001b[0m\u001b[0m\n\u001b[0m\u001b[1;32m      9\u001b[0m \u001b[0mTest\u001b[0m\u001b[0;34m.\u001b[0m\u001b[0massertEquals\u001b[0m\u001b[0;34m(\u001b[0m\u001b[0mX_test\u001b[0m\u001b[0;34m.\u001b[0m\u001b[0mshape\u001b[0m\u001b[0;34m,\u001b[0m \u001b[0;34m(\u001b[0m\u001b[0;36m400\u001b[0m\u001b[0;34m,\u001b[0m \u001b[0;36m2\u001b[0m\u001b[0;34m)\u001b[0m\u001b[0;34m,\u001b[0m \u001b[0;34m'incorrect result: test data dimensions are uncorrect'\u001b[0m\u001b[0;34m)\u001b[0m\u001b[0;34m\u001b[0m\u001b[0m\n\u001b[1;32m     10\u001b[0m \u001b[0;34m\u001b[0m\u001b[0m\n",
      "\u001b[0;31mNameError\u001b[0m: name 'X_train' is not defined"
     ]
    }
   ],
   "source": [
    "###########################################################\n",
    "# TEST CELL\n",
    "###########################################################\n",
    "\n",
    "from test_helper import Test\n",
    "\n",
    "# TEST Training and test data generation\n",
    "Test.assertEquals(X_train.shape, (103, 2), 'incorrect result: training data dimensions are uncorrect')\n",
    "Test.assertEquals(X_test.shape, (400, 2), 'incorrect result: test data dimensions are uncorrect')\n",
    "\n",
    "# TEST Training and test data generation\n",
    "Test.assertEquals(np.round(np.mean(X_train[:-3]),12), 0, 'incorrect result: training data are uncorrectly normalized (mean)')\n",
    "Test.assertEquals(np.round(np.std(X_train[:-3]),12), 1, 'incorrect result: training data are uncorrectly normalized (standard deviation)')\n",
    "Test.assertEquals(np.round(np.mean(X_test.ravel()),2), 0.04, 'incorrect result: test data  are uncorrectly normalized (mean)')\n",
    "Test.assertEquals(np.round(np.std(X_test.ravel()),5), 1.00084, 'incorrect result: test data  are uncorrectly normalized (standard deviation)')"
   ]
  },
  {
   "cell_type": "markdown",
   "metadata": {},
   "source": [
    "#### ** 1.2: Training classifiers  with different loss functions  **\n",
    "\n",
    "Here, let's use the [SGDClassifier( )](http://scikit-learn.org/stable/modules/generated/sklearn.linear_model.SGDClassifier.html) to train linear classifiers with different loss functions. This method uses a stochastic gradient descent (SGD) learning: sample by sample the gradient of the loss is estimated and the model is updated in the gradient direction to reach the function minimum.\n",
    "\n",
    "Here, we are going to test three loss functions:\n",
    "1. 'hinge': penalizes with a linear loss the missclassfied data. This is the cost used by SVM classifiers.\n",
    "2. ‘squared_hinge’: penalizes with a squared loss the missclassfied data\n",
    "3. ‘log’: resulting of maximizing the log likelihood ratio test under some constraints\n",
    "\n",
    "Next cell provides you the example code to train a SGDClassifier with the 'hinge' loss, take it as reference to complete the code lines able to train the SGDClassifiers with 'squared_hinge' and 'log' cost functions."
   ]
  },
  {
   "cell_type": "code",
   "execution_count": null,
   "metadata": {
    "collapsed": false
   },
   "outputs": [],
   "source": [
    "###########################################################\n",
    "# TODO: Replace <FILL IN> with appropriate code\n",
    "###########################################################\n",
    "\n",
    "from sklearn.linear_model import SGDClassifier\n",
    "\n",
    "# Hinge loss\n",
    "clf_hinge = SGDClassifier(loss='hinge', penalty ='none', learning_rate='constant', eta0=0.001, n_iter=100)\n",
    "clf_hinge.fit(X_train, Y_train)\n",
    "\n",
    "# Squared_hinge loss\n",
    "clf_sqhinge = #<FILL IN>\n",
    "\n",
    "# Log loss\n",
    "clf_log = #<FILL IN>\n",
    "\n",
    "\n",
    "print 'Classifiers sucessfully trained'"
   ]
  },
  {
   "cell_type": "code",
   "execution_count": 7,
   "metadata": {
    "collapsed": false
   },
   "outputs": [
    {
     "name": "stdout",
     "output_type": "stream",
     "text": [
      "Classifiers sucessfully trained\n"
     ]
    }
   ],
   "source": [
    "###########################################################\n",
    "# SOLUTION\n",
    "###########################################################\n",
    "\n",
    "from sklearn.linear_model import SGDClassifier\n",
    "\n",
    "# Hinge loss\n",
    "clf_hinge = SGDClassifier(loss='hinge', penalty ='none', learning_rate='constant', eta0=0.001, n_iter=100)\n",
    "clf_hinge.fit(X_train, Y_train)\n",
    "\n",
    "# Squared_hinge loss\n",
    "clf_sqhinge = SGDClassifier(loss='squared_hinge', penalty ='none', learning_rate='constant', eta0=0.001, n_iter=100)\n",
    "clf_sqhinge.fit(X_train, Y_train)\n",
    "\n",
    "# Log loss\n",
    "clf_log = SGDClassifier(loss='log', penalty ='none', learning_rate='constant', eta0=0.001, n_iter=100)\n",
    "clf_log.fit(X_train, Y_train)\n",
    "\n",
    "\n",
    "print 'Classifiers sucessfully trained'"
   ]
  },
  {
   "cell_type": "markdown",
   "metadata": {},
   "source": [
    "Review the methods of the objects clf\\_hinge, clf\\_sqhinge and clf\\_log classifiers and use the appropriate one to compute their classification accuracies over the text data.\n",
    "\n",
    "Trick: if, for example, you write down \"clf\\_hinge.\" plus tab key, you can check all the methods of the object."
   ]
  },
  {
   "cell_type": "code",
   "execution_count": 44,
   "metadata": {
    "collapsed": false
   },
   "outputs": [
    {
     "ename": "SyntaxError",
     "evalue": "invalid syntax (<ipython-input-44-9d1d8c98e57b>, line 6)",
     "output_type": "error",
     "traceback": [
      "\u001b[0;36m  File \u001b[0;32m\"<ipython-input-44-9d1d8c98e57b>\"\u001b[0;36m, line \u001b[0;32m6\u001b[0m\n\u001b[0;31m    acc_hinge = clf_hinge.#<FILL IN>\u001b[0m\n\u001b[0m                                    ^\u001b[0m\n\u001b[0;31mSyntaxError\u001b[0m\u001b[0;31m:\u001b[0m invalid syntax\n"
     ]
    }
   ],
   "source": [
    "###########################################################\n",
    "# TODO: Replace <FILL IN> with appropriate code\n",
    "###########################################################\n",
    "\n",
    "# Compute the test accuracies\n",
    "acc_hinge = clf_hinge.#<FILL IN>\n",
    "acc_sqhinge = clf_sqhinge.#<FILL IN>\n",
    "acc_log = clf_log.#<FILL IN>\n",
    "\n",
    "print(\"The test accuracy with hinge loss is %2.2f%%\" %(100*acc_hinge))\n",
    "print(\"The test accuracy with squared hinge loss is %2.2f%%\" %(100*acc_sqhinge))\n",
    "print(\"The test accuracy with log loss is %2.2f%%\" %(100*acc_log))"
   ]
  },
  {
   "cell_type": "code",
   "execution_count": 8,
   "metadata": {
    "collapsed": false
   },
   "outputs": [
    {
     "name": "stdout",
     "output_type": "stream",
     "text": [
      "The test accuracy with hinge loss is 99.50%\n",
      "The test accuracy with squared hinge loss is 93.25%\n",
      "The test accuracy with log loss is 97.50%\n"
     ]
    }
   ],
   "source": [
    "###########################################################\n",
    "# SOLUTION\n",
    "###########################################################\n",
    "\n",
    "# Compute the test accuracies\n",
    "acc_hinge = clf_hinge.score(X_test,Y_test)\n",
    "acc_sqhinge = clf_sqhinge.score(X_test,Y_test)\n",
    "acc_log = clf_log.score(X_test,Y_test)\n",
    "\n",
    "print(\"The test accuracy with hinge loss is %2.2f%%\" %(100*acc_hinge))\n",
    "print(\"The test accuracy with squared hinge loss is %2.2f%%\" %(100*acc_sqhinge))\n",
    "print(\"The test accuracy with log loss is %2.2f%%\" %(100*acc_log))"
   ]
  },
  {
   "cell_type": "code",
   "execution_count": 46,
   "metadata": {
    "collapsed": false
   },
   "outputs": [
    {
     "name": "stdout",
     "output_type": "stream",
     "text": [
      "1 test passed.\n",
      "1 test passed.\n",
      "1 test passed.\n"
     ]
    }
   ],
   "source": [
    "###########################################################\n",
    "# TEST CELL\n",
    "###########################################################\n",
    "from test_helper import Test\n",
    "\n",
    "# TEST accuracy values\n",
    "Test.assertEquals(acc_hinge, 0.995, 'incorrect result: Accuracy of the classifier with hinge loss is uncorrect')\n",
    "Test.assertEquals(acc_sqhinge, 0.9325, 'incorrect result: Accuracy of the classifier with squared hinge loss is uncorrect')\n",
    "Test.assertEquals(acc_log, 0.975, 'incorrect result: Accuracy of the classifier with log loss is uncorrect')\n"
   ]
  },
  {
   "cell_type": "markdown",
   "metadata": {},
   "source": [
    "Finally, to analyze the differences of the above classifiers, let's plot their classification boundaries.\n",
    "\n",
    "The following function let you plot a classification boundary and classification regions for a given classifier. Please, use it to plot the classification regions of the above classifiers."
   ]
  },
  {
   "cell_type": "code",
   "execution_count": 64,
   "metadata": {
    "collapsed": true
   },
   "outputs": [],
   "source": [
    "# Plot the decision boundary\n",
    "import matplotlib.pyplot as plt\n",
    "\n",
    "def plot_boundary(clf, X, Y, plt):\n",
    "    \"\"\"Plot the classification regions for a given classifier.\n",
    "\n",
    "    Args:\n",
    "        clf: scikit-learn classifier object.\n",
    "        X (numpy dnarray): training or test data to be plotted (number data x number dimensions). Only frist two \n",
    "                            dimensions are ploted\n",
    "        Y (numpy dnarray): labels of the training or test data to be plotted (number data x 1).\n",
    "        plt: graphic object where you wish to plot                                             \n",
    "   \n",
    "    \"\"\"\n",
    "\n",
    "    plot_colors = \"brymc\"\n",
    "    plot_step = 0.02\n",
    "    n_classes = np.unique(Y).shape[0]\n",
    "    # Plot the decision regions\n",
    "    x_min, x_max = X[:, 0].min() - 1, X[:, 0].max() + 1\n",
    "    y_min, y_max = X[:, 1].min() - 1, X[:, 1].max() + 1\n",
    "    xx, yy = np.meshgrid(np.arange(x_min, x_max, plot_step),\n",
    "                        np.arange(y_min, y_max, plot_step))\n",
    "\n",
    "    Z = clf.predict(np.c_[xx.ravel(), yy.ravel()])\n",
    "    Z = Z.reshape(xx.shape)\n",
    "    cs = plt.contourf(xx, yy, Z, cmap=plt.cm.Paired)\n",
    "\n",
    "    plt.xlabel('Feature 1')\n",
    "    plt.ylabel('Feature 2')\n",
    "    plt.axis(\"tight\")\n",
    "\n",
    "    # Plot the training points\n",
    "    for i, color in zip(range(n_classes), plot_colors):\n",
    "        idx = np.where(Y == i)\n",
    "        plt.scatter(X[idx, 0], X[idx, 1], c=color, cmap=plt.cm.Paired)\n",
    "\n",
    "    plt.axis(\"tight\")"
   ]
  },
  {
   "cell_type": "code",
   "execution_count": 72,
   "metadata": {
    "collapsed": false
   },
   "outputs": [
    {
     "data": {
      "image/png": "[encoded data removed]",
      "text/plain": [
       "<matplotlib.figure.Figure at 0x1173d81d0>"
      ]
     },
     "metadata": {},
     "output_type": "display_data"
    }
   ],
   "source": [
    "plt.figure(1,figsize=(6, 6))\n",
    "plt.subplot(3,2,1)\n",
    "plot_boundary(clf_hinge, X_train, Y_train, plt)\n",
    "plt.subplot(3,2,3)\n",
    "plot_boundary(clf_sqhinge, X_train, Y_train, plt)\n",
    "plt.subplot(3,2,5)\n",
    "plot_boundary(clf_log, X_train, Y_train, plt)\n",
    "plt.subplot(3,2,2)\n",
    "plot_boundary(clf_hinge, X_test, Y_test, plt)\n",
    "plt.subplot(3,2,4)\n",
    "plot_boundary(clf_sqhinge, X_test, Y_test, plt)\n",
    "plt.subplot(3,2,6)\n",
    "plot_boundary(clf_log, X_test, Y_test, plt)\n",
    "plt.show()"
   ]
  },
  {
   "cell_type": "markdown",
   "metadata": {},
   "source": [
    "### ** Part 2: The effect of the regularization**\n",
    "\n",
    "Adding a regularization penalty in the classification cost function let you control the generalization capability of the classifier. Furthermore, some especial regularization terms provide additional properties such as the sparsity of the solution.\n",
    "\n",
    "Here, we are going to analyze this effect including a regularization term in the SGDClassifier used in the previous section. For this exercise, select the squared_hinge loss function and train again this classifier:\n",
    "* Without any regularization (penalty = 'none') \n",
    "* Including an l2 regularization (penalty = 'l2')\n",
    "* Including an l1 regularization (penalty = 'l1')\n",
    "\n",
    "For two last cases, weight the regularization term by a factor of 1 (alpha=1)."
   ]
  },
  {
   "cell_type": "code",
   "execution_count": 55,
   "metadata": {
    "collapsed": false
   },
   "outputs": [
    {
     "ename": "SyntaxError",
     "evalue": "invalid syntax (<ipython-input-55-64096f793802>, line 8)",
     "output_type": "error",
     "traceback": [
      "\u001b[0;36m  File \u001b[0;32m\"<ipython-input-55-64096f793802>\"\u001b[0;36m, line \u001b[0;32m8\u001b[0m\n\u001b[0;31m    clf_l2reg = #<FILL IN>\u001b[0m\n\u001b[0m                          ^\u001b[0m\n\u001b[0;31mSyntaxError\u001b[0m\u001b[0;31m:\u001b[0m invalid syntax\n"
     ]
    }
   ],
   "source": [
    "###########################################################\n",
    "# TODO: Replace <FILL IN> with appropriate code\n",
    "###########################################################\n",
    "\n",
    "clf_noreg = SGDClassifier(loss='squared_hinge', penalty = 'none', alpha= 0, learning_rate='constant', eta0=0.001, n_iter=100)\n",
    "clf_noreg.fit(X_train, Y_train)\n",
    "\n",
    "clf_l2reg = #<FILL IN>\n",
    "\n",
    "clf_l1reg = #<FILL IN>\n",
    "\n",
    "print 'Classifiers sucessfully trained'"
   ]
  },
  {
   "cell_type": "code",
   "execution_count": 9,
   "metadata": {
    "collapsed": false
   },
   "outputs": [
    {
     "name": "stdout",
     "output_type": "stream",
     "text": [
      "Classifiers sucessfully trained\n"
     ]
    }
   ],
   "source": [
    "###########################################################\n",
    "# SOLUTION\n",
    "###########################################################\n",
    "\n",
    "clf_noreg = SGDClassifier(loss='squared_hinge', penalty = 'none', alpha= 0, learning_rate='constant', eta0=0.001, n_iter=100)\n",
    "clf_noreg.fit(X_train, Y_train)\n",
    "\n",
    "\n",
    "clf_l2reg = SGDClassifier(loss='squared_hinge', penalty = 'l2', alpha= 1, learning_rate='constant', eta0=0.001, n_iter=100)\n",
    "clf_l2reg.fit(X_train, Y_train)\n",
    "\n",
    "\n",
    "clf_l1reg = SGDClassifier(loss='squared_hinge', penalty = 'l1', alpha= 1, learning_rate='constant', eta0=0.001, n_iter=100)\n",
    "clf_l1reg.fit(X_train, Y_train)\n",
    "\n",
    "print 'Classifiers sucessfully trained'"
   ]
  },
  {
   "cell_type": "markdown",
   "metadata": {},
   "source": [
    "Obtain their test accuracies of each classifier and analyze the values of the coefficients of the classifier with l1 regularization (check the variables of the object clf\\_l1reg)."
   ]
  },
  {
   "cell_type": "code",
   "execution_count": 10,
   "metadata": {
    "collapsed": false
   },
   "outputs": [
    {
     "name": "stdout",
     "output_type": "stream",
     "text": [
      "The test accuracy without regularization is 93.25%\n",
      "The test accuracy with l2 regularization is 95.75%\n",
      "The test accuracy with l1 regularization loss is 97.75%\n",
      "The classifier coefficients with l1 regularization are (0.00, 0.17)\n"
     ]
    }
   ],
   "source": [
    "acc_noreg = clf_noreg.score(X_test,Y_test)\n",
    "acc_l2reg = clf_l2reg.score(X_test,Y_test)\n",
    "acc_l1reg = clf_l1reg.score(X_test,Y_test)\n",
    "coef_l1reg =  clf_l1reg.coef_\n",
    "\n",
    "print(\"The test accuracy without regularization is %2.2f%%\" %(100*acc_noreg))\n",
    "print(\"The test accuracy with l2 regularization is %2.2f%%\" %(100*acc_l2reg))\n",
    "print(\"The test accuracy with l1 regularization loss is %2.2f%%\" %(100*acc_l1reg))\n",
    "print(\"The classifier coefficients with l1 regularization are (%2.2f, %2.2f)\" %(coef_l1reg[0][0], coef_l1reg[0][1]))"
   ]
  },
  {
   "cell_type": "code",
   "execution_count": 62,
   "metadata": {
    "collapsed": false
   },
   "outputs": [
    {
     "name": "stdout",
     "output_type": "stream",
     "text": [
      "1 test passed.\n",
      "1 test passed.\n",
      "1 test passed.\n",
      "1 test passed.\n"
     ]
    }
   ],
   "source": [
    "###########################################################\n",
    "# TEST CELL\n",
    "###########################################################\n",
    "from test_helper import Test\n",
    "\n",
    "# TEST accuracy values\n",
    "Test.assertEquals(acc_noreg, 0.9325, 'incorrect result: Accuracy of the classifier without regularization is uncorrect')\n",
    "Test.assertEquals(acc_l2reg, 0.9575, 'incorrect result: Accuracy of the classifier with l2 regularization is uncorrect')\n",
    "Test.assertEquals(acc_l1reg, 0.9775, 'incorrect result: Accuracy of the classifier with l1 regularization is uncorrect')\n",
    "Test.assertEquals(coef_l1reg[0][0], 0, 'incorrect result: Coefficients the classifier with l1 regularization are uncorrect')\n"
   ]
  },
  {
   "cell_type": "markdown",
   "metadata": {},
   "source": [
    "The following code, let you display the classification boundaries of the above classifiers."
   ]
  },
  {
   "cell_type": "code",
   "execution_count": 71,
   "metadata": {
    "collapsed": false
   },
   "outputs": [
    {
     "data": {
      "image/png": "[encoded data removed]",
      "text/plain": [
       "<matplotlib.figure.Figure at 0x117340350>"
      ]
     },
     "metadata": {},
     "output_type": "display_data"
    }
   ],
   "source": [
    "plt.figure(1,figsize=(6, 6))\n",
    "plt.subplot(3,2,1)\n",
    "plot_boundary(clf_noreg, X_train, Y_train, plt)\n",
    "plt.subplot(3,2,3)\n",
    "plot_boundary(clf_l2reg, X_train, Y_train, plt)\n",
    "plt.subplot(3,2,5)\n",
    "plot_boundary(clf_l1reg, X_train, Y_train, plt)\n",
    "plt.subplot(3,2,2)\n",
    "plot_boundary(clf_noreg, X_test, Y_test, plt)\n",
    "plt.subplot(3,2,4)\n",
    "plot_boundary(clf_l2reg, X_test, Y_test, plt)\n",
    "plt.subplot(3,2,6)\n",
    "plot_boundary(clf_l1reg, X_test, Y_test, plt)\n",
    "plt.show()"
   ]
  },
  {
   "cell_type": "markdown",
   "metadata": {},
   "source": [
    "### ** Part 3: From binary classifiers to multiclass formulations **\n",
    "\n",
    "When we have to face a multiclass problems, some classifiers are inherently multiclass (for instance, K-Nearest Neighbours); however, other ones have been designed for the binary case, so we have to extend them to the multiclass case. More common strategies relies in applying a 1 vs. 1 approach or a 1 vs. rest scheme. \n",
    "\n",
    "By default, Scikit-learn implements all classifiers in a one vs. all (or one vs. rest) fashion (except for the linear SVM implemented by the SVC() method). However, to let the user select the multiclass implementation to be used, it also includes wrapper functions that work over the classifier to force the multiclass strategy to be applied: [OneVsRestClassifier( )](http://scikit-learn.org/stable/modules/generated/sklearn.multiclass.OneVsRestClassifier.html#sklearn.multiclass.OneVsRestClassifier) and [OneVsOneClassifier( )](http://scikit-learn.org/stable/modules/generated/sklearn.multiclass.OneVsOneClassifier.html#sklearn.multiclass.OneVsOneClassifier). \n",
    "\n",
    "In this part of the lab session, we are going to learn to use these multiclass implementations. So, in this section, we are going to work with a multiclass dataset and we will use a linear SVM classifier as baseline method to analyze the different multiclass strategies. "
   ]
  },
  {
   "cell_type": "markdown",
   "metadata": {},
   "source": [
    "#### ** 3.1 Load and prepare the data **\n",
    "\n",
    "The following code builds a bidimensional problem with four classes and 500 samples, create training and testing partitions with the 60% and 40% of the original data and normalize the data to zero mean and unitary standard deviation "
   ]
  },
  {
   "cell_type": "code",
   "execution_count": 78,
   "metadata": {
    "collapsed": false
   },
   "outputs": [],
   "source": [
    "import numpy as np\n",
    "from sklearn import datasets\n",
    "from sklearn.cross_validation import train_test_split\n",
    "from sklearn.preprocessing import StandardScaler\n",
    "\n",
    "# Initialize the random generator seed to compare results\n",
    "np.random.seed(0)\n",
    "\n",
    "# Generating artifial data\n",
    "X, Y = datasets.make_classification(n_samples=500, n_features=2, n_classes = 4, n_clusters_per_class=1,\n",
    "                                    class_sep=2, n_redundant=0, flip_y =0.01)\n",
    "\n",
    "X_train, X_test, Y_train, Y_test = train_test_split(X, Y, test_size=.4)\n",
    "\n",
    "scaler = StandardScaler()\n",
    "X_train = scaler.fit_transform(X_train)\n",
    "X_test = scaler.transform(X_test)"
   ]
  },
  {
   "cell_type": "markdown",
   "metadata": {},
   "source": [
    "#### ** 3.2 Working with multiclass linear SVMs **"
   ]
  },
  {
   "cell_type": "markdown",
   "metadata": {},
   "source": [
    "Next cell contains the necessary code to train, by means of the svm.SVC method, a linear SVM fixing its penalty parameter to 100."
   ]
  },
  {
   "cell_type": "code",
   "execution_count": 73,
   "metadata": {
    "collapsed": false
   },
   "outputs": [
    {
     "name": "stdout",
     "output_type": "stream",
     "text": [
      "Linear SVM succesfully trained\n"
     ]
    }
   ],
   "source": [
    "from sklearn.svm import SVC\n",
    "clf = SVC(C=100, kernel='linear').fit(X_train, Y_train)\n",
    "print 'Linear SVM succesfully trained'"
   ]
  },
  {
   "cell_type": "markdown",
   "metadata": {},
   "source": [
    "Use this code as example to obtain two different multiclass configurations: one vs. all and one vs. one. For this purpose, you can use the functions: [OneVsRestClassifier( )](http://scikit-learn.org/stable/modules/generated/sklearn.multiclass.OneVsRestClassifier.html#sklearn.multiclass.OneVsRestClassifier) and [OneVsOneClassifier( )](http://scikit-learn.org/stable/modules/generated/sklearn.multiclass.OneVsOneClassifier.html#sklearn.multiclass.OneVsOneClassifier). Check the number of classifiers that are built by each configuration (you can use access to the .estimators\\_ parameter of the resulting classifier object). Finally, compute their classification accuracies.\n",
    "\n",
    "When you complete the code successfully, you can use the last cell to plot the classification boundaries."
   ]
  },
  {
   "cell_type": "code",
   "execution_count": 75,
   "metadata": {
    "collapsed": false
   },
   "outputs": [
    {
     "ename": "SyntaxError",
     "evalue": "invalid syntax (<ipython-input-75-72f9aee5f14c>, line 8)",
     "output_type": "error",
     "traceback": [
      "\u001b[0;36m  File \u001b[0;32m\"<ipython-input-75-72f9aee5f14c>\"\u001b[0;36m, line \u001b[0;32m8\u001b[0m\n\u001b[0;31m    clf_1vsall = #<FILL IN>\u001b[0m\n\u001b[0m                           ^\u001b[0m\n\u001b[0;31mSyntaxError\u001b[0m\u001b[0;31m:\u001b[0m invalid syntax\n"
     ]
    }
   ],
   "source": [
    "###########################################################\n",
    "# TODO: Replace <FILL IN> with appropriate code\n",
    "###########################################################\n",
    "\n",
    "# Train a linear SVM with a 1 vs. all configuration\n",
    "from sklearn.multiclass import OneVsRestClassifier\n",
    "# 1 vs. rest\n",
    "clf_1vsall = #<FILL IN>\n",
    "\n",
    "# Train a linear SVM with a 1 vs. 1 configuration\n",
    "from sklearn.multiclass import OneVsOneClassifier\n",
    "# 1 vs. 1\n",
    "clf_1vs1 = #<FILL IN>\n",
    "\n",
    "# Check number of classifiers\n",
    "num_clf_1vsall = #<FILL IN>\n",
    "num_clf_1vs1 = #<FILL IN>\n",
    "print(\"The number of classfiers in 1 vs. all configuration is %2.2f\" %(num_clf_1vsall))\n",
    "print(\"The number of classfiers 1 vs. all configuration is %2.2f\" %(num_clf_1vs1))\n",
    "\n",
    "# Compute classifier accuracies\n",
    "acc_1vsall = #<FILL IN>\n",
    "acc_1vs1 = #<FILL IN>\n",
    "print(\"The test accuracy in 1 vs. all configuration is %2.2f%%\" %(100*acc_1vsall))\n",
    "print(\"The test accuracy in 1 vs. all configuration is %2.2f%%\" %(100*acc_1vs1))"
   ]
  },
  {
   "cell_type": "code",
   "execution_count": 79,
   "metadata": {
    "collapsed": false
   },
   "outputs": [
    {
     "name": "stdout",
     "output_type": "stream",
     "text": [
      "The number of classfiers in 1 vs. all configuration is 4\n",
      "The number of classfiers 1 vs. all configuration is 6\n",
      "The test accuracy in 1 vs. all configuration is 95.50%\n",
      "The test accuracy in 1 vs. all configuration is 97.50%\n"
     ]
    },
    {
     "name": "stderr",
     "output_type": "stream",
     "text": [
      "/Users/vanessa/anaconda/lib/python2.7/site-packages/sklearn/utils/__init__.py:93: DeprecationWarning: Function multilabel_ is deprecated; Attribute multilabel_ is deprecated and will be removed in 0.17. Use 'y_type_.startswith('multilabel')' instead\n",
      "  warnings.warn(msg, category=DeprecationWarning)\n"
     ]
    }
   ],
   "source": [
    "###########################################################\n",
    "# SOLUTION\n",
    "###########################################################\n",
    "\n",
    "# Train a linear SVM with a 1 vs. all configuration\n",
    "from sklearn.multiclass import OneVsRestClassifier\n",
    "# 1 vs. rest\n",
    "clf_1vsall = OneVsRestClassifier(SVC(C=100, kernel='linear')).fit(X_train, Y_train)\n",
    "\n",
    "# Train a linear SVM with a 1 vs. 1 configuration\n",
    "from sklearn.multiclass import OneVsOneClassifier\n",
    "# 1 vs. 1\n",
    "clf_1vs1 = OneVsOneClassifier(SVC(C=100, kernel='linear')).fit(X_train, Y_train)\n",
    "\n",
    "# Check number of classifiers\n",
    "num_clf_1vsall=len(clf_1vsall.estimators_)\n",
    "num_clf_1vs1=len(clf_1vs1.estimators_)\n",
    "print(\"The number of classfiers in 1 vs. all configuration is %d\" %(num_clf_1vsall))\n",
    "print(\"The number of classfiers 1 vs. all configuration is %d\" %(num_clf_1vs1))\n",
    "\n",
    "# Compute classifier accuracies\n",
    "acc_1vsall = clf_1vsall.score(X_test,Y_test)\n",
    "acc_1vs1 = clf_1vs1.score(X_test,Y_test)\n",
    "print(\"The test accuracy in 1 vs. all configuration is %2.2f%%\" %(100*acc_1vsall))\n",
    "print(\"The test accuracy in 1 vs. all configuration is %2.2f%%\" %(100*acc_1vs1))"
   ]
  },
  {
   "cell_type": "code",
   "execution_count": 80,
   "metadata": {
    "collapsed": false
   },
   "outputs": [
    {
     "name": "stdout",
     "output_type": "stream",
     "text": [
      "1 test passed.\n",
      "1 test passed.\n",
      "1 test passed.\n",
      "1 test passed.\n"
     ]
    }
   ],
   "source": [
    "###########################################################\n",
    "# TEST CELL\n",
    "###########################################################\n",
    "from test_helper import Test\n",
    "\n",
    "# TEST accuracy values\n",
    "Test.assertEquals(num_clf_1vsall, 4, 'incorrect result: Number of classfiers in 1 vs. all configuration is uncorrect')\n",
    "Test.assertEquals(num_clf_1vs1, 6, 'incorrect result: Number of classfiers in 1 vs. 1 configuration is uncorrect')\n",
    "Test.assertEquals(acc_1vsall, 0.955, 'incorrect result: Accuracy in 1 vs. all configuration is uncorrect')\n",
    "Test.assertEquals(acc_1vs1, 0.975, 'incorrect result: Accuracy in 1 vs. 1 configuration is uncorrect')"
   ]
  },
  {
   "cell_type": "code",
   "execution_count": 81,
   "metadata": {
    "collapsed": false
   },
   "outputs": [
    {
     "data": {
      "image/png": "[encoded data removed]",
      "text/plain": [
       "<matplotlib.figure.Figure at 0x113b9b650>"
      ]
     },
     "metadata": {},
     "output_type": "display_data"
    }
   ],
   "source": [
    "# Plot classification boundaries\n",
    "plt.figure(1,figsize=(8, 6))\n",
    "plt.subplot(2,2,1)\n",
    "plot_boundary(clf_1vsall, X_train, Y_train, plt)\n",
    "plt.subplot(2,2,2)\n",
    "plot_boundary(clf_1vs1, X_train, Y_train, plt)\n",
    "plt.subplot(2,2,3)\n",
    "plot_boundary(clf_1vsall, X_test, Y_test, plt)\n",
    "plt.subplot(2,2,4)\n",
    "plot_boundary(clf_1vs1, X_test, Y_test, plt)\n",
    "plt.show()"
   ]
  },
  {
   "cell_type": "markdown",
   "metadata": {
    "collapsed": false
   },
   "source": [
    "### ** Part 4: Performance evaluation **\n",
    "\n",
    "Until now, we have evaluated the classifier performance by means of its accuracy over the test data, i.e., number of test samples correctly classified. Here, we are going to explore other measurements.\n",
    "\n",
    "For the sake of simplicity, here we are going to work with the multiclass problem generated in the previous section and the standard multiclass SVC classifier (the one provided by the SVC( ) method)."
   ]
  },
  {
   "cell_type": "markdown",
   "metadata": {},
   "source": [
    "#### ** Part 4.1: Accuracy  **\n",
    "\n",
    "We normally use the .score( ) method of the object classifier to compute the accuracy of a classifier. Use the [metrics.accuracy\\_score( )](http://scikit-learn.org/stable/modules/generated/sklearn.metrics.accuracy_score.html) function to obtain it and check that you obtain the same value. Note that you need to obtain the classifier output for each test data to able to run the metrics.accuracy\\_score() function, review the method .predict() of the classifier object to compute this output.\n",
    "\n"
   ]
  },
  {
   "cell_type": "code",
   "execution_count": 82,
   "metadata": {
    "collapsed": false
   },
   "outputs": [
    {
     "name": "stdout",
     "output_type": "stream",
     "text": [
      "The test accuracy provided by score method is  97.50%\n",
      "The test accuracy provided by accuracy_score function is 97.50%\n"
     ]
    }
   ],
   "source": [
    "###########################################################\n",
    "# TODO: Replace <FILL IN> with appropriate code\n",
    "###########################################################\n",
    "\n",
    "from sklearn.svm import SVC\n",
    "clf = SVC(C=100, kernel='linear').fit(X_train, Y_train)\n",
    "\n",
    "# Compute the test accuracy by means of .score()\n",
    "acc_1 = clf.score(X_test,Y_test)\n",
    "\n",
    "# Compute the test accuracy by means of accuracy_score()\n",
    "from sklearn.metrics import accuracy_score\n",
    "Y_pred = #<FILL IN>\n",
    "acc_2 = accuracy_score(#<FILL IN>)\n",
    "\n",
    "print(\"The test accuracy provided by score method is  %2.2f%%\" %(100*acc_1))\n",
    "print(\"The test accuracy provided by accuracy_score function is %2.2f%%\" %(100*acc_2))"
   ]
  },
  {
   "cell_type": "code",
   "execution_count": 82,
   "metadata": {
    "collapsed": false
   },
   "outputs": [
    {
     "name": "stdout",
     "output_type": "stream",
     "text": [
      "The test accuracy provided by score method is  97.50%\n",
      "The test accuracy provided by accuracy_score function is 97.50%\n"
     ]
    }
   ],
   "source": [
    "###########################################################\n",
    "# SOLUTION\n",
    "###########################################################\n",
    "\n",
    "from sklearn.svm import SVC\n",
    "clf = SVC(C=100, kernel='linear').fit(X_train, Y_train)\n",
    "\n",
    "# Compute the test accuracy by means of .score()\n",
    "acc_1 = clf.score(X_test,Y_test)\n",
    "\n",
    "# Compute the test accuracy by means of accuracy_score()\n",
    "from sklearn.metrics import accuracy_score\n",
    "Y_pred = clf.predict(X_test)\n",
    "acc_2 = accuracy_score(Y_test, Y_pred)\n",
    "\n",
    "print(\"The test accuracy provided by score method is  %2.2f%%\" %(100*acc_1))\n",
    "print(\"The test accuracy provided by accuracy_score function is %2.2f%%\" %(100*acc_2))"
   ]
  },
  {
   "cell_type": "code",
   "execution_count": 83,
   "metadata": {
    "collapsed": false
   },
   "outputs": [
    {
     "name": "stdout",
     "output_type": "stream",
     "text": [
      "1 test passed.\n"
     ]
    }
   ],
   "source": [
    "###########################################################\n",
    "# TEST CELL\n",
    "###########################################################\n",
    "from test_helper import Test\n",
    "\n",
    "# TEST accuracy values\n",
    "Test.assertEquals(acc_1, acc_2, 'incorrect result: different accuracy values')"
   ]
  },
  {
   "cell_type": "markdown",
   "metadata": {},
   "source": [
    "#### ** Part 4.2: Confusion matrix  **\n",
    "In multiclass problems, the confusion matrix provides the percentage of well classified data over each class. Use the [metrics.confusion_matrix()](http://scikit-learn.org/stable/modules/generated/sklearn.metrics.confusion_matrix.html) method to compute it over the performance of above SVM classifier. "
   ]
  },
  {
   "cell_type": "code",
   "execution_count": 84,
   "metadata": {
    "collapsed": false
   },
   "outputs": [
    {
     "ename": "SyntaxError",
     "evalue": "invalid syntax (<ipython-input-84-c59c7efde59f>, line 6)",
     "output_type": "error",
     "traceback": [
      "\u001b[0;36m  File \u001b[0;32m\"<ipython-input-84-c59c7efde59f>\"\u001b[0;36m, line \u001b[0;32m6\u001b[0m\n\u001b[0;31m    CM = <FILL IN>\u001b[0m\n\u001b[0m         ^\u001b[0m\n\u001b[0;31mSyntaxError\u001b[0m\u001b[0;31m:\u001b[0m invalid syntax\n"
     ]
    }
   ],
   "source": [
    "###########################################################\n",
    "# TODO: Replace <FILL IN> with appropriate code\n",
    "###########################################################\n",
    "\n",
    "from sklearn.metrics import confusion_matrix\n",
    "CM = #<FILL IN>\n",
    "print('Confusion matrix:')\n",
    "print CM"
   ]
  },
  {
   "cell_type": "code",
   "execution_count": 85,
   "metadata": {
    "collapsed": false
   },
   "outputs": [
    {
     "name": "stdout",
     "output_type": "stream",
     "text": [
      "Confusion matrix\n",
      "[[33  0  0  1]\n",
      " [ 1 54  0  2]\n",
      " [ 0  0 52  1]\n",
      " [ 0  0  0 56]]\n",
      "Normalized confusion matrix\n",
      "[[ 0.97058824  0.          0.          0.02941176]\n",
      " [ 0.01754386  0.94736842  0.          0.03508772]\n",
      " [ 0.          0.          0.98113208  0.01886792]\n",
      " [ 0.          0.          0.          1.        ]]\n"
     ]
    }
   ],
   "source": [
    "###########################################################\n",
    "# SOLUTION\n",
    "###########################################################\n",
    "\n",
    "from sklearn.metrics import confusion_matrix\n",
    "CM = confusion_matrix(Y_test, Y_pred)\n",
    "print('Confusion matrix')\n",
    "print CM\n",
    "CM_norm = CM.astype('float') / CM.sum(axis=1)[:, np.newaxis]\n",
    "print('Normalized confusion matrix')\n",
    "print CM_norm"
   ]
  },
  {
   "cell_type": "code",
   "execution_count": 97,
   "metadata": {
    "collapsed": false
   },
   "outputs": [
    {
     "name": "stdout",
     "output_type": "stream",
     "text": [
      "1 test passed.\n"
     ]
    }
   ],
   "source": [
    "###########################################################\n",
    "# TEST CELL\n",
    "###########################################################\n",
    "from test_helper import Test\n",
    "\n",
    "# TEST accuracy values\n",
    "Test.assertEquals(np.sum(np.diag(CM)), 195, 'CM matrix is incorrect')"
   ]
  },
  {
   "cell_type": "markdown",
   "metadata": {},
   "source": [
    "You can use the code provided below to plot the confusion matrix."
   ]
  },
  {
   "cell_type": "code",
   "execution_count": 89,
   "metadata": {
    "collapsed": false
   },
   "outputs": [
    {
     "data": {
      "image/png": "[encoded data removed]",
      "text/plain": [
       "<matplotlib.figure.Figure at 0x116ece050>"
      ]
     },
     "metadata": {},
     "output_type": "display_data"
    }
   ],
   "source": [
    "def plot_confusion_matrix(cm, title='Confusion matrix', cmap=plt.cm.Blues):\n",
    "    plt.imshow(cm, interpolation='nearest', cmap=cmap)\n",
    "    plt.title(title)\n",
    "    plt.colorbar()\n",
    "    tick_marks = np.arange(cm.shape[0])\n",
    "    plt.xticks(tick_marks, np.arange(cm.shape[0]))\n",
    "    plt.yticks(tick_marks, np.arange(cm.shape[0]))\n",
    "    plt.tight_layout()\n",
    "    plt.ylabel('True label')\n",
    "    plt.xlabel('Predicted label')\n",
    "    \n",
    "plt.figure()\n",
    "plot_confusion_matrix(CM)\n",
    "plt.show()"
   ]
  },
  {
   "cell_type": "markdown",
   "metadata": {},
   "source": [
    "#### ** Part 4.3: ROC curve **"
   ]
  },
  {
   "cell_type": "markdown",
   "metadata": {},
   "source": [
    "ROC curve and ROC area (auc) are typically used in binary problems to study the output of a classifier independently of the classification threshold. In order to extend ROC curve and ROC area to multi-class problems, one can binarize the output and draw one ROC curve can per label.\n",
    "\n",
    "Here, we are going to use this approach to obtain the ROC curves associated to this multiclass problem. To make easier it, let's work with the SVC classifier in 1 vs. rest fashion (so that we get a binary classifier per class).\n",
    "\n",
    "Follow this steps:\n",
    "1. Train a SVC classifier (with a penalty parameter fixed to 100) in 1 vs. rest configuration and obtain the soft output of the test data by means of the decision_function method of the classifier object.\n",
    "2. Use the [label_binarize( )](http://scikit-learn.org/stable/modules/generated/sklearn.preprocessing.label_binarize.html) method to express the training and test label vectors as a coding matrix of a 1 vs. rest problem\n",
    "3. Use the [roc_curve( )](http://scikit-learn.org/stable/modules/generated/sklearn.metrics.roc_curve.html) and [auc( )](http://scikit-learn.org/stable/modules/generated/sklearn.metrics.auc.html) methods to obtain the ROC curve (expressed in terms of the false positive rate (fpr) and the true positive rate (tpr)) and the AUC value for each binary problem.\n",
    "\n",
    "Finally, return for each class the false positive rate (fpr), the true positive rate (tpr) and the auc values. Note that the provided code generates a dictionary structures to save this values for each class."
   ]
  },
  {
   "cell_type": "code",
   "execution_count": 92,
   "metadata": {
    "collapsed": false
   },
   "outputs": [
    {
     "name": "stdout",
     "output_type": "stream",
     "text": [
      "auc values per class are:\n",
      "{0: 0.94277108433734935, 1: 0.99349773033983557, 2: 0.9956359902451547, 3: 0.98834325396825395}\n"
     ]
    }
   ],
   "source": [
    "###########################################################\n",
    "# TODO: Replace <FILL IN> with appropriate code\n",
    "###########################################################\n",
    "\n",
    "# Learning SVC to predict each class against the rest\n",
    "clf = #<FILL IN>\n",
    "# Compute its soft-output for the test data\n",
    "Y_out = #<FILL IN>\n",
    "\n",
    "# Binarize the labels of the test data\n",
    "from sklearn.preprocessing import label_binarize\n",
    "set_clases=[0, 1, 2, 3]\n",
    "Y_test_bin = #<FILL IN>\n",
    "\n",
    "# Compute ROC curve and ROC area for each class\n",
    "from sklearn.metrics import roc_curve, auc\n",
    "\n",
    "fpr = dict()\n",
    "tpr = dict()\n",
    "roc_auc = dict()\n",
    "n_classes = Y_test_bin.shape[1]\n",
    "for i in range(n_classes):\n",
    "    fpr[i], tpr[i], _ = #<FILL IN>\n",
    "    roc_auc[i] = #<FILL IN>\n",
    "\n",
    "print 'auc values per class are:'\n",
    "print roc_auc \n"
   ]
  },
  {
   "cell_type": "code",
   "execution_count": 93,
   "metadata": {
    "collapsed": false
   },
   "outputs": [
    {
     "name": "stdout",
     "output_type": "stream",
     "text": [
      "auc values per class are:\n",
      "{0: 0.94277108433734935, 1: 0.99349773033983557, 2: 0.9956359902451547, 3: 0.98834325396825395}\n"
     ]
    }
   ],
   "source": [
    "###########################################################\n",
    "# SOLUTION\n",
    "###########################################################\n",
    "\n",
    "# Learning SVC to predict each class against the rest\n",
    "clf = OneVsRestClassifier(SVC(kernel='linear', C=100))\n",
    "# Compute its soft-output for the test data\n",
    "Y_out = clf.fit(X_train, Y_train).decision_function(X_test)\n",
    "\n",
    "# Binarize the labels \n",
    "from sklearn.preprocessing import label_binarize\n",
    "set_clases=[0, 1, 2, 3]\n",
    "Y_test_bin = label_binarize(Y_test, classes=set_clases)\n",
    "\n",
    "# Compute ROC curve and ROC area for each class\n",
    "from sklearn.metrics import roc_curve, auc\n",
    "\n",
    "fpr = dict()\n",
    "tpr = dict()\n",
    "roc_auc = dict()\n",
    "n_classes = Y_test_bin.shape[1]\n",
    "for i in range(n_classes):\n",
    "    fpr[i], tpr[i], _ = roc_curve(Y_test_bin[:, i], Y_out[:, i])\n",
    "    roc_auc[i] = auc(fpr[i], tpr[i])\n",
    "\n",
    "print 'auc values per class are:'\n",
    "print roc_auc \n"
   ]
  },
  {
   "cell_type": "code",
   "execution_count": 102,
   "metadata": {
    "collapsed": false
   },
   "outputs": [
    {
     "name": "stdout",
     "output_type": "stream",
     "text": [
      "1 test passed.\n"
     ]
    }
   ],
   "source": [
    "###########################################################\n",
    "# TEST CELL\n",
    "###########################################################\n",
    "from test_helper import Test\n",
    "\n",
    "# TEST accuracy values\n",
    "Test.assertEquals(np.round(np.sum(roc_auc.values()),2), 3.92, 'auc values are incorrect')"
   ]
  },
  {
   "cell_type": "markdown",
   "metadata": {},
   "source": [
    "Finally, you can plot the ROC curves with the following code"
   ]
  },
  {
   "cell_type": "code",
   "execution_count": 103,
   "metadata": {
    "collapsed": false
   },
   "outputs": [
    {
     "data": {
      "image/png": "[encoded data removed]",
      "text/plain": [
       "<matplotlib.figure.Figure at 0x116ece790>"
      ]
     },
     "metadata": {},
     "output_type": "display_data"
    }
   ],
   "source": [
    "# Code to plot ROC curve\n",
    "for i in range(n_classes):\n",
    "    plt.plot(fpr[i], tpr[i], label='ROC curve of class {0} (area = {1:0.2f})'\n",
    "                                   ''.format(i, roc_auc[i]))\n",
    "\n",
    "plt.plot([0, 1], [0, 1], 'k--')\n",
    "plt.xlim([0.0, 1.0])\n",
    "plt.ylim([0.0, 1.05])\n",
    "plt.xlabel('False Positive Rate')\n",
    "plt.ylabel('True Positive Rate')\n",
    "plt.title('ROC curve per class')\n",
    "plt.legend(loc=\"lower right\")\n",
    "plt.show()"
   ]
  }
 ],
 "metadata": {
  "anaconda-cloud": {},
  "kernelspec": {
   "display_name": "Python [default]",
   "language": "python",
   "name": "python2"
  },
  "language_info": {
   "codemirror_mode": {
    "name": "ipython",
    "version": 2
   },
   "file_extension": ".py",
   "mimetype": "text/x-python",
   "name": "python",
   "nbconvert_exporter": "python",
   "pygments_lexer": "ipython2",
   "version": "2.7.12"
  }
 },
 "nbformat": 4,
 "nbformat_minor": 0
}
