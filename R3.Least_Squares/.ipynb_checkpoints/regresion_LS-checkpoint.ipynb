{
 "cells": [
  {
   "cell_type": "markdown",
   "metadata": {
    "slideshow": {
     "slide_type": "slide"
    }
   },
   "source": [
    "\n",
    "# **Least squares regression**\n",
    "\n",
    "    Notebook version: 1.1 (Mar 11, 2016)\n",
    "\n",
    "    Author: Jerónimo Arenas García (jarenas@tsc.uc3m.es)\n",
    "\n",
    "    Changes: v.1.0 - First version\n",
    "             v.1.1 - UTAD version\n",
    "    \n",
    "    Pending changes: * "
   ]
  },
  {
   "cell_type": "code",
   "execution_count": null,
   "metadata": {
    "collapsed": false,
    "slideshow": {
     "slide_type": "skip"
    }
   },
   "outputs": [],
   "source": [
    "# Import some libraries that will be necessary for working with data and displaying plots\n",
    "\n",
    "# To visualize plots in the notebook\n",
    "%matplotlib inline \n",
    "\n",
    "import matplotlib\n",
    "import matplotlib.pyplot as plt\n",
    "import numpy as np\n",
    "import scipy.io       # To read matlab files\n",
    "import pylab\n",
    "from test_helper import Test"
   ]
  },
  {
   "cell_type": "markdown",
   "metadata": {
    "slideshow": {
     "slide_type": "slide"
    }
   },
   "source": [
    "# 2. Least squares regression\n",
    "\n",
    "This notebook covers the problem of fitting parametric regression models with a minimum least-squares criterion. The material presented here is based on the first lectures of this <a haref=http://mlg.eng.cam.ac.uk/teaching/4f13/1415/>Machine Learning course</a>. In particular, you can refer to the following presentation: <a href=http://mlg.eng.cam.ac.uk/teaching/4f13/1415/lect0102.pdf> Probabilistic Regression</a>.\n",
    "\n",
    "\n",
    "## 2.1. A parametric approach to the regression problem\n",
    "\n",
    "We have already presented the goal of regression. Given that we have access to a set of training points, $\\{{\\bf x}^{(l)}, s^{(l)}\\}_{l=1}^L$, the goal is to learn a function $f({\\bf x})$ that we can use to make good predictions for an arbitrary input vector.\n",
    "\n",
    "The following plot illustrates a regression example for unidimensional input data. We have also generated three different regression curves corresponding to polynomia of degrees 1, 2, and 3 with random coefficients."
   ]
  },
  {
   "cell_type": "code",
   "execution_count": 2,
   "metadata": {
    "collapsed": false,
    "slideshow": {
     "slide_type": "slide"
    }
   },
   "outputs": [
    {
     "data": {
      "text/plain": [
       "<matplotlib.legend.Legend at 0x1080f0e90>"
      ]
     },
     "execution_count": 2,
     "metadata": {},
     "output_type": "execute_result"
    },
    {
     "data": {
      "image/png": "[encoded data removed]",
      "text/plain": [
       "<matplotlib.figure.Figure at 0x108067c10>"
      ]
     },
     "metadata": {},
     "output_type": "display_data"
    }
   ],
   "source": [
    "n_points = 35\n",
    "n_grid = 200\n",
    "frec = 3\n",
    "std_n = 0.3\n",
    "\n",
    "#Location of the training points\n",
    "X_tr = (3 * np.random.random((n_points,1)) - 0.5)\n",
    "#Labels are obtained from a sinusoidal function, and contaminated by noise\n",
    "S_tr = np.cos(frec*X_tr) + std_n * np.random.randn(n_points,1)\n",
    "#Equally spaced points in the X-axis\n",
    "\n",
    "X_grid = np.linspace(np.min(X_tr),np.max(X_tr),n_grid)\n",
    "f1 = np.random.random((1,1)) + np.random.random((1,1))*X_grid\n",
    "f2 = np.random.random((1,1)) + np.random.random((1,1))*X_grid + \\\n",
    "     np.random.random((1,1))*(X_grid**2)\n",
    "f3 = np.random.random((1,1)) + np.random.random((1,1))*X_grid + \\\n",
    "     np.random.random((1,1))*(X_grid**2) + np.random.random((1,1))*(X_grid**3) \n",
    "\n",
    "plt.plot(X_tr,S_tr,'b.')\n",
    "plt.plot(X_grid,f1.T,'g-',label='Linear function')\n",
    "plt.plot(X_grid,f2.T,'r-',label='Quadratic function')\n",
    "plt.plot(X_grid,f3.T,'m-',label='Cubic function')\n",
    "\n",
    "plt.legend(loc='best')\n"
   ]
  },
  {
   "cell_type": "markdown",
   "metadata": {
    "slideshow": {
     "slide_type": "slide"
    }
   },
   "source": [
    "### Parametric model\n",
    "\n",
    "Different from the previous session, today we will assume a parametric expression for the regression curve, adjusting the free parameters according to some criterion that measures the quality of the proposed model.\n",
    "\n",
    "   - For a unidimensional case like the one in the previous figure, a convenient approach is to recur to polynomial expressions:\n",
    "\n",
    "$${\\hat s}(x) = f(x) = w_0 + w_1 x + w_2 x^2 + \\dots + w_M x^M$$"
   ]
  },
  {
   "cell_type": "markdown",
   "metadata": {
    "slideshow": {
     "slide_type": "slide"
    }
   },
   "source": [
    "   - For multidimensional regression, polynomial expressions can include cross-products of the variables. For instance, for a case with two input variables, the degree 2 polynomial would be given by\n",
    "   \n",
    "$${\\hat s}({\\bf x}) = f({\\bf x}) = w_0 + w_1 x_1 + w_2 x_2 + w_3 x_1^2 + w_4 x_2^2 + w_5 x_1 x_2$$"
   ]
  },
  {
   "cell_type": "markdown",
   "metadata": {
    "slideshow": {
     "slide_type": "fragment"
    }
   },
   "source": [
    "\n",
    "   - A linear model for multidimensional regression can be expressed as\n",
    "   \n",
    "$${\\hat s}({\\bf x}) = f({\\bf x}) = w_0 + {\\bf w}^\\top {\\bf x}$$\n"
   ]
  },
  {
   "cell_type": "markdown",
   "metadata": {
    "slideshow": {
     "slide_type": "fragment"
    }
   },
   "source": [
    "When we postulate such models, the regression model is reduced to finding the most appropriate values of the parameters ${\\bf w} = [w_i]$.\n",
    "\n",
    "All the previous models have in common the fact that they are linear in the parameters, even though they can implement highly non-linear functions. All the derivations in this notebook are equally valid for other non-linear transformations of the input variables, as long as we keep linear-in-the-parameters models."
   ]
  },
  {
   "cell_type": "code",
   "execution_count": 3,
   "metadata": {
    "collapsed": false,
    "slideshow": {
     "slide_type": "slide"
    }
   },
   "outputs": [
    {
     "data": {
      "image/png": "[encoded data removed]",
      "text/plain": [
       "<matplotlib.figure.Figure at 0x10811ba90>"
      ]
     },
     "metadata": {},
     "output_type": "display_data"
    }
   ],
   "source": [
    "## Next, we represent some random polynomial functions for degrees between 0 and 14\n",
    "\n",
    "max_degree = 15\n",
    "n_points = 200\n",
    "\n",
    "#Values of X to evaluate the function\n",
    "X_grid = np.linspace(-1.5, 1.5,n_points)\n",
    "\n",
    "for idx in range(max_degree):\n",
    "    x1 = plt.subplot(3,5, idx+1)\n",
    "    x1.get_xaxis().set_ticks([])\n",
    "    x1.get_yaxis().set_ticks([])\n",
    "    for kk in range(5):\n",
    "        #Random generation of coefficients for the model\n",
    "        we = np.random.randn(idx+1, 1)\n",
    "        #Evaluate the polynomial with previous coefficients at X_grid values\n",
    "        fout = np.polyval(we, X_grid)\n",
    "        x1.plot(X_grid,fout,'g-')\n",
    "        "
   ]
  },
  {
   "cell_type": "markdown",
   "metadata": {
    "slideshow": {
     "slide_type": "slide"
    }
   },
   "source": [
    "   - Should we choose a polynomial?\n",
    "   \n",
    "   - What degree should we use for the polynomial?\n",
    "   \n",
    "   - For a given degree, how do we choose the weights?\n",
    "   \n",
    "For now, we will find the single \"best\" polynomial. In a future session, we will see how we can design methods that take into account different polynomia simultaneously.\n",
    "\n",
    "Next, we will explain how to choose optimal weights according to Least-Squares criterion."
   ]
  },
  {
   "cell_type": "markdown",
   "metadata": {
    "slideshow": {
     "slide_type": "slide"
    }
   },
   "source": [
    "## 2.2 Least squares regression\n",
    "\n",
    "### 2.2.1 Problem definition\n",
    "\n",
    "   - The goal is to learn a (possibly non-linear) regression model from a set of $L$ labeled points, $\\{{\\bf x}^{(l)},s{(l)}\\}_{l=1}^L$.\n",
    "   \n",
    "   - We assume a parametric function of the form:\n",
    "   \n",
    "   $${\\hat s}({\\bf x}) = f({\\bf x}) = w_0 z_0({\\bf x}) + w_1 z_1({\\bf x}) + \\dots w_M z_M({\\bf x})$$\n",
    "   \n",
    "   where $z_i({\\bf x})$ are particular transformations of the input vector variables."
   ]
  },
  {
   "cell_type": "markdown",
   "metadata": {
    "slideshow": {
     "slide_type": "slide"
    }
   },
   "source": [
    "Some examples are:\n",
    "   \n",
    "   - If ${\\bf z} = {\\bf x}$, the model is just a linear combination of the input variables"
   ]
  },
  {
   "cell_type": "markdown",
   "metadata": {
    "slideshow": {
     "slide_type": "fragment"
    }
   },
   "source": [
    "   - If ${\\bf z} = \\left[\\begin{array}{c}1\\\\{\\bf x}\\end{array}\\right]$, we have again a linear combination with the inclusion of a constant term.\n"
   ]
  },
  {
   "cell_type": "markdown",
   "metadata": {
    "slideshow": {
     "slide_type": "fragment"
    }
   },
   "source": [
    "   - For unidimensional input $x$, ${\\bf z} = [1, x, x^2, \\dots,x^{M}]^\\top$ would implement a polynomia of degree $M$.\n"
   ]
  },
  {
   "cell_type": "markdown",
   "metadata": {
    "slideshow": {
     "slide_type": "fragment"
    }
   },
   "source": [
    "   - Note that the variables of ${\\bf z}$ could also be computed combining different variables of ${\\bf x}$. E.g., if ${\\bf x} = [x_1,x_2]^\\top$, a degree-two polynomia would be implemented with \n",
    "      $${\\bf z} = \\left[\\begin{array}{c}1\\\\x_1\\\\x_2\\\\x_1^2\\\\x_2^2\\\\x_1 x_2\\end{array}\\right]$$      "
   ]
  },
  {
   "cell_type": "markdown",
   "metadata": {
    "slideshow": {
     "slide_type": "fragment"
    }
   },
   "source": [
    "   - The above expression does not assume a polynomial model. For instance, we could consider ${\\bf z} = [\\log(x_1),\\log(x_2)]$"
   ]
  },
  {
   "cell_type": "markdown",
   "metadata": {
    "slideshow": {
     "slide_type": "slide"
    }
   },
   "source": [
    "Least squares (LS) regression finds the coefficients of the model with the aim of minimizing the square of the residuals. If we define ${\\bf w} = [w_0,w_1,\\dots,w_M]^\\top$, the LS solution would be defined as\n",
    "    \n",
    "\\begin{equation}{\\bf w}_{LS} = \\arg \\min_{\\bf w} \\sum_{l=1}^L [e^{(l)}]^2 = \\arg \\min_{\\bf w} \\sum_{l=1}^L \\left[s^{(l)} - {\\hat s}^{(l)} \\right]^2 \\end{equation}"
   ]
  },
  {
   "cell_type": "markdown",
   "metadata": {
    "slideshow": {
     "slide_type": "slide"
    }
   },
   "source": [
    "### 2.2.2 Vector Notation\n",
    "\n",
    "In order to solve the LS problem it is convenient to define the following vectors and matrices:\n",
    "\n",
    "   - We can group together all available target values to form the following vector\n",
    "   \n",
    "   $${\\bf s} = \\left[s^{(1)}, s^{(2)}, \\dots, s^{(L)} \\right]^\\top$$\n"
   ]
  },
  {
   "cell_type": "markdown",
   "metadata": {
    "slideshow": {
     "slide_type": "fragment"
    }
   },
   "source": [
    "\n",
    "   - The estimation of the model for a single input vector ${\\bf z}^{(l)}$ (which would be computed from ${\\bf x}^{(l)}$), can be expressed as the following inner product\n",
    "   \n",
    "   $${\\hat s}^{(l)} = {{\\bf z}^{(l)}}^\\top {\\bf w}$$"
   ]
  },
  {
   "cell_type": "markdown",
   "metadata": {
    "slideshow": {
     "slide_type": "fragment"
    }
   },
   "source": [
    "   - If we now group all input vectors into a matrix ${\\bf Z}$, so that each row of ${\\bf Z}$ contains the transpose of the corresponding ${\\bf z}^{(l)}$, we can express\n",
    "   \n",
    "   $$\\hat{{\\bf s}} = \\left[{\\hat s}^{1}, {\\hat s}^{2}, \\dots, {\\hat s}^{(L)} \\right]^\\top = {\\bf Z} {\\bf w}, \\;\\;\\;\\; \\text{with} \\;\\; {\\bf Z} = \\left[\\begin{array}{cccc}z_0^{(1)}&z_1^{(1)}&\\cdots&z_M^{(1)} \\\\ z_0^{(2)}&z_1^{(2)}&\\cdots&z_M^{(2)} \\\\ \\vdots & \\vdots & \\ddots & \\vdots \\\\ z_0^{(L)}&z_1^{(L)}&\\cdots&z_M^{(L)}\\end{array}\\right]$$"
   ]
  },
  {
   "cell_type": "markdown",
   "metadata": {
    "slideshow": {
     "slide_type": "slide"
    }
   },
   "source": [
    "### 2.2.3 Least-squares solution\n",
    "\n",
    "   - Using the previous notation, the cost minimized by the LS model can be expressed as\n",
    "   \n",
    "   $$C({\\bf w}) = \\sum_{l=1}^L \\left[s^{(l)} - {\\hat s}^{(l)} \\right]^2 = \\|{\\bf s} - {\\hat{\\bf s}}\\|^2 = \\|{\\bf s} - {\\bf Z}{\\bf w}\\|^2$$\n",
    "   "
   ]
  },
  {
   "cell_type": "markdown",
   "metadata": {
    "slideshow": {
     "slide_type": "slide"
    }
   },
   "source": [
    "   - Since the above expression depends quadratically on ${\\bf w}$ and is non-negative, we know that there is only one point where the derivative of $C({\\bf w})$ becomes zero, and that point is necessarily a minimum of the cost\n",
    "   \n",
    "   $$\\nabla_{\\bf w} \\|{\\bf s} - {\\bf Z}{\\bf w}\\|^2\\Bigg|_{{\\bf w} = {\\bf w}_{LS}} = {\\bf 0}$$"
   ]
  },
  {
   "cell_type": "markdown",
   "metadata": {
    "slideshow": {
     "slide_type": "slide"
    }
   },
   "source": [
    "<b>Exercise:</b>\n",
    "Solve the previous problem to show that\n",
    "$${\\bf w}_{LS} = \\left( {\\bf Z}^\\top{\\bf Z} \\right)^{-1} {\\bf Z}^\\top{\\bf s}$$"
   ]
  },
  {
   "cell_type": "markdown",
   "metadata": {
    "slideshow": {
     "slide_type": "slide"
    }
   },
   "source": [
    "The next fragment of code adjusts polynomia of increasing order to randomly generated training data. To illustrate the composition of matrix ${\\bf Z}$, we will avoid using functions $\\mbox{np.polyfit}$ and $\\mbox{np.polyval}$."
   ]
  },
  {
   "cell_type": "code",
   "execution_count": 10,
   "metadata": {
    "collapsed": false,
    "slideshow": {
     "slide_type": "fragment"
    }
   },
   "outputs": [
    {
     "data": {
      "text/plain": [
       "(-1.0909586598693071, 1.7953249439421843)"
      ]
     },
     "execution_count": 10,
     "metadata": {},
     "output_type": "execute_result"
    },
    {
     "data": {
      "image/png": "[encoded data removed]",
      "text/plain": [
       "<matplotlib.figure.Figure at 0x10a016490>"
      ]
     },
     "metadata": {},
     "output_type": "display_data"
    }
   ],
   "source": [
    "n_points = 12\n",
    "n_grid = 200\n",
    "frec = 3\n",
    "std_n = 0.2\n",
    "max_degree = 10\n",
    "\n",
    "colors = 'brgcmyk'\n",
    "\n",
    "#Location of the training points\n",
    "X_tr = (3 * np.random.random((n_points,1)) - 0.5)\n",
    "#Labels are obtained from a sinusoidal function, and contaminated by noise\n",
    "S_tr = np.cos(frec*X_tr) + std_n * np.random.randn(n_points,1)\n",
    "#Equally spaced points in the X-axis\n",
    "X_grid = np.linspace(np.min(X_tr),np.max(X_tr),n_grid)\n",
    "\n",
    "#We start by building the Z matrix\n",
    "Z = []\n",
    "for el in X_tr.tolist():\n",
    "    Z.append([el[0]**k for k in range(max_degree+1)])\n",
    "Z = np.matrix(Z)\n",
    "\n",
    "Z_grid = []\n",
    "for el in X_grid.tolist():\n",
    "    Z_grid.append([el**k for k in range(max_degree+1)])\n",
    "Z_grid = np.matrix(Z_grid)\n",
    "\n",
    "plt.plot(X_tr,S_tr,'b.')\n",
    "\n",
    "for k in [1, 2, n_points]: # range(max_degree+1):\n",
    "    Z_iter = Z[:,:k+1]\n",
    "\n",
    "    # Least square solution\n",
    "    #w_LS = (np.linalg.inv(Z_iter.T.dot(Z_iter))).dot(Z_iter.T).dot(S_tr)\n",
    "    \n",
    "    # Least squares solution, with leass numerical errors\n",
    "    w_LS, resid, rank, s = np.linalg.lstsq(Z_iter, S_tr)\n",
    "    #estimates at all grid points\n",
    "    fout = Z_grid[:,:k+1].dot(w_LS)\n",
    "    fout = np.array(fout).flatten()\n",
    "    plt.plot(X_grid,fout,colors[k%len(colors)]+'-',label='Degree '+str(k))\n",
    "\n",
    "plt.legend(loc='best')\n",
    "plt.ylim(1.2*np.min(S_tr), 1.2*np.max(S_tr))\n"
   ]
  },
  {
   "cell_type": "markdown",
   "metadata": {
    "slideshow": {
     "slide_type": "slide"
    }
   },
   "source": [
    "### 2.2.4 Overfitting the training data\n",
    "\n",
    "It may seem that increasing the degree of the polynomia is always beneficial, as we can implement a more expressive function. A polynomia of degree $M$ would include all polynomia of lower degrees as particular cases. However, if we increase the number of parameters without control, the polynomia would eventually get expressive enough to adjust any given set of training points to arbitrary precision, what does not necessarily mean that the solution is obtaining a model that can be extrapolated to new data, as we show in the following example:\n"
   ]
  },
  {
   "cell_type": "code",
   "execution_count": 22,
   "metadata": {
    "collapsed": false,
    "slideshow": {
     "slide_type": "slide"
    }
   },
   "outputs": [
    {
     "data": {
      "text/plain": [
       "<matplotlib.legend.Legend at 0x10b5fb610>"
      ]
     },
     "execution_count": 22,
     "metadata": {},
     "output_type": "execute_result"
    },
    {
     "data": {
      "image/png": "[encoded data removed]",
      "text/plain": [
       "<matplotlib.figure.Figure at 0x10b518e50>"
      ]
     },
     "metadata": {},
     "output_type": "display_data"
    }
   ],
   "source": [
    "n_points = 35\n",
    "n_test = 200\n",
    "n_grid = 200\n",
    "frec = 3\n",
    "std_n = 0.7\n",
    "max_degree = 15\n",
    "\n",
    "colors = 'brgcmyk'\n",
    "\n",
    "#Location of the training points\n",
    "X_tr = (3 * np.random.random((n_points,1)) - 0.5)\n",
    "#Labels are obtained from a sinusoidal function, and contaminated by noise\n",
    "S_tr = np.cos(frec*X_tr) + std_n * np.random.randn(n_points,1)\n",
    "#Test points to validate the generalization of the solution\n",
    "X_tst = (3 * np.random.random((n_test,1)) - 0.5)\n",
    "S_tst = np.cos(frec*X_tst) + std_n * np.random.randn(n_test,1)\n",
    "\n",
    "#Equally spaced points in the X-axis\n",
    "X_grid = np.linspace(np.min(X_tr),np.max(X_tr),n_grid)\n",
    "\n",
    "#We start by building the Z matrix\n",
    "def extend_matrix(X,max_degree):\n",
    "    Z = []\n",
    "    X = X.reshape((X.shape[0],1))\n",
    "    for el in X.tolist():\n",
    "        Z.append([el[0]**k for k in range(max_degree+1)])\n",
    "    return np.matrix(Z)\n",
    "    \n",
    "Z = extend_matrix(X_tr,max_degree)\n",
    "Z_grid = extend_matrix(X_grid,max_degree)\n",
    "Z_test = extend_matrix(X_tst,max_degree)\n",
    "#Variables to store the train and test errors\n",
    "tr_error = []\n",
    "tst_error = []\n",
    "\n",
    "for k in range(max_degree):\n",
    "    Z_iter = Z[:,:k+1]\n",
    "    #Least square solution\n",
    "    #w_LS = (np.linalg.inv(Z_iter.T.dot(Z_iter))).dot(Z_iter.T).dot(S_tr)\n",
    "\n",
    "    # Least squares solution, with leass numerical errors\n",
    "    w_LS, resid, rank, s = np.linalg.lstsq(Z_iter, S_tr)\n",
    "\n",
    "    #estimates at traint and test points\n",
    "    f_tr = Z_iter.dot(w_LS)\n",
    "    f_tst = Z_test[:,:k+1].dot(w_LS)\n",
    "    tr_error.append(np.array((S_tr-f_tr).T.dot(S_tr-f_tr)/len(S_tr))[0,0])\n",
    "    tst_error.append(np.array((S_tst-f_tst).T.dot(S_tst-f_tst)/len(S_tst))[0,0])\n",
    "    \n",
    "plt.stem(range(max_degree),tr_error,'b-',label='Train error')\n",
    "plt.stem(range(max_degree),tst_error,'r-o',label='Test error')\n",
    "plt.legend(loc='best')\n"
   ]
  },
  {
   "cell_type": "markdown",
   "metadata": {
    "collapsed": true,
    "slideshow": {
     "slide_type": "slide"
    }
   },
   "source": [
    "### Exercise\n",
    "\n",
    "Analyze the performance of LS regression on the `Advertising` dataset. You can analyze:\n",
    "\n",
    "  - The performance of linear regression when using just one variable, or using all of them together\n",
    "  - The performance of different non-linear methods (e.g., polynomial or logarithmic transformations)\n",
    "  - Model selection using CV strategies"
   ]
  }
 ],
 "metadata": {
  "anaconda-cloud": {},
  "celltoolbar": "Slideshow",
  "kernelspec": {
   "display_name": "Python [default]",
   "language": "python",
   "name": "python2"
  },
  "language_info": {
   "codemirror_mode": {
    "name": "ipython",
    "version": 2
   },
   "file_extension": ".py",
   "mimetype": "text/x-python",
   "name": "python",
   "nbconvert_exporter": "python",
   "pygments_lexer": "ipython2",
   "version": "2.7.10"
  }
 },
 "nbformat": 4,
 "nbformat_minor": 0
}
