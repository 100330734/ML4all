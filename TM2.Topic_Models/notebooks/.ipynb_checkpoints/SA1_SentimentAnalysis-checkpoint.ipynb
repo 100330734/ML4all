{
 "cells": [
  {
   "cell_type": "markdown",
   "metadata": {},
   "source": [
    "# Sentiment Analysis\n",
    "\n",
    "Author: Jesús Cid Sueiro\n",
    "\n",
    "Date: 2016/04/18\n"
   ]
  },
  {
   "cell_type": "markdown",
   "metadata": {},
   "source": [
    "## 1. Proyecto propuesto\n",
    "\n",
    "El objetivo del proyecto consiste en desarrollar un clasificador de textos positivos y negativos para el `movie_reviews` dataset disponible en `NLTK`.\n",
    "\n",
    "El trabajo mínimo consistirá en desarrollar un Notebook que complete los siguientes pasos:\n",
    "\n",
    "1. Carga del conjunto de datos.\n",
    "2. Preprocesado de textos y extracción de características.\n",
    "3. Entrenamiento y evaluación de un clasificador automático.\n",
    "\n",
    "Se valorarán:\n",
    "\n",
    "* La implementación en pyspark y MLlib.\n",
    "* El uso de corpora y técnicas de análisis de sentimientos\n",
    "* El rigor metodológico en el tratamiento de los datos, el diseño experimental y la evaluación de las prestaciones del clasificador.\n",
    "\n",
    "Todos estos aspectos son mucho más relevantes que los resultados finales de clasificación.\n",
    "\n",
    "El alumno entregará una carpeta con el notebook y todos aquellos ficheros adicionales que sean necesarios para la ejecución del software.\n",
    "\n",
    "Algunos comentarios adicionales:\n",
    "\n",
    "1. El notebook debe completar todos los pasos del proceso, de tal modo que el profesor pueda completar la ejecución del código sin más requisitos que (posiblemente) cargar cualesquiera corpus de datos en `nltk` o instalar las librerías de python que fueran necesarias. Los errores de ejecución o la imposibilidad de ejecutrar el trabajo entregado afectarán significativamente a la calificación.\n",
    "2. El alumno puede utilizar todo el material que considere relevante para el propósito del trabajo: se puede tomar código disponible en internet, o incluso compartir código con otros compañeros, con el único requisito imprescindible de hacer reconocimiento de autorías: el notebook debe hacer mención expresa y precisa de todas las fuentes de información utilizadas. En particular, cualquier fragmento de código tomado de otra fuente debe delimitarse (con marcas de inicio y fin) y etiquetarse con el comentario adecuado (\"Este código está tomado de...\", o \"Este código es una adaptación de...\", etc). Cualquier omisión en el reconocimiento de autorías supondrá una penalización severa en la calificación del trabajo.\n",
    "3. El alumno perseguirá obtener un clasificador con buenas prestaciones, pero en todo caso el rendimiento del clasificador no será un aspecto crítico en la evaluación.\n",
    "\n",
    "\n"
   ]
  },
  {
   "cell_type": "code",
   "execution_count": null,
   "metadata": {
    "collapsed": true
   },
   "outputs": [],
   "source": []
  }
 ],
 "metadata": {
  "kernelspec": {
   "display_name": "Python 2",
   "language": "python",
   "name": "python2"
  },
  "language_info": {
   "codemirror_mode": {
    "name": "ipython",
    "version": 2
   },
   "file_extension": ".py",
   "mimetype": "text/x-python",
   "name": "python",
   "nbconvert_exporter": "python",
   "pygments_lexer": "ipython2",
   "version": "2.7.6"
  }
 },
 "nbformat": 4,
 "nbformat_minor": 0
}
