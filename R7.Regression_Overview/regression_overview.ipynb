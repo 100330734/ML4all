{
 "cells": [
  {
   "cell_type": "markdown",
   "metadata": {
    "slideshow": {
     "slide_type": "slide"
    }
   },
   "source": [
    "\n",
    "# Construction of Regression Models using Data\n",
    "\n",
    "    Author: Jerónimo Arenas García (jarenas@tsc.uc3m.es)\n",
    "            Jesús Cid Sueiro (jcid@tsc.uc3m.es)"
   ]
  },
  {
   "cell_type": "markdown",
   "metadata": {
    "slideshow": {
     "slide_type": "notes"
    }
   },
   "source": [
    "    Notebook version: 2.0 (Sep 26, 2017)\n",
    "\n",
    "    Changes: v.1.0 - First version. Extracted from regression_intro_knn v.1.0.\n",
    "             v.1.1 - Compatibility with python 2 and python 3\n",
    "             v.2.0 - New notebook generated. Fuses code from Notebooks R1, R2, and R3"
   ]
  },
  {
   "cell_type": "code",
   "execution_count": 1,
   "metadata": {
    "collapsed": true,
    "slideshow": {
     "slide_type": "slide"
    }
   },
   "outputs": [],
   "source": [
    "# Import some libraries that will be necessary for working with data and displaying plots\n",
    "\n",
    "# To visualize plots in the notebook\n",
    "%matplotlib inline \n",
    "\n",
    "import numpy as np\n",
    "import scipy.io       # To read matlab files\n",
    "import pandas as pd   # To read data tables from csv files\n",
    "\n",
    "# For plots and graphical results\n",
    "import matplotlib                 \n",
    "import matplotlib.pyplot as plt\n",
    "from mpl_toolkits.mplot3d import Axes3D   \n",
    "import pylab\n",
    "\n",
    "# For the student tests (only for python 2)\n",
    "import sys\n",
    "if sys.version_info.major==2:\n",
    "    from test_helper import Test\n",
    "\n",
    "# That's default image size for this interactive session\n",
    "pylab.rcParams['figure.figsize'] = 9, 6  "
   ]
  },
  {
   "cell_type": "markdown",
   "metadata": {
    "slideshow": {
     "slide_type": "slide"
    }
   },
   "source": [
    "\n",
    "## 1. The regression problem\n",
    "\n",
    "The goal of regression methods is to predict the value of some *target* variable $S$ from the observation of one or more *input* variables $X_1, X_2, \\ldots, X_N$ (that we will collect in a single vector $\\bf X$).\n",
    "\n",
    "Regression problems arise in situations where the value of the target variable is not easily accessible, but we can measure other dependent variables, from which we can try to predict $S$.  \n",
    "<img src=\"figs/block_diagram.png\", width=600>"
   ]
  },
  {
   "cell_type": "markdown",
   "metadata": {
    "slideshow": {
     "slide_type": "subslide"
    }
   },
   "source": [
    "The only information available to estimate the relation between the inputs and the target is a *dataset* $\\mathcal D$ containing several observations of all variables.\n",
    "\n",
    "$$\\mathcal{D} = \\{{\\bf x}^{(k)}, s^{(k)}\\}_{k=1}^K$$\n",
    "\n",
    "The dataset $\\mathcal{D}$ must be used to find a function $f$ that, for any observation vector ${\\bf x}$, computes an output $\\hat{s} = f({\\bf x})$ that is a good predition of the true value of the target, $s$.\n",
    "\n",
    "<img src=\"figs/predictor.png\", width=300>\n",
    "\n",
    "Note that for the generation of the regression model, we exploit the statistical dependence between random variable $S$ and random vector ${\\bf X}$. In this respect, we can assume that the available dataset $\\mathcal{D}$ consists of i.i.d. points from the joint distribution $p_{S,{\\bf X}}(s,{\\bf x})$. If we had access to the true distribution, a statistical approach would be more accurate; however, in many situations such knowledge is not available, but using training data to do the design is feasible (e.g., relying on historic data, or by manual labelling of a set of patterns)."
   ]
  },
  {
   "cell_type": "markdown",
   "metadata": {
    "slideshow": {
     "slide_type": "slide"
    }
   },
   "source": [
    "## 2. Examples of regression problems.\n",
    "\n",
    "The <a href=http://scikit-learn.org/>scikit-learn</a> package contains several <a href=http://scikit-learn.org/stable/datasets/> datasets</a> related to regression problems. \n",
    "\n",
    "* <a href=http://scikit-learn.org/stable/modules/generated/sklearn.datasets.load_boston.html#sklearn.datasets.load_boston > Boston dataset</a>: the target variable contains housing values in different suburbs of Boston. The goal is to predict these values based on several social, economic and demographic variables taken frome theses suburbs (you can get more details in the <a href = https://archive.ics.uci.edu/ml/datasets/Housing > UCI repository </a>).\n",
    "\n",
    "\n",
    "* <a href=http://scikit-learn.org/stable/modules/generated/sklearn.datasets.load_diabetes.html#sklearn.datasets.load_diabetes /> Diabetes dataset</a>.\n",
    "\n",
    "We can load these datasets as follows:"
   ]
  },
  {
   "cell_type": "code",
   "execution_count": 2,
   "metadata": {
    "collapsed": true,
    "slideshow": {
     "slide_type": "fragment"
    }
   },
   "outputs": [],
   "source": [
    "from sklearn import datasets\n",
    "\n",
    "# Load the dataset. Select it by uncommenting the appropriate line\n",
    "D_all = datasets.load_boston()\n",
    "#D_all = datasets.load_diabetes()\n",
    "\n",
    "# Extract data and data parameters.\n",
    "X = D_all.data         # Complete data matrix (including input and target variables)\n",
    "S = D_all.target      # Target variables\n",
    "n_samples = X.shape[0] # Number of observations\n",
    "n_vars = X.shape[1]    # Number of variables (including input and target)"
   ]
  },
  {
   "cell_type": "markdown",
   "metadata": {
    "slideshow": {
     "slide_type": "slide"
    }
   },
   "source": [
    "This dataset contains "
   ]
  },
  {
   "cell_type": "code",
   "execution_count": 3,
   "metadata": {
    "slideshow": {
     "slide_type": "fragment"
    }
   },
   "outputs": [
    {
     "name": "stdout",
     "output_type": "stream",
     "text": [
      "506\n"
     ]
    }
   ],
   "source": [
    "print(n_samples)"
   ]
  },
  {
   "cell_type": "markdown",
   "metadata": {
    "slideshow": {
     "slide_type": "fragment"
    }
   },
   "source": [
    "observations of the target variable and"
   ]
  },
  {
   "cell_type": "code",
   "execution_count": 4,
   "metadata": {
    "slideshow": {
     "slide_type": "fragment"
    }
   },
   "outputs": [
    {
     "name": "stdout",
     "output_type": "stream",
     "text": [
      "13\n"
     ]
    }
   ],
   "source": [
    "print(n_vars)"
   ]
  },
  {
   "cell_type": "markdown",
   "metadata": {
    "slideshow": {
     "slide_type": "fragment"
    }
   },
   "source": [
    "input variables."
   ]
  },
  {
   "cell_type": "markdown",
   "metadata": {
    "slideshow": {
     "slide_type": "slide"
    }
   },
   "source": [
    "## 3. Scatter plots\n",
    "\n",
    "### 3.1. 2D scatter plots\n",
    "\n",
    "When the instances of the dataset are multidimensional, they cannot be visualized directly, but we can get a first rough idea about the regression task if we plot the target variable versus one of the input variables. These representations are known as <i>scatter plots</i>\n",
    "\n",
    "Python methods `plot` and `scatter` from the `matplotlib` package can be used for these graphical representations.\n"
   ]
  },
  {
   "cell_type": "code",
   "execution_count": 5,
   "metadata": {
    "slideshow": {
     "slide_type": "subslide"
    }
   },
   "outputs": [
    {
     "data": {
      "image/png": "[encoded data removed]",
      "text/plain": [
       "<matplotlib.figure.Figure at 0x1113bdbe0>"
      ]
     },
     "metadata": {},
     "output_type": "display_data"
    }
   ],
   "source": [
    "# Select a dataset\n",
    "nrows = 4\n",
    "ncols = 1 + (X.shape[1]-1)/nrows\n",
    "\n",
    "# Some adjustment for the subplot.\n",
    "pylab.subplots_adjust(hspace=0.2)\n",
    "\n",
    "# Plot all variables\n",
    "for idx in range(X.shape[1]):\n",
    "    ax = plt.subplot(nrows,ncols,idx+1)\n",
    "    ax.scatter(X[:,idx], S)    # <-- This is the key command\n",
    "    ax.get_xaxis().set_ticks([])\n",
    "    ax.get_yaxis().set_ticks([])\n",
    "    plt.ylabel('Target')\n",
    "    "
   ]
  },
  {
   "cell_type": "markdown",
   "metadata": {
    "slideshow": {
     "slide_type": "slide"
    }
   },
   "source": [
    "\n",
    "## 4. Evaluating a regression task\n",
    "\n",
    "In order to evaluate the performance of a given predictor, we need to quantify the quality of predictions. This is usually done by means of a loss function $l(s,\\hat{s})$. Two common losses are\n",
    "\n",
    "   - Square error: $l(s, \\hat{s}) = (s - \\hat{s})^2$\n",
    "   - Absolute error: $l(s, \\hat{s}) = |s - \\hat{s}|$\n",
    "\n",
    "Note that both the square and absolute errors are functions of the estimation error $e = s-{\\hat s}$. However, this is not necessarily the case. As an example, imagine a situation in which we would like to introduce a penalty which increases with the magnitude of the estimated variable. For such case, the following cost would better fit our needs: $l(s,{\\hat s}) = s^2 \\left(s-{\\hat s}\\right)^2$."
   ]
  },
  {
   "cell_type": "code",
   "execution_count": 6,
   "metadata": {
    "slideshow": {
     "slide_type": "fragment"
    }
   },
   "outputs": [
    {
     "data": {
      "image/png": "[encoded data removed]",
      "text/plain": [
       "<matplotlib.figure.Figure at 0x1113bd748>"
      ]
     },
     "metadata": {},
     "output_type": "display_data"
    }
   ],
   "source": [
    "# In this section we will plot together the square and absolute errors\n",
    "grid = np.linspace(-3,3,num=100)\n",
    "plt.plot(grid, grid**2, 'b-', label='Square error')\n",
    "plt.plot(grid, np.absolute(grid), 'r--', label='Absolute error')\n",
    "plt.xlabel('Error')\n",
    "plt.ylabel('Cost')\n",
    "plt.legend(loc='best')\n",
    "plt.show()"
   ]
  },
  {
   "cell_type": "markdown",
   "metadata": {
    "slideshow": {
     "slide_type": "subslide"
    }
   },
   "source": [
    "In general, we do not care much about an isolated application of the regression model, but instead, we are looking for a generally good behavior, for which we need to average the loss function over a set of samples. In this notebook, we will use the average of the square loss, to which we will refer as the `mean-square error` (MSE).\n",
    "\n",
    "$$\\text{MSE} = \\frac{1}{K}\\sum_{k=1}^K \\left(s^{(k)}- {\\hat s}^{(k)}\\right)^2$$\n",
    "\n",
    "The following code fragment defines a function to compute the MSE based on the availability of two vectors, one of them containing the predictions of the model, and the other the true target values."
   ]
  },
  {
   "cell_type": "code",
   "execution_count": 7,
   "metadata": {
    "collapsed": true,
    "slideshow": {
     "slide_type": "fragment"
    }
   },
   "outputs": [],
   "source": [
    "# We start by defining a function that calculates the average square error\n",
    "def square_error(s, s_est):\n",
    "    # Squeeze is used to make sure that s and s_est have the appropriate dimensions.\n",
    "    y = np.mean(np.power((np.squeeze(s) - np.squeeze(s_est)), 2))\n",
    "    return y"
   ]
  },
  {
   "cell_type": "markdown",
   "metadata": {
    "slideshow": {
     "slide_type": "slide"
    }
   },
   "source": [
    "### 4.1. Training and test data\n",
    "\n",
    "The major goal of the regression problem is that the predictor should make good predictions for arbitrary new inputs, not taken from the dataset used by the regression algorithm. \n",
    "\n",
    "Thus, in order to evaluate the prediction accuracy of some regression algorithm, we need some data, not used during the predictor design, to *test* the performance of the predictor under new data. To do so, the original dataset is usually divided in (at least) two disjoint sets:\n",
    "\n",
    "* **Training set**, $\\cal{D}_{\\text{train}}$: Used by the regression algorithm to determine predictor $f$.\n",
    "* **Test set**, $\\cal{D}_{\\text{test}}$: Used to evaluate the performance of the regression algorithm.\n",
    "\n",
    "A good regression algorithm uses $\\cal{D}_{\\text{train}}$ to obtain a predictor with small average loss based on $\\cal{D}_{\\text{test}}$\n",
    "$$\n",
    "{\\bar R}_{\\text{test}} = \\frac{1}{K_{\\text{test}}} \n",
    "\\sum_{  ({\\bf x},s) \\in \\mathcal{D}_{\\text{test}}} l(s, f({\\bf x}))\n",
    "$$\n",
    "where $K_{\\text{test}}$ is the size of the test set.\n",
    "\n",
    "As a designer, you only have access to training data. However, for illustration purposes, you may be given a test dataset for many examples in this course. Note that in such a case, using the test data to adjust the regression model is completely forbidden. You should work as if such test data set were not available at all, and recur to it just to assess the performance of the model after the design is complete.\n",
    "\n",
    "To model the availability of a train/test partition, we split next the boston dataset into a training and test partitions, using 60% and 40% of the data, respectively."
   ]
  },
  {
   "cell_type": "code",
   "execution_count": 8,
   "metadata": {
    "collapsed": true
   },
   "outputs": [],
   "source": [
    "from sklearn.model_selection import train_test_split\n",
    "\n",
    "X_train, X_test, s_train, s_test = train_test_split(X, S, test_size=0.4, random_state=0)"
   ]
  },
  {
   "cell_type": "markdown",
   "metadata": {},
   "source": [
    "### 4.2. A first example: A baseline regression model\n",
    "\n",
    "A first very simple method to build the regression model is to use the average of all the target values in the training set as the output of the model, discarding the value of the observation input vector.\n",
    "\n",
    "This approach can be considered as a baseline, given that any other method making an effective use of the observation variables, statistically related to $s$, should improve the performance of this method.\n",
    "\n",
    "The following code fragment uses the train data to compute the baseline regression model, and it shows the MSE calculated over the test partitions."
   ]
  },
  {
   "cell_type": "code",
   "execution_count": 9,
   "metadata": {},
   "outputs": [
    {
     "name": "stdout",
     "output_type": "stream",
     "text": [
      "The baseline estimator is: 22.7465346535\n",
      "The MSE for the test data is: 83.0143622257\n"
     ]
    }
   ],
   "source": [
    "S_baseline = np.mean(s_train)\n",
    "\n",
    "print('The baseline estimator is:', S_baseline)\n",
    "\n",
    "#Compute MSE for the train data\n",
    "#MSE_train = square_error(s_train, S_baseline)\n",
    "\n",
    "#Compute MSE for the test data. IMPORTANT: Note that we still use\n",
    "#S_baseline as the prediction.\n",
    "MSE_test = square_error(s_test, S_baseline)\n",
    "\n",
    "#print('The MSE for the training data is:', MSE_train)\n",
    "print('The MSE for the test data is:', MSE_test)"
   ]
  },
  {
   "cell_type": "markdown",
   "metadata": {
    "slideshow": {
     "slide_type": "slide"
    }
   },
   "source": [
    "## 5. Parametric and non-parametric regression models\n",
    "\n",
    "Generally speaking, we can distinguish two approaches when designing a regression model:\n",
    "\n",
    "   - Parametric approach: In this case, the estimation function is given <i>a priori</i> a parametric form, and the goal of the design is to find the most appropriate values of the parameters according to a certain goal\n",
    "   \n",
    "   For instance, we could assume a linear expression\n",
    "   $${\\hat s} = f({\\bf x}) = {\\bf w}^\\top {\\bf x}$$\n",
    "   and adjust the parameter vector in order to minimize the average of the quadratic error over the training data. This is known as least-squares regression, and we will study it in Section 8 of this notebook.\n",
    "   \n",
    "   - Non-parametric approach: In this case, the analytical shape of the regression model is not assumed <i>a priori</i>.\n"
   ]
  },
  {
   "cell_type": "markdown",
   "metadata": {
    "collapsed": true
   },
   "source": [
    "## 6. Non parametric method: Regression with the $k$-nn method\n",
    "\n",
    "The principles of the $k$-nn method are the following:\n",
    "\n",
    "   - For each point where a prediction is to be made, find the $k$ closest neighbors to that point (in the training set)\n",
    "   - Obtain the estimation averaging the labels corresponding to the selected neighbors\n",
    "   \n",
    "The number of neighbors is a hyperparameter that plays an important role in the performance of the method. You can test its influence by changing $k$ in the following piece of code."
   ]
  },
  {
   "cell_type": "code",
   "execution_count": 10,
   "metadata": {},
   "outputs": [
    {
     "name": "stdout",
     "output_type": "stream",
     "text": [
      "The MSE for the training data is: 0.0\n",
      "The MSE for the test data is: 57.2859605911\n"
     ]
    }
   ],
   "source": [
    "from sklearn import neighbors\n",
    "\n",
    "n_neighbors = 1\n",
    "\n",
    "knn = neighbors.KNeighborsRegressor(n_neighbors)\n",
    "knn.fit(X_train, s_train)\n",
    "\n",
    "s_hat_train = knn.predict(X_train)\n",
    "s_hat_test = knn.predict(X_test)\n",
    "\n",
    "print('The MSE for the training data is:', square_error(s_train, s_hat_train))\n",
    "print('The MSE for the test data is:', square_error(s_test, s_hat_test))"
   ]
  },
  {
   "cell_type": "code",
   "execution_count": 11,
   "metadata": {},
   "outputs": [
    {
     "data": {
      "image/png": "[encoded data removed]",
      "text/plain": [
       "<matplotlib.figure.Figure at 0x114ffa320>"
      ]
     },
     "metadata": {},
     "output_type": "display_data"
    }
   ],
   "source": [
    "max_k = 25\n",
    "n_neighbors_list = np.arange(max_k)+1\n",
    "\n",
    "MSE_train = []\n",
    "MSE_test = []\n",
    "\n",
    "for n_neighbors in n_neighbors_list:\n",
    "    knn = neighbors.KNeighborsRegressor(n_neighbors)\n",
    "    knn.fit(X_train, s_train)\n",
    "\n",
    "    s_hat_train = knn.predict(X_train)\n",
    "    s_hat_test = knn.predict(X_test)\n",
    "\n",
    "    MSE_train.append(square_error(s_train, s_hat_train))\n",
    "    MSE_test.append(square_error(s_test, s_hat_test))\n",
    "    \n",
    "plt.plot(n_neighbors_list, MSE_train,'bo', label='Training square error')\n",
    "plt.plot(n_neighbors_list, MSE_test,'ro', label='Test square error')\n",
    "plt.xlabel('$k$')\n",
    "plt.axis('tight')\n",
    "\n",
    "plt.legend(loc='best')\n",
    "plt.show()"
   ]
  },
  {
   "cell_type": "markdown",
   "metadata": {},
   "source": [
    "Although the above figures illustrate evolution of the training and test MSE for different selections of the number of neighbors, it is important to note that **this figure, and in particular the red points, cannot be used to select the value of such parameter**. Remember that it is only legal to use the test data to assess the final performance of the method, what includes also that any parameters inherent to the method should be adjusted using the train data only."
   ]
  },
  {
   "cell_type": "markdown",
   "metadata": {},
   "source": [
    "## 7. Hyperparameter selection via cross-validation\n",
    "\n",
    "An inconvenient of the application of the $k$-nn method is that the selection of $k$ influences the final error of the algorithm. In the previous experiments, we kept the value of $k$ that minimized the square error on the training set. However, we also noticed that the location of the minimum is not necessarily the same from the perspective of the test data. Ideally, we would like that the designed regression model works as well as possible on future unlabeled patterns that are not available during the training phase. This property is known as <i>generalization</i>. Fitting the training data is only pursued in the hope that we are also indirectly obtaining a model that generalizes well. In order to achieve this goal, there are some strategies that try to guarantee a correct generalization of the model. One of such approaches is known as <b>cross-validation</b> \n",
    "\n",
    "Since using the test labels during the training phase is not allowed (they should be kept aside to simultate the future application of the regression model on unseen patterns), we need to figure out some way to improve our estimation of the hyperparameter that requires only training data. Cross-validation allows us to do so by following the following steps:\n",
    "\n",
    "   - Split the training data into several (generally non-overlapping) subsets. If we use $M$ subsets, the method is referred to as $M$-fold cross-validation. If we consider each pattern a different subset, the method is usually referred to as leave-one-out (LOO) cross-validation.\n",
    "   - Carry out the training of the system $M$ times. For each run, use a different partition as a <i>validation</i> set, and use the restating partitions as the training set. Evaluate the performance for different choices of the hyperparameter (i.e., for different values of $k$ for the $k$-NN method).\n",
    "   - Average the validation error over all partitions, and pick the hyperparameter that provided the minimum validation error.\n",
    "   - Rerun the algorithm using all the training data, keeping the value of the parameter that came out of the cross-validation process.\n",
    "   \n",
    "<img src=\"https://chrisjmccormick.files.wordpress.com/2013/07/10_fold_cv.png\">"
   ]
  },
  {
   "cell_type": "markdown",
   "metadata": {},
   "source": [
    "**Exercise**: Use `Kfold` function from the `sklearn` library to validate parameter `k`. Use a 10-fold validation strategy. What is the best number of neighbors according to this strategy? What is the corresponding MSE averaged over the test data?"
   ]
  },
  {
   "cell_type": "code",
   "execution_count": 12,
   "metadata": {},
   "outputs": [
    {
     "data": {
      "image/png": "[encoded data removed]",
      "text/plain": [
       "<matplotlib.figure.Figure at 0x115471a58>"
      ]
     },
     "metadata": {},
     "output_type": "display_data"
    },
    {
     "name": "stdout",
     "output_type": "stream",
     "text": [
      "Cross-validation selected the following value for the number of neighbors: 5\n",
      "Test MSE: 39.1627408867\n"
     ]
    }
   ],
   "source": [
    "from sklearn.model_selection import KFold\n",
    "\n",
    "max_k = 25\n",
    "n_neighbors_list = np.arange(max_k)+1\n",
    "\n",
    "MSE_val = np.zeros((max_k,))\n",
    "\n",
    "nfolds = 10\n",
    "kf = KFold(n_splits=nfolds)\n",
    "for train, val in kf.split(X_train):\n",
    "    for idx,n_neighbors in enumerate(n_neighbors_list):\n",
    "        knn = neighbors.KNeighborsRegressor(n_neighbors)\n",
    "        knn.fit(X_train[train,:], s_train[train])\n",
    "\n",
    "        s_hat_val = knn.predict(X_train[val,:])\n",
    "\n",
    "        MSE_val[idx] += square_error(s_train[val], s_hat_val)\n",
    "        \n",
    "MSE_val = [el/10 for el in MSE_val]\n",
    "\n",
    "selected_k = np.argmin(MSE_val) + 1\n",
    "\n",
    "plt.plot(n_neighbors_list, MSE_train,'bo', label='Training square error')\n",
    "plt.plot(n_neighbors_list, MSE_val,'ro', label='Validation square error')\n",
    "plt.plot(selected_k, MSE_test[selected_k-1],'gs', label='Test square error')\n",
    "plt.xlabel('$k$')\n",
    "plt.axis('tight')\n",
    "\n",
    "plt.legend(loc='best')\n",
    "plt.show()\n",
    "\n",
    "print('Cross-validation selected the following value for the number of neighbors:', selected_k)\n",
    "print('Test MSE:', MSE_test[selected_k-1])\n",
    "\n"
   ]
  },
  {
   "cell_type": "markdown",
   "metadata": {},
   "source": [
    "## 8. A parametric regression method: Least squares regression\n",
    "\n",
    "### 8.1. Problem definition\n",
    "\n",
    "   - The goal is to learn a (possibly non-linear) regression model from a set of $L$ labeled points, $\\{{\\bf x}^{(l)},s{(l)}\\}_{l=1}^L$.\n",
    "   \n",
    "   - We assume a parametric function of the form:\n",
    "   \n",
    "   $${\\hat s}({\\bf x}) = f({\\bf x}) = w_0 z_0({\\bf x}) + w_1 z_1({\\bf x}) + \\dots w_M z_M({\\bf x})$$\n",
    "   \n",
    "   where $z_i({\\bf x})$ are particular transformations of the input vector variables."
   ]
  },
  {
   "cell_type": "markdown",
   "metadata": {},
   "source": [
    "Some examples are:\n",
    "   \n",
    "   - If ${\\bf z} = {\\bf x}$, the model is just a linear combination of the input variables"
   ]
  },
  {
   "cell_type": "markdown",
   "metadata": {},
   "source": [
    "   - If ${\\bf z} = \\left[\\begin{array}{c}1\\\\{\\bf x}\\end{array}\\right]$, we have again a linear combination with the inclusion of a constant term.\n",
    "\n"
   ]
  },
  {
   "cell_type": "markdown",
   "metadata": {},
   "source": [
    "   - For unidimensional input $x$, ${\\bf z} = [1, x, x^2, \\dots,x^{M}]^\\top$ would implement a polynomia of degree $M$.\n",
    "\n"
   ]
  },
  {
   "cell_type": "markdown",
   "metadata": {},
   "source": [
    "   - Note that the variables of ${\\bf z}$ could also be computed combining different variables of ${\\bf x}$. E.g., if ${\\bf x} = [x_1,x_2]^\\top$, a degree-two polynomia would be implemented with \n",
    "      $${\\bf z} = \\left[\\begin{array}{c}1\\\\x_1\\\\x_2\\\\x_1^2\\\\x_2^2\\\\x_1 x_2\\end{array}\\right]$$      "
   ]
  },
  {
   "cell_type": "markdown",
   "metadata": {},
   "source": [
    "   - The above expression does not assume a polynomial model. For instance, we could consider ${\\bf z} = [\\log(x_1),\\log(x_2)]$"
   ]
  },
  {
   "cell_type": "markdown",
   "metadata": {},
   "source": [
    "Least squares (LS) regression finds the coefficients of the model with the aim of minimizing the square of the residuals. If we define ${\\bf w} = [w_0,w_1,\\dots,w_M]^\\top$, the LS solution would be defined as\n",
    "    \n",
    "\\begin{equation}{\\bf w}_{LS} = \\arg \\min_{\\bf w} \\sum_{l=1}^L [e^{(l)}]^2 = \\arg \\min_{\\bf w} \\sum_{l=1}^L \\left[s^{(l)} - {\\hat s}^{(l)} \\right]^2 \\end{equation}"
   ]
  },
  {
   "cell_type": "markdown",
   "metadata": {},
   "source": [
    "### 8.2. Vector Notation\n",
    "\n",
    "In order to solve the LS problem it is convenient to define the following vectors and matrices:\n",
    "\n",
    "   - We can group together all available target values to form the following vector\n",
    "   \n",
    "   $${\\bf s} = \\left[s^{(1)}, s^{(2)}, \\dots, s^{(L)} \\right]^\\top$$\n",
    "\n"
   ]
  },
  {
   "cell_type": "markdown",
   "metadata": {},
   "source": [
    "\n",
    "   - The estimation of the model for a single input vector ${\\bf z}^{(l)}$ (which would be computed from ${\\bf x}^{(l)}$), can be expressed as the following inner product\n",
    "   \n",
    "   $${\\hat s}^{(l)} = {{\\bf z}^{(l)}}^\\top {\\bf w}$$"
   ]
  },
  {
   "cell_type": "markdown",
   "metadata": {},
   "source": [
    "   - If we now group all input vectors into a matrix ${\\bf Z}$, so that each row of ${\\bf Z}$ contains the transpose of the corresponding ${\\bf z}^{(l)}$, we can express\n",
    "   \n",
    "   $$\\hat{{\\bf s}} = \\left[{\\hat s}^{1}, {\\hat s}^{2}, \\dots, {\\hat s}^{(L)} \\right]^\\top = {\\bf Z} {\\bf w}, \\;\\;\\;\\; \\text{with} \\;\\; {\\bf Z} = \\left[\\begin{array}{cccc}z_0^{(1)}&z_1^{(1)}&\\cdots&z_M^{(1)} \\\\ z_0^{(2)}&z_1^{(2)}&\\cdots&z_M^{(2)} \\\\ \\vdots & \\vdots & \\ddots & \\vdots \\\\ z_0^{(L)}&z_1^{(L)}&\\cdots&z_M^{(L)}\\end{array}\\right]$$"
   ]
  },
  {
   "cell_type": "markdown",
   "metadata": {},
   "source": [
    "### 8.3. Least-squares solution\n",
    "\n",
    "   - Using the previous notation, the cost minimized by the LS model can be expressed as\n",
    "   \n",
    "   $$C({\\bf w}) = \\sum_{l=1}^L \\left[s^{(l)} - {\\hat s}^{(l)} \\right]^2 = \\|{\\bf s} - {\\hat{\\bf s}}\\|^2 = \\|{\\bf s} - {\\bf Z}{\\bf w}\\|^2$$\n",
    "   "
   ]
  },
  {
   "cell_type": "markdown",
   "metadata": {},
   "source": [
    "   - Since the above expression depends quadratically on ${\\bf w}$ and is non-negative, we know that there is only one point where the derivative of $C({\\bf w})$ becomes zero, and that point is necessarily a minimum of the cost\n",
    "   \n",
    "   $$\\nabla_{\\bf w} \\|{\\bf s} - {\\bf Z}{\\bf w}\\|^2\\Bigg|_{{\\bf w} = {\\bf w}_{LS}} = {\\bf 0}$$"
   ]
  },
  {
   "cell_type": "markdown",
   "metadata": {},
   "source": [
    "<b>Exercise:</b>\n",
    "Solve the previous problem to show that\n",
    "$${\\bf w}_{LS} = \\left( {\\bf Z}^\\top{\\bf Z} \\right)^{-1} {\\bf Z}^\\top{\\bf s}$$"
   ]
  },
  {
   "cell_type": "markdown",
   "metadata": {},
   "source": [
    "The next fragment of code adjusts polynomia of increasing order to randomly generated training data. "
   ]
  },
  {
   "cell_type": "code",
   "execution_count": 13,
   "metadata": {},
   "outputs": [
    {
     "data": {
      "image/png": "[encoded data removed]",
      "text/plain": [
       "<matplotlib.figure.Figure at 0x115650710>"
      ]
     },
     "metadata": {},
     "output_type": "display_data"
    }
   ],
   "source": [
    "n_points = 20\n",
    "n_grid = 200\n",
    "frec = 3\n",
    "std_n = 0.2\n",
    "max_degree = 20\n",
    "\n",
    "colors = 'brgcmyk'\n",
    "\n",
    "#Location of the training points\n",
    "X_tr = (3 * np.random.random((n_points,1)) - 0.5)\n",
    "\n",
    "#Labels are obtained from a sinusoidal function, and contaminated by noise\n",
    "S_tr = np.cos(frec*X_tr) + std_n * np.random.randn(n_points,1)\n",
    "\n",
    "#Equally spaced points in the X-axis\n",
    "X_grid = np.linspace(np.min(X_tr),np.max(X_tr),n_grid)\n",
    "\n",
    "#We start by building the Z matrix\n",
    "Z = []\n",
    "for el in X_tr.tolist():\n",
    "    Z.append([el[0]**k for k in range(max_degree+1)])\n",
    "Z = np.matrix(Z)\n",
    "\n",
    "Z_grid = []\n",
    "for el in X_grid.tolist():\n",
    "    Z_grid.append([el**k for k in range(max_degree+1)])\n",
    "Z_grid = np.matrix(Z_grid)\n",
    "\n",
    "plt.plot(X_tr,S_tr,'b.')\n",
    "\n",
    "for k in [1, 2, n_points]: # range(max_degree+1):\n",
    "    Z_iter = Z[:,:k+1]\n",
    "\n",
    "    # Least square solution\n",
    "    #w_LS = (np.linalg.inv(Z_iter.T.dot(Z_iter))).dot(Z_iter.T).dot(S_tr)\n",
    "    \n",
    "    # Least squares solution, with leass numerical errors\n",
    "    w_LS, resid, rank, s = np.linalg.lstsq(Z_iter, S_tr)\n",
    "    #estimates at all grid points\n",
    "    fout = Z_grid[:,:k+1].dot(w_LS)\n",
    "    fout = np.array(fout).flatten()\n",
    "    plt.plot(X_grid,fout,colors[k%len(colors)]+'-',label='Degree '+str(k))\n",
    "\n",
    "plt.legend(loc='best')\n",
    "plt.ylim(1.2*np.min(S_tr), 1.2*np.max(S_tr))\n",
    "plt.show()"
   ]
  },
  {
   "cell_type": "markdown",
   "metadata": {},
   "source": [
    "It may seem that increasing the degree of the polynomia is always beneficial, as we can implement a more expressive function. A polynomia of degree $M$ would include all polynomia of lower degrees as particular cases. However, if we increase the number of parameters without control, the polynomia would eventually get expressive enough to adjust any given set of training points to arbitrary precision, what does not necessarily mean that the solution is obtaining a model that can be extrapolated to new data.\n",
    "\n",
    "The conclusions is that, when adjusting a parametric model using least squares, we need to validate the model, for which we can use the cross-validation techniques we introudece in Section 7. In this contexts, validating the model implies:\n",
    "   - Validating the kind of model that will be used, e.g., linear, polynomial, logarithmic, etc ... \n",
    "   - Validating any additional parameters that the nodel may have, e.g., if selecting a polynomial model, the degree of the polynomia.\n",
    "   \n",
    "The code below shows the performance of different models. However, no validation process is considered, so the reported test MSEs could not be used as criteria to select the best model."
   ]
  },
  {
   "cell_type": "code",
   "execution_count": 14,
   "metadata": {},
   "outputs": [
    {
     "name": "stdout",
     "output_type": "stream",
     "text": [
      "Test MSE for linear model without bias: 25.8546625564\n",
      "Test MSE for linear model with bias: 25.7971648592\n",
      "Test MSE for polynomial model (order 2): 19.2626529893\n"
     ]
    }
   ],
   "source": [
    "# Linear model with no bias\n",
    "w_LS, resid, rank, s = np.linalg.lstsq(X_train, s_train)\n",
    "s_hat_test = X_test.dot(w_LS)\n",
    "print('Test MSE for linear model without bias:', square_error(s_test, s_hat_test))\n",
    "\n",
    "# Linear model with no bias\n",
    "Z_train = np.hstack((np.ones((X_train.shape[0],1)), X_train))\n",
    "Z_test = np.hstack((np.ones((X_test.shape[0],1)), X_test))\n",
    "\n",
    "w_LS, resid, rank, s = np.linalg.lstsq(Z_train, s_train)\n",
    "s_hat_test = Z_test.dot(w_LS)\n",
    "print('Test MSE for linear model with bias:', square_error(s_test, s_hat_test))\n",
    "\n",
    "# Polynomial model degree 2\n",
    "Z_train = np.hstack((np.ones((X_train.shape[0],1)), X_train, X_train**2))\n",
    "Z_test = np.hstack((np.ones((X_test.shape[0],1)), X_test, X_test**2))\n",
    "\n",
    "w_LS, resid, rank, s = np.linalg.lstsq(Z_train, s_train)\n",
    "s_hat_test = Z_test.dot(w_LS)\n",
    "print('Test MSE for polynomial model (order 2):', square_error(s_test, s_hat_test))\n",
    "\n"
   ]
  },
  {
   "cell_type": "code",
   "execution_count": null,
   "metadata": {
    "collapsed": true
   },
   "outputs": [],
   "source": []
  }
 ],
 "metadata": {
  "anaconda-cloud": {},
  "kernelspec": {
   "display_name": "Python 3",
   "language": "python",
   "name": "python3"
  },
  "language_info": {
   "codemirror_mode": {
    "name": "ipython",
    "version": 3
   },
   "file_extension": ".py",
   "mimetype": "text/x-python",
   "name": "python",
   "nbconvert_exporter": "python",
   "pygments_lexer": "ipython3",
   "version": "3.6.1"
  }
 },
 "nbformat": 4,
 "nbformat_minor": 1
}
